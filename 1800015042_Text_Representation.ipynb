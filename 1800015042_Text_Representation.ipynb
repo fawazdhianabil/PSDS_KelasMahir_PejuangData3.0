{
  "nbformat": 4,
  "nbformat_minor": 0,
  "metadata": {
    "kernelspec": {
      "display_name": "Python 3",
      "language": "python",
      "name": "python3"
    },
    "language_info": {
      "codemirror_mode": {
        "name": "ipython",
        "version": 3
      },
      "file_extension": ".py",
      "mimetype": "text/x-python",
      "name": "python",
      "nbconvert_exporter": "python",
      "pygments_lexer": "ipython3",
      "version": "3.8.5"
    },
    "colab": {
      "name": "1800015042_Text_Representation.ipynb",
      "provenance": [],
      "include_colab_link": true
    }
  },
  "cells": [
    {
      "cell_type": "markdown",
      "metadata": {
        "id": "view-in-github",
        "colab_type": "text"
      },
      "source": [
        "<a href=\"https://colab.research.google.com/github/fawazdhianabil/PSDS_KelasMahir_PejuangData3.0/blob/main/1800015042_Text_Representation.ipynb\" target=\"_parent\"><img src=\"https://colab.research.google.com/assets/colab-badge.svg\" alt=\"Open In Colab\"/></a>"
      ]
    },
    {
      "cell_type": "markdown",
      "metadata": {
        "id": "B6R7S3JpzTof"
      },
      "source": [
        "## Pembuka"
      ]
    },
    {
      "cell_type": "markdown",
      "metadata": {
        "id": "Y5cyZIP-zTom"
      },
      "source": [
        "Assalamu'alaikum warahmatullahi wabarakatuh.\n",
        "Puji syukur kehadirat Allah Subhana Wata'ala atas limpahan Rahmat dan HidayahNya kepada kita semua.\n",
        "Sholawat serta salam senantiasa tercurah limpahkan kepada baginda Muhammad Rasulullah Salallahualaihiwassalam.\n",
        "\n",
        "Halo para **Pejuang Data**. Selamat berjumpa di pertemuan kedelapan Program Training **Algoritma Machine Learning** Kelas Mahir. Pada model machine learning dibutuhkan variabel x atau disebut features dan variabel y yang disebut label. Kita dapat memodifikasi data teks yang kita miliki menjadi matriks yang terdiri atas variabel x dan y tersebut menggunakan beberapa model representasi teks yaitu:\n",
        "\n",
        "1. Bag-of-Words\n",
        "2. TF-IDF\n",
        "\n",
        "Namun sebelum ke sana, ada materi dasar dulu yang perlu dipahami sebelum membahas keduanya, yaitu Tokenisasi. Kamu akan mempelajari bagaimana sebuah teks dapat dipecah menjadi kalimat dan kata-kata yang kita biasa sebut sebagai token. Setelah data teks yang kita miliki kita tokenisasi baru bisa diproses menjadi features baik itu Bag-of-Words maupun TF-IDF."
      ]
    },
    {
      "cell_type": "markdown",
      "metadata": {
        "id": "fbZ3Hb9RzToo"
      },
      "source": [
        "## Tokenisasi"
      ]
    },
    {
      "cell_type": "markdown",
      "metadata": {
        "id": "NddJHH3IzToq"
      },
      "source": [
        "Tokenisasi adalah pemecahan serangkaian data teks ke dalam kepingan-kepingan baik kalimat maupun kata. Pemecahan data teks menjadi kalimat biasanya ditandai dengan tanda baca pemisah titik('.'). Sedangkan, untuk pemecahan kalimat menjadi kata dapat dicontohkan sebagai berikut. Misalnya kalimat “Ini baju saya” akan menjadi “ini, baju, saya”."
      ]
    },
    {
      "cell_type": "markdown",
      "metadata": {
        "id": "xBS9h2PyzTor"
      },
      "source": [
        "### Tokenisasi Kalimat "
      ]
    },
    {
      "cell_type": "markdown",
      "metadata": {
        "id": "mH6kLrsNzTos"
      },
      "source": [
        "Kita akan mencoba memecah serangkaian data teks menjadi kalimat-kalimat. Kita dapat menggunakan function 'sent_tokenize' dari library `nltk` untuk melakukannya dengan tujuan kepraktisan."
      ]
    },
    {
      "cell_type": "code",
      "metadata": {
        "id": "0lVTSd7UzTot",
        "colab": {
          "base_uri": "https://localhost:8080/"
        },
        "outputId": "6e6c6c1f-e64a-451f-9f30-d14a4cd1a395"
      },
      "source": [
        "import nltk\n",
        "nltk.download('punkt')\n",
        "from nltk import sent_tokenize"
      ],
      "execution_count": 20,
      "outputs": [
        {
          "output_type": "stream",
          "name": "stderr",
          "text": [
            "[nltk_data] Downloading package punkt to /root/nltk_data...\n",
            "[nltk_data]   Package punkt is already up-to-date!\n"
          ]
        }
      ]
    },
    {
      "cell_type": "markdown",
      "metadata": {
        "id": "WOv0-wILzTox"
      },
      "source": [
        "Berikut adalah contoh paragraf yang akan kita gunakan pada notebooks ini."
      ]
    },
    {
      "cell_type": "code",
      "metadata": {
        "id": "G5UCGEAczToy",
        "colab": {
          "base_uri": "https://localhost:8080/",
          "height": 104
        },
        "outputId": "6bd0311a-2292-48c0-dcd0-05298870c2b3"
      },
      "source": [
        "paragraph = '''Data science adalah topik diskusi yang sangat luas dan subyektif. Data science bukan sebuah bidang yang berdiri sendiri. Bidang ini merupakan kombinasi dari berbagai bidang termasuk Ilmu Komputer, Matematika, Statistik, dan Strategi Bisnis. Tiga komponen yang terlibat dalam data science adalah organising, packaging, dan delivering data (the OPD of data). Organising data adalah proses penyimpanan data yang digabungkan dengan manajemen data. Packaging data merupakan proses manipulasi dan penggabungan data mentah yang akan direpresentasikan. Delivering data merupakan proses untuk memastikan bahwa pesan data telah diakses oleh mereka yang memerlukannya. Menurut research tahun 2011, pada tahun 2020 dunia akan menghasilkan 50 kali lipat data dibandingkan tahun 2011. Jadi dengan peningkatan aliran data yang drastis tersebut, akan muncul alat-alat baru yang dapat digunakan untuk memanfaatkan data mentah dengan tepat. Data science mencakup semua alat, teknik, dan teknologi yang akan membantu kita menangani peningkatan aliran data tersebut. Data science merupakan perpaduan interdisipliner dari penurunan data, pengembangan algoritma, dan teknologi untuk memecahkan masalah analitik yang kompleks.\n",
        "'''\n",
        "paragraph"
      ],
      "execution_count": 21,
      "outputs": [
        {
          "output_type": "execute_result",
          "data": {
            "application/vnd.google.colaboratory.intrinsic+json": {
              "type": "string"
            },
            "text/plain": [
              "'Data science adalah topik diskusi yang sangat luas dan subyektif. Data science bukan sebuah bidang yang berdiri sendiri. Bidang ini merupakan kombinasi dari berbagai bidang termasuk Ilmu Komputer, Matematika, Statistik, dan Strategi Bisnis. Tiga komponen yang terlibat dalam data science adalah organising, packaging, dan delivering data (the OPD of data). Organising data adalah proses penyimpanan data yang digabungkan dengan manajemen data. Packaging data merupakan proses manipulasi dan penggabungan data mentah yang akan direpresentasikan. Delivering data merupakan proses untuk memastikan bahwa pesan data telah diakses oleh mereka yang memerlukannya. Menurut research tahun 2011, pada tahun 2020 dunia akan menghasilkan 50 kali lipat data dibandingkan tahun 2011. Jadi dengan peningkatan aliran data yang drastis tersebut, akan muncul alat-alat baru yang dapat digunakan untuk memanfaatkan data mentah dengan tepat. Data science mencakup semua alat, teknik, dan teknologi yang akan membantu kita menangani peningkatan aliran data tersebut. Data science merupakan perpaduan interdisipliner dari penurunan data, pengembangan algoritma, dan teknologi untuk memecahkan masalah analitik yang kompleks.\\n'"
            ]
          },
          "metadata": {},
          "execution_count": 21
        }
      ]
    },
    {
      "cell_type": "markdown",
      "metadata": {
        "id": "D4y7qEHbzTo2"
      },
      "source": [
        "Kemudian akan kita tokenisasi menjadi kalimat-kalimat sebagai berikut:"
      ]
    },
    {
      "cell_type": "code",
      "metadata": {
        "id": "p_4KiqFRzTo3",
        "colab": {
          "base_uri": "https://localhost:8080/"
        },
        "outputId": "74bb1c32-6f21-40dc-b65d-de51aab3187c"
      },
      "source": [
        "tokenisasi_kalimat = sent_tokenize(paragraph)\n",
        "print(tokenisasi_kalimat)"
      ],
      "execution_count": 22,
      "outputs": [
        {
          "output_type": "stream",
          "name": "stdout",
          "text": [
            "['Data science adalah topik diskusi yang sangat luas dan subyektif.', 'Data science bukan sebuah bidang yang berdiri sendiri.', 'Bidang ini merupakan kombinasi dari berbagai bidang termasuk Ilmu Komputer, Matematika, Statistik, dan Strategi Bisnis.', 'Tiga komponen yang terlibat dalam data science adalah organising, packaging, dan delivering data (the OPD of data).', 'Organising data adalah proses penyimpanan data yang digabungkan dengan manajemen data.', 'Packaging data merupakan proses manipulasi dan penggabungan data mentah yang akan direpresentasikan.', 'Delivering data merupakan proses untuk memastikan bahwa pesan data telah diakses oleh mereka yang memerlukannya.', 'Menurut research tahun 2011, pada tahun 2020 dunia akan menghasilkan 50 kali lipat data dibandingkan tahun 2011.', 'Jadi dengan peningkatan aliran data yang drastis tersebut, akan muncul alat-alat baru yang dapat digunakan untuk memanfaatkan data mentah dengan tepat.', 'Data science mencakup semua alat, teknik, dan teknologi yang akan membantu kita menangani peningkatan aliran data tersebut.', 'Data science merupakan perpaduan interdisipliner dari penurunan data, pengembangan algoritma, dan teknologi untuk memecahkan masalah analitik yang kompleks.']\n"
          ]
        }
      ]
    },
    {
      "cell_type": "markdown",
      "metadata": {
        "id": "NjYp3LaUzTo4"
      },
      "source": [
        "Menampilkan kalimat pertama:"
      ]
    },
    {
      "cell_type": "code",
      "metadata": {
        "id": "TOi8U3WHzTo5",
        "colab": {
          "base_uri": "https://localhost:8080/",
          "height": 34
        },
        "outputId": "59f831d4-d4f9-4e89-d66f-caf84329d8a1"
      },
      "source": [
        "tokenisasi_kalimat[0]"
      ],
      "execution_count": 23,
      "outputs": [
        {
          "output_type": "execute_result",
          "data": {
            "application/vnd.google.colaboratory.intrinsic+json": {
              "type": "string"
            },
            "text/plain": [
              "'Data science adalah topik diskusi yang sangat luas dan subyektif.'"
            ]
          },
          "metadata": {},
          "execution_count": 23
        }
      ]
    },
    {
      "cell_type": "markdown",
      "metadata": {
        "id": "gUvzfNtpzTo6"
      },
      "source": [
        "### Tokenisasi Kata-kata"
      ]
    },
    {
      "cell_type": "markdown",
      "metadata": {
        "id": "N5ooW2byzTo7"
      },
      "source": [
        "Jika tokenisasi kalimat membagi sekumpulan text menjadi beberapa kalimat dengan pemisah titik, maka tokenisasi kata-kata adalah memecah string berdasarkan spasi. Sehingga token yang dimaksud merupakan suatu kata pada sebuah kalimat. Untuk kepraktisan kita bisa menggunakan fungsi `word_tokenize` dari library `nltk` untuk melakukan hal ini."
      ]
    },
    {
      "cell_type": "code",
      "metadata": {
        "id": "Kldik6zqzTo8"
      },
      "source": [
        "import nltk\n",
        "from nltk import word_tokenize"
      ],
      "execution_count": 24,
      "outputs": []
    },
    {
      "cell_type": "markdown",
      "metadata": {
        "id": "KsrO41UFzTo9"
      },
      "source": [
        "Misal kita akan memecah teks berikut menjadi tokenisasi kata-kata."
      ]
    },
    {
      "cell_type": "code",
      "metadata": {
        "id": "7IMdfZ5VzTo-",
        "colab": {
          "base_uri": "https://localhost:8080/"
        },
        "outputId": "370d228d-4fcf-424e-9c6a-3d1a5eae85dc"
      },
      "source": [
        "teks = \"Assalamualaikum dan selamat pagi teman teman\"\n",
        "tokenisasi = word_tokenize(teks)\n",
        "print(tokenisasi)"
      ],
      "execution_count": 25,
      "outputs": [
        {
          "output_type": "stream",
          "name": "stdout",
          "text": [
            "['Assalamualaikum', 'dan', 'selamat', 'pagi', 'teman', 'teman']\n"
          ]
        }
      ]
    },
    {
      "cell_type": "markdown",
      "metadata": {
        "id": "Upw7xLQ6zTpA"
      },
      "source": [
        "## Representasi Kata Menggunakan Matriks "
      ]
    },
    {
      "cell_type": "markdown",
      "metadata": {
        "id": "FH--XrrEzTpB"
      },
      "source": [
        "### Bag Of Word"
      ]
    },
    {
      "cell_type": "markdown",
      "metadata": {
        "id": "JZO_q5WMzTpB"
      },
      "source": [
        "Bag of word adalah metode untuk merepresentasikan kata-kata pada sebuah matriks untuk diolah pada metode NLP yang paling sederhana. Ide dasar dari metode ini adalah menghitung kemunculan sebuah kata pada sebuah kalimat tertentu. Misal dalama kalimat:\n",
        "\n",
        "    `Selamat Pagi Matematika UAD`\n",
        "    \n",
        "Maka kata-kata yang muncul pada kalimat di atas adalah `Selamat`, `Pagi`, `Matematika`, dan `UAD`"
      ]
    },
    {
      "cell_type": "markdown",
      "metadata": {
        "id": "m9jufIy2zTpC"
      },
      "source": [
        "Representasi ini dilambangkan dengan angka 1 yang bermakna suatu kata `muncul` dan 0 jika suatu kata `tidak muncul`"
      ]
    },
    {
      "cell_type": "code",
      "metadata": {
        "id": "5-oBxLoUzTpC",
        "colab": {
          "base_uri": "https://localhost:8080/",
          "height": 112
        },
        "outputId": "c1ddb4b1-a7a1-466c-ea7c-0ece7b58631e"
      },
      "source": [
        "import pandas as pd\n",
        "df=pd.DataFrame({\"Selamat\":[1,1], \n",
        "                 \"Pagi\":[1,1], \n",
        "                 \"Matematika\":[1,0], \n",
        "                 \"UAD\":[1,0], \n",
        "                 \"Indonesia\":[0,1]}, index=['Selamat Pagi Matematika UAD', 'Selamat Pagi Indonesia'])\n",
        "df"
      ],
      "execution_count": 26,
      "outputs": [
        {
          "output_type": "execute_result",
          "data": {
            "text/html": [
              "<div>\n",
              "<style scoped>\n",
              "    .dataframe tbody tr th:only-of-type {\n",
              "        vertical-align: middle;\n",
              "    }\n",
              "\n",
              "    .dataframe tbody tr th {\n",
              "        vertical-align: top;\n",
              "    }\n",
              "\n",
              "    .dataframe thead th {\n",
              "        text-align: right;\n",
              "    }\n",
              "</style>\n",
              "<table border=\"1\" class=\"dataframe\">\n",
              "  <thead>\n",
              "    <tr style=\"text-align: right;\">\n",
              "      <th></th>\n",
              "      <th>Selamat</th>\n",
              "      <th>Pagi</th>\n",
              "      <th>Matematika</th>\n",
              "      <th>UAD</th>\n",
              "      <th>Indonesia</th>\n",
              "    </tr>\n",
              "  </thead>\n",
              "  <tbody>\n",
              "    <tr>\n",
              "      <th>Selamat Pagi Matematika UAD</th>\n",
              "      <td>1</td>\n",
              "      <td>1</td>\n",
              "      <td>1</td>\n",
              "      <td>1</td>\n",
              "      <td>0</td>\n",
              "    </tr>\n",
              "    <tr>\n",
              "      <th>Selamat Pagi Indonesia</th>\n",
              "      <td>1</td>\n",
              "      <td>1</td>\n",
              "      <td>0</td>\n",
              "      <td>0</td>\n",
              "      <td>1</td>\n",
              "    </tr>\n",
              "  </tbody>\n",
              "</table>\n",
              "</div>"
            ],
            "text/plain": [
              "                             Selamat  Pagi  Matematika  UAD  Indonesia\n",
              "Selamat Pagi Matematika UAD        1     1           1    1          0\n",
              "Selamat Pagi Indonesia             1     1           0    0          1"
            ]
          },
          "metadata": {},
          "execution_count": 26
        }
      ]
    },
    {
      "cell_type": "markdown",
      "metadata": {
        "id": "dqBzmUQizTpD"
      },
      "source": [
        "### Membuat Matriks Bag-of-Words From Scratch"
      ]
    },
    {
      "cell_type": "markdown",
      "metadata": {
        "id": "XcXE9eo2zTpD"
      },
      "source": [
        "Impor Modul Yang Diperlukan"
      ]
    },
    {
      "cell_type": "code",
      "metadata": {
        "id": "kYX1wqRCzTpE"
      },
      "source": [
        "#Impor Modul Yang Diperlukan\n",
        "import pandas as pd\n",
        "import numpy as np\n",
        "from nltk.tokenize import word_tokenize"
      ],
      "execution_count": 27,
      "outputs": []
    },
    {
      "cell_type": "markdown",
      "metadata": {
        "id": "gORyfKr0zTpE"
      },
      "source": [
        "DataFrame Teks Input"
      ]
    },
    {
      "cell_type": "code",
      "metadata": {
        "id": "jVIeQOFdzTpF",
        "colab": {
          "base_uri": "https://localhost:8080/",
          "height": 112
        },
        "outputId": "2df77eed-67f5-45cd-9db9-dcb1be9a9da9"
      },
      "source": [
        "df_teks=pd.DataFrame({\"text\":['Selamat Pagi Matematika UAD','Selamat Pagi Indonesia']})\n",
        "df_teks"
      ],
      "execution_count": 28,
      "outputs": [
        {
          "output_type": "execute_result",
          "data": {
            "text/html": [
              "<div>\n",
              "<style scoped>\n",
              "    .dataframe tbody tr th:only-of-type {\n",
              "        vertical-align: middle;\n",
              "    }\n",
              "\n",
              "    .dataframe tbody tr th {\n",
              "        vertical-align: top;\n",
              "    }\n",
              "\n",
              "    .dataframe thead th {\n",
              "        text-align: right;\n",
              "    }\n",
              "</style>\n",
              "<table border=\"1\" class=\"dataframe\">\n",
              "  <thead>\n",
              "    <tr style=\"text-align: right;\">\n",
              "      <th></th>\n",
              "      <th>text</th>\n",
              "    </tr>\n",
              "  </thead>\n",
              "  <tbody>\n",
              "    <tr>\n",
              "      <th>0</th>\n",
              "      <td>Selamat Pagi Matematika UAD</td>\n",
              "    </tr>\n",
              "    <tr>\n",
              "      <th>1</th>\n",
              "      <td>Selamat Pagi Indonesia</td>\n",
              "    </tr>\n",
              "  </tbody>\n",
              "</table>\n",
              "</div>"
            ],
            "text/plain": [
              "                          text\n",
              "0  Selamat Pagi Matematika UAD\n",
              "1       Selamat Pagi Indonesia"
            ]
          },
          "metadata": {},
          "execution_count": 28
        }
      ]
    },
    {
      "cell_type": "markdown",
      "metadata": {
        "id": "j1RTWvbrzTpF"
      },
      "source": [
        "Membuat List Kosa Kata"
      ]
    },
    {
      "cell_type": "code",
      "metadata": {
        "id": "TvUHCz4ozTpG",
        "colab": {
          "base_uri": "https://localhost:8080/"
        },
        "outputId": "877fc144-aa6d-4ef9-c102-455fcc79b7c3"
      },
      "source": [
        "kosa_kata = set()\n",
        "for i in df_teks.text:\n",
        "    token_kal=set(word_tokenize(i.lower()))\n",
        "    kosa_kata=set.union(kosa_kata,token_kal)\n",
        "    #print(kosa_kata)\n",
        "    \n",
        "kosa_kata = sorted(kosa_kata)\n",
        "print(kosa_kata)\n",
        "\n",
        "# Jumlah kata-kata pada list vocab           \n",
        "jumlah_kosa_kata = len(kosa_kata)\n",
        "print(jumlah_kosa_kata)"
      ],
      "execution_count": 29,
      "outputs": [
        {
          "output_type": "stream",
          "name": "stdout",
          "text": [
            "['indonesia', 'matematika', 'pagi', 'selamat', 'uad']\n",
            "5\n"
          ]
        }
      ]
    },
    {
      "cell_type": "markdown",
      "metadata": {
        "id": "7Vei198GzTpH"
      },
      "source": [
        "Membuat Dictionary Kosa Kata Untuk Membuat Baris Kosa Kata"
      ]
    },
    {
      "cell_type": "code",
      "metadata": {
        "id": "3lWpptRkzTpH",
        "colab": {
          "base_uri": "https://localhost:8080/"
        },
        "outputId": "96b9de95-5c19-4f30-f8de-ff99a6439e65"
      },
      "source": [
        "indeks_kata = {}\n",
        "for kata in kosa_kata:\n",
        "    indeks_kata[kata] = 0\n",
        "    \n",
        "print(indeks_kata)"
      ],
      "execution_count": 30,
      "outputs": [
        {
          "output_type": "stream",
          "name": "stdout",
          "text": [
            "{'indonesia': 0, 'matematika': 0, 'pagi': 0, 'selamat': 0, 'uad': 0}\n"
          ]
        }
      ]
    },
    {
      "cell_type": "markdown",
      "metadata": {
        "id": "HPocP-iMzTpI"
      },
      "source": [
        "Membuat Matriks Kata"
      ]
    },
    {
      "cell_type": "code",
      "metadata": {
        "id": "vzPFau07zTpI",
        "colab": {
          "base_uri": "https://localhost:8080/"
        },
        "outputId": "70993b36-8c23-46b2-ce3b-3473bf15f95c"
      },
      "source": [
        "vektor_kata=np.array([])\n",
        "for baris_teks in df_teks.text:\n",
        "    print(baris_teks)\n",
        "    baris_kata = indeks_kata.copy()\n",
        "    print('baris_kata', baris_kata)\n",
        "    for kata in baris_teks.lower().split():\n",
        "        baris_kata[kata]=+1\n",
        "        print(baris_kata)\n",
        "    baris_kata = np.array(list(baris_kata.values()))  \n",
        "    vektor_kata = np.concatenate((vektor_kata,baris_kata), axis=0)\n",
        "    print(vektor_kata)\n",
        "matriks_kata = vektor_kata.reshape(df.shape[0], jumlah_kosa_kata)"
      ],
      "execution_count": 31,
      "outputs": [
        {
          "output_type": "stream",
          "name": "stdout",
          "text": [
            "Selamat Pagi Matematika UAD\n",
            "baris_kata {'indonesia': 0, 'matematika': 0, 'pagi': 0, 'selamat': 0, 'uad': 0}\n",
            "{'indonesia': 0, 'matematika': 0, 'pagi': 0, 'selamat': 1, 'uad': 0}\n",
            "{'indonesia': 0, 'matematika': 0, 'pagi': 1, 'selamat': 1, 'uad': 0}\n",
            "{'indonesia': 0, 'matematika': 1, 'pagi': 1, 'selamat': 1, 'uad': 0}\n",
            "{'indonesia': 0, 'matematika': 1, 'pagi': 1, 'selamat': 1, 'uad': 1}\n",
            "[0. 1. 1. 1. 1.]\n",
            "Selamat Pagi Indonesia\n",
            "baris_kata {'indonesia': 0, 'matematika': 0, 'pagi': 0, 'selamat': 0, 'uad': 0}\n",
            "{'indonesia': 0, 'matematika': 0, 'pagi': 0, 'selamat': 1, 'uad': 0}\n",
            "{'indonesia': 0, 'matematika': 0, 'pagi': 1, 'selamat': 1, 'uad': 0}\n",
            "{'indonesia': 1, 'matematika': 0, 'pagi': 1, 'selamat': 1, 'uad': 0}\n",
            "[0. 1. 1. 1. 1. 1. 0. 1. 1. 0.]\n"
          ]
        }
      ]
    },
    {
      "cell_type": "code",
      "metadata": {
        "id": "ctnCbX3mzTpJ",
        "colab": {
          "base_uri": "https://localhost:8080/"
        },
        "outputId": "1062b1ed-f2f5-4589-8373-316480f87b11"
      },
      "source": [
        "print(matriks_kata)"
      ],
      "execution_count": 32,
      "outputs": [
        {
          "output_type": "stream",
          "name": "stdout",
          "text": [
            "[[0. 1. 1. 1. 1.]\n",
            " [1. 0. 1. 1. 0.]]\n"
          ]
        }
      ]
    },
    {
      "cell_type": "markdown",
      "metadata": {
        "id": "dujG_5RFzTpK"
      },
      "source": [
        "Membuat DataFrame Bag Of Words"
      ]
    },
    {
      "cell_type": "code",
      "metadata": {
        "scrolled": true,
        "id": "zyCA-p4azTpK",
        "colab": {
          "base_uri": "https://localhost:8080/",
          "height": 112
        },
        "outputId": "c14fb550-ddc9-4eed-b383-2e7d93b53040"
      },
      "source": [
        "df_BoW = pd.DataFrame(matriks_kata, columns=kosa_kata, index=df_teks.text.tolist())\n",
        "df_BoW = df_BoW.astype('int')\n",
        "df_BoW"
      ],
      "execution_count": 33,
      "outputs": [
        {
          "output_type": "execute_result",
          "data": {
            "text/html": [
              "<div>\n",
              "<style scoped>\n",
              "    .dataframe tbody tr th:only-of-type {\n",
              "        vertical-align: middle;\n",
              "    }\n",
              "\n",
              "    .dataframe tbody tr th {\n",
              "        vertical-align: top;\n",
              "    }\n",
              "\n",
              "    .dataframe thead th {\n",
              "        text-align: right;\n",
              "    }\n",
              "</style>\n",
              "<table border=\"1\" class=\"dataframe\">\n",
              "  <thead>\n",
              "    <tr style=\"text-align: right;\">\n",
              "      <th></th>\n",
              "      <th>indonesia</th>\n",
              "      <th>matematika</th>\n",
              "      <th>pagi</th>\n",
              "      <th>selamat</th>\n",
              "      <th>uad</th>\n",
              "    </tr>\n",
              "  </thead>\n",
              "  <tbody>\n",
              "    <tr>\n",
              "      <th>Selamat Pagi Matematika UAD</th>\n",
              "      <td>0</td>\n",
              "      <td>1</td>\n",
              "      <td>1</td>\n",
              "      <td>1</td>\n",
              "      <td>1</td>\n",
              "    </tr>\n",
              "    <tr>\n",
              "      <th>Selamat Pagi Indonesia</th>\n",
              "      <td>1</td>\n",
              "      <td>0</td>\n",
              "      <td>1</td>\n",
              "      <td>1</td>\n",
              "      <td>0</td>\n",
              "    </tr>\n",
              "  </tbody>\n",
              "</table>\n",
              "</div>"
            ],
            "text/plain": [
              "                             indonesia  matematika  pagi  selamat  uad\n",
              "Selamat Pagi Matematika UAD          0           1     1        1    1\n",
              "Selamat Pagi Indonesia               1           0     1        1    0"
            ]
          },
          "metadata": {},
          "execution_count": 33
        }
      ]
    },
    {
      "cell_type": "markdown",
      "metadata": {
        "id": "4pv5hq6hzTpL"
      },
      "source": [
        "**Membuat Fungsi `Bag_Of_Words()`**"
      ]
    },
    {
      "cell_type": "code",
      "metadata": {
        "id": "vO8dyOJqzTpL"
      },
      "source": [
        "#Impor Modul Yang Diperlukan\n",
        "import pandas as pd\n",
        "import numpy as np\n",
        "from nltk.tokenize import word_tokenize\n",
        "\n",
        "def Bag_Of_Words(df_teks):\n",
        "    # Membuat list kosa kata dari seluruh teks input\n",
        "    kosa_kata = set()\n",
        "    for i in df_teks.text:\n",
        "        token_kal=set(word_tokenize(i.lower()))\n",
        "        kosa_kata=set.union(kosa_kata,token_kal)\n",
        "    kosa_kata = sorted(kosa_kata)\n",
        "    # Membuat dictionary kata-kata\n",
        "    indeks_kata = {}\n",
        "    for kata in kosa_kata:\n",
        "        indeks_kata[kata] = 0\n",
        "    # Jumlah kosa kata(untuk kolom)\n",
        "    jumlah_kosa_kata = len(kosa_kata)\n",
        "    # Membagun matriks kata\n",
        "    vektor_kata=np.array([])\n",
        "    for baris_teks in df_teks.text:\n",
        "        baris_kata = indeks_kata.copy()\n",
        "        for kata in baris_teks.lower().split():\n",
        "            baris_kata[kata]=+1\n",
        "        baris_kata = np.array(list(baris_kata.values()))  \n",
        "        vektor_kata = np.concatenate((vektor_kata,baris_kata), axis=0)\n",
        "    matriks_kata = vektor_kata.reshape(df_teks.shape[0], jumlah_kosa_kata)    \n",
        "    df_bow = pd.DataFrame(matriks_kata, columns=kosa_kata, index=df_teks.text.tolist())\n",
        "    df_bow = df_bow.astype('int')\n",
        "    return df_bow"
      ],
      "execution_count": 34,
      "outputs": []
    },
    {
      "cell_type": "markdown",
      "metadata": {
        "id": "u4idpgCpzTpM"
      },
      "source": [
        "**Contoh Implementasi Fungsi `Bag_Of_Words()`**"
      ]
    },
    {
      "cell_type": "code",
      "metadata": {
        "id": "_7CLL4fXzTpN",
        "colab": {
          "base_uri": "https://localhost:8080/",
          "height": 112
        },
        "outputId": "bb30cd81-001f-42af-a809-34a789f45fa2"
      },
      "source": [
        "df_teks"
      ],
      "execution_count": 35,
      "outputs": [
        {
          "output_type": "execute_result",
          "data": {
            "text/html": [
              "<div>\n",
              "<style scoped>\n",
              "    .dataframe tbody tr th:only-of-type {\n",
              "        vertical-align: middle;\n",
              "    }\n",
              "\n",
              "    .dataframe tbody tr th {\n",
              "        vertical-align: top;\n",
              "    }\n",
              "\n",
              "    .dataframe thead th {\n",
              "        text-align: right;\n",
              "    }\n",
              "</style>\n",
              "<table border=\"1\" class=\"dataframe\">\n",
              "  <thead>\n",
              "    <tr style=\"text-align: right;\">\n",
              "      <th></th>\n",
              "      <th>text</th>\n",
              "    </tr>\n",
              "  </thead>\n",
              "  <tbody>\n",
              "    <tr>\n",
              "      <th>0</th>\n",
              "      <td>Selamat Pagi Matematika UAD</td>\n",
              "    </tr>\n",
              "    <tr>\n",
              "      <th>1</th>\n",
              "      <td>Selamat Pagi Indonesia</td>\n",
              "    </tr>\n",
              "  </tbody>\n",
              "</table>\n",
              "</div>"
            ],
            "text/plain": [
              "                          text\n",
              "0  Selamat Pagi Matematika UAD\n",
              "1       Selamat Pagi Indonesia"
            ]
          },
          "metadata": {},
          "execution_count": 35
        }
      ]
    },
    {
      "cell_type": "code",
      "metadata": {
        "id": "Jhp_AS9ZzTpN",
        "colab": {
          "base_uri": "https://localhost:8080/",
          "height": 112
        },
        "outputId": "84789617-eb77-40f7-a2b3-b1514120fc44"
      },
      "source": [
        "df_BoW=Bag_Of_Words(df_teks)\n",
        "df_BoW"
      ],
      "execution_count": 36,
      "outputs": [
        {
          "output_type": "execute_result",
          "data": {
            "text/html": [
              "<div>\n",
              "<style scoped>\n",
              "    .dataframe tbody tr th:only-of-type {\n",
              "        vertical-align: middle;\n",
              "    }\n",
              "\n",
              "    .dataframe tbody tr th {\n",
              "        vertical-align: top;\n",
              "    }\n",
              "\n",
              "    .dataframe thead th {\n",
              "        text-align: right;\n",
              "    }\n",
              "</style>\n",
              "<table border=\"1\" class=\"dataframe\">\n",
              "  <thead>\n",
              "    <tr style=\"text-align: right;\">\n",
              "      <th></th>\n",
              "      <th>indonesia</th>\n",
              "      <th>matematika</th>\n",
              "      <th>pagi</th>\n",
              "      <th>selamat</th>\n",
              "      <th>uad</th>\n",
              "    </tr>\n",
              "  </thead>\n",
              "  <tbody>\n",
              "    <tr>\n",
              "      <th>Selamat Pagi Matematika UAD</th>\n",
              "      <td>0</td>\n",
              "      <td>1</td>\n",
              "      <td>1</td>\n",
              "      <td>1</td>\n",
              "      <td>1</td>\n",
              "    </tr>\n",
              "    <tr>\n",
              "      <th>Selamat Pagi Indonesia</th>\n",
              "      <td>1</td>\n",
              "      <td>0</td>\n",
              "      <td>1</td>\n",
              "      <td>1</td>\n",
              "      <td>0</td>\n",
              "    </tr>\n",
              "  </tbody>\n",
              "</table>\n",
              "</div>"
            ],
            "text/plain": [
              "                             indonesia  matematika  pagi  selamat  uad\n",
              "Selamat Pagi Matematika UAD          0           1     1        1    1\n",
              "Selamat Pagi Indonesia               1           0     1        1    0"
            ]
          },
          "metadata": {},
          "execution_count": 36
        }
      ]
    },
    {
      "cell_type": "markdown",
      "metadata": {
        "id": "piAt2WCIzTpO"
      },
      "source": [
        "### Perbandingan dengan Scikit Learn Library"
      ]
    },
    {
      "cell_type": "markdown",
      "metadata": {
        "id": "HqnSTK5wzTpO"
      },
      "source": [
        "Sebenarnya, kita bisa menghasilkan matriks BoW dengan menggunakan Library Scikit Learn pada Class `CountVectorizer`"
      ]
    },
    {
      "cell_type": "code",
      "metadata": {
        "id": "RPIjuzXLzTpP",
        "colab": {
          "base_uri": "https://localhost:8080/",
          "height": 112
        },
        "outputId": "e203e7a4-4152-4de8-ffe6-3ea0ed44592a"
      },
      "source": [
        "from sklearn.feature_extraction.text import CountVectorizer\n",
        "\n",
        "vectorizer = CountVectorizer()\n",
        "\n",
        "corpus = ['Selamat Pagi Matematika UAD','Selamat Pagi Indonesia']\n",
        "\n",
        "X = vectorizer.fit_transform(corpus)\n",
        "\n",
        "df_BoW_SL = pd.DataFrame(X.toarray(), columns=vectorizer.get_feature_names(), index=corpus)\n",
        "df_BoW_SL"
      ],
      "execution_count": 37,
      "outputs": [
        {
          "output_type": "execute_result",
          "data": {
            "text/html": [
              "<div>\n",
              "<style scoped>\n",
              "    .dataframe tbody tr th:only-of-type {\n",
              "        vertical-align: middle;\n",
              "    }\n",
              "\n",
              "    .dataframe tbody tr th {\n",
              "        vertical-align: top;\n",
              "    }\n",
              "\n",
              "    .dataframe thead th {\n",
              "        text-align: right;\n",
              "    }\n",
              "</style>\n",
              "<table border=\"1\" class=\"dataframe\">\n",
              "  <thead>\n",
              "    <tr style=\"text-align: right;\">\n",
              "      <th></th>\n",
              "      <th>indonesia</th>\n",
              "      <th>matematika</th>\n",
              "      <th>pagi</th>\n",
              "      <th>selamat</th>\n",
              "      <th>uad</th>\n",
              "    </tr>\n",
              "  </thead>\n",
              "  <tbody>\n",
              "    <tr>\n",
              "      <th>Selamat Pagi Matematika UAD</th>\n",
              "      <td>0</td>\n",
              "      <td>1</td>\n",
              "      <td>1</td>\n",
              "      <td>1</td>\n",
              "      <td>1</td>\n",
              "    </tr>\n",
              "    <tr>\n",
              "      <th>Selamat Pagi Indonesia</th>\n",
              "      <td>1</td>\n",
              "      <td>0</td>\n",
              "      <td>1</td>\n",
              "      <td>1</td>\n",
              "      <td>0</td>\n",
              "    </tr>\n",
              "  </tbody>\n",
              "</table>\n",
              "</div>"
            ],
            "text/plain": [
              "                             indonesia  matematika  pagi  selamat  uad\n",
              "Selamat Pagi Matematika UAD          0           1     1        1    1\n",
              "Selamat Pagi Indonesia               1           0     1        1    0"
            ]
          },
          "metadata": {},
          "execution_count": 37
        }
      ]
    },
    {
      "cell_type": "markdown",
      "metadata": {
        "id": "rCXYnDXUzTpP"
      },
      "source": [
        "Hasil fungsi yang kita buat dari dasar sama dengan `CountVectorizer` dari Library Scikit Learn"
      ]
    },
    {
      "cell_type": "markdown",
      "metadata": {
        "id": "mcf83rvEzTpP"
      },
      "source": [
        "### Kekurangan Bag-of-Words\n",
        "\n",
        "Meskipun model ini sangat sederhana untuk diimplementasikan, namun model ini masih memiliki bebrapa kekurangan:\n",
        "    \n",
        "* **Ketersebaran(Sparsity)**: Model BOW membuat vektor sparse yang meningkatkan kompleksitas ruang dan juga mempersulit algoritma prediksi kami untuk dipelajari.\n",
        "\n",
        "* **Arti Kata**: Kata hanya direpresentasikan keberadaanya namun tidak sampai pada makna dan konteksnya dalam sebuah kalimat."
      ]
    },
    {
      "cell_type": "markdown",
      "metadata": {
        "id": "gsilHywfzTpQ"
      },
      "source": [
        "## TF-IDF"
      ]
    },
    {
      "cell_type": "markdown",
      "metadata": {
        "id": "TndDzhTtzTpQ"
      },
      "source": [
        "TF-IDF adalah metode untuk merepresentasikan kata-kata dalam angka. TF-IDF merupakan gabungan dari Term Frequency(TF) dan Inverse Document Frequency(IDF). "
      ]
    },
    {
      "cell_type": "markdown",
      "metadata": {
        "id": "6SUarl_FzTpR"
      },
      "source": [
        "### Term Frequency(TF)\n",
        "Term Frequency(TF) merupakan frekuensi kemunculan kata i pada kalimat j dibagi dengan total kata pada kalimat j. TF mengukur seberapa sering kata muncul dalam sebuah kalimat. Masing-masing kalimat memiliki panjang(jumlah kata) yang berbeda-beda, maka pada kalimat yang lebih panjang sebuah kata bisa muncul lebih banyak dari pada kalimat yang pendek. \n",
        "\n",
        "$$TF(kata) = \\frac{\\text{Jumlah kata i muncul dalam kalimat}}{\\text{Jumlah kata dalam kalimat}}$$"
      ]
    },
    {
      "cell_type": "markdown",
      "metadata": {
        "id": "9yR0i4ZYzTpR"
      },
      "source": [
        "### Inverse Document Frequency(IDF)\n",
        "Inverse Document Frequency(IDF) mengukur seberapa penting kata tersebut. Saat menghitung TF kita menganggap semua kata sama penting. Bagaimanapun kita tahu bahwa ada beberapa kata yang sering muncul namun sebenarnya tidak penting seperti `adalah`, `pada`, `ini`, dll. Maka semakin tinggi nilai IDF dari sebuah kata, semakin tidak penting pula kata tersebut dalam sebuah kalimat. Pada dasarnya IDF(kata) dihitung sebagai berikut:\n",
        "\n",
        "$$IDF(kata) = \\log_{e} \\frac{\\text{Jumlah kalimat}}{\\text{Jumlah kalimat mengandung `kata`}}$$\n",
        "\n",
        "untuk menghidari pembagian dengan nol maka pada bagian penyebut ditambah 1\n",
        "\n",
        "$$IDF(kata) = \\log_{e} \\frac{\\text{1 + Jumlah kalimat}}{\\text{1 + Jumlah kalimat mengandung `kata`}} + 1$$"
      ]
    },
    {
      "cell_type": "markdown",
      "metadata": {
        "id": "qZQIMybTzTpS"
      },
      "source": [
        "### Contoh Penghitungan Manual TF-IDF"
      ]
    },
    {
      "cell_type": "markdown",
      "metadata": {
        "id": "G6MRgmq53Qae"
      },
      "source": [
        "![image.png](data:image/png;base64,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)"
      ]
    },
    {
      "cell_type": "markdown",
      "metadata": {
        "id": "B2UrgRjgzTpT"
      },
      "source": [
        "### Membuat Matriks TF-IDF From Scratch"
      ]
    },
    {
      "cell_type": "markdown",
      "metadata": {
        "id": "75soNqG1zTpT"
      },
      "source": [
        "Impor Modul Yang Diperlukan"
      ]
    },
    {
      "cell_type": "code",
      "metadata": {
        "id": "xXHJFIbHzTpU"
      },
      "source": [
        "#Impor Modul Yang Diperlukan\n",
        "import pandas as pd\n",
        "import numpy as np\n",
        "from nltk.tokenize import word_tokenize\n",
        "import math\n",
        "from sklearn.preprocessing import normalize"
      ],
      "execution_count": 38,
      "outputs": []
    },
    {
      "cell_type": "markdown",
      "metadata": {
        "id": "3e54XauPzTpU"
      },
      "source": [
        "DataFrame Teks Input"
      ]
    },
    {
      "cell_type": "code",
      "metadata": {
        "id": "x2XBoBX1zTpV",
        "colab": {
          "base_uri": "https://localhost:8080/",
          "height": 112
        },
        "outputId": "deea961d-e3b7-49e9-feeb-f2d532d259ac"
      },
      "source": [
        "df_teks=pd.DataFrame({\"text\":['Selamat Pagi Matematika UAD','Selamat Pagi Indonesia']})\n",
        "df_teks"
      ],
      "execution_count": 39,
      "outputs": [
        {
          "output_type": "execute_result",
          "data": {
            "text/html": [
              "<div>\n",
              "<style scoped>\n",
              "    .dataframe tbody tr th:only-of-type {\n",
              "        vertical-align: middle;\n",
              "    }\n",
              "\n",
              "    .dataframe tbody tr th {\n",
              "        vertical-align: top;\n",
              "    }\n",
              "\n",
              "    .dataframe thead th {\n",
              "        text-align: right;\n",
              "    }\n",
              "</style>\n",
              "<table border=\"1\" class=\"dataframe\">\n",
              "  <thead>\n",
              "    <tr style=\"text-align: right;\">\n",
              "      <th></th>\n",
              "      <th>text</th>\n",
              "    </tr>\n",
              "  </thead>\n",
              "  <tbody>\n",
              "    <tr>\n",
              "      <th>0</th>\n",
              "      <td>Selamat Pagi Matematika UAD</td>\n",
              "    </tr>\n",
              "    <tr>\n",
              "      <th>1</th>\n",
              "      <td>Selamat Pagi Indonesia</td>\n",
              "    </tr>\n",
              "  </tbody>\n",
              "</table>\n",
              "</div>"
            ],
            "text/plain": [
              "                          text\n",
              "0  Selamat Pagi Matematika UAD\n",
              "1       Selamat Pagi Indonesia"
            ]
          },
          "metadata": {},
          "execution_count": 39
        }
      ]
    },
    {
      "cell_type": "markdown",
      "metadata": {
        "id": "2kJM2lbRzTpV"
      },
      "source": [
        "Membuat List Kosa Kata"
      ]
    },
    {
      "cell_type": "code",
      "metadata": {
        "id": "C-WbAEhZzTpW",
        "colab": {
          "base_uri": "https://localhost:8080/"
        },
        "outputId": "ad2590fe-09a0-4c90-b9fd-737bc9d1890e"
      },
      "source": [
        "kosa_kata = set()\n",
        "for i in df_teks.text:\n",
        "    token_kal=set(word_tokenize(i.lower()))\n",
        "    kosa_kata=set.union(kosa_kata,token_kal)\n",
        "    #print(kosa_kata)\n",
        "    \n",
        "kosa_kata = sorted(kosa_kata)\n",
        "print(kosa_kata)\n",
        "\n",
        "# Jumlah kata-kata pada list vocab           \n",
        "jumlah_kosa_kata = len(kosa_kata)\n",
        "print(jumlah_kosa_kata)"
      ],
      "execution_count": 40,
      "outputs": [
        {
          "output_type": "stream",
          "name": "stdout",
          "text": [
            "['indonesia', 'matematika', 'pagi', 'selamat', 'uad']\n",
            "5\n"
          ]
        }
      ]
    },
    {
      "cell_type": "markdown",
      "metadata": {
        "id": "ApM7GkE6zTpW"
      },
      "source": [
        "Membuat Dictionary Kosa Kata Untuk Membuat Baris Kosa Kata"
      ]
    },
    {
      "cell_type": "code",
      "metadata": {
        "id": "emWkqI9ZzTpX",
        "colab": {
          "base_uri": "https://localhost:8080/"
        },
        "outputId": "820b32dc-5575-4759-bba0-a6eb3f6e22be"
      },
      "source": [
        "indeks_kata = {}\n",
        "for kata in kosa_kata:\n",
        "    indeks_kata[kata] = 0\n",
        "    \n",
        "print(indeks_kata)"
      ],
      "execution_count": 41,
      "outputs": [
        {
          "output_type": "stream",
          "name": "stdout",
          "text": [
            "{'indonesia': 0, 'matematika': 0, 'pagi': 0, 'selamat': 0, 'uad': 0}\n"
          ]
        }
      ]
    },
    {
      "cell_type": "markdown",
      "metadata": {
        "id": "FvJGze_LzTpX"
      },
      "source": [
        "Membuat Matriks TF"
      ]
    },
    {
      "cell_type": "code",
      "metadata": {
        "id": "GOsqT-9MzTpY",
        "colab": {
          "base_uri": "https://localhost:8080/"
        },
        "outputId": "f6954f38-39cb-401a-94c2-549ec3f7452f"
      },
      "source": [
        "vektor_TF=np.array([])\n",
        "for baris_teks in df_teks.text:\n",
        "    print(baris_teks)\n",
        "    baris_kata = indeks_kata.copy()\n",
        "    print('baris_kata', baris_kata)\n",
        "    split_baris = baris_teks.lower().split()\n",
        "    for kata in baris_teks.lower().split():\n",
        "        baris_kata[kata]=+1\n",
        "        print(baris_kata)\n",
        "    baris_kata = np.array(list(baris_kata.values()))\n",
        "    baris_kata = baris_kata/len(split_baris)\n",
        "    vektor_TF = np.concatenate((vektor_TF,baris_kata), axis=0)\n",
        "    print(vektor_TF)\n",
        "matriks_TF = vektor_TF.reshape(df_teks.shape[0], jumlah_kosa_kata)"
      ],
      "execution_count": 42,
      "outputs": [
        {
          "output_type": "stream",
          "name": "stdout",
          "text": [
            "Selamat Pagi Matematika UAD\n",
            "baris_kata {'indonesia': 0, 'matematika': 0, 'pagi': 0, 'selamat': 0, 'uad': 0}\n",
            "{'indonesia': 0, 'matematika': 0, 'pagi': 0, 'selamat': 1, 'uad': 0}\n",
            "{'indonesia': 0, 'matematika': 0, 'pagi': 1, 'selamat': 1, 'uad': 0}\n",
            "{'indonesia': 0, 'matematika': 1, 'pagi': 1, 'selamat': 1, 'uad': 0}\n",
            "{'indonesia': 0, 'matematika': 1, 'pagi': 1, 'selamat': 1, 'uad': 1}\n",
            "[0.   0.25 0.25 0.25 0.25]\n",
            "Selamat Pagi Indonesia\n",
            "baris_kata {'indonesia': 0, 'matematika': 0, 'pagi': 0, 'selamat': 0, 'uad': 0}\n",
            "{'indonesia': 0, 'matematika': 0, 'pagi': 0, 'selamat': 1, 'uad': 0}\n",
            "{'indonesia': 0, 'matematika': 0, 'pagi': 1, 'selamat': 1, 'uad': 0}\n",
            "{'indonesia': 1, 'matematika': 0, 'pagi': 1, 'selamat': 1, 'uad': 0}\n",
            "[0.         0.25       0.25       0.25       0.25       0.33333333\n",
            " 0.         0.33333333 0.33333333 0.        ]\n"
          ]
        }
      ]
    },
    {
      "cell_type": "code",
      "metadata": {
        "id": "4ybebJqXzTpY",
        "colab": {
          "base_uri": "https://localhost:8080/"
        },
        "outputId": "5a3860cd-26f1-428d-bc5c-b099cfa335fe"
      },
      "source": [
        "print(matriks_TF)"
      ],
      "execution_count": 43,
      "outputs": [
        {
          "output_type": "stream",
          "name": "stdout",
          "text": [
            "[[0.         0.25       0.25       0.25       0.25      ]\n",
            " [0.33333333 0.         0.33333333 0.33333333 0.        ]]\n"
          ]
        }
      ]
    },
    {
      "cell_type": "code",
      "metadata": {
        "scrolled": true,
        "id": "kQtvpBbUzTpZ",
        "colab": {
          "base_uri": "https://localhost:8080/",
          "height": 112
        },
        "outputId": "65bb9abf-06eb-4951-b903-b1ebfa6bb742"
      },
      "source": [
        "df_TF = pd.DataFrame(matriks_TF, columns=kosa_kata, index=df_teks.text.tolist())\n",
        "df_TF"
      ],
      "execution_count": 44,
      "outputs": [
        {
          "output_type": "execute_result",
          "data": {
            "text/html": [
              "<div>\n",
              "<style scoped>\n",
              "    .dataframe tbody tr th:only-of-type {\n",
              "        vertical-align: middle;\n",
              "    }\n",
              "\n",
              "    .dataframe tbody tr th {\n",
              "        vertical-align: top;\n",
              "    }\n",
              "\n",
              "    .dataframe thead th {\n",
              "        text-align: right;\n",
              "    }\n",
              "</style>\n",
              "<table border=\"1\" class=\"dataframe\">\n",
              "  <thead>\n",
              "    <tr style=\"text-align: right;\">\n",
              "      <th></th>\n",
              "      <th>indonesia</th>\n",
              "      <th>matematika</th>\n",
              "      <th>pagi</th>\n",
              "      <th>selamat</th>\n",
              "      <th>uad</th>\n",
              "    </tr>\n",
              "  </thead>\n",
              "  <tbody>\n",
              "    <tr>\n",
              "      <th>Selamat Pagi Matematika UAD</th>\n",
              "      <td>0.000000</td>\n",
              "      <td>0.25</td>\n",
              "      <td>0.250000</td>\n",
              "      <td>0.250000</td>\n",
              "      <td>0.25</td>\n",
              "    </tr>\n",
              "    <tr>\n",
              "      <th>Selamat Pagi Indonesia</th>\n",
              "      <td>0.333333</td>\n",
              "      <td>0.00</td>\n",
              "      <td>0.333333</td>\n",
              "      <td>0.333333</td>\n",
              "      <td>0.00</td>\n",
              "    </tr>\n",
              "  </tbody>\n",
              "</table>\n",
              "</div>"
            ],
            "text/plain": [
              "                             indonesia  matematika      pagi   selamat   uad\n",
              "Selamat Pagi Matematika UAD   0.000000        0.25  0.250000  0.250000  0.25\n",
              "Selamat Pagi Indonesia        0.333333        0.00  0.333333  0.333333  0.00"
            ]
          },
          "metadata": {},
          "execution_count": 44
        }
      ]
    },
    {
      "cell_type": "markdown",
      "metadata": {
        "id": "XusjypxxzTpZ"
      },
      "source": [
        "Membuat Baris IDF"
      ]
    },
    {
      "cell_type": "code",
      "metadata": {
        "id": "Tv8oEcagzTpa",
        "colab": {
          "base_uri": "https://localhost:8080/"
        },
        "outputId": "9939e486-2992-4efb-cfb7-77054e8bf07c"
      },
      "source": [
        "baris_IDF=[]\n",
        "for kolom in df_TF.columns :\n",
        "    N = len(df_teks.text)\n",
        "    kal_kata = len(df_TF[df_TF[kolom]>0])\n",
        "    baris_idf = (math.log((1+N)/(1+kal_kata)))+1  \n",
        "    baris_IDF.append(baris_idf)\n",
        "baris_IDF"
      ],
      "execution_count": 45,
      "outputs": [
        {
          "output_type": "execute_result",
          "data": {
            "text/plain": [
              "[1.4054651081081644, 1.4054651081081644, 1.0, 1.0, 1.4054651081081644]"
            ]
          },
          "metadata": {},
          "execution_count": 45
        }
      ]
    },
    {
      "cell_type": "markdown",
      "metadata": {
        "id": "5jq42SdKzTpb"
      },
      "source": [
        "Membuat Matriks TF-IDF"
      ]
    },
    {
      "cell_type": "code",
      "metadata": {
        "id": "cDG0HmpSzTpb"
      },
      "source": [
        "vektor_TFIDF=np.array([])\n",
        "for baris in matriks_TF:\n",
        "    baris_tfidf=np.multiply(baris,baris_IDF)\n",
        "    vektor_TFIDF=np.concatenate((vektor_TFIDF,baris_tfidf), axis=0)\n",
        "    \n",
        "matriks_TFIDF = vektor_TFIDF.reshape(df_teks.shape[0], jumlah_kosa_kata)\n",
        "matriks_TFIDF = normalize(matriks_TFIDF)"
      ],
      "execution_count": 46,
      "outputs": []
    },
    {
      "cell_type": "markdown",
      "metadata": {
        "id": "5N4rSntgzTpc"
      },
      "source": [
        "Membuat DataFrame TFIDF"
      ]
    },
    {
      "cell_type": "code",
      "metadata": {
        "id": "Fp55ZEIVzTpc",
        "colab": {
          "base_uri": "https://localhost:8080/",
          "height": 112
        },
        "outputId": "1a18e958-2c22-495a-d715-a5269cd2dae5"
      },
      "source": [
        "df_TF_IDF = pd.DataFrame(matriks_TFIDF, columns=kosa_kata, index=df_teks.text.tolist())\n",
        "df_TF_IDF"
      ],
      "execution_count": 47,
      "outputs": [
        {
          "output_type": "execute_result",
          "data": {
            "text/html": [
              "<div>\n",
              "<style scoped>\n",
              "    .dataframe tbody tr th:only-of-type {\n",
              "        vertical-align: middle;\n",
              "    }\n",
              "\n",
              "    .dataframe tbody tr th {\n",
              "        vertical-align: top;\n",
              "    }\n",
              "\n",
              "    .dataframe thead th {\n",
              "        text-align: right;\n",
              "    }\n",
              "</style>\n",
              "<table border=\"1\" class=\"dataframe\">\n",
              "  <thead>\n",
              "    <tr style=\"text-align: right;\">\n",
              "      <th></th>\n",
              "      <th>indonesia</th>\n",
              "      <th>matematika</th>\n",
              "      <th>pagi</th>\n",
              "      <th>selamat</th>\n",
              "      <th>uad</th>\n",
              "    </tr>\n",
              "  </thead>\n",
              "  <tbody>\n",
              "    <tr>\n",
              "      <th>Selamat Pagi Matematika UAD</th>\n",
              "      <td>0.000000</td>\n",
              "      <td>0.576152</td>\n",
              "      <td>0.409937</td>\n",
              "      <td>0.409937</td>\n",
              "      <td>0.576152</td>\n",
              "    </tr>\n",
              "    <tr>\n",
              "      <th>Selamat Pagi Indonesia</th>\n",
              "      <td>0.704909</td>\n",
              "      <td>0.000000</td>\n",
              "      <td>0.501549</td>\n",
              "      <td>0.501549</td>\n",
              "      <td>0.000000</td>\n",
              "    </tr>\n",
              "  </tbody>\n",
              "</table>\n",
              "</div>"
            ],
            "text/plain": [
              "                             indonesia  matematika  ...   selamat       uad\n",
              "Selamat Pagi Matematika UAD   0.000000    0.576152  ...  0.409937  0.576152\n",
              "Selamat Pagi Indonesia        0.704909    0.000000  ...  0.501549  0.000000\n",
              "\n",
              "[2 rows x 5 columns]"
            ]
          },
          "metadata": {},
          "execution_count": 47
        }
      ]
    },
    {
      "cell_type": "markdown",
      "metadata": {
        "id": "4_3CLUfOzTpd"
      },
      "source": [
        "**Membuat Fungsi `TFIDF()`**"
      ]
    },
    {
      "cell_type": "code",
      "metadata": {
        "id": "6V26rfMRzTpe"
      },
      "source": [
        "#Impor Modul Yang Diperlukan\n",
        "import pandas as pd\n",
        "import numpy as np\n",
        "from nltk.tokenize import word_tokenize\n",
        "import math\n",
        "from sklearn.preprocessing import normalize\n",
        "\n",
        "def TF_IDF(df_teks):\n",
        "    # Membuat list kosa kata dari seluruh teks input\n",
        "    kosa_kata = set()\n",
        "    for i in df_teks.text:\n",
        "        token_kal=set(word_tokenize(i.lower()))\n",
        "        kosa_kata=set.union(kosa_kata,token_kal)\n",
        "    kosa_kata = sorted(kosa_kata)\n",
        "    # Membuat dictionary kata-kata\n",
        "    indeks_kata = {}\n",
        "    for kata in kosa_kata:\n",
        "        indeks_kata[kata] = 0\n",
        "    # Jumlah kosa kata(untuk kolom)\n",
        "    jumlah_kosa_kata = len(kosa_kata)\n",
        "    # Membagun matriks kata TF\n",
        "    vektor_TF=np.array([])\n",
        "    for baris_teks in df_teks.text:\n",
        "        baris_kata = indeks_kata.copy()\n",
        "        split_baris = baris_teks.lower().split()\n",
        "        for kata in baris_teks.lower().split():\n",
        "            baris_kata[kata]=+1\n",
        "        baris_kata = np.array(list(baris_kata.values()))\n",
        "        baris_kata = baris_kata/len(split_baris)\n",
        "        vektor_TF = np.concatenate((vektor_TF,baris_kata), axis=0)\n",
        "    matriks_TF = vektor_TF.reshape(df_teks.shape[0], jumlah_kosa_kata)\n",
        "    # Membagun dataframe kata TF\n",
        "    df_TF = pd.DataFrame(matriks_TF, columns=kosa_kata, index=df_teks.text.tolist())\n",
        "    # Menghitung baris IDF\n",
        "    baris_IDF=[]\n",
        "    for kolom in df_TF.columns :\n",
        "        N = len(df_teks.text)\n",
        "        kal_kata = len(df_TF[df_TF[kolom]>0])\n",
        "        baris_idf = (math.log((1+N)/(1+kal_kata)))+1  \n",
        "        baris_IDF.append(baris_idf)\n",
        "    # Membuat matriks TF-IDF\n",
        "    vektor_TFIDF=np.array([])\n",
        "    for baris in matriks_TF:\n",
        "        baris_tfidf=np.multiply(baris,baris_IDF)\n",
        "        vektor_TFIDF=np.concatenate((vektor_TFIDF,baris_tfidf), axis=0)\n",
        "    matriks_TFIDF = vektor_TFIDF.reshape(df_teks.shape[0], jumlah_kosa_kata)\n",
        "    matriks_TFIDF = normalize(matriks_TFIDF)\n",
        "    # Membuat dataframe TF-IDF\n",
        "    df_TF_IDF = pd.DataFrame(matriks_TFIDF, columns=kosa_kata, index=df_teks.text.tolist())\n",
        "    return df_TF_IDF"
      ],
      "execution_count": 48,
      "outputs": []
    },
    {
      "cell_type": "markdown",
      "metadata": {
        "id": "3JJIL09VzTpf"
      },
      "source": [
        "**Contoh Implementasi Fungsi `TF_IDF()`**"
      ]
    },
    {
      "cell_type": "code",
      "metadata": {
        "id": "7qFGsRrZzTpf",
        "colab": {
          "base_uri": "https://localhost:8080/",
          "height": 112
        },
        "outputId": "22ccffda-d665-49a4-bc51-c8d4677d396b"
      },
      "source": [
        "df_teks"
      ],
      "execution_count": 49,
      "outputs": [
        {
          "output_type": "execute_result",
          "data": {
            "text/html": [
              "<div>\n",
              "<style scoped>\n",
              "    .dataframe tbody tr th:only-of-type {\n",
              "        vertical-align: middle;\n",
              "    }\n",
              "\n",
              "    .dataframe tbody tr th {\n",
              "        vertical-align: top;\n",
              "    }\n",
              "\n",
              "    .dataframe thead th {\n",
              "        text-align: right;\n",
              "    }\n",
              "</style>\n",
              "<table border=\"1\" class=\"dataframe\">\n",
              "  <thead>\n",
              "    <tr style=\"text-align: right;\">\n",
              "      <th></th>\n",
              "      <th>text</th>\n",
              "    </tr>\n",
              "  </thead>\n",
              "  <tbody>\n",
              "    <tr>\n",
              "      <th>0</th>\n",
              "      <td>Selamat Pagi Matematika UAD</td>\n",
              "    </tr>\n",
              "    <tr>\n",
              "      <th>1</th>\n",
              "      <td>Selamat Pagi Indonesia</td>\n",
              "    </tr>\n",
              "  </tbody>\n",
              "</table>\n",
              "</div>"
            ],
            "text/plain": [
              "                          text\n",
              "0  Selamat Pagi Matematika UAD\n",
              "1       Selamat Pagi Indonesia"
            ]
          },
          "metadata": {},
          "execution_count": 49
        }
      ]
    },
    {
      "cell_type": "code",
      "metadata": {
        "id": "1BsbIBobzTpg",
        "colab": {
          "base_uri": "https://localhost:8080/",
          "height": 112
        },
        "outputId": "83fd7e24-1e19-4637-d6b2-a817350b709f"
      },
      "source": [
        "df_TF_IDF=TF_IDF(df_teks)\n",
        "df_TF_IDF"
      ],
      "execution_count": 50,
      "outputs": [
        {
          "output_type": "execute_result",
          "data": {
            "text/html": [
              "<div>\n",
              "<style scoped>\n",
              "    .dataframe tbody tr th:only-of-type {\n",
              "        vertical-align: middle;\n",
              "    }\n",
              "\n",
              "    .dataframe tbody tr th {\n",
              "        vertical-align: top;\n",
              "    }\n",
              "\n",
              "    .dataframe thead th {\n",
              "        text-align: right;\n",
              "    }\n",
              "</style>\n",
              "<table border=\"1\" class=\"dataframe\">\n",
              "  <thead>\n",
              "    <tr style=\"text-align: right;\">\n",
              "      <th></th>\n",
              "      <th>indonesia</th>\n",
              "      <th>matematika</th>\n",
              "      <th>pagi</th>\n",
              "      <th>selamat</th>\n",
              "      <th>uad</th>\n",
              "    </tr>\n",
              "  </thead>\n",
              "  <tbody>\n",
              "    <tr>\n",
              "      <th>Selamat Pagi Matematika UAD</th>\n",
              "      <td>0.000000</td>\n",
              "      <td>0.576152</td>\n",
              "      <td>0.409937</td>\n",
              "      <td>0.409937</td>\n",
              "      <td>0.576152</td>\n",
              "    </tr>\n",
              "    <tr>\n",
              "      <th>Selamat Pagi Indonesia</th>\n",
              "      <td>0.704909</td>\n",
              "      <td>0.000000</td>\n",
              "      <td>0.501549</td>\n",
              "      <td>0.501549</td>\n",
              "      <td>0.000000</td>\n",
              "    </tr>\n",
              "  </tbody>\n",
              "</table>\n",
              "</div>"
            ],
            "text/plain": [
              "                             indonesia  matematika  ...   selamat       uad\n",
              "Selamat Pagi Matematika UAD   0.000000    0.576152  ...  0.409937  0.576152\n",
              "Selamat Pagi Indonesia        0.704909    0.000000  ...  0.501549  0.000000\n",
              "\n",
              "[2 rows x 5 columns]"
            ]
          },
          "metadata": {},
          "execution_count": 50
        }
      ]
    },
    {
      "cell_type": "markdown",
      "metadata": {
        "id": "a7OPSDh5zTph"
      },
      "source": [
        "### Perbandingan dengan Scikit Learn Library"
      ]
    },
    {
      "cell_type": "markdown",
      "metadata": {
        "id": "KyrvIdAgzTpi"
      },
      "source": [
        "Sebenarnya, kita bisa menghasilkan matriks TFIDF dengan menggunakan Library Scikit Learn pada Class `TfidfVectorizer`"
      ]
    },
    {
      "cell_type": "code",
      "metadata": {
        "id": "JB_aKxLzzTpj",
        "colab": {
          "base_uri": "https://localhost:8080/",
          "height": 112
        },
        "outputId": "60ace7bf-36b4-4913-a74d-a072d972ffd9"
      },
      "source": [
        "from sklearn.feature_extraction.text import TfidfVectorizer\n",
        "\n",
        "vectorizer = TfidfVectorizer()\n",
        "\n",
        "corpus = ['Selamat Pagi Matematika UAD','Selamat Pagi Indonesia']\n",
        "\n",
        "X = vectorizer.fit_transform(corpus)\n",
        "\n",
        "df_TFIDF_SL = pd.DataFrame(X.toarray(), columns=vectorizer.get_feature_names(), index=corpus)\n",
        "df_TFIDF_SL"
      ],
      "execution_count": 51,
      "outputs": [
        {
          "output_type": "execute_result",
          "data": {
            "text/html": [
              "<div>\n",
              "<style scoped>\n",
              "    .dataframe tbody tr th:only-of-type {\n",
              "        vertical-align: middle;\n",
              "    }\n",
              "\n",
              "    .dataframe tbody tr th {\n",
              "        vertical-align: top;\n",
              "    }\n",
              "\n",
              "    .dataframe thead th {\n",
              "        text-align: right;\n",
              "    }\n",
              "</style>\n",
              "<table border=\"1\" class=\"dataframe\">\n",
              "  <thead>\n",
              "    <tr style=\"text-align: right;\">\n",
              "      <th></th>\n",
              "      <th>indonesia</th>\n",
              "      <th>matematika</th>\n",
              "      <th>pagi</th>\n",
              "      <th>selamat</th>\n",
              "      <th>uad</th>\n",
              "    </tr>\n",
              "  </thead>\n",
              "  <tbody>\n",
              "    <tr>\n",
              "      <th>Selamat Pagi Matematika UAD</th>\n",
              "      <td>0.000000</td>\n",
              "      <td>0.576152</td>\n",
              "      <td>0.409937</td>\n",
              "      <td>0.409937</td>\n",
              "      <td>0.576152</td>\n",
              "    </tr>\n",
              "    <tr>\n",
              "      <th>Selamat Pagi Indonesia</th>\n",
              "      <td>0.704909</td>\n",
              "      <td>0.000000</td>\n",
              "      <td>0.501549</td>\n",
              "      <td>0.501549</td>\n",
              "      <td>0.000000</td>\n",
              "    </tr>\n",
              "  </tbody>\n",
              "</table>\n",
              "</div>"
            ],
            "text/plain": [
              "                             indonesia  matematika  ...   selamat       uad\n",
              "Selamat Pagi Matematika UAD   0.000000    0.576152  ...  0.409937  0.576152\n",
              "Selamat Pagi Indonesia        0.704909    0.000000  ...  0.501549  0.000000\n",
              "\n",
              "[2 rows x 5 columns]"
            ]
          },
          "metadata": {},
          "execution_count": 51
        }
      ]
    },
    {
      "cell_type": "markdown",
      "metadata": {
        "id": "pi5dL3ayzTpk"
      },
      "source": [
        "Hasil fungsi yang kita buat dari dasar sama dengan `TfidfVectorizer` dari Library Scikit Learn"
      ]
    },
    {
      "cell_type": "markdown",
      "metadata": {
        "id": "p5kIALx03nrw"
      },
      "source": [
        "#LATIHAN"
      ]
    },
    {
      "cell_type": "code",
      "metadata": {
        "colab": {
          "base_uri": "https://localhost:8080/",
          "height": 424
        },
        "id": "T1pqmVp4CwFS",
        "outputId": "b94fb00b-8001-47b4-9458-c29fc604cf97"
      },
      "source": [
        "data=pd.read_excel('/content/dataset_tweet_sentiment_pilkada_DKI_2017.xlsx')\n",
        "data"
      ],
      "execution_count": 80,
      "outputs": [
        {
          "output_type": "execute_result",
          "data": {
            "text/html": [
              "<div>\n",
              "<style scoped>\n",
              "    .dataframe tbody tr th:only-of-type {\n",
              "        vertical-align: middle;\n",
              "    }\n",
              "\n",
              "    .dataframe tbody tr th {\n",
              "        vertical-align: top;\n",
              "    }\n",
              "\n",
              "    .dataframe thead th {\n",
              "        text-align: right;\n",
              "    }\n",
              "</style>\n",
              "<table border=\"1\" class=\"dataframe\">\n",
              "  <thead>\n",
              "    <tr style=\"text-align: right;\">\n",
              "      <th></th>\n",
              "      <th>Id</th>\n",
              "      <th>Sentiment</th>\n",
              "      <th>Pasangan Calon</th>\n",
              "      <th>Text Tweet</th>\n",
              "    </tr>\n",
              "  </thead>\n",
              "  <tbody>\n",
              "    <tr>\n",
              "      <th>0</th>\n",
              "      <td>1</td>\n",
              "      <td>negative</td>\n",
              "      <td>Agus-Sylvi</td>\n",
              "      <td>Banyak akun kloning seolah2 pendukung #agussil...</td>\n",
              "    </tr>\n",
              "    <tr>\n",
              "      <th>1</th>\n",
              "      <td>2</td>\n",
              "      <td>negative</td>\n",
              "      <td>Agus-Sylvi</td>\n",
              "      <td>#agussilvy bicara apa kasihan yaa...lap itu ai...</td>\n",
              "    </tr>\n",
              "    <tr>\n",
              "      <th>2</th>\n",
              "      <td>3</td>\n",
              "      <td>negative</td>\n",
              "      <td>Agus-Sylvi</td>\n",
              "      <td>Kalau aku sih gak nunggu hasil akhir QC tp lag...</td>\n",
              "    </tr>\n",
              "    <tr>\n",
              "      <th>3</th>\n",
              "      <td>4</td>\n",
              "      <td>negative</td>\n",
              "      <td>Agus-Sylvi</td>\n",
              "      <td>Kasian oh kasian dengan peluru 1milyar untuk t...</td>\n",
              "    </tr>\n",
              "    <tr>\n",
              "      <th>4</th>\n",
              "      <td>5</td>\n",
              "      <td>negative</td>\n",
              "      <td>Agus-Sylvi</td>\n",
              "      <td>Maaf ya pendukung #AgusSilvy..hayo dukung #Ani...</td>\n",
              "    </tr>\n",
              "    <tr>\n",
              "      <th>...</th>\n",
              "      <td>...</td>\n",
              "      <td>...</td>\n",
              "      <td>...</td>\n",
              "      <td>...</td>\n",
              "    </tr>\n",
              "    <tr>\n",
              "      <th>895</th>\n",
              "      <td>896</td>\n",
              "      <td>positive</td>\n",
              "      <td>Anies-Sandi</td>\n",
              "      <td>Kali saja bpk @aniesbaswedan @sandiuno lihat, ...</td>\n",
              "    </tr>\n",
              "    <tr>\n",
              "      <th>896</th>\n",
              "      <td>897</td>\n",
              "      <td>positive</td>\n",
              "      <td>Anies-Sandi</td>\n",
              "      <td>Kita harus dapat merangkul semua orang tanpa b...</td>\n",
              "    </tr>\n",
              "    <tr>\n",
              "      <th>897</th>\n",
              "      <td>898</td>\n",
              "      <td>positive</td>\n",
              "      <td>Anies-Sandi</td>\n",
              "      <td>Ini jagoanku dibidang digital &lt;Smiling Face Wi...</td>\n",
              "    </tr>\n",
              "    <tr>\n",
              "      <th>898</th>\n",
              "      <td>899</td>\n",
              "      <td>positive</td>\n",
              "      <td>Anies-Sandi</td>\n",
              "      <td>#PesanBijak #OkeOce #GubernurGu3 ...</td>\n",
              "    </tr>\n",
              "    <tr>\n",
              "      <th>899</th>\n",
              "      <td>900</td>\n",
              "      <td>positive</td>\n",
              "      <td>Anies-Sandi</td>\n",
              "      <td>Sandiaga: Bangun Rumah DP 0% Lebih Simpel Diba...</td>\n",
              "    </tr>\n",
              "  </tbody>\n",
              "</table>\n",
              "<p>900 rows × 4 columns</p>\n",
              "</div>"
            ],
            "text/plain": [
              "      Id  ...                                         Text Tweet\n",
              "0      1  ...  Banyak akun kloning seolah2 pendukung #agussil...\n",
              "1      2  ...  #agussilvy bicara apa kasihan yaa...lap itu ai...\n",
              "2      3  ...  Kalau aku sih gak nunggu hasil akhir QC tp lag...\n",
              "3      4  ...  Kasian oh kasian dengan peluru 1milyar untuk t...\n",
              "4      5  ...  Maaf ya pendukung #AgusSilvy..hayo dukung #Ani...\n",
              "..   ...  ...                                                ...\n",
              "895  896  ...  Kali saja bpk @aniesbaswedan @sandiuno lihat, ...\n",
              "896  897  ...  Kita harus dapat merangkul semua orang tanpa b...\n",
              "897  898  ...  Ini jagoanku dibidang digital <Smiling Face Wi...\n",
              "898  899  ...               #PesanBijak #OkeOce #GubernurGu3 ...\n",
              "899  900  ...  Sandiaga: Bangun Rumah DP 0% Lebih Simpel Diba...\n",
              "\n",
              "[900 rows x 4 columns]"
            ]
          },
          "metadata": {},
          "execution_count": 80
        }
      ]
    },
    {
      "cell_type": "code",
      "metadata": {
        "colab": {
          "base_uri": "https://localhost:8080/"
        },
        "id": "4AqLtyjZCzNX",
        "outputId": "dcdfff4b-89a6-4eba-a9e5-8b31e33e0efb"
      },
      "source": [
        "text1=data['Text Tweet']\n",
        "text1"
      ],
      "execution_count": 82,
      "outputs": [
        {
          "output_type": "execute_result",
          "data": {
            "text/plain": [
              "0      Banyak akun kloning seolah2 pendukung #agussil...\n",
              "1      #agussilvy bicara apa kasihan yaa...lap itu ai...\n",
              "2      Kalau aku sih gak nunggu hasil akhir QC tp lag...\n",
              "3      Kasian oh kasian dengan peluru 1milyar untuk t...\n",
              "4      Maaf ya pendukung #AgusSilvy..hayo dukung #Ani...\n",
              "                             ...                        \n",
              "895    Kali saja bpk @aniesbaswedan @sandiuno lihat, ...\n",
              "896    Kita harus dapat merangkul semua orang tanpa b...\n",
              "897    Ini jagoanku dibidang digital <Smiling Face Wi...\n",
              "898                 #PesanBijak #OkeOce #GubernurGu3 ...\n",
              "899    Sandiaga: Bangun Rumah DP 0% Lebih Simpel Diba...\n",
              "Name: Text Tweet, Length: 900, dtype: object"
            ]
          },
          "metadata": {},
          "execution_count": 82
        }
      ]
    },
    {
      "cell_type": "code",
      "metadata": {
        "id": "cEcQAbTkC5yE"
      },
      "source": [
        "import re, string, unicodedata\n",
        "def Case_Folding(text):\n",
        " # Hapus non-ascii\n",
        " text = unicodedata.normalize('NFKD', text).encode('ascii', 'ignore').decode('utf-8', 'ignore')\n",
        "\n",
        " # Menghapus Tanda Baca\n",
        " text = re.sub(r'[^\\w]|_',' ', text)\n",
        "\n",
        " # Menghapus Angka\n",
        " text = re.sub(\"\\S*\\d\\S*\", \"\", text).strip()\n",
        " text = re.sub(r\"\\b\\d+\\b\", \" \", text)\n",
        "\n",
        " # Mengubah text menjadi lowercase\n",
        " text = text.lower()\n",
        "\n",
        " # Menghapus white space\n",
        " text = re.sub('[\\s]+', ' ', text)\n",
        "\n",
        " return text"
      ],
      "execution_count": 83,
      "outputs": []
    },
    {
      "cell_type": "code",
      "metadata": {
        "colab": {
          "base_uri": "https://localhost:8080/"
        },
        "id": "VTtb8wJTDVFz",
        "outputId": "eb15d61b-fb54-49ac-821e-d50d99f7f1ab"
      },
      "source": [
        "!pip install nlp-id\n",
        "!pip install PySastrawi\n",
        "from nlp_id. lemmatizer import Lemmatizer\n",
        "from Sastrawi. Stemmer. StemmerFactory import StemmerFactory\n",
        "from nlp_id. stopword import StopWord\n",
        "import nltk\n",
        "from nltk import word_tokenize, sent_tokenize\n",
        "nltk. download('punkt' )\n",
        "\n",
        "def RemoveUnwantedwords(text):\n",
        " word_tokens = word_tokenize(text)\n",
        " filtered_sentence = [ word for word in word_tokens if not word in unwanted_words]\n",
        " return ' ' . join(filtered_sentence)\n",
        "\n",
        "stopword = StopWord()\n",
        "factory = StemmerFactory()\n",
        "stemmer = factory. create_stemmer()\n",
        "lemmatizer = Lemmatizer()"
      ],
      "execution_count": 85,
      "outputs": [
        {
          "output_type": "stream",
          "name": "stdout",
          "text": [
            "Requirement already satisfied: nlp-id in /usr/local/lib/python3.7/dist-packages (0.1.12.0)\n",
            "Requirement already satisfied: wget==3.2 in /usr/local/lib/python3.7/dist-packages (from nlp-id) (3.2)\n",
            "Requirement already satisfied: scikit-learn==0.22 in /usr/local/lib/python3.7/dist-packages (from nlp-id) (0.22)\n",
            "Requirement already satisfied: nltk==3.4.5 in /usr/local/lib/python3.7/dist-packages (from nlp-id) (3.4.5)\n",
            "Requirement already satisfied: six in /usr/local/lib/python3.7/dist-packages (from nltk==3.4.5->nlp-id) (1.15.0)\n",
            "Requirement already satisfied: joblib>=0.11 in /usr/local/lib/python3.7/dist-packages (from scikit-learn==0.22->nlp-id) (1.0.1)\n",
            "Requirement already satisfied: numpy>=1.11.0 in /usr/local/lib/python3.7/dist-packages (from scikit-learn==0.22->nlp-id) (1.19.5)\n",
            "Requirement already satisfied: scipy>=0.17.0 in /usr/local/lib/python3.7/dist-packages (from scikit-learn==0.22->nlp-id) (1.4.1)\n",
            "Requirement already satisfied: PySastrawi in /usr/local/lib/python3.7/dist-packages (1.2.0)\n"
          ]
        },
        {
          "output_type": "stream",
          "name": "stderr",
          "text": [
            "[nltk_data] Downloading package punkt to /root/nltk_data...\n",
            "[nltk_data]   Package punkt is already up-to-date!\n"
          ]
        }
      ]
    },
    {
      "cell_type": "code",
      "metadata": {
        "id": "zdY2_VnRDahm"
      },
      "source": [
        "\n",
        "def Slangwords(text):\n",
        " for word in text. split():\n",
        "  if word in slang_dict. keys():\n",
        "    text = text. replace(word, slang_dict[word])\n",
        "  return text"
      ],
      "execution_count": 86,
      "outputs": []
    },
    {
      "cell_type": "code",
      "metadata": {
        "id": "gvvmSLcRDeib"
      },
      "source": [
        "Hasil_Scrapping=pd.DataFrame({'text':data['Text Tweet']})"
      ],
      "execution_count": 91,
      "outputs": []
    },
    {
      "cell_type": "code",
      "metadata": {
        "id": "als-8moBDhIv"
      },
      "source": [
        "Hasil_Scrapping[['text']]\n",
        "for i, row in Hasil_Scrapping. iterrows():\n",
        " content = Hasil_Scrapping.text[i]\n",
        " result = Case_Folding(content)\n",
        " result = lemmatizer. lemmatize(result)\n",
        " result = stemmer. stem(result)\n",
        " #result = Slangwords(result)\n",
        " result = stopword. remove_stopword(result)\n",
        " #result = RemoveUnwantedwords(result)\n",
        " Hasil_Scrapping['text'][i] = result"
      ],
      "execution_count": 93,
      "outputs": []
    },
    {
      "cell_type": "markdown",
      "metadata": {
        "id": "6wkU5PAmDp9_"
      },
      "source": [
        "Implementasi dengan TF-IDF"
      ]
    },
    {
      "cell_type": "code",
      "metadata": {
        "colab": {
          "base_uri": "https://localhost:8080/",
          "height": 424
        },
        "id": "8clgJ_Z7Dlqx",
        "outputId": "c1fe2fe5-703e-458d-d6d7-fa143e627b37"
      },
      "source": [
        "Hasil_Scrapping"
      ],
      "execution_count": 94,
      "outputs": [
        {
          "output_type": "execute_result",
          "data": {
            "text/html": [
              "<div>\n",
              "<style scoped>\n",
              "    .dataframe tbody tr th:only-of-type {\n",
              "        vertical-align: middle;\n",
              "    }\n",
              "\n",
              "    .dataframe tbody tr th {\n",
              "        vertical-align: top;\n",
              "    }\n",
              "\n",
              "    .dataframe thead th {\n",
              "        text-align: right;\n",
              "    }\n",
              "</style>\n",
              "<table border=\"1\" class=\"dataframe\">\n",
              "  <thead>\n",
              "    <tr style=\"text-align: right;\">\n",
              "      <th></th>\n",
              "      <th>text</th>\n",
              "    </tr>\n",
              "  </thead>\n",
              "  <tbody>\n",
              "    <tr>\n",
              "      <th>0</th>\n",
              "      <td>akun kloning dukung agussilvy serang paslon an...</td>\n",
              "    </tr>\n",
              "    <tr>\n",
              "      <th>1</th>\n",
              "      <td>agussilvy bicara kasihan yaa lap air mata wkwk...</td>\n",
              "    </tr>\n",
              "    <tr>\n",
              "      <th>2</th>\n",
              "      <td>gak nunggu hasil qc tp nunggu motif cuit sbyud...</td>\n",
              "    </tr>\n",
              "    <tr>\n",
              "      <th>3</th>\n",
              "      <td>kasi oh kasi peluru rw agussilvy mempan menang...</td>\n",
              "    </tr>\n",
              "    <tr>\n",
              "      <th>4</th>\n",
              "      <td>maaf dukung agussilvy hayo dukung aniessandi p...</td>\n",
              "    </tr>\n",
              "    <tr>\n",
              "      <th>...</th>\n",
              "      <td>...</td>\n",
              "    </tr>\n",
              "    <tr>\n",
              "      <th>895</th>\n",
              "      <td>bpk aniesbaswedan sandiuno lihat rspun selfie ...</td>\n",
              "    </tr>\n",
              "    <tr>\n",
              "      <th>896</th>\n",
              "      <td>rangkul orang batas usia kelamin okeoce ok han...</td>\n",
              "    </tr>\n",
              "    <tr>\n",
              "      <th>897</th>\n",
              "      <td>jago bidang digital smiling face with sunglass...</td>\n",
              "    </tr>\n",
              "    <tr>\n",
              "      <th>898</th>\n",
              "      <td>pesanbijak okeoce</td>\n",
              "    </tr>\n",
              "    <tr>\n",
              "      <th>899</th>\n",
              "      <td>sandiaga bangun rumah dp simpel banding tol ci...</td>\n",
              "    </tr>\n",
              "  </tbody>\n",
              "</table>\n",
              "<p>900 rows × 1 columns</p>\n",
              "</div>"
            ],
            "text/plain": [
              "                                                  text\n",
              "0    akun kloning dukung agussilvy serang paslon an...\n",
              "1    agussilvy bicara kasihan yaa lap air mata wkwk...\n",
              "2    gak nunggu hasil qc tp nunggu motif cuit sbyud...\n",
              "3    kasi oh kasi peluru rw agussilvy mempan menang...\n",
              "4    maaf dukung agussilvy hayo dukung aniessandi p...\n",
              "..                                                 ...\n",
              "895  bpk aniesbaswedan sandiuno lihat rspun selfie ...\n",
              "896  rangkul orang batas usia kelamin okeoce ok han...\n",
              "897  jago bidang digital smiling face with sunglass...\n",
              "898                                  pesanbijak okeoce\n",
              "899  sandiaga bangun rumah dp simpel banding tol ci...\n",
              "\n",
              "[900 rows x 1 columns]"
            ]
          },
          "metadata": {},
          "execution_count": 94
        }
      ]
    },
    {
      "cell_type": "code",
      "metadata": {
        "colab": {
          "base_uri": "https://localhost:8080/",
          "height": 998
        },
        "id": "IJfSTK0YGeM1",
        "outputId": "da88bd77-0a91-4340-eb6d-49315a091ae9"
      },
      "source": [
        "df_TF_IDF_Imp=TF_IDF(Hasil_Scrapping)\n",
        "df_TF_IDF_Imp"
      ],
      "execution_count": 95,
      "outputs": [
        {
          "output_type": "execute_result",
          "data": {
            "text/html": [
              "<div>\n",
              "<style scoped>\n",
              "    .dataframe tbody tr th:only-of-type {\n",
              "        vertical-align: middle;\n",
              "    }\n",
              "\n",
              "    .dataframe tbody tr th {\n",
              "        vertical-align: top;\n",
              "    }\n",
              "\n",
              "    .dataframe thead th {\n",
              "        text-align: right;\n",
              "    }\n",
              "</style>\n",
              "<table border=\"1\" class=\"dataframe\">\n",
              "  <thead>\n",
              "    <tr style=\"text-align: right;\">\n",
              "      <th></th>\n",
              "      <th>a</th>\n",
              "      <th>aa</th>\n",
              "      <th>aagym</th>\n",
              "      <th>aamiin</th>\n",
              "      <th>abaaah</th>\n",
              "      <th>abal</th>\n",
              "      <th>abang</th>\n",
              "      <th>abdi</th>\n",
              "      <th>abis</th>\n",
              "      <th>absurd</th>\n",
              "      <th>abunawas</th>\n",
              "      <th>aburizal</th>\n",
              "      <th>abused</th>\n",
              "      <th>acara</th>\n",
              "      <th>acu</th>\n",
              "      <th>adaaqua</th>\n",
              "      <th>adalahkita</th>\n",
              "      <th>addiems</th>\n",
              "      <th>adekku</th>\n",
              "      <th>adil</th>\n",
              "      <th>adjierimbawan</th>\n",
              "      <th>adjrot</th>\n",
              "      <th>agam</th>\n",
              "      <th>agama</th>\n",
              "      <th>agus</th>\n",
              "      <th>agusharimurtiyudhoyono</th>\n",
              "      <th>agussilvy</th>\n",
              "      <th>agussylvi</th>\n",
              "      <th>agusyudhoyono</th>\n",
              "      <th>ah</th>\n",
              "      <th>aher</th>\n",
              "      <th>ahhhh</th>\n",
              "      <th>ahli</th>\n",
              "      <th>ahmadfuadanwar</th>\n",
              "      <th>ahok</th>\n",
              "      <th>ahokbtp</th>\n",
              "      <th>ahokdicintairakyat</th>\n",
              "      <th>ahokdjarot</th>\n",
              "      <th>ahokdjarota</th>\n",
              "      <th>ahokdjarotdirosi</th>\n",
              "      <th>...</th>\n",
              "      <th>wingstourinjakarta</th>\n",
              "      <th>wirausaha</th>\n",
              "      <th>wisata</th>\n",
              "      <th>wisdom</th>\n",
              "      <th>with</th>\n",
              "      <th>without</th>\n",
              "      <th>wkkwwkkwk</th>\n",
              "      <th>wkwkwk</th>\n",
              "      <th>wkwkwkwk</th>\n",
              "      <th>wkwkwkwkkwkk</th>\n",
              "      <th>wpap</th>\n",
              "      <th>wujud</th>\n",
              "      <th>x</th>\n",
              "      <th>y</th>\n",
              "      <th>yaa</th>\n",
              "      <th>yaaa</th>\n",
              "      <th>yaaaa</th>\n",
              "      <th>yah</th>\n",
              "      <th>yahudi</th>\n",
              "      <th>yak</th>\n",
              "      <th>yangbikinberantem</th>\n",
              "      <th>ye</th>\n",
              "      <th>yee</th>\n",
              "      <th>yep</th>\n",
              "      <th>yes</th>\n",
              "      <th>yme</th>\n",
              "      <th>ynwa</th>\n",
              "      <th>yogia</th>\n",
              "      <th>youtu</th>\n",
              "      <th>youtube</th>\n",
              "      <th>yra</th>\n",
              "      <th>yudhoyono</th>\n",
              "      <th>yuk</th>\n",
              "      <th>yusuf</th>\n",
              "      <th>zalim</th>\n",
              "      <th>zaraz</th>\n",
              "      <th>zarazettirazr</th>\n",
              "      <th>zarazettirazz</th>\n",
              "      <th>zipper</th>\n",
              "      <th>zona</th>\n",
              "    </tr>\n",
              "  </thead>\n",
              "  <tbody>\n",
              "    <tr>\n",
              "      <th>akun kloning dukung agussilvy serang paslon aniessandi opini argumen pmbenaran kecoh</th>\n",
              "      <td>0.0</td>\n",
              "      <td>0.0</td>\n",
              "      <td>0.0</td>\n",
              "      <td>0.0</td>\n",
              "      <td>0.0</td>\n",
              "      <td>0.0</td>\n",
              "      <td>0.0</td>\n",
              "      <td>0.0</td>\n",
              "      <td>0.0</td>\n",
              "      <td>0.0</td>\n",
              "      <td>0.0</td>\n",
              "      <td>0.0</td>\n",
              "      <td>0.0</td>\n",
              "      <td>0.0</td>\n",
              "      <td>0.0</td>\n",
              "      <td>0.0</td>\n",
              "      <td>0.0</td>\n",
              "      <td>0.0</td>\n",
              "      <td>0.0</td>\n",
              "      <td>0.0</td>\n",
              "      <td>0.0</td>\n",
              "      <td>0.0</td>\n",
              "      <td>0.0</td>\n",
              "      <td>0.0</td>\n",
              "      <td>0.0</td>\n",
              "      <td>0.0</td>\n",
              "      <td>0.246002</td>\n",
              "      <td>0.0</td>\n",
              "      <td>0.0</td>\n",
              "      <td>0.0</td>\n",
              "      <td>0.0</td>\n",
              "      <td>0.0</td>\n",
              "      <td>0.0</td>\n",
              "      <td>0.0</td>\n",
              "      <td>0.0</td>\n",
              "      <td>0.0</td>\n",
              "      <td>0.0</td>\n",
              "      <td>0.0</td>\n",
              "      <td>0.0</td>\n",
              "      <td>0.0</td>\n",
              "      <td>...</td>\n",
              "      <td>0.0</td>\n",
              "      <td>0.0</td>\n",
              "      <td>0.0</td>\n",
              "      <td>0.0</td>\n",
              "      <td>0.000000</td>\n",
              "      <td>0.0</td>\n",
              "      <td>0.0</td>\n",
              "      <td>0.0</td>\n",
              "      <td>0.000000</td>\n",
              "      <td>0.0</td>\n",
              "      <td>0.0</td>\n",
              "      <td>0.0</td>\n",
              "      <td>0.0</td>\n",
              "      <td>0.0</td>\n",
              "      <td>0.000000</td>\n",
              "      <td>0.0</td>\n",
              "      <td>0.0</td>\n",
              "      <td>0.0</td>\n",
              "      <td>0.0</td>\n",
              "      <td>0.0</td>\n",
              "      <td>0.0</td>\n",
              "      <td>0.0</td>\n",
              "      <td>0.0</td>\n",
              "      <td>0.0</td>\n",
              "      <td>0.0</td>\n",
              "      <td>0.0</td>\n",
              "      <td>0.0</td>\n",
              "      <td>0.0</td>\n",
              "      <td>0.0</td>\n",
              "      <td>0.0</td>\n",
              "      <td>0.0</td>\n",
              "      <td>0.0</td>\n",
              "      <td>0.0</td>\n",
              "      <td>0.0</td>\n",
              "      <td>0.0</td>\n",
              "      <td>0.0</td>\n",
              "      <td>0.0</td>\n",
              "      <td>0.0</td>\n",
              "      <td>0.0</td>\n",
              "      <td>0.0</td>\n",
              "    </tr>\n",
              "    <tr>\n",
              "      <th>agussilvy bicara kasihan yaa lap air mata wkwkwkwk</th>\n",
              "      <td>0.0</td>\n",
              "      <td>0.0</td>\n",
              "      <td>0.0</td>\n",
              "      <td>0.0</td>\n",
              "      <td>0.0</td>\n",
              "      <td>0.0</td>\n",
              "      <td>0.0</td>\n",
              "      <td>0.0</td>\n",
              "      <td>0.0</td>\n",
              "      <td>0.0</td>\n",
              "      <td>0.0</td>\n",
              "      <td>0.0</td>\n",
              "      <td>0.0</td>\n",
              "      <td>0.0</td>\n",
              "      <td>0.0</td>\n",
              "      <td>0.0</td>\n",
              "      <td>0.0</td>\n",
              "      <td>0.0</td>\n",
              "      <td>0.0</td>\n",
              "      <td>0.0</td>\n",
              "      <td>0.0</td>\n",
              "      <td>0.0</td>\n",
              "      <td>0.0</td>\n",
              "      <td>0.0</td>\n",
              "      <td>0.0</td>\n",
              "      <td>0.0</td>\n",
              "      <td>0.280960</td>\n",
              "      <td>0.0</td>\n",
              "      <td>0.0</td>\n",
              "      <td>0.0</td>\n",
              "      <td>0.0</td>\n",
              "      <td>0.0</td>\n",
              "      <td>0.0</td>\n",
              "      <td>0.0</td>\n",
              "      <td>0.0</td>\n",
              "      <td>0.0</td>\n",
              "      <td>0.0</td>\n",
              "      <td>0.0</td>\n",
              "      <td>0.0</td>\n",
              "      <td>0.0</td>\n",
              "      <td>...</td>\n",
              "      <td>0.0</td>\n",
              "      <td>0.0</td>\n",
              "      <td>0.0</td>\n",
              "      <td>0.0</td>\n",
              "      <td>0.000000</td>\n",
              "      <td>0.0</td>\n",
              "      <td>0.0</td>\n",
              "      <td>0.0</td>\n",
              "      <td>0.411134</td>\n",
              "      <td>0.0</td>\n",
              "      <td>0.0</td>\n",
              "      <td>0.0</td>\n",
              "      <td>0.0</td>\n",
              "      <td>0.0</td>\n",
              "      <td>0.338697</td>\n",
              "      <td>0.0</td>\n",
              "      <td>0.0</td>\n",
              "      <td>0.0</td>\n",
              "      <td>0.0</td>\n",
              "      <td>0.0</td>\n",
              "      <td>0.0</td>\n",
              "      <td>0.0</td>\n",
              "      <td>0.0</td>\n",
              "      <td>0.0</td>\n",
              "      <td>0.0</td>\n",
              "      <td>0.0</td>\n",
              "      <td>0.0</td>\n",
              "      <td>0.0</td>\n",
              "      <td>0.0</td>\n",
              "      <td>0.0</td>\n",
              "      <td>0.0</td>\n",
              "      <td>0.0</td>\n",
              "      <td>0.0</td>\n",
              "      <td>0.0</td>\n",
              "      <td>0.0</td>\n",
              "      <td>0.0</td>\n",
              "      <td>0.0</td>\n",
              "      <td>0.0</td>\n",
              "      <td>0.0</td>\n",
              "      <td>0.0</td>\n",
              "    </tr>\n",
              "    <tr>\n",
              "      <th>gak nunggu hasil qc tp nunggu motif cuit sbyudhoyono kayak pasca agussilvy nyungsep</th>\n",
              "      <td>0.0</td>\n",
              "      <td>0.0</td>\n",
              "      <td>0.0</td>\n",
              "      <td>0.0</td>\n",
              "      <td>0.0</td>\n",
              "      <td>0.0</td>\n",
              "      <td>0.0</td>\n",
              "      <td>0.0</td>\n",
              "      <td>0.0</td>\n",
              "      <td>0.0</td>\n",
              "      <td>0.0</td>\n",
              "      <td>0.0</td>\n",
              "      <td>0.0</td>\n",
              "      <td>0.0</td>\n",
              "      <td>0.0</td>\n",
              "      <td>0.0</td>\n",
              "      <td>0.0</td>\n",
              "      <td>0.0</td>\n",
              "      <td>0.0</td>\n",
              "      <td>0.0</td>\n",
              "      <td>0.0</td>\n",
              "      <td>0.0</td>\n",
              "      <td>0.0</td>\n",
              "      <td>0.0</td>\n",
              "      <td>0.0</td>\n",
              "      <td>0.0</td>\n",
              "      <td>0.233129</td>\n",
              "      <td>0.0</td>\n",
              "      <td>0.0</td>\n",
              "      <td>0.0</td>\n",
              "      <td>0.0</td>\n",
              "      <td>0.0</td>\n",
              "      <td>0.0</td>\n",
              "      <td>0.0</td>\n",
              "      <td>0.0</td>\n",
              "      <td>0.0</td>\n",
              "      <td>0.0</td>\n",
              "      <td>0.0</td>\n",
              "      <td>0.0</td>\n",
              "      <td>0.0</td>\n",
              "      <td>...</td>\n",
              "      <td>0.0</td>\n",
              "      <td>0.0</td>\n",
              "      <td>0.0</td>\n",
              "      <td>0.0</td>\n",
              "      <td>0.000000</td>\n",
              "      <td>0.0</td>\n",
              "      <td>0.0</td>\n",
              "      <td>0.0</td>\n",
              "      <td>0.000000</td>\n",
              "      <td>0.0</td>\n",
              "      <td>0.0</td>\n",
              "      <td>0.0</td>\n",
              "      <td>0.0</td>\n",
              "      <td>0.0</td>\n",
              "      <td>0.000000</td>\n",
              "      <td>0.0</td>\n",
              "      <td>0.0</td>\n",
              "      <td>0.0</td>\n",
              "      <td>0.0</td>\n",
              "      <td>0.0</td>\n",
              "      <td>0.0</td>\n",
              "      <td>0.0</td>\n",
              "      <td>0.0</td>\n",
              "      <td>0.0</td>\n",
              "      <td>0.0</td>\n",
              "      <td>0.0</td>\n",
              "      <td>0.0</td>\n",
              "      <td>0.0</td>\n",
              "      <td>0.0</td>\n",
              "      <td>0.0</td>\n",
              "      <td>0.0</td>\n",
              "      <td>0.0</td>\n",
              "      <td>0.0</td>\n",
              "      <td>0.0</td>\n",
              "      <td>0.0</td>\n",
              "      <td>0.0</td>\n",
              "      <td>0.0</td>\n",
              "      <td>0.0</td>\n",
              "      <td>0.0</td>\n",
              "      <td>0.0</td>\n",
              "    </tr>\n",
              "    <tr>\n",
              "      <th>kasi oh kasi peluru rw agussilvy mempan menangin pilkada quickcount</th>\n",
              "      <td>0.0</td>\n",
              "      <td>0.0</td>\n",
              "      <td>0.0</td>\n",
              "      <td>0.0</td>\n",
              "      <td>0.0</td>\n",
              "      <td>0.0</td>\n",
              "      <td>0.0</td>\n",
              "      <td>0.0</td>\n",
              "      <td>0.0</td>\n",
              "      <td>0.0</td>\n",
              "      <td>0.0</td>\n",
              "      <td>0.0</td>\n",
              "      <td>0.0</td>\n",
              "      <td>0.0</td>\n",
              "      <td>0.0</td>\n",
              "      <td>0.0</td>\n",
              "      <td>0.0</td>\n",
              "      <td>0.0</td>\n",
              "      <td>0.0</td>\n",
              "      <td>0.0</td>\n",
              "      <td>0.0</td>\n",
              "      <td>0.0</td>\n",
              "      <td>0.0</td>\n",
              "      <td>0.0</td>\n",
              "      <td>0.0</td>\n",
              "      <td>0.0</td>\n",
              "      <td>0.260307</td>\n",
              "      <td>0.0</td>\n",
              "      <td>0.0</td>\n",
              "      <td>0.0</td>\n",
              "      <td>0.0</td>\n",
              "      <td>0.0</td>\n",
              "      <td>0.0</td>\n",
              "      <td>0.0</td>\n",
              "      <td>0.0</td>\n",
              "      <td>0.0</td>\n",
              "      <td>0.0</td>\n",
              "      <td>0.0</td>\n",
              "      <td>0.0</td>\n",
              "      <td>0.0</td>\n",
              "      <td>...</td>\n",
              "      <td>0.0</td>\n",
              "      <td>0.0</td>\n",
              "      <td>0.0</td>\n",
              "      <td>0.0</td>\n",
              "      <td>0.000000</td>\n",
              "      <td>0.0</td>\n",
              "      <td>0.0</td>\n",
              "      <td>0.0</td>\n",
              "      <td>0.000000</td>\n",
              "      <td>0.0</td>\n",
              "      <td>0.0</td>\n",
              "      <td>0.0</td>\n",
              "      <td>0.0</td>\n",
              "      <td>0.0</td>\n",
              "      <td>0.000000</td>\n",
              "      <td>0.0</td>\n",
              "      <td>0.0</td>\n",
              "      <td>0.0</td>\n",
              "      <td>0.0</td>\n",
              "      <td>0.0</td>\n",
              "      <td>0.0</td>\n",
              "      <td>0.0</td>\n",
              "      <td>0.0</td>\n",
              "      <td>0.0</td>\n",
              "      <td>0.0</td>\n",
              "      <td>0.0</td>\n",
              "      <td>0.0</td>\n",
              "      <td>0.0</td>\n",
              "      <td>0.0</td>\n",
              "      <td>0.0</td>\n",
              "      <td>0.0</td>\n",
              "      <td>0.0</td>\n",
              "      <td>0.0</td>\n",
              "      <td>0.0</td>\n",
              "      <td>0.0</td>\n",
              "      <td>0.0</td>\n",
              "      <td>0.0</td>\n",
              "      <td>0.0</td>\n",
              "      <td>0.0</td>\n",
              "      <td>0.0</td>\n",
              "    </tr>\n",
              "    <tr>\n",
              "      <th>maaf dukung agussilvy hayo dukung aniessandi putar ronavioleta netizentofa</th>\n",
              "      <td>0.0</td>\n",
              "      <td>0.0</td>\n",
              "      <td>0.0</td>\n",
              "      <td>0.0</td>\n",
              "      <td>0.0</td>\n",
              "      <td>0.0</td>\n",
              "      <td>0.0</td>\n",
              "      <td>0.0</td>\n",
              "      <td>0.0</td>\n",
              "      <td>0.0</td>\n",
              "      <td>0.0</td>\n",
              "      <td>0.0</td>\n",
              "      <td>0.0</td>\n",
              "      <td>0.0</td>\n",
              "      <td>0.0</td>\n",
              "      <td>0.0</td>\n",
              "      <td>0.0</td>\n",
              "      <td>0.0</td>\n",
              "      <td>0.0</td>\n",
              "      <td>0.0</td>\n",
              "      <td>0.0</td>\n",
              "      <td>0.0</td>\n",
              "      <td>0.0</td>\n",
              "      <td>0.0</td>\n",
              "      <td>0.0</td>\n",
              "      <td>0.0</td>\n",
              "      <td>0.308951</td>\n",
              "      <td>0.0</td>\n",
              "      <td>0.0</td>\n",
              "      <td>0.0</td>\n",
              "      <td>0.0</td>\n",
              "      <td>0.0</td>\n",
              "      <td>0.0</td>\n",
              "      <td>0.0</td>\n",
              "      <td>0.0</td>\n",
              "      <td>0.0</td>\n",
              "      <td>0.0</td>\n",
              "      <td>0.0</td>\n",
              "      <td>0.0</td>\n",
              "      <td>0.0</td>\n",
              "      <td>...</td>\n",
              "      <td>0.0</td>\n",
              "      <td>0.0</td>\n",
              "      <td>0.0</td>\n",
              "      <td>0.0</td>\n",
              "      <td>0.000000</td>\n",
              "      <td>0.0</td>\n",
              "      <td>0.0</td>\n",
              "      <td>0.0</td>\n",
              "      <td>0.000000</td>\n",
              "      <td>0.0</td>\n",
              "      <td>0.0</td>\n",
              "      <td>0.0</td>\n",
              "      <td>0.0</td>\n",
              "      <td>0.0</td>\n",
              "      <td>0.000000</td>\n",
              "      <td>0.0</td>\n",
              "      <td>0.0</td>\n",
              "      <td>0.0</td>\n",
              "      <td>0.0</td>\n",
              "      <td>0.0</td>\n",
              "      <td>0.0</td>\n",
              "      <td>0.0</td>\n",
              "      <td>0.0</td>\n",
              "      <td>0.0</td>\n",
              "      <td>0.0</td>\n",
              "      <td>0.0</td>\n",
              "      <td>0.0</td>\n",
              "      <td>0.0</td>\n",
              "      <td>0.0</td>\n",
              "      <td>0.0</td>\n",
              "      <td>0.0</td>\n",
              "      <td>0.0</td>\n",
              "      <td>0.0</td>\n",
              "      <td>0.0</td>\n",
              "      <td>0.0</td>\n",
              "      <td>0.0</td>\n",
              "      <td>0.0</td>\n",
              "      <td>0.0</td>\n",
              "      <td>0.0</td>\n",
              "      <td>0.0</td>\n",
              "    </tr>\n",
              "    <tr>\n",
              "      <th>...</th>\n",
              "      <td>...</td>\n",
              "      <td>...</td>\n",
              "      <td>...</td>\n",
              "      <td>...</td>\n",
              "      <td>...</td>\n",
              "      <td>...</td>\n",
              "      <td>...</td>\n",
              "      <td>...</td>\n",
              "      <td>...</td>\n",
              "      <td>...</td>\n",
              "      <td>...</td>\n",
              "      <td>...</td>\n",
              "      <td>...</td>\n",
              "      <td>...</td>\n",
              "      <td>...</td>\n",
              "      <td>...</td>\n",
              "      <td>...</td>\n",
              "      <td>...</td>\n",
              "      <td>...</td>\n",
              "      <td>...</td>\n",
              "      <td>...</td>\n",
              "      <td>...</td>\n",
              "      <td>...</td>\n",
              "      <td>...</td>\n",
              "      <td>...</td>\n",
              "      <td>...</td>\n",
              "      <td>...</td>\n",
              "      <td>...</td>\n",
              "      <td>...</td>\n",
              "      <td>...</td>\n",
              "      <td>...</td>\n",
              "      <td>...</td>\n",
              "      <td>...</td>\n",
              "      <td>...</td>\n",
              "      <td>...</td>\n",
              "      <td>...</td>\n",
              "      <td>...</td>\n",
              "      <td>...</td>\n",
              "      <td>...</td>\n",
              "      <td>...</td>\n",
              "      <td>...</td>\n",
              "      <td>...</td>\n",
              "      <td>...</td>\n",
              "      <td>...</td>\n",
              "      <td>...</td>\n",
              "      <td>...</td>\n",
              "      <td>...</td>\n",
              "      <td>...</td>\n",
              "      <td>...</td>\n",
              "      <td>...</td>\n",
              "      <td>...</td>\n",
              "      <td>...</td>\n",
              "      <td>...</td>\n",
              "      <td>...</td>\n",
              "      <td>...</td>\n",
              "      <td>...</td>\n",
              "      <td>...</td>\n",
              "      <td>...</td>\n",
              "      <td>...</td>\n",
              "      <td>...</td>\n",
              "      <td>...</td>\n",
              "      <td>...</td>\n",
              "      <td>...</td>\n",
              "      <td>...</td>\n",
              "      <td>...</td>\n",
              "      <td>...</td>\n",
              "      <td>...</td>\n",
              "      <td>...</td>\n",
              "      <td>...</td>\n",
              "      <td>...</td>\n",
              "      <td>...</td>\n",
              "      <td>...</td>\n",
              "      <td>...</td>\n",
              "      <td>...</td>\n",
              "      <td>...</td>\n",
              "      <td>...</td>\n",
              "      <td>...</td>\n",
              "      <td>...</td>\n",
              "      <td>...</td>\n",
              "      <td>...</td>\n",
              "      <td>...</td>\n",
              "    </tr>\n",
              "    <tr>\n",
              "      <th>bpk aniesbaswedan sandiuno lihat rspun selfie okeoce ok hand debatpilkadadki ahokpanikahokkalah</th>\n",
              "      <td>0.0</td>\n",
              "      <td>0.0</td>\n",
              "      <td>0.0</td>\n",
              "      <td>0.0</td>\n",
              "      <td>0.0</td>\n",
              "      <td>0.0</td>\n",
              "      <td>0.0</td>\n",
              "      <td>0.0</td>\n",
              "      <td>0.0</td>\n",
              "      <td>0.0</td>\n",
              "      <td>0.0</td>\n",
              "      <td>0.0</td>\n",
              "      <td>0.0</td>\n",
              "      <td>0.0</td>\n",
              "      <td>0.0</td>\n",
              "      <td>0.0</td>\n",
              "      <td>0.0</td>\n",
              "      <td>0.0</td>\n",
              "      <td>0.0</td>\n",
              "      <td>0.0</td>\n",
              "      <td>0.0</td>\n",
              "      <td>0.0</td>\n",
              "      <td>0.0</td>\n",
              "      <td>0.0</td>\n",
              "      <td>0.0</td>\n",
              "      <td>0.0</td>\n",
              "      <td>0.000000</td>\n",
              "      <td>0.0</td>\n",
              "      <td>0.0</td>\n",
              "      <td>0.0</td>\n",
              "      <td>0.0</td>\n",
              "      <td>0.0</td>\n",
              "      <td>0.0</td>\n",
              "      <td>0.0</td>\n",
              "      <td>0.0</td>\n",
              "      <td>0.0</td>\n",
              "      <td>0.0</td>\n",
              "      <td>0.0</td>\n",
              "      <td>0.0</td>\n",
              "      <td>0.0</td>\n",
              "      <td>...</td>\n",
              "      <td>0.0</td>\n",
              "      <td>0.0</td>\n",
              "      <td>0.0</td>\n",
              "      <td>0.0</td>\n",
              "      <td>0.000000</td>\n",
              "      <td>0.0</td>\n",
              "      <td>0.0</td>\n",
              "      <td>0.0</td>\n",
              "      <td>0.000000</td>\n",
              "      <td>0.0</td>\n",
              "      <td>0.0</td>\n",
              "      <td>0.0</td>\n",
              "      <td>0.0</td>\n",
              "      <td>0.0</td>\n",
              "      <td>0.000000</td>\n",
              "      <td>0.0</td>\n",
              "      <td>0.0</td>\n",
              "      <td>0.0</td>\n",
              "      <td>0.0</td>\n",
              "      <td>0.0</td>\n",
              "      <td>0.0</td>\n",
              "      <td>0.0</td>\n",
              "      <td>0.0</td>\n",
              "      <td>0.0</td>\n",
              "      <td>0.0</td>\n",
              "      <td>0.0</td>\n",
              "      <td>0.0</td>\n",
              "      <td>0.0</td>\n",
              "      <td>0.0</td>\n",
              "      <td>0.0</td>\n",
              "      <td>0.0</td>\n",
              "      <td>0.0</td>\n",
              "      <td>0.0</td>\n",
              "      <td>0.0</td>\n",
              "      <td>0.0</td>\n",
              "      <td>0.0</td>\n",
              "      <td>0.0</td>\n",
              "      <td>0.0</td>\n",
              "      <td>0.0</td>\n",
              "      <td>0.0</td>\n",
              "    </tr>\n",
              "    <tr>\n",
              "      <th>rangkul orang batas usia kelamin okeoce ok hand salambersama pks temanahok victory hand</th>\n",
              "      <td>0.0</td>\n",
              "      <td>0.0</td>\n",
              "      <td>0.0</td>\n",
              "      <td>0.0</td>\n",
              "      <td>0.0</td>\n",
              "      <td>0.0</td>\n",
              "      <td>0.0</td>\n",
              "      <td>0.0</td>\n",
              "      <td>0.0</td>\n",
              "      <td>0.0</td>\n",
              "      <td>0.0</td>\n",
              "      <td>0.0</td>\n",
              "      <td>0.0</td>\n",
              "      <td>0.0</td>\n",
              "      <td>0.0</td>\n",
              "      <td>0.0</td>\n",
              "      <td>0.0</td>\n",
              "      <td>0.0</td>\n",
              "      <td>0.0</td>\n",
              "      <td>0.0</td>\n",
              "      <td>0.0</td>\n",
              "      <td>0.0</td>\n",
              "      <td>0.0</td>\n",
              "      <td>0.0</td>\n",
              "      <td>0.0</td>\n",
              "      <td>0.0</td>\n",
              "      <td>0.000000</td>\n",
              "      <td>0.0</td>\n",
              "      <td>0.0</td>\n",
              "      <td>0.0</td>\n",
              "      <td>0.0</td>\n",
              "      <td>0.0</td>\n",
              "      <td>0.0</td>\n",
              "      <td>0.0</td>\n",
              "      <td>0.0</td>\n",
              "      <td>0.0</td>\n",
              "      <td>0.0</td>\n",
              "      <td>0.0</td>\n",
              "      <td>0.0</td>\n",
              "      <td>0.0</td>\n",
              "      <td>...</td>\n",
              "      <td>0.0</td>\n",
              "      <td>0.0</td>\n",
              "      <td>0.0</td>\n",
              "      <td>0.0</td>\n",
              "      <td>0.000000</td>\n",
              "      <td>0.0</td>\n",
              "      <td>0.0</td>\n",
              "      <td>0.0</td>\n",
              "      <td>0.000000</td>\n",
              "      <td>0.0</td>\n",
              "      <td>0.0</td>\n",
              "      <td>0.0</td>\n",
              "      <td>0.0</td>\n",
              "      <td>0.0</td>\n",
              "      <td>0.000000</td>\n",
              "      <td>0.0</td>\n",
              "      <td>0.0</td>\n",
              "      <td>0.0</td>\n",
              "      <td>0.0</td>\n",
              "      <td>0.0</td>\n",
              "      <td>0.0</td>\n",
              "      <td>0.0</td>\n",
              "      <td>0.0</td>\n",
              "      <td>0.0</td>\n",
              "      <td>0.0</td>\n",
              "      <td>0.0</td>\n",
              "      <td>0.0</td>\n",
              "      <td>0.0</td>\n",
              "      <td>0.0</td>\n",
              "      <td>0.0</td>\n",
              "      <td>0.0</td>\n",
              "      <td>0.0</td>\n",
              "      <td>0.0</td>\n",
              "      <td>0.0</td>\n",
              "      <td>0.0</td>\n",
              "      <td>0.0</td>\n",
              "      <td>0.0</td>\n",
              "      <td>0.0</td>\n",
              "      <td>0.0</td>\n",
              "      <td>0.0</td>\n",
              "    </tr>\n",
              "    <tr>\n",
              "      <th>jago bidang digital smiling face with sunglasses ok hand thonyleong com okeoce salambersama</th>\n",
              "      <td>0.0</td>\n",
              "      <td>0.0</td>\n",
              "      <td>0.0</td>\n",
              "      <td>0.0</td>\n",
              "      <td>0.0</td>\n",
              "      <td>0.0</td>\n",
              "      <td>0.0</td>\n",
              "      <td>0.0</td>\n",
              "      <td>0.0</td>\n",
              "      <td>0.0</td>\n",
              "      <td>0.0</td>\n",
              "      <td>0.0</td>\n",
              "      <td>0.0</td>\n",
              "      <td>0.0</td>\n",
              "      <td>0.0</td>\n",
              "      <td>0.0</td>\n",
              "      <td>0.0</td>\n",
              "      <td>0.0</td>\n",
              "      <td>0.0</td>\n",
              "      <td>0.0</td>\n",
              "      <td>0.0</td>\n",
              "      <td>0.0</td>\n",
              "      <td>0.0</td>\n",
              "      <td>0.0</td>\n",
              "      <td>0.0</td>\n",
              "      <td>0.0</td>\n",
              "      <td>0.000000</td>\n",
              "      <td>0.0</td>\n",
              "      <td>0.0</td>\n",
              "      <td>0.0</td>\n",
              "      <td>0.0</td>\n",
              "      <td>0.0</td>\n",
              "      <td>0.0</td>\n",
              "      <td>0.0</td>\n",
              "      <td>0.0</td>\n",
              "      <td>0.0</td>\n",
              "      <td>0.0</td>\n",
              "      <td>0.0</td>\n",
              "      <td>0.0</td>\n",
              "      <td>0.0</td>\n",
              "      <td>...</td>\n",
              "      <td>0.0</td>\n",
              "      <td>0.0</td>\n",
              "      <td>0.0</td>\n",
              "      <td>0.0</td>\n",
              "      <td>0.202916</td>\n",
              "      <td>0.0</td>\n",
              "      <td>0.0</td>\n",
              "      <td>0.0</td>\n",
              "      <td>0.000000</td>\n",
              "      <td>0.0</td>\n",
              "      <td>0.0</td>\n",
              "      <td>0.0</td>\n",
              "      <td>0.0</td>\n",
              "      <td>0.0</td>\n",
              "      <td>0.000000</td>\n",
              "      <td>0.0</td>\n",
              "      <td>0.0</td>\n",
              "      <td>0.0</td>\n",
              "      <td>0.0</td>\n",
              "      <td>0.0</td>\n",
              "      <td>0.0</td>\n",
              "      <td>0.0</td>\n",
              "      <td>0.0</td>\n",
              "      <td>0.0</td>\n",
              "      <td>0.0</td>\n",
              "      <td>0.0</td>\n",
              "      <td>0.0</td>\n",
              "      <td>0.0</td>\n",
              "      <td>0.0</td>\n",
              "      <td>0.0</td>\n",
              "      <td>0.0</td>\n",
              "      <td>0.0</td>\n",
              "      <td>0.0</td>\n",
              "      <td>0.0</td>\n",
              "      <td>0.0</td>\n",
              "      <td>0.0</td>\n",
              "      <td>0.0</td>\n",
              "      <td>0.0</td>\n",
              "      <td>0.0</td>\n",
              "      <td>0.0</td>\n",
              "    </tr>\n",
              "    <tr>\n",
              "      <th>pesanbijak okeoce</th>\n",
              "      <td>0.0</td>\n",
              "      <td>0.0</td>\n",
              "      <td>0.0</td>\n",
              "      <td>0.0</td>\n",
              "      <td>0.0</td>\n",
              "      <td>0.0</td>\n",
              "      <td>0.0</td>\n",
              "      <td>0.0</td>\n",
              "      <td>0.0</td>\n",
              "      <td>0.0</td>\n",
              "      <td>0.0</td>\n",
              "      <td>0.0</td>\n",
              "      <td>0.0</td>\n",
              "      <td>0.0</td>\n",
              "      <td>0.0</td>\n",
              "      <td>0.0</td>\n",
              "      <td>0.0</td>\n",
              "      <td>0.0</td>\n",
              "      <td>0.0</td>\n",
              "      <td>0.0</td>\n",
              "      <td>0.0</td>\n",
              "      <td>0.0</td>\n",
              "      <td>0.0</td>\n",
              "      <td>0.0</td>\n",
              "      <td>0.0</td>\n",
              "      <td>0.0</td>\n",
              "      <td>0.000000</td>\n",
              "      <td>0.0</td>\n",
              "      <td>0.0</td>\n",
              "      <td>0.0</td>\n",
              "      <td>0.0</td>\n",
              "      <td>0.0</td>\n",
              "      <td>0.0</td>\n",
              "      <td>0.0</td>\n",
              "      <td>0.0</td>\n",
              "      <td>0.0</td>\n",
              "      <td>0.0</td>\n",
              "      <td>0.0</td>\n",
              "      <td>0.0</td>\n",
              "      <td>0.0</td>\n",
              "      <td>...</td>\n",
              "      <td>0.0</td>\n",
              "      <td>0.0</td>\n",
              "      <td>0.0</td>\n",
              "      <td>0.0</td>\n",
              "      <td>0.000000</td>\n",
              "      <td>0.0</td>\n",
              "      <td>0.0</td>\n",
              "      <td>0.0</td>\n",
              "      <td>0.000000</td>\n",
              "      <td>0.0</td>\n",
              "      <td>0.0</td>\n",
              "      <td>0.0</td>\n",
              "      <td>0.0</td>\n",
              "      <td>0.0</td>\n",
              "      <td>0.000000</td>\n",
              "      <td>0.0</td>\n",
              "      <td>0.0</td>\n",
              "      <td>0.0</td>\n",
              "      <td>0.0</td>\n",
              "      <td>0.0</td>\n",
              "      <td>0.0</td>\n",
              "      <td>0.0</td>\n",
              "      <td>0.0</td>\n",
              "      <td>0.0</td>\n",
              "      <td>0.0</td>\n",
              "      <td>0.0</td>\n",
              "      <td>0.0</td>\n",
              "      <td>0.0</td>\n",
              "      <td>0.0</td>\n",
              "      <td>0.0</td>\n",
              "      <td>0.0</td>\n",
              "      <td>0.0</td>\n",
              "      <td>0.0</td>\n",
              "      <td>0.0</td>\n",
              "      <td>0.0</td>\n",
              "      <td>0.0</td>\n",
              "      <td>0.0</td>\n",
              "      <td>0.0</td>\n",
              "      <td>0.0</td>\n",
              "      <td>0.0</td>\n",
              "    </tr>\n",
              "    <tr>\n",
              "      <th>sandiaga bangun rumah dp simpel banding tol cipali aniessandijawarajakarta okeoce</th>\n",
              "      <td>0.0</td>\n",
              "      <td>0.0</td>\n",
              "      <td>0.0</td>\n",
              "      <td>0.0</td>\n",
              "      <td>0.0</td>\n",
              "      <td>0.0</td>\n",
              "      <td>0.0</td>\n",
              "      <td>0.0</td>\n",
              "      <td>0.0</td>\n",
              "      <td>0.0</td>\n",
              "      <td>0.0</td>\n",
              "      <td>0.0</td>\n",
              "      <td>0.0</td>\n",
              "      <td>0.0</td>\n",
              "      <td>0.0</td>\n",
              "      <td>0.0</td>\n",
              "      <td>0.0</td>\n",
              "      <td>0.0</td>\n",
              "      <td>0.0</td>\n",
              "      <td>0.0</td>\n",
              "      <td>0.0</td>\n",
              "      <td>0.0</td>\n",
              "      <td>0.0</td>\n",
              "      <td>0.0</td>\n",
              "      <td>0.0</td>\n",
              "      <td>0.0</td>\n",
              "      <td>0.000000</td>\n",
              "      <td>0.0</td>\n",
              "      <td>0.0</td>\n",
              "      <td>0.0</td>\n",
              "      <td>0.0</td>\n",
              "      <td>0.0</td>\n",
              "      <td>0.0</td>\n",
              "      <td>0.0</td>\n",
              "      <td>0.0</td>\n",
              "      <td>0.0</td>\n",
              "      <td>0.0</td>\n",
              "      <td>0.0</td>\n",
              "      <td>0.0</td>\n",
              "      <td>0.0</td>\n",
              "      <td>...</td>\n",
              "      <td>0.0</td>\n",
              "      <td>0.0</td>\n",
              "      <td>0.0</td>\n",
              "      <td>0.0</td>\n",
              "      <td>0.000000</td>\n",
              "      <td>0.0</td>\n",
              "      <td>0.0</td>\n",
              "      <td>0.0</td>\n",
              "      <td>0.000000</td>\n",
              "      <td>0.0</td>\n",
              "      <td>0.0</td>\n",
              "      <td>0.0</td>\n",
              "      <td>0.0</td>\n",
              "      <td>0.0</td>\n",
              "      <td>0.000000</td>\n",
              "      <td>0.0</td>\n",
              "      <td>0.0</td>\n",
              "      <td>0.0</td>\n",
              "      <td>0.0</td>\n",
              "      <td>0.0</td>\n",
              "      <td>0.0</td>\n",
              "      <td>0.0</td>\n",
              "      <td>0.0</td>\n",
              "      <td>0.0</td>\n",
              "      <td>0.0</td>\n",
              "      <td>0.0</td>\n",
              "      <td>0.0</td>\n",
              "      <td>0.0</td>\n",
              "      <td>0.0</td>\n",
              "      <td>0.0</td>\n",
              "      <td>0.0</td>\n",
              "      <td>0.0</td>\n",
              "      <td>0.0</td>\n",
              "      <td>0.0</td>\n",
              "      <td>0.0</td>\n",
              "      <td>0.0</td>\n",
              "      <td>0.0</td>\n",
              "      <td>0.0</td>\n",
              "      <td>0.0</td>\n",
              "      <td>0.0</td>\n",
              "    </tr>\n",
              "  </tbody>\n",
              "</table>\n",
              "<p>900 rows × 2569 columns</p>\n",
              "</div>"
            ],
            "text/plain": [
              "                                                      a   aa  ...  zipper  zona\n",
              "akun kloning dukung agussilvy serang paslon ani...  0.0  0.0  ...     0.0   0.0\n",
              "agussilvy bicara kasihan yaa lap air mata wkwkwkwk  0.0  0.0  ...     0.0   0.0\n",
              "gak nunggu hasil qc tp nunggu motif cuit sbyudh...  0.0  0.0  ...     0.0   0.0\n",
              "kasi oh kasi peluru rw agussilvy mempan menangi...  0.0  0.0  ...     0.0   0.0\n",
              "maaf dukung agussilvy hayo dukung aniessandi pu...  0.0  0.0  ...     0.0   0.0\n",
              "...                                                 ...  ...  ...     ...   ...\n",
              "bpk aniesbaswedan sandiuno lihat rspun selfie o...  0.0  0.0  ...     0.0   0.0\n",
              "rangkul orang batas usia kelamin okeoce ok hand...  0.0  0.0  ...     0.0   0.0\n",
              "jago bidang digital smiling face with sunglasse...  0.0  0.0  ...     0.0   0.0\n",
              "pesanbijak okeoce                                   0.0  0.0  ...     0.0   0.0\n",
              "sandiaga bangun rumah dp simpel banding tol cip...  0.0  0.0  ...     0.0   0.0\n",
              "\n",
              "[900 rows x 2569 columns]"
            ]
          },
          "metadata": {},
          "execution_count": 95
        }
      ]
    },
    {
      "cell_type": "markdown",
      "metadata": {
        "id": "NNj3ZHlkG6Ro"
      },
      "source": [
        "Implementasi BOW"
      ]
    },
    {
      "cell_type": "code",
      "metadata": {
        "colab": {
          "base_uri": "https://localhost:8080/",
          "height": 998
        },
        "id": "zUBQ7RekHMBa",
        "outputId": "dccc3e98-bd02-4895-9aeb-da87671ffe05"
      },
      "source": [
        "df_BoW_imp=Bag_Of_Words(Hasil_Scrapping)\n",
        "df_BoW_imp"
      ],
      "execution_count": 96,
      "outputs": [
        {
          "output_type": "execute_result",
          "data": {
            "text/html": [
              "<div>\n",
              "<style scoped>\n",
              "    .dataframe tbody tr th:only-of-type {\n",
              "        vertical-align: middle;\n",
              "    }\n",
              "\n",
              "    .dataframe tbody tr th {\n",
              "        vertical-align: top;\n",
              "    }\n",
              "\n",
              "    .dataframe thead th {\n",
              "        text-align: right;\n",
              "    }\n",
              "</style>\n",
              "<table border=\"1\" class=\"dataframe\">\n",
              "  <thead>\n",
              "    <tr style=\"text-align: right;\">\n",
              "      <th></th>\n",
              "      <th>a</th>\n",
              "      <th>aa</th>\n",
              "      <th>aagym</th>\n",
              "      <th>aamiin</th>\n",
              "      <th>abaaah</th>\n",
              "      <th>abal</th>\n",
              "      <th>abang</th>\n",
              "      <th>abdi</th>\n",
              "      <th>abis</th>\n",
              "      <th>absurd</th>\n",
              "      <th>abunawas</th>\n",
              "      <th>aburizal</th>\n",
              "      <th>abused</th>\n",
              "      <th>acara</th>\n",
              "      <th>acu</th>\n",
              "      <th>adaaqua</th>\n",
              "      <th>adalahkita</th>\n",
              "      <th>addiems</th>\n",
              "      <th>adekku</th>\n",
              "      <th>adil</th>\n",
              "      <th>adjierimbawan</th>\n",
              "      <th>adjrot</th>\n",
              "      <th>agam</th>\n",
              "      <th>agama</th>\n",
              "      <th>agus</th>\n",
              "      <th>agusharimurtiyudhoyono</th>\n",
              "      <th>agussilvy</th>\n",
              "      <th>agussylvi</th>\n",
              "      <th>agusyudhoyono</th>\n",
              "      <th>ah</th>\n",
              "      <th>aher</th>\n",
              "      <th>ahhhh</th>\n",
              "      <th>ahli</th>\n",
              "      <th>ahmadfuadanwar</th>\n",
              "      <th>ahok</th>\n",
              "      <th>ahokbtp</th>\n",
              "      <th>ahokdicintairakyat</th>\n",
              "      <th>ahokdjarot</th>\n",
              "      <th>ahokdjarota</th>\n",
              "      <th>ahokdjarotdirosi</th>\n",
              "      <th>...</th>\n",
              "      <th>wingstourinjakarta</th>\n",
              "      <th>wirausaha</th>\n",
              "      <th>wisata</th>\n",
              "      <th>wisdom</th>\n",
              "      <th>with</th>\n",
              "      <th>without</th>\n",
              "      <th>wkkwwkkwk</th>\n",
              "      <th>wkwkwk</th>\n",
              "      <th>wkwkwkwk</th>\n",
              "      <th>wkwkwkwkkwkk</th>\n",
              "      <th>wpap</th>\n",
              "      <th>wujud</th>\n",
              "      <th>x</th>\n",
              "      <th>y</th>\n",
              "      <th>yaa</th>\n",
              "      <th>yaaa</th>\n",
              "      <th>yaaaa</th>\n",
              "      <th>yah</th>\n",
              "      <th>yahudi</th>\n",
              "      <th>yak</th>\n",
              "      <th>yangbikinberantem</th>\n",
              "      <th>ye</th>\n",
              "      <th>yee</th>\n",
              "      <th>yep</th>\n",
              "      <th>yes</th>\n",
              "      <th>yme</th>\n",
              "      <th>ynwa</th>\n",
              "      <th>yogia</th>\n",
              "      <th>youtu</th>\n",
              "      <th>youtube</th>\n",
              "      <th>yra</th>\n",
              "      <th>yudhoyono</th>\n",
              "      <th>yuk</th>\n",
              "      <th>yusuf</th>\n",
              "      <th>zalim</th>\n",
              "      <th>zaraz</th>\n",
              "      <th>zarazettirazr</th>\n",
              "      <th>zarazettirazz</th>\n",
              "      <th>zipper</th>\n",
              "      <th>zona</th>\n",
              "    </tr>\n",
              "  </thead>\n",
              "  <tbody>\n",
              "    <tr>\n",
              "      <th>akun kloning dukung agussilvy serang paslon aniessandi opini argumen pmbenaran kecoh</th>\n",
              "      <td>0</td>\n",
              "      <td>0</td>\n",
              "      <td>0</td>\n",
              "      <td>0</td>\n",
              "      <td>0</td>\n",
              "      <td>0</td>\n",
              "      <td>0</td>\n",
              "      <td>0</td>\n",
              "      <td>0</td>\n",
              "      <td>0</td>\n",
              "      <td>0</td>\n",
              "      <td>0</td>\n",
              "      <td>0</td>\n",
              "      <td>0</td>\n",
              "      <td>0</td>\n",
              "      <td>0</td>\n",
              "      <td>0</td>\n",
              "      <td>0</td>\n",
              "      <td>0</td>\n",
              "      <td>0</td>\n",
              "      <td>0</td>\n",
              "      <td>0</td>\n",
              "      <td>0</td>\n",
              "      <td>0</td>\n",
              "      <td>0</td>\n",
              "      <td>0</td>\n",
              "      <td>1</td>\n",
              "      <td>0</td>\n",
              "      <td>0</td>\n",
              "      <td>0</td>\n",
              "      <td>0</td>\n",
              "      <td>0</td>\n",
              "      <td>0</td>\n",
              "      <td>0</td>\n",
              "      <td>0</td>\n",
              "      <td>0</td>\n",
              "      <td>0</td>\n",
              "      <td>0</td>\n",
              "      <td>0</td>\n",
              "      <td>0</td>\n",
              "      <td>...</td>\n",
              "      <td>0</td>\n",
              "      <td>0</td>\n",
              "      <td>0</td>\n",
              "      <td>0</td>\n",
              "      <td>0</td>\n",
              "      <td>0</td>\n",
              "      <td>0</td>\n",
              "      <td>0</td>\n",
              "      <td>0</td>\n",
              "      <td>0</td>\n",
              "      <td>0</td>\n",
              "      <td>0</td>\n",
              "      <td>0</td>\n",
              "      <td>0</td>\n",
              "      <td>0</td>\n",
              "      <td>0</td>\n",
              "      <td>0</td>\n",
              "      <td>0</td>\n",
              "      <td>0</td>\n",
              "      <td>0</td>\n",
              "      <td>0</td>\n",
              "      <td>0</td>\n",
              "      <td>0</td>\n",
              "      <td>0</td>\n",
              "      <td>0</td>\n",
              "      <td>0</td>\n",
              "      <td>0</td>\n",
              "      <td>0</td>\n",
              "      <td>0</td>\n",
              "      <td>0</td>\n",
              "      <td>0</td>\n",
              "      <td>0</td>\n",
              "      <td>0</td>\n",
              "      <td>0</td>\n",
              "      <td>0</td>\n",
              "      <td>0</td>\n",
              "      <td>0</td>\n",
              "      <td>0</td>\n",
              "      <td>0</td>\n",
              "      <td>0</td>\n",
              "    </tr>\n",
              "    <tr>\n",
              "      <th>agussilvy bicara kasihan yaa lap air mata wkwkwkwk</th>\n",
              "      <td>0</td>\n",
              "      <td>0</td>\n",
              "      <td>0</td>\n",
              "      <td>0</td>\n",
              "      <td>0</td>\n",
              "      <td>0</td>\n",
              "      <td>0</td>\n",
              "      <td>0</td>\n",
              "      <td>0</td>\n",
              "      <td>0</td>\n",
              "      <td>0</td>\n",
              "      <td>0</td>\n",
              "      <td>0</td>\n",
              "      <td>0</td>\n",
              "      <td>0</td>\n",
              "      <td>0</td>\n",
              "      <td>0</td>\n",
              "      <td>0</td>\n",
              "      <td>0</td>\n",
              "      <td>0</td>\n",
              "      <td>0</td>\n",
              "      <td>0</td>\n",
              "      <td>0</td>\n",
              "      <td>0</td>\n",
              "      <td>0</td>\n",
              "      <td>0</td>\n",
              "      <td>1</td>\n",
              "      <td>0</td>\n",
              "      <td>0</td>\n",
              "      <td>0</td>\n",
              "      <td>0</td>\n",
              "      <td>0</td>\n",
              "      <td>0</td>\n",
              "      <td>0</td>\n",
              "      <td>0</td>\n",
              "      <td>0</td>\n",
              "      <td>0</td>\n",
              "      <td>0</td>\n",
              "      <td>0</td>\n",
              "      <td>0</td>\n",
              "      <td>...</td>\n",
              "      <td>0</td>\n",
              "      <td>0</td>\n",
              "      <td>0</td>\n",
              "      <td>0</td>\n",
              "      <td>0</td>\n",
              "      <td>0</td>\n",
              "      <td>0</td>\n",
              "      <td>0</td>\n",
              "      <td>1</td>\n",
              "      <td>0</td>\n",
              "      <td>0</td>\n",
              "      <td>0</td>\n",
              "      <td>0</td>\n",
              "      <td>0</td>\n",
              "      <td>1</td>\n",
              "      <td>0</td>\n",
              "      <td>0</td>\n",
              "      <td>0</td>\n",
              "      <td>0</td>\n",
              "      <td>0</td>\n",
              "      <td>0</td>\n",
              "      <td>0</td>\n",
              "      <td>0</td>\n",
              "      <td>0</td>\n",
              "      <td>0</td>\n",
              "      <td>0</td>\n",
              "      <td>0</td>\n",
              "      <td>0</td>\n",
              "      <td>0</td>\n",
              "      <td>0</td>\n",
              "      <td>0</td>\n",
              "      <td>0</td>\n",
              "      <td>0</td>\n",
              "      <td>0</td>\n",
              "      <td>0</td>\n",
              "      <td>0</td>\n",
              "      <td>0</td>\n",
              "      <td>0</td>\n",
              "      <td>0</td>\n",
              "      <td>0</td>\n",
              "    </tr>\n",
              "    <tr>\n",
              "      <th>gak nunggu hasil qc tp nunggu motif cuit sbyudhoyono kayak pasca agussilvy nyungsep</th>\n",
              "      <td>0</td>\n",
              "      <td>0</td>\n",
              "      <td>0</td>\n",
              "      <td>0</td>\n",
              "      <td>0</td>\n",
              "      <td>0</td>\n",
              "      <td>0</td>\n",
              "      <td>0</td>\n",
              "      <td>0</td>\n",
              "      <td>0</td>\n",
              "      <td>0</td>\n",
              "      <td>0</td>\n",
              "      <td>0</td>\n",
              "      <td>0</td>\n",
              "      <td>0</td>\n",
              "      <td>0</td>\n",
              "      <td>0</td>\n",
              "      <td>0</td>\n",
              "      <td>0</td>\n",
              "      <td>0</td>\n",
              "      <td>0</td>\n",
              "      <td>0</td>\n",
              "      <td>0</td>\n",
              "      <td>0</td>\n",
              "      <td>0</td>\n",
              "      <td>0</td>\n",
              "      <td>1</td>\n",
              "      <td>0</td>\n",
              "      <td>0</td>\n",
              "      <td>0</td>\n",
              "      <td>0</td>\n",
              "      <td>0</td>\n",
              "      <td>0</td>\n",
              "      <td>0</td>\n",
              "      <td>0</td>\n",
              "      <td>0</td>\n",
              "      <td>0</td>\n",
              "      <td>0</td>\n",
              "      <td>0</td>\n",
              "      <td>0</td>\n",
              "      <td>...</td>\n",
              "      <td>0</td>\n",
              "      <td>0</td>\n",
              "      <td>0</td>\n",
              "      <td>0</td>\n",
              "      <td>0</td>\n",
              "      <td>0</td>\n",
              "      <td>0</td>\n",
              "      <td>0</td>\n",
              "      <td>0</td>\n",
              "      <td>0</td>\n",
              "      <td>0</td>\n",
              "      <td>0</td>\n",
              "      <td>0</td>\n",
              "      <td>0</td>\n",
              "      <td>0</td>\n",
              "      <td>0</td>\n",
              "      <td>0</td>\n",
              "      <td>0</td>\n",
              "      <td>0</td>\n",
              "      <td>0</td>\n",
              "      <td>0</td>\n",
              "      <td>0</td>\n",
              "      <td>0</td>\n",
              "      <td>0</td>\n",
              "      <td>0</td>\n",
              "      <td>0</td>\n",
              "      <td>0</td>\n",
              "      <td>0</td>\n",
              "      <td>0</td>\n",
              "      <td>0</td>\n",
              "      <td>0</td>\n",
              "      <td>0</td>\n",
              "      <td>0</td>\n",
              "      <td>0</td>\n",
              "      <td>0</td>\n",
              "      <td>0</td>\n",
              "      <td>0</td>\n",
              "      <td>0</td>\n",
              "      <td>0</td>\n",
              "      <td>0</td>\n",
              "    </tr>\n",
              "    <tr>\n",
              "      <th>kasi oh kasi peluru rw agussilvy mempan menangin pilkada quickcount</th>\n",
              "      <td>0</td>\n",
              "      <td>0</td>\n",
              "      <td>0</td>\n",
              "      <td>0</td>\n",
              "      <td>0</td>\n",
              "      <td>0</td>\n",
              "      <td>0</td>\n",
              "      <td>0</td>\n",
              "      <td>0</td>\n",
              "      <td>0</td>\n",
              "      <td>0</td>\n",
              "      <td>0</td>\n",
              "      <td>0</td>\n",
              "      <td>0</td>\n",
              "      <td>0</td>\n",
              "      <td>0</td>\n",
              "      <td>0</td>\n",
              "      <td>0</td>\n",
              "      <td>0</td>\n",
              "      <td>0</td>\n",
              "      <td>0</td>\n",
              "      <td>0</td>\n",
              "      <td>0</td>\n",
              "      <td>0</td>\n",
              "      <td>0</td>\n",
              "      <td>0</td>\n",
              "      <td>1</td>\n",
              "      <td>0</td>\n",
              "      <td>0</td>\n",
              "      <td>0</td>\n",
              "      <td>0</td>\n",
              "      <td>0</td>\n",
              "      <td>0</td>\n",
              "      <td>0</td>\n",
              "      <td>0</td>\n",
              "      <td>0</td>\n",
              "      <td>0</td>\n",
              "      <td>0</td>\n",
              "      <td>0</td>\n",
              "      <td>0</td>\n",
              "      <td>...</td>\n",
              "      <td>0</td>\n",
              "      <td>0</td>\n",
              "      <td>0</td>\n",
              "      <td>0</td>\n",
              "      <td>0</td>\n",
              "      <td>0</td>\n",
              "      <td>0</td>\n",
              "      <td>0</td>\n",
              "      <td>0</td>\n",
              "      <td>0</td>\n",
              "      <td>0</td>\n",
              "      <td>0</td>\n",
              "      <td>0</td>\n",
              "      <td>0</td>\n",
              "      <td>0</td>\n",
              "      <td>0</td>\n",
              "      <td>0</td>\n",
              "      <td>0</td>\n",
              "      <td>0</td>\n",
              "      <td>0</td>\n",
              "      <td>0</td>\n",
              "      <td>0</td>\n",
              "      <td>0</td>\n",
              "      <td>0</td>\n",
              "      <td>0</td>\n",
              "      <td>0</td>\n",
              "      <td>0</td>\n",
              "      <td>0</td>\n",
              "      <td>0</td>\n",
              "      <td>0</td>\n",
              "      <td>0</td>\n",
              "      <td>0</td>\n",
              "      <td>0</td>\n",
              "      <td>0</td>\n",
              "      <td>0</td>\n",
              "      <td>0</td>\n",
              "      <td>0</td>\n",
              "      <td>0</td>\n",
              "      <td>0</td>\n",
              "      <td>0</td>\n",
              "    </tr>\n",
              "    <tr>\n",
              "      <th>maaf dukung agussilvy hayo dukung aniessandi putar ronavioleta netizentofa</th>\n",
              "      <td>0</td>\n",
              "      <td>0</td>\n",
              "      <td>0</td>\n",
              "      <td>0</td>\n",
              "      <td>0</td>\n",
              "      <td>0</td>\n",
              "      <td>0</td>\n",
              "      <td>0</td>\n",
              "      <td>0</td>\n",
              "      <td>0</td>\n",
              "      <td>0</td>\n",
              "      <td>0</td>\n",
              "      <td>0</td>\n",
              "      <td>0</td>\n",
              "      <td>0</td>\n",
              "      <td>0</td>\n",
              "      <td>0</td>\n",
              "      <td>0</td>\n",
              "      <td>0</td>\n",
              "      <td>0</td>\n",
              "      <td>0</td>\n",
              "      <td>0</td>\n",
              "      <td>0</td>\n",
              "      <td>0</td>\n",
              "      <td>0</td>\n",
              "      <td>0</td>\n",
              "      <td>1</td>\n",
              "      <td>0</td>\n",
              "      <td>0</td>\n",
              "      <td>0</td>\n",
              "      <td>0</td>\n",
              "      <td>0</td>\n",
              "      <td>0</td>\n",
              "      <td>0</td>\n",
              "      <td>0</td>\n",
              "      <td>0</td>\n",
              "      <td>0</td>\n",
              "      <td>0</td>\n",
              "      <td>0</td>\n",
              "      <td>0</td>\n",
              "      <td>...</td>\n",
              "      <td>0</td>\n",
              "      <td>0</td>\n",
              "      <td>0</td>\n",
              "      <td>0</td>\n",
              "      <td>0</td>\n",
              "      <td>0</td>\n",
              "      <td>0</td>\n",
              "      <td>0</td>\n",
              "      <td>0</td>\n",
              "      <td>0</td>\n",
              "      <td>0</td>\n",
              "      <td>0</td>\n",
              "      <td>0</td>\n",
              "      <td>0</td>\n",
              "      <td>0</td>\n",
              "      <td>0</td>\n",
              "      <td>0</td>\n",
              "      <td>0</td>\n",
              "      <td>0</td>\n",
              "      <td>0</td>\n",
              "      <td>0</td>\n",
              "      <td>0</td>\n",
              "      <td>0</td>\n",
              "      <td>0</td>\n",
              "      <td>0</td>\n",
              "      <td>0</td>\n",
              "      <td>0</td>\n",
              "      <td>0</td>\n",
              "      <td>0</td>\n",
              "      <td>0</td>\n",
              "      <td>0</td>\n",
              "      <td>0</td>\n",
              "      <td>0</td>\n",
              "      <td>0</td>\n",
              "      <td>0</td>\n",
              "      <td>0</td>\n",
              "      <td>0</td>\n",
              "      <td>0</td>\n",
              "      <td>0</td>\n",
              "      <td>0</td>\n",
              "    </tr>\n",
              "    <tr>\n",
              "      <th>...</th>\n",
              "      <td>...</td>\n",
              "      <td>...</td>\n",
              "      <td>...</td>\n",
              "      <td>...</td>\n",
              "      <td>...</td>\n",
              "      <td>...</td>\n",
              "      <td>...</td>\n",
              "      <td>...</td>\n",
              "      <td>...</td>\n",
              "      <td>...</td>\n",
              "      <td>...</td>\n",
              "      <td>...</td>\n",
              "      <td>...</td>\n",
              "      <td>...</td>\n",
              "      <td>...</td>\n",
              "      <td>...</td>\n",
              "      <td>...</td>\n",
              "      <td>...</td>\n",
              "      <td>...</td>\n",
              "      <td>...</td>\n",
              "      <td>...</td>\n",
              "      <td>...</td>\n",
              "      <td>...</td>\n",
              "      <td>...</td>\n",
              "      <td>...</td>\n",
              "      <td>...</td>\n",
              "      <td>...</td>\n",
              "      <td>...</td>\n",
              "      <td>...</td>\n",
              "      <td>...</td>\n",
              "      <td>...</td>\n",
              "      <td>...</td>\n",
              "      <td>...</td>\n",
              "      <td>...</td>\n",
              "      <td>...</td>\n",
              "      <td>...</td>\n",
              "      <td>...</td>\n",
              "      <td>...</td>\n",
              "      <td>...</td>\n",
              "      <td>...</td>\n",
              "      <td>...</td>\n",
              "      <td>...</td>\n",
              "      <td>...</td>\n",
              "      <td>...</td>\n",
              "      <td>...</td>\n",
              "      <td>...</td>\n",
              "      <td>...</td>\n",
              "      <td>...</td>\n",
              "      <td>...</td>\n",
              "      <td>...</td>\n",
              "      <td>...</td>\n",
              "      <td>...</td>\n",
              "      <td>...</td>\n",
              "      <td>...</td>\n",
              "      <td>...</td>\n",
              "      <td>...</td>\n",
              "      <td>...</td>\n",
              "      <td>...</td>\n",
              "      <td>...</td>\n",
              "      <td>...</td>\n",
              "      <td>...</td>\n",
              "      <td>...</td>\n",
              "      <td>...</td>\n",
              "      <td>...</td>\n",
              "      <td>...</td>\n",
              "      <td>...</td>\n",
              "      <td>...</td>\n",
              "      <td>...</td>\n",
              "      <td>...</td>\n",
              "      <td>...</td>\n",
              "      <td>...</td>\n",
              "      <td>...</td>\n",
              "      <td>...</td>\n",
              "      <td>...</td>\n",
              "      <td>...</td>\n",
              "      <td>...</td>\n",
              "      <td>...</td>\n",
              "      <td>...</td>\n",
              "      <td>...</td>\n",
              "      <td>...</td>\n",
              "      <td>...</td>\n",
              "    </tr>\n",
              "    <tr>\n",
              "      <th>bpk aniesbaswedan sandiuno lihat rspun selfie okeoce ok hand debatpilkadadki ahokpanikahokkalah</th>\n",
              "      <td>0</td>\n",
              "      <td>0</td>\n",
              "      <td>0</td>\n",
              "      <td>0</td>\n",
              "      <td>0</td>\n",
              "      <td>0</td>\n",
              "      <td>0</td>\n",
              "      <td>0</td>\n",
              "      <td>0</td>\n",
              "      <td>0</td>\n",
              "      <td>0</td>\n",
              "      <td>0</td>\n",
              "      <td>0</td>\n",
              "      <td>0</td>\n",
              "      <td>0</td>\n",
              "      <td>0</td>\n",
              "      <td>0</td>\n",
              "      <td>0</td>\n",
              "      <td>0</td>\n",
              "      <td>0</td>\n",
              "      <td>0</td>\n",
              "      <td>0</td>\n",
              "      <td>0</td>\n",
              "      <td>0</td>\n",
              "      <td>0</td>\n",
              "      <td>0</td>\n",
              "      <td>0</td>\n",
              "      <td>0</td>\n",
              "      <td>0</td>\n",
              "      <td>0</td>\n",
              "      <td>0</td>\n",
              "      <td>0</td>\n",
              "      <td>0</td>\n",
              "      <td>0</td>\n",
              "      <td>0</td>\n",
              "      <td>0</td>\n",
              "      <td>0</td>\n",
              "      <td>0</td>\n",
              "      <td>0</td>\n",
              "      <td>0</td>\n",
              "      <td>...</td>\n",
              "      <td>0</td>\n",
              "      <td>0</td>\n",
              "      <td>0</td>\n",
              "      <td>0</td>\n",
              "      <td>0</td>\n",
              "      <td>0</td>\n",
              "      <td>0</td>\n",
              "      <td>0</td>\n",
              "      <td>0</td>\n",
              "      <td>0</td>\n",
              "      <td>0</td>\n",
              "      <td>0</td>\n",
              "      <td>0</td>\n",
              "      <td>0</td>\n",
              "      <td>0</td>\n",
              "      <td>0</td>\n",
              "      <td>0</td>\n",
              "      <td>0</td>\n",
              "      <td>0</td>\n",
              "      <td>0</td>\n",
              "      <td>0</td>\n",
              "      <td>0</td>\n",
              "      <td>0</td>\n",
              "      <td>0</td>\n",
              "      <td>0</td>\n",
              "      <td>0</td>\n",
              "      <td>0</td>\n",
              "      <td>0</td>\n",
              "      <td>0</td>\n",
              "      <td>0</td>\n",
              "      <td>0</td>\n",
              "      <td>0</td>\n",
              "      <td>0</td>\n",
              "      <td>0</td>\n",
              "      <td>0</td>\n",
              "      <td>0</td>\n",
              "      <td>0</td>\n",
              "      <td>0</td>\n",
              "      <td>0</td>\n",
              "      <td>0</td>\n",
              "    </tr>\n",
              "    <tr>\n",
              "      <th>rangkul orang batas usia kelamin okeoce ok hand salambersama pks temanahok victory hand</th>\n",
              "      <td>0</td>\n",
              "      <td>0</td>\n",
              "      <td>0</td>\n",
              "      <td>0</td>\n",
              "      <td>0</td>\n",
              "      <td>0</td>\n",
              "      <td>0</td>\n",
              "      <td>0</td>\n",
              "      <td>0</td>\n",
              "      <td>0</td>\n",
              "      <td>0</td>\n",
              "      <td>0</td>\n",
              "      <td>0</td>\n",
              "      <td>0</td>\n",
              "      <td>0</td>\n",
              "      <td>0</td>\n",
              "      <td>0</td>\n",
              "      <td>0</td>\n",
              "      <td>0</td>\n",
              "      <td>0</td>\n",
              "      <td>0</td>\n",
              "      <td>0</td>\n",
              "      <td>0</td>\n",
              "      <td>0</td>\n",
              "      <td>0</td>\n",
              "      <td>0</td>\n",
              "      <td>0</td>\n",
              "      <td>0</td>\n",
              "      <td>0</td>\n",
              "      <td>0</td>\n",
              "      <td>0</td>\n",
              "      <td>0</td>\n",
              "      <td>0</td>\n",
              "      <td>0</td>\n",
              "      <td>0</td>\n",
              "      <td>0</td>\n",
              "      <td>0</td>\n",
              "      <td>0</td>\n",
              "      <td>0</td>\n",
              "      <td>0</td>\n",
              "      <td>...</td>\n",
              "      <td>0</td>\n",
              "      <td>0</td>\n",
              "      <td>0</td>\n",
              "      <td>0</td>\n",
              "      <td>0</td>\n",
              "      <td>0</td>\n",
              "      <td>0</td>\n",
              "      <td>0</td>\n",
              "      <td>0</td>\n",
              "      <td>0</td>\n",
              "      <td>0</td>\n",
              "      <td>0</td>\n",
              "      <td>0</td>\n",
              "      <td>0</td>\n",
              "      <td>0</td>\n",
              "      <td>0</td>\n",
              "      <td>0</td>\n",
              "      <td>0</td>\n",
              "      <td>0</td>\n",
              "      <td>0</td>\n",
              "      <td>0</td>\n",
              "      <td>0</td>\n",
              "      <td>0</td>\n",
              "      <td>0</td>\n",
              "      <td>0</td>\n",
              "      <td>0</td>\n",
              "      <td>0</td>\n",
              "      <td>0</td>\n",
              "      <td>0</td>\n",
              "      <td>0</td>\n",
              "      <td>0</td>\n",
              "      <td>0</td>\n",
              "      <td>0</td>\n",
              "      <td>0</td>\n",
              "      <td>0</td>\n",
              "      <td>0</td>\n",
              "      <td>0</td>\n",
              "      <td>0</td>\n",
              "      <td>0</td>\n",
              "      <td>0</td>\n",
              "    </tr>\n",
              "    <tr>\n",
              "      <th>jago bidang digital smiling face with sunglasses ok hand thonyleong com okeoce salambersama</th>\n",
              "      <td>0</td>\n",
              "      <td>0</td>\n",
              "      <td>0</td>\n",
              "      <td>0</td>\n",
              "      <td>0</td>\n",
              "      <td>0</td>\n",
              "      <td>0</td>\n",
              "      <td>0</td>\n",
              "      <td>0</td>\n",
              "      <td>0</td>\n",
              "      <td>0</td>\n",
              "      <td>0</td>\n",
              "      <td>0</td>\n",
              "      <td>0</td>\n",
              "      <td>0</td>\n",
              "      <td>0</td>\n",
              "      <td>0</td>\n",
              "      <td>0</td>\n",
              "      <td>0</td>\n",
              "      <td>0</td>\n",
              "      <td>0</td>\n",
              "      <td>0</td>\n",
              "      <td>0</td>\n",
              "      <td>0</td>\n",
              "      <td>0</td>\n",
              "      <td>0</td>\n",
              "      <td>0</td>\n",
              "      <td>0</td>\n",
              "      <td>0</td>\n",
              "      <td>0</td>\n",
              "      <td>0</td>\n",
              "      <td>0</td>\n",
              "      <td>0</td>\n",
              "      <td>0</td>\n",
              "      <td>0</td>\n",
              "      <td>0</td>\n",
              "      <td>0</td>\n",
              "      <td>0</td>\n",
              "      <td>0</td>\n",
              "      <td>0</td>\n",
              "      <td>...</td>\n",
              "      <td>0</td>\n",
              "      <td>0</td>\n",
              "      <td>0</td>\n",
              "      <td>0</td>\n",
              "      <td>1</td>\n",
              "      <td>0</td>\n",
              "      <td>0</td>\n",
              "      <td>0</td>\n",
              "      <td>0</td>\n",
              "      <td>0</td>\n",
              "      <td>0</td>\n",
              "      <td>0</td>\n",
              "      <td>0</td>\n",
              "      <td>0</td>\n",
              "      <td>0</td>\n",
              "      <td>0</td>\n",
              "      <td>0</td>\n",
              "      <td>0</td>\n",
              "      <td>0</td>\n",
              "      <td>0</td>\n",
              "      <td>0</td>\n",
              "      <td>0</td>\n",
              "      <td>0</td>\n",
              "      <td>0</td>\n",
              "      <td>0</td>\n",
              "      <td>0</td>\n",
              "      <td>0</td>\n",
              "      <td>0</td>\n",
              "      <td>0</td>\n",
              "      <td>0</td>\n",
              "      <td>0</td>\n",
              "      <td>0</td>\n",
              "      <td>0</td>\n",
              "      <td>0</td>\n",
              "      <td>0</td>\n",
              "      <td>0</td>\n",
              "      <td>0</td>\n",
              "      <td>0</td>\n",
              "      <td>0</td>\n",
              "      <td>0</td>\n",
              "    </tr>\n",
              "    <tr>\n",
              "      <th>pesanbijak okeoce</th>\n",
              "      <td>0</td>\n",
              "      <td>0</td>\n",
              "      <td>0</td>\n",
              "      <td>0</td>\n",
              "      <td>0</td>\n",
              "      <td>0</td>\n",
              "      <td>0</td>\n",
              "      <td>0</td>\n",
              "      <td>0</td>\n",
              "      <td>0</td>\n",
              "      <td>0</td>\n",
              "      <td>0</td>\n",
              "      <td>0</td>\n",
              "      <td>0</td>\n",
              "      <td>0</td>\n",
              "      <td>0</td>\n",
              "      <td>0</td>\n",
              "      <td>0</td>\n",
              "      <td>0</td>\n",
              "      <td>0</td>\n",
              "      <td>0</td>\n",
              "      <td>0</td>\n",
              "      <td>0</td>\n",
              "      <td>0</td>\n",
              "      <td>0</td>\n",
              "      <td>0</td>\n",
              "      <td>0</td>\n",
              "      <td>0</td>\n",
              "      <td>0</td>\n",
              "      <td>0</td>\n",
              "      <td>0</td>\n",
              "      <td>0</td>\n",
              "      <td>0</td>\n",
              "      <td>0</td>\n",
              "      <td>0</td>\n",
              "      <td>0</td>\n",
              "      <td>0</td>\n",
              "      <td>0</td>\n",
              "      <td>0</td>\n",
              "      <td>0</td>\n",
              "      <td>...</td>\n",
              "      <td>0</td>\n",
              "      <td>0</td>\n",
              "      <td>0</td>\n",
              "      <td>0</td>\n",
              "      <td>0</td>\n",
              "      <td>0</td>\n",
              "      <td>0</td>\n",
              "      <td>0</td>\n",
              "      <td>0</td>\n",
              "      <td>0</td>\n",
              "      <td>0</td>\n",
              "      <td>0</td>\n",
              "      <td>0</td>\n",
              "      <td>0</td>\n",
              "      <td>0</td>\n",
              "      <td>0</td>\n",
              "      <td>0</td>\n",
              "      <td>0</td>\n",
              "      <td>0</td>\n",
              "      <td>0</td>\n",
              "      <td>0</td>\n",
              "      <td>0</td>\n",
              "      <td>0</td>\n",
              "      <td>0</td>\n",
              "      <td>0</td>\n",
              "      <td>0</td>\n",
              "      <td>0</td>\n",
              "      <td>0</td>\n",
              "      <td>0</td>\n",
              "      <td>0</td>\n",
              "      <td>0</td>\n",
              "      <td>0</td>\n",
              "      <td>0</td>\n",
              "      <td>0</td>\n",
              "      <td>0</td>\n",
              "      <td>0</td>\n",
              "      <td>0</td>\n",
              "      <td>0</td>\n",
              "      <td>0</td>\n",
              "      <td>0</td>\n",
              "    </tr>\n",
              "    <tr>\n",
              "      <th>sandiaga bangun rumah dp simpel banding tol cipali aniessandijawarajakarta okeoce</th>\n",
              "      <td>0</td>\n",
              "      <td>0</td>\n",
              "      <td>0</td>\n",
              "      <td>0</td>\n",
              "      <td>0</td>\n",
              "      <td>0</td>\n",
              "      <td>0</td>\n",
              "      <td>0</td>\n",
              "      <td>0</td>\n",
              "      <td>0</td>\n",
              "      <td>0</td>\n",
              "      <td>0</td>\n",
              "      <td>0</td>\n",
              "      <td>0</td>\n",
              "      <td>0</td>\n",
              "      <td>0</td>\n",
              "      <td>0</td>\n",
              "      <td>0</td>\n",
              "      <td>0</td>\n",
              "      <td>0</td>\n",
              "      <td>0</td>\n",
              "      <td>0</td>\n",
              "      <td>0</td>\n",
              "      <td>0</td>\n",
              "      <td>0</td>\n",
              "      <td>0</td>\n",
              "      <td>0</td>\n",
              "      <td>0</td>\n",
              "      <td>0</td>\n",
              "      <td>0</td>\n",
              "      <td>0</td>\n",
              "      <td>0</td>\n",
              "      <td>0</td>\n",
              "      <td>0</td>\n",
              "      <td>0</td>\n",
              "      <td>0</td>\n",
              "      <td>0</td>\n",
              "      <td>0</td>\n",
              "      <td>0</td>\n",
              "      <td>0</td>\n",
              "      <td>...</td>\n",
              "      <td>0</td>\n",
              "      <td>0</td>\n",
              "      <td>0</td>\n",
              "      <td>0</td>\n",
              "      <td>0</td>\n",
              "      <td>0</td>\n",
              "      <td>0</td>\n",
              "      <td>0</td>\n",
              "      <td>0</td>\n",
              "      <td>0</td>\n",
              "      <td>0</td>\n",
              "      <td>0</td>\n",
              "      <td>0</td>\n",
              "      <td>0</td>\n",
              "      <td>0</td>\n",
              "      <td>0</td>\n",
              "      <td>0</td>\n",
              "      <td>0</td>\n",
              "      <td>0</td>\n",
              "      <td>0</td>\n",
              "      <td>0</td>\n",
              "      <td>0</td>\n",
              "      <td>0</td>\n",
              "      <td>0</td>\n",
              "      <td>0</td>\n",
              "      <td>0</td>\n",
              "      <td>0</td>\n",
              "      <td>0</td>\n",
              "      <td>0</td>\n",
              "      <td>0</td>\n",
              "      <td>0</td>\n",
              "      <td>0</td>\n",
              "      <td>0</td>\n",
              "      <td>0</td>\n",
              "      <td>0</td>\n",
              "      <td>0</td>\n",
              "      <td>0</td>\n",
              "      <td>0</td>\n",
              "      <td>0</td>\n",
              "      <td>0</td>\n",
              "    </tr>\n",
              "  </tbody>\n",
              "</table>\n",
              "<p>900 rows × 2569 columns</p>\n",
              "</div>"
            ],
            "text/plain": [
              "                                                    a  aa  ...  zipper  zona\n",
              "akun kloning dukung agussilvy serang paslon ani...  0   0  ...       0     0\n",
              "agussilvy bicara kasihan yaa lap air mata wkwkwkwk  0   0  ...       0     0\n",
              "gak nunggu hasil qc tp nunggu motif cuit sbyudh...  0   0  ...       0     0\n",
              "kasi oh kasi peluru rw agussilvy mempan menangi...  0   0  ...       0     0\n",
              "maaf dukung agussilvy hayo dukung aniessandi pu...  0   0  ...       0     0\n",
              "...                                                ..  ..  ...     ...   ...\n",
              "bpk aniesbaswedan sandiuno lihat rspun selfie o...  0   0  ...       0     0\n",
              "rangkul orang batas usia kelamin okeoce ok hand...  0   0  ...       0     0\n",
              "jago bidang digital smiling face with sunglasse...  0   0  ...       0     0\n",
              "pesanbijak okeoce                                   0   0  ...       0     0\n",
              "sandiaga bangun rumah dp simpel banding tol cip...  0   0  ...       0     0\n",
              "\n",
              "[900 rows x 2569 columns]"
            ]
          },
          "metadata": {},
          "execution_count": 96
        }
      ]
    },
    {
      "cell_type": "markdown",
      "metadata": {
        "id": "X0ar3nsTHSWT"
      },
      "source": [
        "Ekspor CSV"
      ]
    },
    {
      "cell_type": "code",
      "metadata": {
        "id": "ckRmZolPHRFQ"
      },
      "source": [
        "df_TF_IDF_Imp.to_csv('Pilkada_DKI_TFIDF.csv')"
      ],
      "execution_count": 97,
      "outputs": []
    },
    {
      "cell_type": "code",
      "metadata": {
        "id": "kBWfXe1PHavp"
      },
      "source": [
        "df_BoW_imp.to_csv('Pilkada_DKI_BoW.csv')"
      ],
      "execution_count": 98,
      "outputs": []
    }
  ]
}