{
  "nbformat": 4,
  "nbformat_minor": 0,
  "metadata": {
    "colab": {
      "name": "Basic_Matplotlib.ipynb",
      "provenance": [],
      "collapsed_sections": [],
      "include_colab_link": true
    },
    "kernelspec": {
      "name": "python3",
      "display_name": "Python 3"
    },
    "language_info": {
      "name": "python"
    }
  },
  "cells": [
    {
      "cell_type": "markdown",
      "metadata": {
        "id": "view-in-github",
        "colab_type": "text"
      },
      "source": [
        "<a href=\"https://colab.research.google.com/github/fawazdhianabil/PSDS_KelasMahir_PejuangData3.0/blob/main/Basic_Matplotlib.ipynb\" target=\"_parent\"><img src=\"https://colab.research.google.com/assets/colab-badge.svg\" alt=\"Open In Colab\"/></a>"
      ]
    },
    {
      "cell_type": "markdown",
      "metadata": {
        "id": "p9ht5RNrZAWr"
      },
      "source": [
        "# **MATPLOTLIB DASAR** "
      ]
    },
    {
      "cell_type": "markdown",
      "metadata": {
        "id": "IwDdPuGB7KoD"
      },
      "source": [
        "# **Add Tittle, X, Y Label, and Legend in Plot Matplotlib**"
      ]
    },
    {
      "cell_type": "markdown",
      "metadata": {
        "id": "fHj96k08HhXa"
      },
      "source": [
        "kita akan membahas legend, tittle, dan label dalam Matplotlib. Sering kali, grafik bisa cukup jelas, tetapi memiliki tittle untuk grafik, label, dan legend yang menjelaskan apa itu setiap baris mungkin diperlukan."
      ]
    },
    {
      "cell_type": "markdown",
      "metadata": {
        "id": "cOetXfBxHiiW"
      },
      "source": [
        "untuk memulai,"
      ]
    },
    {
      "cell_type": "code",
      "metadata": {
        "id": "_bF7ABtm8MfC"
      },
      "source": [
        "import matplotlib.pyplot as plt\n",
        "\n",
        "x = [1,2,3]\n",
        "y = [5,7,4]\n",
        "\n",
        "x2 = [1,2,3]\n",
        "y2 = [10,14,12]"
      ],
      "execution_count": null,
      "outputs": []
    },
    {
      "cell_type": "markdown",
      "metadata": {
        "id": "-1nWK5HxHtAi"
      },
      "source": [
        "Dengan cara ini, kita memiliki dua garis yang dapat kita plot. selanjutnya,"
      ]
    },
    {
      "cell_type": "code",
      "metadata": {
        "colab": {
          "base_uri": "https://localhost:8080/",
          "height": 282
        },
        "id": "BpmMD0g6Ht6U",
        "outputId": "f0988574-7dfc-4326-9f6d-e2790fb9ec34"
      },
      "source": [
        "plt.plot(x, y, label='First Line')\n",
        "plt.plot(x2, y2, label='Second Line')"
      ],
      "execution_count": null,
      "outputs": [
        {
          "output_type": "execute_result",
          "data": {
            "text/plain": [
              "[<matplotlib.lines.Line2D at 0x7f18d9b80750>]"
            ]
          },
          "metadata": {},
          "execution_count": 23
        },
        {
          "output_type": "display_data",
          "data": {
            "image/png": "[encoded data removed]",
            "text/plain": [
              "<Figure size 432x288 with 1 Axes>"
            ]
          },
          "metadata": {
            "needs_background": "light"
          }
        }
      ]
    },
    {
      "cell_type": "markdown",
      "metadata": {
        "id": "PNVZXcgyHzN4"
      },
      "source": [
        "Dengan plt.xlabel dan plt.ylabel, kita dapat menetapkan label, Selanjutnya, kita dapat menetapkan judul plot dengan plt.title, dan kemudian kita dapat memanggil legend default dengan plt.legend()."
      ]
    },
    {
      "cell_type": "code",
      "metadata": {
        "colab": {
          "base_uri": "https://localhost:8080/",
          "height": 328
        },
        "id": "nKDtsvgWH2Ta",
        "outputId": "36fd56f8-b3b0-48a2-eab8-76cddc5a1381"
      },
      "source": [
        "plt.xlabel('Plot Number')\n",
        "plt.ylabel('Important var')\n",
        "plt.title('Interesting Graph\\nCheck it out')\n",
        "plt.legend()\n",
        "plt.show()"
      ],
      "execution_count": null,
      "outputs": [
        {
          "output_type": "stream",
          "name": "stderr",
          "text": [
            "No handles with labels found to put in legend.\n"
          ]
        },
        {
          "output_type": "display_data",
          "data": {
            "image/png": "[encoded data removed]",
            "text/plain": [
              "<Figure size 432x288 with 1 Axes>"
            ]
          },
          "metadata": {
            "needs_background": "light"
          }
        }
      ]
    },
    {
      "cell_type": "markdown",
      "metadata": {
        "id": "uOKIVfwn7aO_"
      },
      "source": [
        "# **Annotation Plot**"
      ]
    },
    {
      "cell_type": "markdown",
      "metadata": {
        "id": "j4K-QluaH6q4"
      },
      "source": [
        "Annotations adalah informasi tambahan pada sebuah dokumen, pada kasus ini adalah pada sebuah plot grafik. Pemberian annotations dimaksudkan untuk memfokuskan pada informasi yang penting yang ingin disampaikan."
      ]
    },
    {
      "cell_type": "markdown",
      "metadata": {
        "id": "x1dNOKu8JMBQ"
      },
      "source": [
        "## Annotations pada matplotlib"
      ]
    },
    {
      "cell_type": "markdown",
      "metadata": {
        "id": "MUbocHlsJAgf"
      },
      "source": [
        "### Syntax pada matplotlib\n",
        "``` python\n",
        "matplotlib.pyplot.annotate(text, xy, xytext, xycoords, textcoords, arrowprops, annotation_clip)\n",
        "```\n"
      ]
    },
    {
      "cell_type": "markdown",
      "metadata": {
        "id": "LQRg9ToCJXy8"
      },
      "source": [
        "## Annotation sederhana\n",
        "``` python\n",
        "matplotlib.pyplot.annotate(text, xy)\n",
        "```"
      ]
    },
    {
      "cell_type": "markdown",
      "metadata": {
        "id": "Iqd16fEKJ3Qg"
      },
      "source": [
        "Import Library"
      ]
    },
    {
      "cell_type": "code",
      "metadata": {
        "id": "vzSfRguSJ21t"
      },
      "source": [
        "import numpy as np\n",
        "import matplotlib.pyplot as plt"
      ],
      "execution_count": null,
      "outputs": []
    },
    {
      "cell_type": "code",
      "metadata": {
        "colab": {
          "base_uri": "https://localhost:8080/",
          "height": 269
        },
        "id": "u-ZwYcMIJ0Jg",
        "outputId": "ddb109ce-a986-431f-ca1f-4f11ae337fca"
      },
      "source": [
        "fig,ax = plt.subplots()\n",
        "ax.set(xlim=(0,10), ylim=(0,10))\n",
        "ax.annotate(s = 'Koordinat (4,6)', xy = (4,6))\n",
        "ax.annotate(s = 'Koordinat 8,8', xy = (8,8))\n",
        "plt.show()"
      ],
      "execution_count": null,
      "outputs": [
        {
          "output_type": "display_data",
          "data": {
            "image/png": "[encoded data removed]",
            "text/plain": [
              "<Figure size 432x288 with 1 Axes>"
            ]
          },
          "metadata": {
            "needs_background": "light"
          }
        }
      ]
    },
    {
      "cell_type": "markdown",
      "metadata": {
        "id": "qPKS-WI1JjUp"
      },
      "source": [
        "### Penggunaan xycords\n",
        "Dalam plot grafik terdapat beberapa koordinat dalam satu gambar, contoh pada plot sebelumnya terdapat koordinat x= y = (0,10). Namun pada gambar tersebut terdapat koordinat dari frame gambar yang tidak ditampilkan. xycoords digunakan untuk memiliih koordinat mana yang akan digunakan untuk menempatkan text annotations. Secara default pada matplotlib menggunakan koordinat 'data'\n",
        "\n",
        "| Arguments | Koordinat yang dipakai |\n",
        "| --- | --- | \n",
        "| 'figure points' | menggunakan koordinat berdasarkan titik pada frame gambar dari kiri bawah ke kanan atas|\n",
        "| 'figure pixels' | menggunakan koordinat berdasarkan pixel pada frame gambar dari kiri bawah ke kanan atas |\n",
        "| ' figure fraction ' | menggunakan skala koordinat gambar (0,0) berada di kiri bawah, (1,1) kanan atas |\n",
        "| 'axes point' | point dari sumbu grafik, dari kiri bawah |\n",
        "| 'axes pixels' | pixel dari sumbu grafik, dari kiri bawah |\n",
        "| 'axes fraction' | skala dari sumbu grafik, (0,0) kiri bawah, (1,1) kanan atas |\n",
        "| 'data' | menggunakan koordinat sesuai dengan sumbu pada grafik |"
      ]
    },
    {
      "cell_type": "code",
      "metadata": {
        "colab": {
          "base_uri": "https://localhost:8080/",
          "height": 269
        },
        "id": "_W49nzXuLK9S",
        "outputId": "deebc4bf-760e-4cce-ac36-05394f079736"
      },
      "source": [
        "fig, ax = plt.subplots()\n",
        "ax.set(xlim = (0,10), ylim = (0,10))\n",
        "ax.annotate(s = 'figure points', xy = (100,108), xycoords = 'figure points')\n",
        "ax.annotate(s = 'figure pixels', xy = (50,70),xytext = (40,120), xycoords = 'figure pixels')\n",
        "ax.annotate(s = 'figure fraction', xy = (0.1,0.108), xycoords = 'figure fraction')\n",
        "ax.annotate(s = 'axes points', xy = (100,108), xycoords = 'axes points')\n",
        "ax.annotate(s = 'axes pixels', xy = (50,70), xycoords = 'axes pixels')\n",
        "ax.annotate(s = 'axes fraction', xy = (0.1,0.108), xycoords = 'axes fraction')\n",
        "ax.annotate(s = 'data', xy = (4,3),xytext = (5.5,8.5))\n",
        "plt.show()"
      ],
      "execution_count": null,
      "outputs": [
        {
          "output_type": "display_data",
          "data": {
            "image/png": "[encoded data removed]",
            "text/plain": [
              "<Figure size 432x288 with 1 Axes>"
            ]
          },
          "metadata": {
            "needs_background": "light"
          }
        }
      ]
    },
    {
      "cell_type": "markdown",
      "metadata": {
        "id": "JnJKc690LRvh"
      },
      "source": [
        "### Textcoords\n",
        "|Perintah| Fungsi|\n",
        "|--- |---|\n",
        "|'offset points'| mengikuti point dari nilai xy|"
      ]
    },
    {
      "cell_type": "code",
      "metadata": {
        "colab": {
          "base_uri": "https://localhost:8080/",
          "height": 338
        },
        "id": "iJOri3rdLYvs",
        "outputId": "7ebdbb5d-a86a-4578-8558-8fb6fb343444"
      },
      "source": [
        "fig,ax = plt.subplots()\n",
        "ax.set(xlim = (0,10), ylim = (0,10))\n",
        "ax.annotate(s = 'offset points', xy = (4,6), color = 'b')\n",
        "ax.annotate(s = 'offset points', xy = (4,6), textcoords = 'offset points')\n",
        "ax.annotate(s = 'offset pixel', xy = (2,3), color = 'r')\n",
        "ax.annotate(s = 'offset pixels', xy = (2,3), textcoords = 'offset pixels')\n",
        "plt.show()"
      ],
      "execution_count": null,
      "outputs": [
        {
          "output_type": "stream",
          "name": "stderr",
          "text": [
            "/usr/local/lib/python3.7/dist-packages/ipykernel_launcher.py:4: UserWarning: You have used the `textcoords` kwarg, but not the `xytext` kwarg.  This can lead to surprising results.\n",
            "  after removing the cwd from sys.path.\n",
            "/usr/local/lib/python3.7/dist-packages/ipykernel_launcher.py:6: UserWarning: You have used the `textcoords` kwarg, but not the `xytext` kwarg.  This can lead to surprising results.\n",
            "  \n"
          ]
        },
        {
          "output_type": "display_data",
          "data": {
            "image/png": "[encoded data removed]",
            "text/plain": [
              "<Figure size 432x288 with 1 Axes>"
            ]
          },
          "metadata": {
            "needs_background": "light"
          }
        }
      ]
    },
    {
      "cell_type": "markdown",
      "metadata": {
        "id": "PaCaiRWrLo2p"
      },
      "source": [
        "### Arrows Prop\n",
        "\n",
        "Arrowsprop digunakan untuk membuat penunjuk annotations pada grafik.Arrowsprop merupakan sebuah dict yang memiliki key dan value.\n",
        "Key pada arrowsprop :\n",
        "\n",
        "|Key | Fungsi|\n",
        "| --- | --- |\n",
        "|arrowstyle|bentuk penunjuk|\n",
        "|connectionstyle|bentuk penghubung|\n",
        "\n",
        "bentuk-bentuk arrowstyle:\n",
        "\n",
        "``` python\n",
        "    '-'       : None \n",
        "    '->'\t  : head_length=0.4,head_width=0.2 \n",
        "    '-['\t  : widthB=1.0,lengthB=0.2,angleB=None\n",
        "    '|-|'     : widthA=1.0,widthB=1.0 \n",
        "    '-|>'     : head_length=0.4,head_width=0.2 \n",
        "    '<-'      : head_length=0.4,head_width=0.2 \n",
        "    '<->'     : head_length=0.4,head_width=0.2 \n",
        "    '<|-'     : head_length=0.4,head_width=0.2 \n",
        "    '<|-|>'   : head_length=0.4,head_width=0.2 \n",
        "    'fancy'   : head_length=0.4,head_width=0.4,tail_width=0.4 \n",
        "    'simple'  : head_length=0.5,head_width=0.5,tail_width=0.2 \n",
        "    'wedge'   : tail_width=0.3,shrink_factor=0.5 \n",
        "````\n",
        "\n",
        "macam-macam connectionstyle:\n",
        "\n",
        "```python\n",
        "    angle   : angleA=90,angleB=0,rad=0.0\n",
        "    angle3  : angleA=90,angleB=0\n",
        "    arc     : angleA=0,angleB=0,armA=None,armB=None,rad=0.0\n",
        "    arc3    : rad=0.0\n",
        "    bar     : armA=0.0,armB=0.0,fraction=0.3,angle=None\n",
        "```"
      ]
    },
    {
      "cell_type": "code",
      "metadata": {
        "colab": {
          "base_uri": "https://localhost:8080/",
          "height": 269
        },
        "id": "hZ78tTsXLrff",
        "outputId": "dd9622ce-4111-496c-9ca8-9743100e4f3b"
      },
      "source": [
        "import math\n",
        "x = np.linspace(1,30)\n",
        "y = np.sin(x)\n",
        "fig,ax = plt.subplots()\n",
        "ax.plot(x,y)\n",
        "ax.set(xlim=(-3,35), ylim = (-3,3))\n",
        "ax.annotate('local max', xy=(2, 1),  xycoords='data',\n",
        "            xytext=(0.15, 0.8), textcoords='axes fraction',\n",
        "            arrowprops=dict(arrowstyle = '->'))\n",
        "ax.annotate('local min', xy=(5, -1),  xycoords='data',\n",
        "            xytext=(0.8, 0.2), textcoords='axes fraction',\n",
        "            arrowprops=dict(arrowstyle = '<->',connectionstyle = 'angle3'))\n",
        "plt.show()"
      ],
      "execution_count": null,
      "outputs": [
        {
          "output_type": "display_data",
          "data": {
            "image/png": "[encoded data removed]",
            "text/plain": [
              "<Figure size 432x288 with 1 Axes>"
            ]
          },
          "metadata": {
            "needs_background": "light"
          }
        }
      ]
    },
    {
      "cell_type": "markdown",
      "metadata": {
        "id": "2waRjToY7dNO"
      },
      "source": [
        "# **Stacked Bar Plot**"
      ]
    },
    {
      "cell_type": "markdown",
      "metadata": {
        "id": "SAPsFUV6CHSz"
      },
      "source": [
        "Stacked Bar adalah bagan yang menggunakan bar untuk menunjukkan perbandingan antar kategori data, dengan cara membandingkan setiap bagian dari keseluruhan. Setiap bar di bagan mewakili keseluruhan, dan segmen di bar mewakili bagian atau kategori yang berbeda dari keseluruhan itu."
      ]
    },
    {
      "cell_type": "markdown",
      "metadata": {
        "id": "EDNVCtHo8sZO"
      },
      "source": [
        "## Contoh\n",
        "perbandingan jumlah penjualan produk MSGLOW setiap bulan"
      ]
    },
    {
      "cell_type": "code",
      "metadata": {
        "colab": {
          "base_uri": "https://localhost:8080/",
          "height": 296
        },
        "id": "H0VkWAeN81au",
        "outputId": "6c6a0a56-30df-417f-89d8-7596c6e9a1d4"
      },
      "source": [
        "# import data\n",
        "import matplotlib.pyplot as plt\n",
        "import numpy as np\n",
        "\n",
        "# membuat data\n",
        "Produk_MSGLOW = ['Toner', 'Essence', 'Red Jelly', 'JJ glow']\n",
        "Bulan_1 = np.array([75, 90, 85, 80])\n",
        "Bulan_2 = np.array([100, 85, 90, 85])\n",
        "Bulan_3 = np.array([80, 75, 85, 90])\n",
        "Bulan_4 = np.array([85, 80, 80, 95])\n",
        "\n",
        "# stacked bar\n",
        "plt.bar(Produk_MSGLOW, Bulan_1, color='r')\n",
        "plt.bar(Produk_MSGLOW, Bulan_2, bottom=Bulan_1, color='b')\n",
        "plt.bar(Produk_MSGLOW, Bulan_3, bottom=Bulan_1+Bulan_2, color='y')\n",
        "plt.bar(Produk_MSGLOW, Bulan_4, bottom=Bulan_1+Bulan_2+Bulan_3, color='g')\n",
        "plt.xlabel(\"Produk_MSGLOW\")\n",
        "plt.ylabel(\"Jumlah Penjualan\")\n",
        "plt.legend([\"Jan\", \"Feb\", \"Mar\", \"Apr\"])\n",
        "plt.title(\"Penjualan Produk MSGLOW\")\n",
        "plt.show()"
      ],
      "execution_count": null,
      "outputs": [
        {
          "output_type": "display_data",
          "data": {
            "image/png": "[encoded data removed]",
            "text/plain": [
              "<Figure size 432x288 with 1 Axes>"
            ]
          },
          "metadata": {
            "needs_background": "light"
          }
        }
      ]
    },
    {
      "cell_type": "markdown",
      "metadata": {
        "id": "aicWiNBLoVZF"
      },
      "source": [
        "# **Multiple Plot**"
      ]
    },
    {
      "cell_type": "markdown",
      "metadata": {
        "id": "rxttBPAPCEHl"
      },
      "source": [
        "Di Matplotlib, kita dapat menggambar banyak grafik dalam satu plot dengan dua cara. Salah satunya dengan menggunakan fungsi subplot() dan lainnya dengan superimposisi grafik kedua pada yang pertama yaitu, semua grafik akan muncul pada plot yang sama."
      ]
    },
    {
      "cell_type": "markdown",
      "metadata": {
        "id": "YiH06if9pLOu"
      },
      "source": [
        "## Beberapa fungsi yang digunakan untuk menggambar banyak grafik dalam satu plot :"
      ]
    },
    {
      "cell_type": "markdown",
      "metadata": {
        "id": "df356483GNKZ"
      },
      "source": [
        "### 1. Fungsi subplot() \n",
        "Fungsi subplot() digunakan untuk memplot lebih dari satu grafik dalam satu gambar dengan hanya memanggilnya sekali.\n",
        "\n",
        "Fungsi ini ditulis sebagai berikut: \n",
        "\n",
        "Syntaks: matplotlib.pyplot.subplots(nrows=1, ncols=1, sharex=False, sharey=False, squeeze=True, subplot_kw=None, gridspec_kw=None, **fig_kw)\n",
        "\n",
        "Parameter:\n",
        "\n",
        "- nrows, ncols:  Ini memberikan jumlah baris dan kolom masing-masing. Dan, harus dicatat bahwa kedua parameter ini opsional dan nilai defaultnya adalah 1.\n",
        "\n",
        "- sharex, sharey:  Parameter ini menentukan tentang properti yang dibagikan di antara sumbu a dan y. Nilai yang mungkin untuk mereka dapat berupa, baris, tidak ada, atau nilai default yang False.\n",
        "\n",
        "- squeeze:  Parameter ini adalah nilai boolean yang ditentukan, yang menanyakan pemrogram apakah akan menghapus dimensi ekstra dari larik. Ini memiliki nilai default False.\n",
        "\n",
        "- subplot_kw: Parameter ini memungkinkan kita untuk menambahkan kata kunci ke setiap subplot dan nilai defaultnya adalah None.\n",
        "\n",
        "- gridspec_kw: Ini memungkinkan kita untuk menambahkan grid pada setiap subplot dan memiliki nilai default None.\n",
        "\n",
        "- **fig_kw: Ini memungkinkan kita untuk meneruskan argumen kata kunci tambahan lainnya ke pemanggilan fungsi dan memiliki nilai default None."
      ]
    },
    {
      "cell_type": "markdown",
      "metadata": {
        "id": "TzkPcKOUGhv3"
      },
      "source": [
        "Contoh"
      ]
    },
    {
      "cell_type": "code",
      "metadata": {
        "id": "2BQGASR-bcI0",
        "colab": {
          "base_uri": "https://localhost:8080/",
          "height": 281
        },
        "outputId": "e100e2f3-9f1c-4027-fd60-21fc1ee0ddd0"
      },
      "source": [
        "# importing libraries\n",
        "import matplotlib.pyplot as plt\n",
        "import numpy as np\n",
        "import math\n",
        "\n",
        "# Get the angles from 0 to 2 pie (360 degree) in array object\n",
        "X = np.arange(0, math.pi*2, 0.05)\n",
        "\n",
        "# Using built-in trigonometric function we can directly plot\n",
        "# the given cosine wave for the given angles\n",
        "Y1 = np.sin(X)\n",
        "Y2 = np.cos(X)\n",
        "Y3 = np.tan(X)\n",
        "Y4 = np.tanh(X)\n",
        "\n",
        "# Initialise the subplot function using number of rows and columns\n",
        "figure, axis = plt.subplots(2, 2)\n",
        "\n",
        "# For Sine Function\n",
        "axis[0, 0].plot(X, Y1)\n",
        "axis[0, 0].set_title(\"Sine Function\")\n",
        "\n",
        "# For Cosine Function\n",
        "axis[0, 1].plot(X, Y2)\n",
        "axis[0, 1].set_title(\"Cosine Function\")\n",
        "\n",
        "# For Tangent Function\n",
        "axis[1, 0].plot(X, Y3)\n",
        "axis[1, 0].set_title(\"Tangent Function\")\n",
        "\n",
        "# For Tanh Function\n",
        "axis[1, 1].plot(X, Y4)\n",
        "axis[1, 1].set_title(\"Tanh Function\")\n",
        "\n",
        "# Combine all the operations and display\n",
        "plt.show()"
      ],
      "execution_count": null,
      "outputs": [
        {
          "output_type": "display_data",
          "data": {
            "image/png": "[encoded data removed]",
            "text/plain": [
              "<Figure size 432x288 with 4 Axes>"
            ]
          },
          "metadata": {
            "needs_background": "light"
          }
        }
      ]
    },
    {
      "cell_type": "markdown",
      "metadata": {
        "id": "uXj6Mz36rXN0"
      },
      "source": [
        "### 2. Fungsi subplot2grid()\n",
        "Fungsi subplot2grid() ini hampir sama dengan fungsi subplot tetapi memberikan lebih banyak fleksibilitas untuk mengatur objek plot sesuai dengan kebutuhan programmer.\n",
        "\n",
        "Fungsi ini ditulis sebagai berikut:\n",
        "\n",
        "Sintaks: matplotlib.pyplot.subplot2grid(shape, loc, rowspan=1, colspan=1, fig=None, **kwargs)\n",
        "\n",
        "Parameter:\n",
        "\n",
        "- shape: Parameter ini adalah urutan dua nilai integer yang memberitahu bentuk grid yang kita butuhkan untuk menempatkan sumbu. Entri pertama untuk baris, sedangkan entri kedua untuk kolom.\n",
        "\n",
        "- loc: Seperti parameter shape, urutan 2 nilai integer dimana entri pertama tetap untuk baris dan yang kedua adalah kolom untuk menempatkan sumbu di dalam kisi.\n",
        "\n",
        "- rowspan: Parameter ini mengambil nilai integer dan angka yang menunjukkan jumlah baris sumbu yang akan dibentang atau dinaikkan ke arah kanan.\n",
        "\n",
        "- colspan: Parameter ini mengambil nilai integer dan angka yang menunjukkan jumlah kolom untuk sumbu yang akan dibentangkan atau ditambah panjangnya ke bawah.\n",
        "\n",
        "- fig: Ini adalah parameter opsional dan mengambil Gambar untuk menempatkan sumbu.\n",
        "\n",
        "- **kwargs: Ini memungkinkan kita untuk meneruskan argumen kata kunci tambahan lainnya ke pemanggilan fungsi dan memiliki nilai default None."
      ]
    },
    {
      "cell_type": "markdown",
      "metadata": {
        "id": "Fa5endOHG-D9"
      },
      "source": [
        "Contoh"
      ]
    },
    {
      "cell_type": "code",
      "metadata": {
        "id": "38VRCm0Jr3Ip",
        "colab": {
          "base_uri": "https://localhost:8080/",
          "height": 297
        },
        "outputId": "87e03d81-8583-4972-a61e-d9e0317e7195"
      },
      "source": [
        "# Importing libraries\n",
        "import matplotlib.pyplot as plt\n",
        "import numpy as np\n",
        "import math\n",
        "\n",
        "# Placing the plots in the plane\n",
        "plot1 = plt.subplot2grid((3, 3), (0, 0), colspan=2)\n",
        "plot2 = plt.subplot2grid((3, 3), (0, 2), rowspan=3, colspan=2)\n",
        "plot3 = plt.subplot2grid((3, 3), (1, 0), rowspan=2)\n",
        "\n",
        "# Using Numpy to create an array x\n",
        "x = np.arange(1, 10)\n",
        "\n",
        "# Plot for square root\n",
        "plot2.plot(x, x**0.5)\n",
        "plot2.set_title('Square Root')\n",
        "\n",
        "# Plot for exponent\n",
        "plot1.plot(x, np.exp(x))\n",
        "plot1.set_title('Exponent')\n",
        "\n",
        "# Plot for Square\n",
        "plot3.plot(x, x*x)\n",
        "plot3.set_title('Square')\n",
        "\n",
        "# Packing all the plots and displaying them\n",
        "plt.tight_layout()\n",
        "plt.show()\n"
      ],
      "execution_count": null,
      "outputs": [
        {
          "output_type": "display_data",
          "data": {
            "image/png": "[encoded data removed]",
            "text/plain": [
              "<Figure size 432x288 with 3 Axes>"
            ]
          },
          "metadata": {
            "needs_background": "light"
          }
        }
      ]
    },
    {
      "cell_type": "markdown",
      "metadata": {
        "id": "A1cMzubUTItF"
      },
      "source": [
        "Setelah belajar tentang memplot beberapa grafik menggunakan fungsi subplot dan subplot2grid dari Matplotlib Library. Seperti yang disebutkan sebelumnya, sekarang kita akan melihat memplot beberapa kurva dengan melapiskannya. Dalam metode ini kita tidak menggunakan fungsi khusus apa pun, kita langsung memplot kurva satu di atas dengan yang lain dan mencoba mengatur skala."
      ]
    },
    {
      "cell_type": "markdown",
      "metadata": {
        "id": "TRVbMtFzN46c"
      },
      "source": [
        "Contoh"
      ]
    },
    {
      "cell_type": "code",
      "metadata": {
        "colab": {
          "base_uri": "https://localhost:8080/",
          "height": 294
        },
        "id": "cXa_3a78Tu_v",
        "outputId": "2cb3343e-6662-45d3-b6ef-c83755eaab73"
      },
      "source": [
        "# Importing libraries\n",
        "import matplotlib.pyplot as plt\n",
        "import numpy as np\n",
        "import math\n",
        "\n",
        "# Using Numpy to create an array X\n",
        "X = np.arange(0, math.pi*2, 0.05)\n",
        "\n",
        "# Assign variables to the y axis part of the curve\n",
        "y = np.sin(X)\n",
        "z = np.cos(X)\n",
        "\n",
        "# Plotting both the curves simultaneously\n",
        "plt.plot(X, y, color='r', label='sin')\n",
        "plt.plot(X, z, color='g', label='cos')\n",
        "\n",
        "# Naming the x-axis, y-axis and the whole graph\n",
        "plt.xlabel(\"Angle\")\n",
        "plt.ylabel(\"Magnitude\")\n",
        "plt.title(\"Sine and Cosine functions\")\n",
        "\n",
        "# Adding legend, which helps us recognize the curve according to it's color\n",
        "plt.legend()\n",
        "\n",
        "# To load the display window\n",
        "plt.show()"
      ],
      "execution_count": null,
      "outputs": [
        {
          "output_type": "display_data",
          "data": {
            "image/png": "[encoded data removed]",
            "text/plain": [
              "<Figure size 432x288 with 1 Axes>"
            ]
          },
          "metadata": {
            "needs_background": "light"
          }
        }
      ]
    },
    {
      "cell_type": "markdown",
      "metadata": {
        "id": "IvEYqZQh7l_d"
      },
      "source": [
        "# **Histogram Plot**"
      ]
    },
    {
      "cell_type": "markdown",
      "metadata": {
        "id": "jg3z5fB2B-Di"
      },
      "source": [
        "Histogram plot merupakan salah satu jenis atau model plot data yang sangat populer. Salah satu kegunaan yang paling umum dari **Histogram Plot** adalah untuk menunjukkan distribusi data yang dimiliki. Selain itu, **Histogram Plot** juga digunakan ketika :\n",
        "\n",
        "- Data yang dimiliki berupa data numerik\n",
        "- Ukuran data yang besar\n",
        "- Dalam beberapa kasus tertentu, **Histogram** dapat digunakan untuk mengetahui adanya *outliers*"
      ]
    },
    {
      "cell_type": "markdown",
      "metadata": {
        "id": "2Bs8iIXM9QRd"
      },
      "source": [
        "## Histogram VS Barplot::teks yang dimiringkan\n",
        "Sekilas **Histogram** memiliki kemiripan dengan **Barplot**, tetapi terdapat beberapa perbedaan dalam penggunaan ataupun tampilannya\n",
        "\n",
        "![Capture 1.JPG](data:image/jpeg;base64,/9j/4AAQSkZJRgABAQEAYABgAAD/4RD4RXhpZgAATU0AKgAAAAgABAE7AAIAAAAPAAAISodpAAQAAAABAAAIWpydAAEAAAAeAAAQ0uocAAcAAAgMAAAAPgAAAAAc6gAAAAgAAAAAAAAAAAAAAAAAAAAAAAAAAAAAAAAAAAAAAAAAAAAAAAAAAAAAAAAAAAAAAAAAAAAAAAAAAAAAAAAAAAAAAAAAAAAAAAAAAAAAAAAAAAAAAAAAAAAAAAAAAAAAAAAAAAAAAAAAAAAAAAAAAAAAAAAAAAAAAAAAAAAAAAAAAAAAAAAAAAAAAAAAAAAAAAAAAAAAAAAAAAAAAAAAAAAAAAAAAAAAAAAAAAAAAAAAAAAAAAAAAAAAAAAAAAAAAAAAAAAAAAAAAAAAAAAAAAAAAAAAAAAAAAAAAAAAAAAAAAAAAAAAAAAAAAAAAAAAAAAAAAAAAAAAAAAAAAAAAAAAAAAAAAAAAAAAAAAAAAAAAAAAAAAAAAAAAAAAAAAAAAAAAAAAAAAAAAAAAAAAAAAAAAAAAAAAAAAAAAAAAAAAAAAAAAAAAAAAAAAAAAAAAAAAAAAAAAAAAAAAAAAAAAAAAAAAAAAAAAAAAAAAAAAAAAAAAAAAAAAAAAAAAAAAAAAAAAAAAAAAAAAAAAAAAAAAAAAAAAAAAAAAAAAAAAAAAAAAAAAAAAAAAAAAAAAAAAAAAAAAAAAAAAAAAAAAAAAAAAAAAAAAAAAAAAAAAAAAAAAAAAAAAAAAAAAAAAAAAAAAAAAAAAAAAAAAAAAAAAAAAAAAAAAAAAAAAAAAAAAAAAAAAAAAAAAAAAAAAAAAAAAAAAAAAAAAAAAAAAAAAAAAAAAAAAAAAAAAAAAAAAAAAAAAAAAAAAAAAAAAAAAAAAAAAAAAAAAAAAAAAAAAAAAAAAAAAAAAAAAAAAAAAAAAAAAAAAAAAAAAAAAAAAAAAAAAAAAAAAAAAAAAAAAAAAAAAAAAAAAAAAAAAAAAAAAAAAAAAAAAAAAAAAAAAAAAAAAAAAAAAAAAAAAAAAAAAAAAAAAAAAAAAAAAAAAAAAAAAAAAAAAAAAAAAAAAAAAAAAAAAAAAAAAAAAAAAAAAAAAAAAAAAAAAAAAAAAAAAAAAAAAAAAAAAAAAAAAAAAAAAAAAAAAAAAAAAAAAAAAAAAAAAAAAAAAAAAAAAAAAAAAAAAAAAAAAAAAAAAAAAAAAAAAAAAAAAAAAAAAAAAAAAAAAAAAAAAAAAAAAAAAAAAAAAAAAAAAAAAAAAAAAAAAAAAAAAAAAAAAAAAAAAAAAAAAAAAAAAAAAAAAAAAAAAAAAAAAAAAAAAAAAAAAAAAAAAAAAAAAAAAAAAAAAAAAAAAAAAAAAAAAAAAAAAAAAAAAAAAAAAAAAAAAAAAAAAAAAAAAAAAAAAAAAAAAAAAAAAAAAAAAAAAAAAAAAAAAAAAAAAAAAAAAAAAAAAAAAAAAAAAAAAAAAAAAAAAAAAAAAAAAAAAAAAAAAAAAAAAAAAAAAAAAAAAAAAAAAAAAAAAAAAAAAAAAAAAAAAAAAAAAAAAAAAAAAAAAAAAAAAAAAAAAAAAAAAAAAAAAAAAAAAAAAAAAAAAAAAAAAAAAAAAAAAAAAAAAAAAAAAAAAAAAAAAAAAAAAAAAAAAAAAAAAAAAAAAAAAAAAAAAAAAAAAAAAAAAAAAAAAAAAAAAAAAAAAAAAAAAAAAAAAAAAAAAAAAAAAAAAAAAAAAAAAAAAAAAAAAAAAAAAAAAAAAAAAAAAAAAAAAAAAAAAAAAAAAAAAAAAAAAAAAAAAAAAAAAAAAAAAAAAAAAAAAAAAAAAAAAAAAAAAAAAAAAAAAAAAAAAAAAAAAAAAAAAAAAAAAAAAAAAAAAAAAAAAAAAAAAAAAAAAAAAAAAAAAAAAAAAAAAAAAAAAAAAAAAAAAAAAAAAAAAAAAAAAAAAAAAAAAAAAAAAAAAAAAAAAAAAAAAAAAAAAAAAAAAAAAAAAAAAAAAAAAAAAAAAAAAAAAAAAAAAAAAAAAAAAAAAAAAAAAAAAAAAAAAAAAAAAAAAAAAAAAAAAAAAAAAAAAAAAAAAAAAAAAAAAAAAAAAAAAAAAAAAAAAAAAAAAAAAAAAAAAAAAAAAAAAAAAAAAAAAAAAAAAAAAAAAAAAAAAAAAAAAAAAAAAAAAAAAAAAAAAAAAAAAAAAAAAAAAAAAAAAAAAAAAAAAAAAAAAAAAAAAAAAAAAAAAAAAAAAAAAAAAAAAAAAAAAAAAAAAAAAAAAAAAAAAAAAAAAAAAAAAAAAAAAAAAAAAAAAAAAAAAAAAAAAAAAAAAAAAAAAAAAAAAAAAAAAAAAAAAAAAAAAAAAAAAAAAAAAAAAAAAAAAAAAAAAAAAAAAAAAAAAAAAAAAAAAAAAAAAAAAAAAAAAAAAAAAAAAAAAAAAAAAAAAAAAAAAAAAAAAAAAAAAAAAAAAAAAAAAAAAAAAAAAAAAAAAAAAAAAAAAAAAAAAAAAAAAAAAAAAAAAAAAAAAAAAAAAAAAAAAAAAAAAAAAAAAAAAAAAAAAAAAAAAAAAAAAAAAAAAAAAAAAAAAAAAAAAAAAAAAAAAAAAAAAAAAAAAAAAAAAAAAAAAAAAAAAAAAAAAAAAAAAAAAAAAAAAAAAAAAAAAAAAAAAAAAAAAAAAAAAAAAAAAAAAAAAAAAAAAAAAAAAAAAAAAAAAAAAAAAAAAAAAAAAAAAAAAAAAAAAAAAAAAAAAAAAAAAAAAAAAAAAAAAAAAAAAAAAAAAAAAAAAAAAAAAAAAAAAAAAAAAAAAAAAAAAAAAAAAAAAAAAAAAAAAAAAAAAAAAAAAAAAAAAAAAAAAAAAAAAAAAAAAAAAAAAAAAAAAAAAAAAFNhdHJpYSBTaXJlZ2FyAAAABZADAAIAAAAUAAAQqJAEAAIAAAAUAAAQvJKRAAIAAAADNjkAAJKSAAIAAAADNjkAAOocAAcAAAgMAAAInAAAAAAc6gAAAAgAAAAAAAAAAAAAAAAAAAAAAAAAAAAAAAAAAAAAAAAAAAAAAAAAAAAAAAAAAAAAAAAAAAAAAAAAAAAAAAAAAAAAAAAAAAAAAAAAAAAAAAAAAAAAAAAAAAAAAAAAAAAAAAAAAAAAAAAAAAAAAAAAAAAAAAAAAAAAAAAAAAAAAAAAAAAAAAAAAAAAAAAAAAAAAAAAAAAAAAAAAAAAAAAAAAAAAAAAAAAAAAAAAAAAAAAAAAAAAAAAAAAAAAAAAAAAAAAAAAAAAAAAAAAAAAAAAAAAAAAAAAAAAAAAAAAAAAAAAAAAAAAAAAAAAAAAAAAAAAAAAAAAAAAAAAAAAAAAAAAAAAAAAAAAAAAAAAAAAAAAAAAAAAAAAAAAAAAAAAAAAAAAAAAAAAAAAAAAAAAAAAAAAAAAAAAAAAAAAAAAAAAAAAAAAAAAAAAAAAAAAAAAAAAAAAAAAAAAAAAAAAAAAAAAAAAAAAAAAAAAAAAAAAAAAAAAAAAAAAAAAAAAAAAAAAAAAAAAAAAAAAAAAAAAAAAAAAAAAAAAAAAAAAAAAAAAAAAAAAAAAAAAAAAAAAAAAAAAAAAAAAAAAAAAAAAAAAAAAAAAAAAAAAAAAAAAAAAAAAAAAAAAAAAAAAAAAAAAAAAAAAAAAAAAAAAAAAAAAAAAAAAAAAAAAAAAAAAAAAAAAAAAAAAAAAAAAAAAAAAAAAAAAAAAAAAAAAAAAAAAAAAAAAAAAAAAAAAAAAAAAAAAAAAAAAAAAAAAAAAAAAAAAAAAAAAAAAAAAAAAAAAAAAAAAAAAAAAAAAAAAAAAAAAAAAAAAAAAAAAAAAAAAAAAAAAAAAAAAAAAAAAAAAAAAAAAAAAAAAAAAAAAAAAAAAAAAAAAAAAAAAAAAAAAAAAAAAAAAAAAAAAAAAAAAAAAAAAAAAAAAAAAAAAAAAAAAAAAAAAAAAAAAAAAAAAAAAAAAAAAAAAAAAAAAAAAAAAAAAAAAAAAAAAAAAAAAAAAAAAAAAAAAAAAAAAAAAAAAAAAAAAAAAAAAAAAAAAAAAAAAAAAAAAAAAAAAAAAAAAAAAAAAAAAAAAAAAAAAAAAAAAAAAAAAAAAAAAAAAAAAAAAAAAAAAAAAAAAAAAAAAAAAAAAAAAAAAAAAAAAAAAAAAAAAAAAAAAAAAAAAAAAAAAAAAAAAAAAAAAAAAAAAAAAAAAAAAAAAAAAAAAAAAAAAAAAAAAAAAAAAAAAAAAAAAAAAAAAAAAAAAAAAAAAAAAAAAAAAAAAAAAAAAAAAAAAAAAAAAAAAAAAAAAAAAAAAAAAAAAAAAAAAAAAAAAAAAAAAAAAAAAAAAAAAAAAAAAAAAAAAAAAAAAAAAAAAAAAAAAAAAAAAAAAAAAAAAAAAAAAAAAAAAAAAAAAAAAAAAAAAAAAAAAAAAAAAAAAAAAAAAAAAAAAAAAAAAAAAAAAAAAAAAAAAAAAAAAAAAAAAAAAAAAAAAAAAAAAAAAAAAAAAAAAAAAAAAAAAAAAAAAAAAAAAAAAAAAAAAAAAAAAAAAAAAAAAAAAAAAAAAAAAAAAAAAAAAAAAAAAAAAAAAAAAAAAAAAAAAAAAAAAAAAAAAAAAAAAAAAAAAAAAAAAAAAAAAAAAAAAAAAAAAAAAAAAAAAAAAAAAAAAAAAAAAAAAAAAAAAAAAAAAAAAAAAAAAAAAAAAAAAAAAAAAAAAAAAAAAAAAAAAAAAAAAAAAAAAAAAAAAAAAAAAAAAAAAAAAAAAAAAAAAAAAAAAAAAAAAAAAAAAAAAAAAAAAAAAAAAAAAAAAAAAAAAAAAAAAAAAAAAAAAAAAAAAAAAAAAAAAAAAAAAAAAAAAAAAAAAAAAAAAAAAAAAAAAAAAAAAAAAAAAAAAAAAAAAAAAAAAAAAAAAAAAAAAAAAAAAAAAAAAAAAAAAAAAAAAAAAAAAAAAAAAAAAAAAAAAAAAAAAAAAAAAAAAAAAAAAAAAAAAAAAAAAAAAAAAAAAAAAAAAAAAAAAAAAAAAAAAAAAAAAAAAAAAAAAAAAAAAAAAAAAAAAAAAAAAAAAAAAAAAAAAAAAAAAAAAAAAAAAAAAAAAAAAAAAAAAAAAAAAAAAAAAAAAAAAAAAAAAAAAAAAAAAAAAAAAAAAAAAAAAAAAAAAAAAAAAAAAAAAAAAAAAAAAAAAAAAAAAAAAAAAAAAAAAAAAAAAAAAAAAAAAAAAAAAAAAAAAAAAAAAAAAAAAAAAAAAAAAAAAAAAAAAAAAAAAAAAAAAAAAAAAAAAAAAAAAAAAAAAAAAAAAAAAAAAAAAAAAAAAAAAAAAAAAAAAAAAAAAAAAAAAAAAAAAAAAAAAAAAAAAAAAAAAAAAAAAAAAAAAAAAAAAAAAAAAAAAAAAAAAAAAAAAAAAAAAAAAAAAAAAAAAAAAAAAAAAAAAAAAAAAAAAAAAAAAAAAAAAAAAAAAAAAAAAAAAAAAAAAAAAAAAAAAAAAAAAAAAAAAAAAAAAAAAAAAAAAAAAAAAAAAAAAAAAAAAAAAAAAAAAAAAAAAAAAAAAAAAAAAAAAAAAAAAAAAAAAAAAAAAAAAAAAAAAAAAAAAAAAAAAAAAAAAAAAAAAAAAAAAAAAAAAAAAAAAAAAAAAAAAAAAAAAAAAAAAAAAAAAAAAAAAAAAAAAAAAAAAAAAAAAAAAAAAAAAAAAAAAAAAAAAAAAAAAAAAAAAAAAAAAAAAAAAAAAAAAAAAAAAAAAAAAAAAAAAAAAAAAAAAAAAAAAAAAADIwMjE6MTE6MDQgMjI6NDc6NTQAMjAyMToxMTowNCAyMjo0Nzo1NAAAAFMAYQB0AHIAaQBhACAAUwBpAHIAZQBnAGEAcgAAAP/hCyFodHRwOi8vbnMuYWRvYmUuY29tL3hhcC8xLjAvADw/eHBhY2tldCBiZWdpbj0n77u/JyBpZD0nVzVNME1wQ2VoaUh6cmVTek5UY3prYzlkJz8+DQo8eDp4bXBtZXRhIHhtbG5zOng9ImFkb2JlOm5zOm1ldGEvIj48cmRmOlJERiB4bWxuczpyZGY9Imh0dHA6Ly93d3cudzMub3JnLzE5OTkvMDIvMjItcmRmLXN5bnRheC1ucyMiPjxyZGY6RGVzY3JpcHRpb24gcmRmOmFib3V0PSJ1dWlkOmZhZjViZGQ1LWJhM2QtMTFkYS1hZDMxLWQzM2Q3NTE4MmYxYiIgeG1sbnM6ZGM9Imh0dHA6Ly9wdXJsLm9yZy9kYy9lbGVtZW50cy8xLjEvIi8+PHJkZjpEZXNjcmlwdGlvbiByZGY6YWJvdXQ9InV1aWQ6ZmFmNWJkZDUtYmEzZC0xMWRhLWFkMzEtZDMzZDc1MTgyZjFiIiB4bWxuczp4bXA9Imh0dHA6Ly9ucy5hZG9iZS5jb20veGFwLzEuMC8iPjx4bXA6Q3JlYXRlRGF0ZT4yMDIxLTExLTA0VDIyOjQ3OjU0LjY5NDwveG1wOkNyZWF0ZURhdGU+PC9yZGY6RGVzY3JpcHRpb24+PHJkZjpEZXNjcmlwdGlvbiByZGY6YWJvdXQ9InV1aWQ6ZmFmNWJkZDUtYmEzZC0xMWRhLWFkMzEtZDMzZDc1MTgyZjFiIiB4bWxuczpkYz0iaHR0cDovL3B1cmwub3JnL2RjL2VsZW1lbnRzLzEuMS8iPjxkYzpjcmVhdG9yPjxyZGY6U2VxIHhtbG5zOnJkZj0iaHR0cDovL3d3dy53My5vcmcvMTk5OS8wMi8yMi1yZGYtc3ludGF4LW5zIyI+PHJkZjpsaT5TYXRyaWEgU2lyZWdhcjwvcmRmOmxpPjwvcmRmOlNlcT4NCgkJCTwvZGM6Y3JlYXRvcj48L3JkZjpEZXNjcmlwdGlvbj48L3JkZjpSREY+PC94OnhtcG1ldGE+DQogICAgICAgICAgICAgICAgICAgICAgICAgICAgICAgICAgICAgICAgICAgICAgICAgICAgICAgICAgICAgICAgICAgICAgICAgICAgICAgICAgICAgICAgICAgICAgICAgICAgCiAgICAgICAgICAgICAgICAgICAgICAgICAgICAgICAgICAgICAgICAgICAgICAgICAgICAgICAgICAgICAgICAgICAgICAgICAgICAgICAgICAgICAgICAgICAgICAgICAgICAKICAgICAgICAgICAgICAgICAgICAgICAgICAgICAgICAgICAgICAgICAgICAgICAgICAgICAgICAgICAgICAgICAgICAgICAgICAgICAgICAgICAgICAgICAgICAgICAgICAgIAogICAgICAgICAgICAgICAgICAgICAgICAgICAgICAgICAgICAgICAgICAgICAgICAgICAgICAgICAgICAgICAgICAgICAgICAgICAgICAgICAgICAgICAgICAgICAgICAgICAgCiAgICAgICAgICAgICAgICAgICAgICAgICAgICAgICAgICAgICAgICAgICAgICAgICAgICAgICAgICAgICAgICAgICAgICAgICAgICAgICAgICAgICAgICAgICAgICAgICAgICAKICAgICAgICAgICAgICAgICAgICAgICAgICAgICAgICAgICAgICAgICAgICAgICAgICAgICAgICAgICAgICAgICAgICAgICAgICAgICAgICAgICAgICAgICAgICAgICAgICAgIAogICAgICAgICAgICAgICAgICAgICAgICAgICAgICAgICAgICAgICAgICAgICAgICAgICAgICAgICAgICAgICAgICAgICAgICAgICAgICAgICAgICAgICAgICAgICAgICAgICAgCiAgICAgICAgICAgICAgICAgICAgICAgICAgICAgICAgICAgICAgICAgICAgICAgICAgICAgICAgICAgICAgICAgICAgICAgICAgICAgICAgICAgICAgICAgICAgICAgICAgICAKICAgICAgICAgICAgICAgICAgICAgICAgICAgICAgICAgICAgICAgICAgICAgICAgICAgICAgICAgICAgICAgICAgICAgICAgICAgICAgICAgICAgICAgICAgICAgICAgICAgIAogICAgICAgICAgICAgICAgICAgICAgICAgICAgICAgICAgICAgICAgICAgICAgICAgICAgICAgICAgICAgICAgICAgICAgICAgICAgICAgICAgICAgICAgICAgICAgICAgICAgCiAgICAgICAgICAgICAgICAgICAgICAgICAgICAgICAgICAgICAgICAgICAgICAgICAgICAgICAgICAgICAgICAgICAgICAgICAgICAgICAgICAgICAgICAgICAgICAgICAgICAKICAgICAgICAgICAgICAgICAgICAgICAgICAgICAgICAgICAgICAgICAgICAgICAgICAgICAgICAgICAgICAgICAgICAgICAgICAgICAgICAgICAgICAgICAgICAgICAgICAgIAogICAgICAgICAgICAgICAgICAgICAgICAgICAgICAgICAgICAgICAgICAgICAgICAgICAgICAgICAgICAgICAgICAgICAgICAgICAgICAgICAgICAgICAgICAgICAgICAgICAgCiAgICAgICAgICAgICAgICAgICAgICAgICAgICAgICAgICAgICAgICAgICAgICAgICAgICAgICAgICAgICAgICAgICAgICAgICAgICAgICAgICAgICAgICAgICAgICAgICAgICAKICAgICAgICAgICAgICAgICAgICAgICAgICAgICAgICAgICAgICAgICAgICAgICAgICAgICAgICAgICAgICAgICAgICAgICAgICAgICAgICAgICAgICAgICAgICAgICAgICAgIAogICAgICAgICAgICAgICAgICAgICAgICAgICAgICAgICAgICAgICAgICAgICAgICAgICAgICAgICAgICAgICAgICAgICAgICAgICAgICAgICAgICAgICAgICAgICAgICAgICAgCiAgICAgICAgICAgICAgICAgICAgICAgICAgICAgICAgICAgICAgICAgICAgICAgICAgICAgICAgICAgICAgICAgICAgICAgICAgICAgICAgICAgICAgICAgICAgICAgICAgICAKICAgICAgICAgICAgICAgICAgICAgICAgICAgICAgICAgICAgICAgICAgICAgICAgICAgICAgICAgICAgICAgICAgICAgICAgICAgICAgICAgICAgICAgICAgICAgICAgICAgIAogICAgICAgICAgICAgICAgICAgICAgICAgICAgICAgICAgICAgICAgICAgICAgICAgICAgICAgICAgICAgICAgICAgICAgICAgICAgICAgICAgICAgICAgICAgICAgICAgICAgCiAgICAgICAgICAgICAgICAgICAgICAgICAgICAgICAgICAgICAgICAgICAgICAgICAgICAgICAgICAgICAgICAgICAgICAgICAgICAgICAgICAgICAgICAgICAgICAgICAgICAKICAgICAgICAgICAgICAgICAgICAgICAgICAgIDw/eHBhY2tldCBlbmQ9J3cnPz7/2wBDAAcFBQYFBAcGBQYIBwcIChELCgkJChUPEAwRGBUaGRgVGBcbHichGx0lHRcYIi4iJSgpKywrGiAvMy8qMicqKyr/2wBDAQcICAoJChQLCxQqHBgcKioqKioqKioqKioqKioqKioqKioqKioqKioqKioqKioqKioqKioqKioqKioqKioqKir/wAARCABtA7QDASIAAhEBAxEB/8QAHwAAAQUBAQEBAQEAAAAAAAAAAAECAwQFBgcICQoL/8QAtRAAAgEDAwIEAwUFBAQAAAF9AQIDAAQRBRIhMUEGE1FhByJxFDKBkaEII0KxwRVS0fAkM2JyggkKFhcYGRolJicoKSo0NTY3ODk6Q0RFRkdISUpTVFVWV1hZWmNkZWZnaGlqc3R1dnd4eXqDhIWGh4iJipKTlJWWl5iZmqKjpKWmp6ipqrKztLW2t7i5usLDxMXGx8jJytLT1NXW19jZ2uHi4+Tl5ufo6erx8vP09fb3+Pn6/8QAHwEAAwEBAQEBAQEBAQAAAAAAAAECAwQFBgcICQoL/8QAtREAAgECBAQDBAcFBAQAAQJ3AAECAxEEBSExBhJBUQdhcRMiMoEIFEKRobHBCSMzUvAVYnLRChYkNOEl8RcYGRomJygpKjU2Nzg5OkNERUZHSElKU1RVVldYWVpjZGVmZ2hpanN0dXZ3eHl6goOEhYaHiImKkpOUlZaXmJmaoqOkpaanqKmqsrO0tba3uLm6wsPExcbHyMnK0tPU1dbX2Nna4uPk5ebn6Onq8vP09fb3+Pn6/9oADAMBAAIRAxEAPwDxitqDwb4oureO4tvDerzQyoHjkjsZWV1IyCCFwQRzmsWt7xj/AMhy3/7BWnf+kUNAB/wgvi3/AKFbWv8AwXy//E0f8IL4t/6FbWv/AAXy/wDxNYNFAG9/wgvi3/oVta/8F8v/AMTR/wAIL4t/6FbWv/BfL/8AE1g0UAb3/CC+Lf8AoVta/wDBfL/8TR/wgvi3/oVta/8ABfL/APE1g0UAb3/CC+Lf+hW1r/wXy/8AxNH/AAgvi3/oVta/8F8v/wATWDRQBvf8IL4t/wChW1r/AMF8v/xNH/CC+Lf+hW1r/wAF8v8A8TWDRQBvf8IL4t/6FbWv/BfL/wDE0f8ACC+Lf+hW1r/wXy//ABNYNFAG9/wgvi3/AKFbWv8AwXy//E0f8IL4t/6FbWv/AAXy/wDxNYNFAG9/wgvi3/oVta/8F8v/AMTR/wAIL4t/6FbWv/BfL/8AE1g0UAb3/CC+Lf8AoVta/wDBfL/8TR/wgvi3/oVta/8ABfL/APE1g0UAb3/CC+Lf+hW1r/wXy/8AxNH/AAgvi3/oVta/8F8v/wATWDRQBvf8IL4t/wChW1r/AMF8v/xNH/CC+Lf+hW1r/wAF8v8A8TWDRQBvf8IL4t/6FbWv/BfL/wDE0f8ACC+Lf+hW1r/wXy//ABNYNFAG9/wgvi3/AKFbWv8AwXy//E0f8IL4t/6FbWv/AAXy/wDxNYNb3h/wnceINL1TUUv7Oxs9KWNrmW6MnAckLgRoxPI9KAD/AIQXxb/0K2tf+C+X/wCJo/4QXxb/ANCtrX/gvl/+JqTVvAuv6X4kl0NbCXULyOITAWEbTB4zjDgAZxyByBVG38M69dmYWuiajMbeVoZhHaSN5cijLI2BwwxyDyKALX/CC+Lf+hW1r/wXy/8AxNH/AAgvi3/oVta/8F8v/wATR4f8J3HiDS9U1FL+zsbPSlja5lujJwHJC4EaMTyPStvVfhdf6H4b1nU9UvYlk01rfy44F3pcpKQA6vkEDrwVzx2oAxP+EF8W/wDQra1/4L5f/iaP+EF8W/8AQra1/wCC+X/4mmReDfEUl1ZQyaJqEH26VYoJJrSRVckZ4O3ngE8Z4BNN8U+FdT8Ia3JpmsRbZE+5KisI5h6oWA3DtnHUUAS/8IL4t/6FbWv/AAXy/wDxNH/CC+Lf+hW1r/wXy/8AxNYNFAG9/wAIL4t/6FbWv/BfL/8AE0f8IL4t/wChW1r/AMF8v/xNYNFAG9/wgvi3/oVta/8ABfL/APE0f8IL4t/6FbWv/BfL/wDE1g0UAb3/AAgvi3/oVta/8F8v/wATR/wgvi3/AKFbWv8AwXy//E1g0UAb3/CC+Lf+hW1r/wAF8v8A8TR/wgvi3/oVta/8F8v/AMTWDRQBvf8ACC+Lf+hW1r/wXy//ABNH/CC+Lf8AoVta/wDBfL/8TWDRQBvf8IL4t/6FbWv/AAXy/wDxNH/CC+Lf+hW1r/wXy/8AxNYNFAG9/wAIL4t/6FbWv/BfL/8AE0f8IL4t/wChW1r/AMF8v/xNYNFAG9/wgvi3/oVta/8ABfL/APE0f8IL4t/6FbWv/BfL/wDE1g0UAb3/AAgvi3/oVta/8F8v/wATR/wgvi3/AKFbWv8AwXy//E1g0UAb3/CC+Lf+hW1r/wAF8v8A8TR/wgvi3/oVta/8F8v/AMTWDRQBvf8ACC+Lf+hW1r/wXy//ABNH/CC+Lf8AoVta/wDBfL/8TWDRQBvf8IL4t/6FbWv/AAXy/wDxNH/CC+Lf+hW1r/wXy/8AxNYNb3iH/kB+Fv8AsFP/AOltzQAf8IL4t/6FbWv/AAXy/wDxNH/CC+Lf+hW1r/wXy/8AxNYNFAG9/wAIL4t/6FbWv/BfL/8AE0f8IL4t/wChW1r/AMF8v/xNYNFAG9/wgvi3/oVta/8ABfL/APE0f8IL4t/6FbWv/BfL/wDE1g0UAb3/AAgvi3/oVta/8F8v/wATR/wgvi3/AKFbWv8AwXy//E1g0UAb3/CC+Lf+hW1r/wAF8v8A8TR/wgvi3/oVta/8F8v/AMTWDRQBvf8ACC+Lf+hW1r/wXy//ABNH/CC+Lf8AoVta/wDBfL/8TWDRQBvf8IL4t/6FbWv/AAXy/wDxNH/CC+Lf+hW1r/wXy/8AxNYNFAG9/wAIL4t/6FbWv/BfL/8AE0f8IL4t/wChW1r/AMF8v/xNYNFAG9/wgvi3/oVta/8ABfL/APE0f8IL4t/6FbWv/BfL/wDE1g0UAb3/AAgvi3/oVta/8F8v/wATR/wgvi3/AKFbWv8AwXy//E1g0UAb3/CC+Lf+hW1r/wAF8v8A8TR/wgvi3/oVta/8F8v/AMTWDRQBvf8ACC+Lf+hW1r/wXy//ABNH/CC+Lf8AoVta/wDBfL/8TWfoulT67rlnpVo8aT3kywxtKSFDMcDJAJx+Fa0PgbUpx4k2T2g/4RwsLvLt8+GZfk+XnlT1xQBD/wAIL4t/6FbWv/BfL/8AE0f8IL4t/wChW1r/AMF8v/xNS6x4Nv7TxDqOnaJa6lq0NgEaWcaZLCyhkDZeNgWQdcZ6gZo1bwHr2jeHdN1q7s5Da6gpZdkUm6H5gFEmVAUtnK8nIoAi/wCEF8W/9CtrX/gvl/8AiaP+EF8W/wDQra1/4L5f/iap3vhzW9Nnt4NR0bULSW6bZbxz2ro0zZAwoI+Y5I4HqKsyeDPFERAl8N6uhIJG6wlGQOp+72oAf/wgvi3/AKFbWv8AwXy//E0f8IL4t/6FbWv/AAXy/wDxNQR+FPEUslwkWgao72p2zqtnITCcZwwx8vHPPamW3hjX72zF3Z6HqVxbFC4mitJGQrkjduAxjIPPsaALX/CC+Lf+hW1r/wAF8v8A8TR/wgvi3/oVta/8F8v/AMTWdqGj6npPlf2rp13Y+cu6L7TA0fmD1G4DI5HSuqt/hXrF1aWT29/pr3V/p/8AaFtY+ZIJZIsZ4JTZu56bqAMb/hBfFv8A0K2tf+C+X/4mj/hBfFv/AEK2tf8Agvl/+Jq3r/gW+0rVNLsNL+0avcahpkWoCO3tWLoHzldqlicbevH0o0f4deJdaXVRBp08EulxeZNBcQSLI5xkRqoU5cgghTjINAFT/hBfFv8A0K2tf+C+X/4mj/hBfFv/AEK2tf8Agvl/+JrDkjeGVo5UZJEYqyMMFSOoI7Gm0Ab3/CC+Lf8AoVta/wDBfL/8TR/wgvi3/oVta/8ABfL/APE1g0UAb3/CC+Lf+hW1r/wXy/8AxNH/AAgvi3/oVta/8F8v/wATWDRQBvf8IL4t/wChW1r/AMF8v/xNH/CC+Lf+hW1r/wAF8v8A8TWDRQBvf8IL4t/6FbWv/BfL/wDE0f8ACC+Lf+hW1r/wXy//ABNYNFAG9/wgvi3/AKFbWv8AwXy//E0f8IL4t/6FbWv/AAXy/wDxNYNFAG9/wgvi3/oVta/8F8v/AMTR/wAIL4t/6FbWv/BfL/8AE1g0UAb3/CC+Lf8AoVta/wDBfL/8TR/wgvi3/oVta/8ABfL/APE1g0UAb3/CC+Lf+hW1r/wXy/8AxNH/AAgvi3/oVta/8F8v/wATWDRQBvf8IL4t/wChW1r/AMF8v/xNH/CC+Lf+hW1r/wAF8v8A8TWDRQBvf8IL4t/6FbWv/BfL/wDE0f8ACC+Lf+hW1r/wXy//ABNYNFAG9/wgvi3/AKFbWv8AwXy//E1Q1PQtX0Xyv7Z0u90/zs+X9qt3i34xnG4DOMj8xVCt67/5J3pH/YVvv/RVpQBg0UUUAFb3jH/kOW//AGCtO/8ASKGsGu08SazY2uoWcM/hvS72RdK0/M88l0Hf/Q4TyEmVeOnAHT15oA4uit7/AISHTP8AoT9F/wC/17/8kUf8JDpn/Qn6L/3+vf8A5IoAwaK3v+Eh0z/oT9F/7/Xv/wAkUf8ACQ6Z/wBCfov/AH+vf/kigDBore/4SHTP+hP0X/v9e/8AyRR/wkOmf9Cfov8A3+vf/kigDBore/4SHTP+hP0X/v8AXv8A8kUf8JDpn/Qn6L/3+vf/AJIoAwaK3v8AhIdM/wChP0X/AL/Xv/yRR/wkOmf9Cfov/f69/wDkigDBore/4SHTP+hP0X/v9e//ACRR/wAJDpn/AEJ+i/8Af69/+SKAMGit7/hIdM/6E/Rf+/17/wDJFH/CQ6Z/0J+i/wDf69/+SKAMGiuhh1uxuJ44LfwXpEssjBEjSS+ZnYnAAAuOST2pJdcsIJnim8GaPHJGxV0eS9BUjggj7RwaAOfore/4SHTP+hP0X/v9e/8AyRR/wkOmf9Cfov8A3+vf/kigDBore/4SHTP+hP0X/v8AXv8A8kUf8JDpn/Qn6L/3+vf/AJIoAwaK6O61a0sbqS2vfBGlW88TbZIpXvkZD6EG4yDUX/CQ6Z/0J+i/9/r3/wCSKAMGit7/AISHTP8AoT9F/wC/17/8kVK+rWkdrFcyeCNKSCZmWKVnvgshXG4A/aMEjIzjpkUAc5Xe/D7xDp2k+F/FNhe6haWN3qMdstq17aNcQsUdi25RG46Hup5rA/4SHTP+hP0X/v8AXv8A8kUf8JDpn/Qn6L/3+vf/AJIoA9Fv/FXgzWNXv7y71EPevFY75bkXiWdzNHnzJVjiO8EA4UMAAfqTUXjjx3oGreG/FtppWpGSXU9Ut54IxDIvmxrFEGJyoAwyHg+mfSuEutWtbG6e2vfA+lW08Zw8Uz3yMp9CDcZFRf8ACQ6Z/wBCfov/AH+vf/kigDZ8FeJNK0TwX4ts9TWGe41CO2FtaTrLsnKOxYFoyCuAQfvD8a6HTvijbXugarP4mljN7JqNhNBYwQMEMEMqsUTqoAAPDHnNcL/wkOmf9Cfov/f69/8AkipbnVrSynMN54I0q3lCqxjle+VgGAYHBuOhBBHqCKAO11HxhoVivie4g1ttZfXNVtruCCOCVTbRxzeadxkAGdvyAKTwB24HJ/ErUNN1nx1f6to2oRXttesJF2RyI0eFA2sHUc8dsj3qj/wkOmf9Cfov/f69/wDkipYdWtbiKaS38D6VLHAm+Zke+YRrkDLEXHAyQMnuRQBzlFb3/CQ6Z/0J+i/9/r3/AOSKP+Eh0z/oT9F/7/Xv/wAkUAYNFb3/AAkOmf8AQn6L/wB/r3/5Io/4SHTP+hP0X/v9e/8AyRQBg0V0l1q1rY3T2174H0q2nj4eKZ75GXjPINxkcVD/AMJDpn/Qn6L/AN/r3/5IoAwaK3v+Eh0z/oT9F/7/AF7/APJFH/CQ6Z/0J+i/9/r3/wCSKAMGit7/AISHTP8AoT9F/wC/17/8kUf8JDpn/Qn6L/3+vf8A5IoAwaK3v+Eh0z/oT9F/7/Xv/wAkVLcataWjIt14I0qBpI1lQSPfLuRhlWGbjkEcg96AOcore/4SHTP+hP0X/v8AXv8A8kUf8JDpn/Qn6L/3+vf/AJIoAwaK3v8AhIdM/wChP0X/AL/Xv/yRR/wkOmf9Cfov/f69/wDkigDBore/4SHTP+hP0X/v9e//ACRR/wAJDpn/AEJ+i/8Af69/+SKAMGit7/hIdM/6E/Rf+/17/wDJFH/CQ6Z/0J+i/wDf69/+SKAMGit7/hIdM/6E/Rf+/wBe/wDyRR/wkOmf9Cfov/f69/8AkigDBore/wCEh0z/AKE/Rf8Av9e//JFH/CQ6Z/0J+i/9/r3/AOSKAMGt7xD/AMgPwt/2Cn/9Lbmj/hIdM/6E/Rf+/wBe/wDyRW1ruu6emj+G2bwrpEgk012VWlu8Rj7XcDaMTg4yCecnLHnGAADh6K3v+Eh0z/oT9F/7/Xv/AMkUf8JDpn/Qn6L/AN/r3/5IoAwaK3v+Eh0z/oT9F/7/AF7/APJFH/CQ6Z/0J+i/9/r3/wCSKAMGit7/AISHTP8AoT9F/wC/17/8kUf8JDpn/Qn6L/3+vf8A5IoAwaK3v+Eh0z/oT9F/7/Xv/wAkUf8ACQ6Z/wBCfov/AH+vf/kigDBore/4SHTP+hP0X/v9e/8AyRR/wkOmf9Cfov8A3+vf/kigDBore/4SHTP+hP0X/v8AXv8A8kUf8JDpn/Qn6L/3+vf/AJIoAwaK3v8AhIdM/wChP0X/AL/Xv/yRR/wkOmf9Cfov/f69/wDkigDBore/4SHTP+hP0X/v9e//ACRR/wAJDpn/AEJ+i/8Af69/+SKAMGit7/hIdM/6E/Rf+/17/wDJFPg1qyubiOC28FaRNNKwSOOOS+ZnYnAAAuMkk9qAOeoroJNdsIZWjl8GaOkiMVZGlvQVI6gj7Rwab/wkOmf9Cfov/f69/wDkigDBore/4SHTP+hP0X/v9e//ACRR/wAJDpn/AEJ+i/8Af69/+SKAG+C9QtdJ8caNqGoS+Ta215HLLJtLbVDAk4AJP4V3P/CwNNubT4gW91c2kaanvGmGDTlia4BkcjcyRhicFTmQ55PfNcR/wkOmf9Cfov8A3+vf/kij/hIdM/6E/Rf+/wBe/wDyRQB6jd+PvDOoeNdae71m3k8P3d5b3Ox7a5jn3R26BZIJIwGVw6gEPgYAIPJrG0vxh4btbfwNdyXYP/CPzXC3FlLC5lKSSfJIpCbCVGGPzA5HGTXD/wDCQ6Z/0J+i/wDf69/+SKP+Eh0z/oT9F/7/AF7/APJFAHq/gPXNJj1210aw1Bdcub3XbjVDPHDIq28YgYbmMqqd577c455JwCum65aeHINI1aW8gg8PDTL6z0+6innuJWuHkDMGLQxsORxhMDbyeRXnFpq89jPHe2Hgi0t5Y4ftcc8L6gjLFnb5oYXHC5yN3TPGaj1LxydZlSTWNAsL+SNdqPdXt/KVHoC1ycCgDqvhz4h8JaHb6DearqCpe2V1cNcC7F05gR1wv2dY/wB3z/FvGevoK0dL8f8Ah201fwK7amY7bSpNQa9AhlxF5m4RnAX5shu2cZ5xXm//AAkOmf8AQn6L/wB/r3/5Io/4SHTP+hP0X/v9e/8AyRQBueJfEel6p8M9G06K7M+qW2oXU0ysj5VJHZgdxGDng9c1rav8SoNO0bw6vhgWkupW2iLYz3kkUvm2rEAMqZITPH3trfWuSl1a1ht4Z5vA+lRw3AJhkd74LIAcEqftGDg8HHeov+Eh0z/oT9F/7/Xv/wAkUAeiX/jfw3qOnXWmR6qLV7zwzZ2AvWgl2xTRO5eJtqlsMGAyAR9aafHHhyb7ZpB1ILGfC6aSmqSwSbJpl5ztClwvzYyRng8dK89/4SHTP+hP0X/v9e//ACRUqataSWstzH4I0p4IWVZZVe+Kxls7QT9owCcHGeuDQBz0ihJWVXWQKxAdc4b3GQDj6im1vf8ACQ6Z/wBCfov/AH+vf/kij/hIdM/6E/Rf+/17/wDJFAGDRW9/wkOmf9Cfov8A3+vf/kij/hIdM/6E/Rf+/wBe/wDyRQBg0Vvf8JDpn/Qn6L/3+vf/AJIo/wCEh0z/AKE/Rf8Av9e//JFAGDRXRwataXKzNbeCNKmWCPzZTG983lpkDc2LjgZIGT6iov8AhIdM/wChP0X/AL/Xv/yRQBg0V0aataSWstzH4I0p4IWVZZVe+Kxls7QT9owCcHGeuDUX/CQ6Z/0J+i/9/r3/AOSKAMGit7/hIdM/6E/Rf+/17/8AJFH/AAkOmf8AQn6L/wB/r3/5IoAwaK3v+Eh0z/oT9F/7/Xv/AMkUf8JDpn/Qn6L/AN/r3/5IoAwaK3v+Eh0z/oT9F/7/AF7/APJFH/CQ6Z/0J+i/9/r3/wCSKAMGit7/AISHTP8AoT9F/wC/17/8kUf8JDpn/Qn6L/3+vf8A5IoAwaK3v+Eh0z/oT9F/7/Xv/wAkUf8ACQ6Z/wBCfov/AH+vf/kigDBore/4SHTP+hP0X/v9e/8AyRR/wkOmf9Cfov8A3+vf/kigDBreu/8Aknekf9hW+/8ARVpR/wAJDpn/AEJ+i/8Af69/+SKt67eQX3gPRpLbTbXTkGpXymK1aVlY+Va/MfMdznnHXHA460ActRRRQAVveMf+Q5b/APYK07/0ihrBrtPElt4dk1CzbUdU1SC5Olafvjg02OVF/wBDhxhjOpPGP4R+PWgDi6K3vsnhL/oN61/4Jov/AJKo+yeEv+g3rX/gmi/+SqAMGit77J4S/wCg3rX/AIJov/kqj7J4S/6Detf+CaL/AOSqAMGit77J4S/6Detf+CaL/wCSqPsnhL/oN61/4Jov/kqgDBore+yeEv8AoN61/wCCaL/5Ko+yeEv+g3rX/gmi/wDkqgDBore+yeEv+g3rX/gmi/8Akqj7J4S/6Detf+CaL/5KoAwa9FuoJrvxB8OZLWJ5kksrWNGRSQzJcvvUH1XuO1cx9k8Jf9BvWv8AwTRf/JVaFlqml6bYyWeneMvFFpaykmSCCwVEckYJKi7wcgAfQUAdPd2GgSanDdXmjw6jLq/iq6s5JnuJVAh8xOVCMBu+c4JyOuQeMFzb6bD4c0XQ59Mtp7aPxNc2Mk7STBwA0ILZDgBmXg8YwMgA81yCS+H4ooI4vE/iFI7eUzQoulxgRSHHzqPtXDfKORzwPSpTfaM1nc2h8W+JjbXcnm3EJ05Nkz5B3Ov2rDHIByeeBQB0ejeG7Kz1q6u0snjex8X2tlayFnwiea+5OTgkbU65I49ay/ifpdlpOrIthaiZbyWa5bVd7EXDmRg8SrnaojPykEbsjJwCBVe51yxvPL+1+N/Fk/lujp5tkrbGTJUjN3wRk4PbJqpLNoE9s1vP4o8RSQPMbhon0uMq0pGDIQbrG4jjPWgDq4NB8MpHDbXGgrKV8MprMs63cqySSqFYoPmKhGwQflJ+Y4I4w208LeH7uzXXXtLO0iOhre/YJprloBL9oaFnJTdNsAAbAJ5YZYDrzH2vQ85/4SvxJn7P9lz/AGan+pxjy/8Aj6+5j+HpT7e/0ezmt5rTxd4mgltUMdu8WnIrQqSSVUi6+UHJ4HqaANuTT/CEWka7rGm2dtqws7exKxCS5jt4p5C6SqNxWRkyAwyc9BnrmTxL4e8Pwt4p0/S9IFrLpFrBeQ3TXUjufMePdGQTt2hZcLxu+QZY5NYN5qWk6h532/xh4nuvtAUTedp6P5gUkqGzd84ycZ6ZqOS60OaS4km8VeJJHukEdwzaahMyjGFY/avmA2rwfQelAHa+MtGs9e8WeL4RoTR31je2xhuIrh0kuWmmWPy33koNwfcpCjAQZLDOVt/BPh69vtH3WljhvEDaZcxadPdGNkEe7a7TYJdSPvJhSGrj73V9N1KBINR8Z+KbuJJPNWOewV1V+fmAN3weTz15NS3HiC0u5oZbrx14tmkgcSRPJZhjGwzhlJu+DyeR6mgDX0Hw9oPim10zUI9E+xoNRubeS0trmRvtSR2xnRSXJIYldpK7c7uAOMaejLBqVh4IaOwbS4pW1hhHZ3EyA7YF+ZHLlwMrgjcckMOhxXEQT6BaxxR23ijxFCkM4uI1j0yNQko6SAC64bgfN14qzPrGnXN0lzc+NPFU1xGWKSyWKsy7lCtgm7yMqAp9QAKANyLQfD8r6Noy6JGLrU/D8l81+bmXfHOIpHUhd23bmLkEHO7jGKPEWieGvD/hm9STT9ON99is/sUjX8j3TzSIGlMkKyYTaCSMqF+797OK5xbrQ1mhmXxV4kEsEJgicaam6OPBGxT9q4XDMMDjBPrXXal498J3+j3dmt94lQXdmlqbWS1iexg2hPnit/OGxvkyPmOCT1oA0fHPhe0vPHsC2elrqz6pqDfabs3TQrAyLk25xnbhAHLFSWDfJ0zWanhbw08Wmaq1jaXVvNpWpXMsFhPcxwSvbglSpm/eA84Ocj5eB1zy41TSxNLKPGXigSTSpNI409cvIhyjk/a+WU9D1Han3Ws6dfSeZe+NfFVw/lvHulsVc7HGHXJu+jAAEdwOaAKviiwsBoHh/WdOsY9POpQzedbwyO8YaOUruXezMMjHGT0rs/E+nadquu6xbXmjeTNbeHIb+PUvNkDu6QRBeCdnln/V42k7s/NngcTJ/wAI1NbQ283iPX5ILfcIYm0qMrHuOTtH2rAyeTirlxq+m3lgbG78aeKp7RsZt5bBWjOMY+U3eOMDH0FAHQ+IfDfg7S9QutF86zS7t5LZbXymu2ubgkpvE25fJwysWBQjGF681NANKstW8f2GmeHYVtNMtJYfIE8zmcR3UY3SNuzgbSfl2/LkE5+auZbWdPfTU09/GvitrKMKEtjYqY1CkFcL9rwMEAj0xUVvqGj2l9NeWvi/xNBdXDbpp49ORXkO7dlmF3kncAee/NAG9L4Z0mILq40uxtrOTSLW7mTULq5+zWssrsmAsW6Zt4TcvzYGTknituTwL4Z0fWb43dnZSWaa5HayLqWotbi3tvJWRzH86M7AyAYO44C8ZJNcXFrOnwalNqMHjXxVFezqFmuUsVEkg44Zhd5I4HX0FdFoPjrwzpdj5N7rnjCaf7Z9qkurOOO3kuPlVQkrGZy6gLwMjGTQAnhzwpomtSRCbTrG3ttUa9e0c3F01w0cYba0SrlEVSORMWJw3bFcr40t1gtvDJR5m83Q4ZG82Z5MHzJBhdxO1ePujAHPHJrRm8TWL3F49r4w8TWEN3cSXD2tnp6xQqztuOEF3gDP8hWTOPDV0Ihc+I9fmEMYiiEmlRt5aAkhVzdcDJPA9TQB6L458L2l541tvsmmLq0+rX4S4uTdNCtsUjU/Z+MhSUG8sykkHCDIJpnhzTNH07xN4R1TTbPTpG1KLUInNo935GY0OHQTEPuwSpzleuBnkcQNT0oTTTDxj4oEs7xySuNPTdI8ZyjMftfJU9Cenan3Gs6fd3kF3deNfFc9zbMWgmksVZ4icZKsbvIPA6egoA2dJ0rwp/wjem63rVvpltDqV7LHcJJJen7NGm0bIfL3/Pglv3pPUYGM1YOgeE9G8Nx3d5a6fexS6XPcw3F3eyR3Ms/mskAW3SRW8tgAc7fUkjFYNv4gtLWeea18deLoZblg88kdmFaVgMZYi75OO5rpbP4geFbXSba2OoeJmkgs5LVoFtolsbguHBklt/OO9jvyTv5IB9qAM3/hG9FGoSeHzpPyrof9oDXDNJvL+SJvMxu8vyt37rAUn/azVxLHSLLxxLo2l6YbEQaK9xJdQ3k4lldrHzSMhwAmWHy45xycHbXMHUNIOjjST4v8THTRyLP+zk8kfNu+59r2/e56deaZ9p0I3jXZ8VeI/tLR+U039mJvKbdm0t9qzjb8uOmOOlADfDOn2J8NeINavrBNRfTVt1it5ndY/wB5JtLtsZWOAMDBAywzmu317RLW41pL6/0mzhtbfTNMt1t9TuLkCFni4hCwKZWkwuATgDDZBJGOJ0650LSLk3Gk+KvEdjOVKGW20xI2KntlboHHA49qtQ65Y29xJPb+N/FkU0qLHJIlkqs6r0UkXeSB2HagDpPE9nY6D4O1/RLHS7eeODxILeFpZJd6boZCjZDgblHAyMHuCeaz/E3hTTLDwdqc0dpZW+oaTfQWz/ZJ7mVvmVtyTNIojZwVBJiAGc8AYzjDUtJU3hXxh4nBvxi7xp6f6QORiT/S/n6nrnqafe6xpupWgtdR8aeKru3GMQz2Cugx04N3jigDj6K3vsnhL/oN61/4Jov/AJKo+yeEv+g3rX/gmi/+SqAMGit77J4S/wCg3rX/AIJov/kqj7J4S/6Detf+CaL/AOSqAMGit77J4S/6Detf+CaL/wCSqPsnhL/oN61/4Jov/kqgDBore+yeEv8AoN61/wCCaL/5Ko+yeEv+g3rX/gmi/wDkqgDBore+yeEv+g3rX/gmi/8Akqj7J4S/6Detf+CaL/5KoAwa3vEP/ID8Lf8AYKf/ANLbmj7J4S/6Detf+CaL/wCSq2tdtfC50fw2JdY1dUGmuIiulRMWX7XcckfaBtO7cMDPABzzgAHD0VvfZPCX/Qb1r/wTRf8AyVR9k8Jf9BvWv/BNF/8AJVAGDRW99k8Jf9BvWv8AwTRf/JVH2Twl/wBBvWv/AATRf/JVAGDRW99k8Jf9BvWv/BNF/wDJVH2Twl/0G9a/8E0X/wAlUAYNFb32Twl/0G9a/wDBNF/8lUfZPCX/AEG9a/8ABNF/8lUAYNFb32Twl/0G9a/8E0X/AMlUfZPCX/Qb1r/wTRf/ACVQBg0VvfZPCX/Qb1r/AME0X/yVR9k8Jf8AQb1r/wAE0X/yVQBg0VvfZPCX/Qb1r/wTRf8AyVR9k8Jf9BvWv/BNF/8AJVAHT3UE134g+HMlrE8ySWVrGjIpIZkuX3qD6r3HatC7sNAk1OG6vNHh1GXV/FV1ZyTPcSqBD5icqEYDd85wTkdcg8Y5iy1TS9NsZLPTvGXii0tZSTJBBYKiOSMElRd4OQAPoKrpL4fiigji8T+IUjt5TNCi6XGBFIcfOo+1cN8o5HPA9KAOvubfTYfDmi6HPpltPbR+JrmxknaSYOAGhBbIcAMy8HjGBkAHmo9B8N2Vnr9xdpZPG9j4xtLK1kLPhE819ycnBI2p1yRx61zJvtGazubQ+LfExtruTzbiE6cmyZ8g7nX7VhjkA5PPAqxca7Y3ZjN3448WTmJ0kj8yyVtjISVYZu+CMnB7ZNAD/iVpdnpOrRpp9oJIblpLj+1fMY/a2LneirnaojbKFSN2Rk8ECtuHQvDSKtvPoKSeV4Yi1mSYXcyySTBUZl+9tCNyCNueThhxjlZp9AuLX7NP4o8RS2/mmfyn0yMp5h6vg3WNx9etO+1aHkn/AISvxJk2/wBlJ/s1OYcY8v8A4+vuYH3elAHU2/hXw9NbPrUlpaWsf9hwXwsp5blrdJHmeJnJj3TbBszgE8sMkCqU+n+EYdI1/WNLs7bVVtEsPLiMlykEMsm9ZlGSkjrlcjJB6cnBBxrfUNIs7iC4tPF/iaCa3i8mGSLTkVoo8k7FIu8hcknA45NF3qOkagZzf+L/ABPdG42ed52nI/m7M7d2bvnGTjPTNAHVDwZo9l4qu1l06yOmSahaW8H2+6uTgzRCUwxrAN5YBsB3O3AAOSSaZD4a8OabeWFlc6Mt+134nudJM01zKpSBHjUEBGA3jfnJ465B4xzsGtafazzzWvjbxXDLcKqzSR2Kq0oUYUMRd8gDgZ6CoGvdFeRJH8WeJWeOc3KMdNQlZiQTID9q4ckAluvAoA6zRvCfh3WdQsE/snyYodffSpVW5kLXUQhLBnJPD5QnKbR833af4U0bStQvNJ1GLSJtCuF1W5sWit7udWkRbZnyWLbg6kYYqVBzjA6VheGvEHh7QNftNQl17xDeQwXJuntW06NVlkKldx/0kjdgn5sE1Tm1nTrm6gubjxr4qlntgVglksVZogRghSbvK5HHFAHa6BZ2moPYWmo3i2NpP4J2TXLDiJTekFv88etZOl+GNPfXZxq3hqx0y2/taHTVgv7y6dskZKIIckyMMHexEfIwOa5kXWhBNg8VeJNv2f7Lt/sxMeTu3eX/AMfX3M87emeatQa9ZWxY23jjxZCXjSFjHZKu5EBCqcXf3Rk4HQZNAG6vh7w5pNxo9hc6Kuovf6/daa9xPcyoywxyxoCAjKN/z5zjHB4OeOe8P+HrJ/Fmu2t5A19Do9rdzx25cr9oaLhQxXBx3OMHioXu9Dkkikk8V+JHeGZp4mbTUJjlYgs4P2rhiQCSOSQKbBNoFrqI1C28UeIob0MXFzHpcaybj1O4XWcnJ596AO6aGG88JaY6WEulJ/wjGpzJbQ3EyqD5mc5LbmRvvbWLAgjrVfw1aaJF4j8Mat4esdPl07+0rWzkmmkuRdxXDJn94C4jOWDEFARwAfQ8rcatpl3Iz3XjPxTM7RvEzSWCsSj/AHlJN30Pcd6W71jTr825vvGniq5Nq4eAzWKv5TDoVzd/KeByKALt0mjJ4P1PXJvDlob06v8AYY4/PuBHEvlli23zNxOVJ5bGT6cV0OtLBptj42aSxbVIon0djHeXEzj5oG5dw4cgFsAbhg7R0G08Ze32jakJBqPi3xNdiWQSyCfTkfe4XaGObrkheM+nFTQazp1rdSXNr418VQzy7fMljsVVn2qVXJF3k4UkD0BIoA0/F/hDTbDSb59G06dbsavbRJFveR4UmtRL5OO+HJUEgt8uMmrl94b8PjxF4h8P6Np1o+sQ3sos7e+luNjW6xFtsTI4HmAqT+9OD8vPUVztrqml2U9zNZeMfFFvLeEm5ki09UackkkuRd/NyT19TUh1yxNtcW58b+LDBdFjcRGyXbMWGGLD7Xhsjg560AJ4nSysdd8MyX0c93Z/2VYTXELzuxdCoLopLZUEZAAIA7YroLzwDp+latb6a1nHe3GoajPPaGS6eONdPijLhnYZOGzk4BYiMhSCc1yNwPDV2YzdeI9fnMUaxRmTSo22IowqjN1wAOg7VYF7oq3VtdL4t8Si4s41itpRpqb4EXOFQ/asqBk4A9aAOtHhTw2v2TU5NOtrm3k0G7vmt7Sa5SCSSGTCsplxKARwc8enY1Qg0q31nw94dulsIVtwNTuZraW9uBawJEEO7G53Cg8kJ8zdM9CMa51jTb2RpLzxp4quHaJoWaWwViUb7yEm7+6cDI6Goba90Wza2Np4s8SwG0LNbmLTUXyS33imLr5c98daAO0i0nTNHutSn07T4Li3vPBpvpLa3efyJG+0oCVMmJQhCBjkg4zgjg1TTwr4eOlz67NaWlkDpFndiyvZblraF5ZnjZv3W6baRGpUbjgyjJxgVz51uwa/+2t428Vm78vy/tBsV8zZu37d32vON3zY9eetMTVtMi1WTVI/GfilNQkXa92tgolcYAwX+15IwB37CgDU1CLRovBviz/hG51lsXuNMcBBJticrNvRTIAzKGzgkA4xmvPK6u6vdFvmuGvfFviW5a6ZGuDNpqP5xQYQtm6+YqCQM9O1UvsnhL/oN61/4Jov/kqgDBore+yeEv8AoN61/wCCaL/5Ko+yeEv+g3rX/gmi/wDkqgDBore+yeEv+g3rX/gmi/8Akqj7J4S/6Detf+CaL/5KoAwaK3vsnhL/AKDetf8Agmi/+SqPsnhL/oN61/4Jov8A5KoAwaK3vsnhL/oN61/4Jov/AJKo+yeEv+g3rX/gmi/+SqAMGit77J4S/wCg3rX/AIJov/kqj7J4S/6Detf+CaL/AOSqAMGit77J4S/6Detf+CaL/wCSqPsnhL/oN61/4Jov/kqgDBreu/8Aknekf9hW+/8ARVpR9k8Jf9BvWv8AwTRf/JVW9dj06LwHow0i6urqH+0r4s91bLAwbyrXgKsjgjGOc9zxxyActRRRQAVveMf+Q5b/APYK07/0ihrBrtPEnhTxFqWoWd3p2gapd20mlafsmgs5HRsWcIOGAweQR+FAHF0Vvf8ACC+Lf+hW1r/wXy//ABNH/CC+Lf8AoVta/wDBfL/8TQBg0Vvf8IL4t/6FbWv/AAXy/wDxNH/CC+Lf+hW1r/wXy/8AxNAGDRW9/wAIL4t/6FbWv/BfL/8AE0f8IL4t/wChW1r/AMF8v/xNAGDRW9/wgvi3/oVta/8ABfL/APE0f8IL4t/6FbWv/BfL/wDE0AYNFb3/AAgvi3/oVta/8F8v/wATR/wgvi3/AKFbWv8AwXy//E0AZFits+oW637ulqZVE7RjLKmfmI98Zrv7/wAFw69r1hZ+HNOsrfTry7kS21WxupbhJIhH5m2WNmZlmCDO35CTkbe45y18G+LrW8huF8J6tIYpFcJLpkro2DnDKVwR6g9a6SGTx5YG1XRvA1zpcFvdG7aC30u5dJpChQ7/ADC5xsLLtBAwx780ATaP8N7G28RaV/bg1M6dqEN2FhvNPNrOJYoy2GTzOFwQwYMckbSByawj4YsrrTdCawklkj1G5u41mSxka6kESoQPKWVlZjuwoG0Z+82ORds7DxZpmuWeqaR8O7ixltd4McdheukwdSpD73Y9CR8pHX6VYtT47sUtYbTwPeRWtt9qVbZdOuirJcKqyIWLb8YUYIYMPWgCvP8ADVLXUWjvNTurO0XSDqrPdacY51VZRG0bQ7+G6kfNg8cgHI57W9CtNJuNMmh1CS60zUoFuI7gW4WRV3sjqY95G5WVhjdg8c+noOkSeJXN7/angi6toIdBl06zs4tKuzHLumV9jHlufm+bcD3znmuT1vQvGuuT27S+ENTtYLWBbe2tbbTZxHCgycDcCxJJLEkkkk80AbGveE/D1t4q8R2emGRLfTtOFy6TW7N5HMI/dETjexEhPz8Dpg9Qmt+EtBh8U63Z6MW2WOjG8aG6gfbGwhiYFGWbJY7yfmG1ScbWGCI70eO764vrl/BF5Hc6jY/YbudNNut0y5jO8gkqG/dL0AHJ49Cb/hO57i4uT4IvFu7vTjp1zcDTbrdOmxEDEE7Q4EY5UAcnINAEPxF8K2+jzDVJDHYx3sFqNOs4IBifFvF50hIICAMT2JZieMZameDPC2mNqfha912/2/2rqAFvZ/YxNHKkcqqVlJYbQ7ZUAKw9cCp9TXx/q9he2d/4Ov5ILowOF/sy4/0d4oliDxnszIgDZyD6DjDtG/4TrRrbTIv+EFub59Jnaaxmu9KuGa3LEMwAUhWGRkbgSCSQQcUAVtO+H/8AwkL381nLeRust0Y/K0x2tYvLywSSfICE44ADAZXJycBNc8L6B5/hi10m5vYp9SsIpZQbFpPM3NIC6hZGYyEqFEYAXodwycadje+PbKO3/wCKDuJ57VbhLe4m0y6LwrMzNIAAwXq7ckE89arWY8d2cmkzL4IvZbnSoGtorh9Out8kDCQGNgCFxiVuQA3TnigDnvFvhGTwuNOkL3Ri1CFpEjvbM2s8ZVypV4yzY6Ag55Bro7bwnpWi23iqzur0X2rWOjh5IHsh5cLs8JLRSbjkru2klVPzcZGaoa7pXjPXbTT7Q+B76wttOjeO3htNNuQAGbccl9xJzk5z3rSup/Hl3b6iJfAk4u9TtVtby+XSrnzplXbg9dqn5BnaoBPJBIGACpr/AII0zTJNZvL7U/sNtY3UFrHBZ2TSea8kPmDaHmyOhzuY98dlo1H4WXunaLd3LyXxubKyW8m36eyWpU7SyJcFsO6hs42gHDAE4pdch8feILe9hvPCGoIt5dxXchi0ycEPHEYlAznjaxJ9+/amapp3i7Wbf/iZfD+6nvvJSI6j/Z94szBQArEBghbAAyU570AN1b4cxWlxqllpWsPfX+l3EEM8Ulp5MbCZgilH3sSQzKCCFHJwTjnStvBulDQfEWlaXfJqWqx6hZ2IknsvKEEjTFCY33MShOQT8p+Xp0qtct8Q7i/1m8HhPUYp9XeF5mj0yf8AdNE6upTOccqOuatXN74/liuxZ+BJtPnvbqO8nubXSbgSPNG+9X+YsB83OANvJ45oArz/AAmnjvrOFLq/ihm1RdNllvtMa3wWztliBc+ah2t3UjjjnjkpdK05vE1vpdlqu63knSCW9uoBBHGS+1nxuPyDrk7TjqBXVmDxemv22tWnw5mtNQgvBeGaLT73Er5JIZWcqFJOcKF6cYHFYUXg/wAVrqAurjwbqtyu8u0Eun3AR/Y7cNj6EGgDVX4aSy69f2MZ1kRadb+dcb9I/wBIkJfYoihWQ+YGPO7cBgE9udJfBNjoWg+JYtekkijFrYXVvcyaePtUKyO2U8ot8j5G0jeBx1IqHf46EMdmvgS6Gkpata/2WdNu2gZWk8wkksZN2/5gQ/GOMAkGKytvFunxajb23w4lFjqSRpcWb6deMh2EkEEvvByc5DdhjHOQCvb/AA5SfW/scV/f3dvLFbz282n6U9w7RTLkSSJuAjUYwcsTnoCMkWNP+F8UupRWOp61JbT3GoXdjB9nsvOUm2++zkyLtz2HPqcVaN34+leQXngW4urbz4Z7e1k0y6EVq0KFI/LCkHAU42sWB6kZJz1GmnXdQ0ZI9Y0jUrdLu/up9Ws5LHUot6TOGZYRbjY4KlgPOJOePu0Aee6b4DXVvDt5qlndagVt7Se7WRtLYWxWLJKNNuwJCq5wAy8gbs5xBe6PBYeLfD0Hk25iu7exuHjRH2t5qqxDB3bJ5wegPZR0rfD+NYLRrW38C3suywl0uC8uNNuTOlq+/wCX5SE3AOfm259c85ybvSPHN7qmnX8vhLVBLp0FvBEF02faywqFUtx1IUZxj8KANTVPBWlXvi3VpNG1BJFs9bjt7qyksjFFEks5QBCrgsqn5SMJ7Hoah1nwzatZaNp8EKwyvquqQPJZ2bSyyrEY9qKgJZz1Chm4LcsBlqtXV349nuZbi38Bz2U1zexX129tpVyPtMkbblDgkgLuOSF25PJ5qNLj4hJOjnwdfMqyXrvGdMuQJBdACVSQQQPlGCpBHqaAJbHwPaaHeapHqzTNbT+G5L6N73TvLuLYiZFP7kscSDBx8wB3D5gCTXHa9oNvomo2Ci9kuNPv7WK7in+zhZRG5IOY92NwKsMb8HA5GeOquX8dzwmCHwNdWsH9mPpaxQaZc7UhaTzCRuJJbI6kn3yeax9W8P8AjbWI9PS58J6qg0+zWzi8vTZhuRWZgWyDzlj0x24oA3tZ+Hem3njbVrLw82oJZ6bAk1xDBYm4kUsqbEiXzS0hYsSSdoUA88Cs+7+G8WlrqVxrOq3NnaWVrbXS7tPzO6zkgI0RcbHDLggtjvn1uTyeOrrULi7uvAdzMb22W3v4n0272XgULtZxu+VlKKQU2859TVB9L8YLpup2Fj4EvbG11JYRNHDp9223y2LAqXZjkk85J9sUALH8PtPmbTrSLxA51LVNPN9a27WOEwFZgjyb/lJ2NjAbpzjjMq+AYb4oyTSIY9Hs7022mWTXFxOZRyRE0vzbc5ZgQBkYUZrc1RvE9rZaImieDbya8tdFW0a/fSboT2zsGV1U8KcA8Eq2Nxwax4YvGaajY31z8P7m7udPt7eC1eXT7xfKEI+VsI6gk8E5yOBgDnIBnaD4C/4SDSZruzuNQysc8sTjS3NviNSQkk+7COwXoAwGVG7JwNTXPCml39jp5sbpbTUYvDMWoNax2YEcwRNzs0gYEOQGP3TnAyeeLEGofEKMRSXHgi5u7yGKeGO9n0u58xFmLl8BSEBJkbnbnnHSqHk+PvtEc3/CIahuj0g6QB/Zk+PJMZTd/v4Y89M9qAOAore/4QXxb/0K2tf+C+X/AOJo/wCEF8W/9CtrX/gvl/8AiaAMGit7/hBfFv8A0K2tf+C+X/4mj/hBfFv/AEK2tf8Agvl/+JoAwaK3v+EF8W/9CtrX/gvl/wDiaP8AhBfFv/Qra1/4L5f/AImgDBore/4QXxb/ANCtrX/gvl/+Jo/4QXxb/wBCtrX/AIL5f/iaAMGit7/hBfFv/Qra1/4L5f8A4mj/AIQXxb/0K2tf+C+X/wCJoAwa3vEP/ID8Lf8AYKf/ANLbmj/hBfFv/Qra1/4L5f8A4mtrXfBviibR/DaReG9Xd4dNdJVWxlJjb7XcNg/LwdrKcHsQe9AHD0Vvf8IL4t/6FbWv/BfL/wDE0f8ACC+Lf+hW1r/wXy//ABNAGDVrT7uGyuTLc6dbagm0jyblpFUH1/dupz+OOelan/CC+Lf+hW1r/wAF8v8A8TR/wgvi3/oVta/8F8v/AMTQB1uu6Fo7eLfEejabomn2UOlafNdRzF7mSRisatjmfAOW4OCPUGkvPCfh3+2tPttJaRzNoH26RLy2YIxFu0nmZSfIdiv3fur/ALQ4qrPH4/uNe1bV38IagLjVrR7SdRpk+xUdQpKjqDhR1J+lSr/wnatZyjwPd/abTT204XH9m3W6SExmMBhnbkKxwQB75oAj8YeFrS08NaNrczx6fFcaRbLbxQW4LXlxszIxwRtABXLnJJIAB5xleF/DlhNHpuqa5fm3iu9SW1tbdLYT+cVKlzJlhtQb0GQGJ3H5eOda6Hj++0c6XeeD7+ayFnDapC+mXGI2iGEmXuJACQSOCCQQRUejWvjfR9Njsj4Hu76OC6+12pvNLuGNtLgAsu3AOcKSrBlyo4oAtD4eJ4k8Ya1Bp73VvjVLuCJbXS2ktrfYxKrLKCqxg8ABQ2B1A4rNvPDegP4Y8JyWt1dQX+qK4mc2jOrkTFDwsjHK/dUKvzcE7ScDbttU+IMF/Fey+BJ7q5t7y4vLaSbTLr/R2nbdIqhWAIJ6bgxGeD0qjpo8e6Xa6PHb+C71ptGld7S5fTbkyBXYs6EAhSpye2RngigDC8WeDpPDFnpl2WvRHqAl2xahYm0njaNgDlNzcEMpBzzXQaL4U0rTI9Zt9Qu1u9Wj8PS3b2j2YMVuXiDqVlLHMihlPCgDJw2RzR1rSvGOs6Zp+nL4GvdPtNPaVoIrTTrnrIVLZMhYnlfXv6Yxo+f48+xTRnwJO11caf8A2dPftpVyZ5YdmwZOdu4DHzBQTtGc0AXbPwNDfabr9jbW9jHKlnpl19q8psW0boZJXy7Ow+XOdp+bHAHArI0b4ZDW7WC7s73UprS9u3trOeDSWlGFIBkmxJiFdxx1Y4BOOKtJefEqCSeWz8ManazzR2iedDpk4ZPswwhGcjkfeBBB9AKimh8W3Vu1te/DZ7i0Wd57e2Om3iJal8b1j2OpCkgHaSQD0xQAs/g2K58OaHFctBpzWdtqM+pXSQh3ZYZ9nQY3tkhQCQOeoFUrX4f2V5bx6hDrsg0mTT574TyWOJV8mRUkjMYkIz8wIIYg8Zx1Fuy/4T6xtrK1i8GXrWtpBcWxt5NLuCs0U7bnR++M4wQQRgc0r/8ACeiCS2tvBV7a2RsJbCO1i0y52QpIwZ2UsSxYkA5Yn+VAFO48AaesYW116Sa5uNLbVbOBrAqZIVj3lZDvIR/lkAC7wdvJGQKim8C2aWvlxa2z6mdGTWFt2tNsZjMQlaMyb87wu4jCkHA5BJAuJF4+jvLO5HhDUN9ppbaXGDpk+DEyupY/7WHPPTpxWxryeJ/s1rBong29aVtCttNnvzpVyJkAiVZYxnCdQy7tpOCQGxjABzd14Dt7d9QsE1hpNZ02wN9cW32XEIACsyLLvyWCtn7gHBGa6bXvB1jp3xK0q4vI4La31DUbFLLTY7ZWS4ixEJXfkKi5JGMEsc8AcnLu28e3cNyW8E3kd/d2gs7nUU0y58+aLABDAkpkhQCwUHHfk1Yn1D4i3d4Li68HXsxjvbe+t0fS7jFvLEFXKc5wwQBgSQeowcGgDL1rwTbW3jJ9ImvZo7+V5ZnsLLT2naFDl440CkbnK4O35VUHluCKddfDiPT769XUtUuLS1tdKi1MNLYETlXcJ5bRF/lcMSMbiOBkjJI0FvPiESDdeC7y7PlT27tNplzukt5SSYCykHYGOVwQy9M4yKgv/wDhPL6GeEeCby2hm02PTBHDplziOFJBIuCxJ3ZAGSTke/NAHM6z4YfT9b0+xsLj7YmqQQT2kjx+UzLL0DLkhSDkHBI46108nhjQ9O8JeKreDUo729sru1tpbi4sTGLY+aysyMC7FDyDgAnb905FZuoaR471C60y4bwtq0MumW0VtbvFpswOIySrHIPzZP09q3JdR8fH7Q9p4Bksprq7ivZ5rfSLnfJNG4dWO4kD5hyoAHJ4yaAKf/CqpHvNKjW8v7WK/vnsi2paW1tIrBN4kVC53IRkZJU5HSuc1rw9ZWeg22saNqkmo2ct1JaO0tr5BSRFVuBubKkNkHg+oFdgupePoLi1lsvAM1p9nv21HbHpl2wkmZSrMxZiSCD0BHQYrnW8P+Nm8MpoZ8J6r9mS8a8D/wBmzb95QIRnGMYUdvxoA2PCfhPSrTWdPXV70XF7d6RPfpYvZCSEq0EpQGQt98AB/uYGPvZqrN4IsDp/2+91FdOtrXRrS+lNtaPK0pmO3GGl+9nHIKr7KKu2U/jyyjtT/wAIJPPd2tk1hFezaVcmUQEMNvBC5AcgMF3Y4JIyDWuovH13pM2nSeENQEM1hbWDMumT7hHA+5CP9okc9vQCgAt/hZc3Wkw3NtNqEkt1ZPfW5GmH7MUAZlSSffhJGVc4wQCQC3NU5vAdqlh+51l5NR/sVNZFubPEXllQzIZN+d4G4j5cHA5GcCxLp3i+80q2s9T+H91fyWlv9mt7ubT7tZY48kqPkZVO3JxuU+hyKf5Pj77R53/CIahu/sj+x8f2ZPjydmzd/v479M9qALNl4S0nRofE1peXq32rWeiGWS3ksh5cLsY23Rybjll3bSdq/e4zzUOpfCa9061uC01551m0H2l5dOaO2YSFVbyZi37wqzAEELkZI6VZuLnx7c218JPAk/2vUbNbO7vhpNz50yAAA9doPyjO1QDjkHAqpqNp4x1S4F7efD+5fU90bvqA0+8EsjJt+YqG8vJC4OEHUng80Ac14q0aw8P65caXY6lLqEtpM8NxI1r5KB1OML87Fucg5A5HGRzXZeL/AAVp2peLtct/Dl2sd/ZiGQ6YtmIYQjGNDsk3YyC6kgqOpwTiub1bwv4z1jWr3U7nwpq6TXtxJcSLHp0wUM7FiBkE4yfWui1K7+IGoSXlxF4IurC/vvLFxfWel3KzOqMGVckkAZVM4AJ2jJNAEF98Jri0kVFub5RHqEFjcS3WmNBGfNfZ5kLF/wB6ob2U8g9DWVN4Q0i3k1eSXXbk2WjulvcSpp4LyXDuyhI0Mo3LiNzuYqePu81p3Nv4vudYh1cfDqaHUo7pLtrqLTrwGWRW3Esm/YAxGTtUe2KhtbLxtBNq/wBp8EXt9bavIJbm1uNNuRHvDl1ZShV1I3MB83RjnNAF/WPBNnq/j+9srA3UdvDFYqq6VpLXGPMt4yZWUFAiZySSdxLdDyRi3HgL7HpGsXc95c3Eul3s9nJFYWYnEZj6PKS6mJGIIDYbofpW5LfeP7q6nmv/AAJPdrNPb3KwvpVykcUsMXlI6hCv8I5U5X2HSq0a+NotT1DVIfAN0mp30lw73o0+83p527eFXdsxhyBlT+J5oAzp/h8y+FX1m3ub1o4Tbl3uNNeCCVZTjMMjHMm0kZyq5ByPfc0bwFaHxR4l8MaZcDWNRt9OljD3FosUcUonhAZGLMcgFsnAxzjcDmor648e39lexS+BrpZ9QFuLy7TTLrzZzCVKE5JVfu8hVAOenTFTyviCuu6zq8XhXVIbvWEdZmj064Xyt0iyboz1UhkGCSaAKeg+CbDxFq09rpeqaleQx3EcCz2mjPLgNkebIN4EceQcEncQCSoxU9r8PLMDTodW15rS81HUJtOhhhsjMokjcIWL71wpYrzjPPTrjW/tDx21w003w+eVjepqCg6VdKq3SrgzYVgCWwCQcrkdBk5oXC+P7i+0y6fwhqAfTdQl1CEDTJ8NJJIsjBvVcqMAYOM80Ac94e8LrrGuX2n6hff2cthbT3E83kmXaIhlhtBB9a2LfwXafZpb2zu1vrGfQ7m/t5Lq1aJ1eJ9jLtSXAYEcEll5+6aZZ6T45stS1O9i8JamZdTgngmDabPtVZgQxXjgjPGc/jVu1i8fWmjxabH4Q1AwxWFxYKzaZPuMcz72PpuB6cYx2NAEuq+D7bWPHV3aWkV5bwxW1h+60rSzclTJbRlpGVSqqucknOSWGAeSMbX/AAp/YPh66aYwSXFrrk2nNKqOHcIinOd+3ac5xt3f7XYbxuPHs0lwb3wLc3kU8ltL5M2mXQRJIIvKRhtYE/KOQxKk9qo63a+PdftbmC88I6ii3OpSak5i0ycESuoUgZz8uFHHX3oAtT+EtK1uHwrZW98thqt/o5eOFLIGOWRXmIaWQMCC20KCFc/LzgYqm/gmymtYrm5vk0+3h0CHU5mt7V5GkLS7MYaXlzkcgqvTheTV+2m8d2trp6x+BLj7Xplq1rZ3x0u586FW3ZPXax+c43KQDyADmqssXj6bT3s28IagI30uPSyRpk+fKSQSBv8AeyOT0x2oA5zXPDZ0rVrG1tLn7VDqNtDc2srx+UxWUcBlyQpByDgkcda7i/0nw+W8c2s0cVlZ6ObO0huIbNJZUKOUcqMrlnZTklhnPJ4xXOanovjnVJtOll8K6tE+nWsVrC0WmzD5Y87Scg/Nz9Paum1pPE0ev65Ppngu91HT/ECwz3VveaXdfI4G5kyNpBEhblT2GD1oAwrf4cpPrf2OK/v7u3lit57ebT9Ke4doplyJJE3ARqMYOWJz0BGSKd54KttL0nULvU9WaOW11WfSo4orbeJJY1BDli67UOcE4JHGA3ON43fj6V5BeeBbi6tvPhnt7WTTLoRWrQoUj8sKQcBTjaxYHqRknOfqdn461e3uILzwdqBiuNVl1WRV024GZZAAy/7nHTr70AWLXwjYeH/iHpGj3xub+11ORrRprnT1jhlWUBElt33vvALhgw2kYHqccBc28lpdS28wxJC5Rx6EHBr1Dw/B4ij1nSft3gq/0zSdIuJNRS2tdNu382cINozIXIJZEHUKOTXFS+CvGE0zyy+GNbZ3YszHT5eSep+7QBz9Fb3/AAgvi3/oVta/8F8v/wATR/wgvi3/AKFbWv8AwXy//E0AYNb13/yTvSP+wrff+irSj/hBfFv/AEK2tf8Agvl/+Jq3ruk6jo/gPRrfV7C6sJm1K+dY7qFomK+VajIDAHGQRn2NAHLUUUUAFb3jH/kOW/8A2CtO/wDSKGsGt7xj/wAhy3/7BWnf+kUNAGDRRRQAUUUUAFFFFABRRRQAUUUUAFFFFABRRRQBLbRJPcxxSzx2yOwDTShiqD1O0E4+gJre1jwh/ZFnazHXNNu5LyFZ7W3tkuTJOjOUBG6EAcq3BIPH0zzldr/beiz694Mkury5S006xigvZLXfHJC4mlY4OM8BlOVycE45oA5y48Oa5aXsVnd6NqEF1MrPHBLauruoBJIUjJAAJJ9jUknhTxFDJMkugaoj28QmmVrOQGOM5w7ccL8rcnj5T6V6Da+LPD2mXnhT7NfWUI0z+0jOdOju/KiMsIEe0zZckt6dD6Dk53h3xfp1hH4EhudRkjg0q5uZL5AshWIO/BwB82VLdM9T60AcXH4d1uXT2votH1B7NY/Na4W1cxhOfmLYxjg89ODWhB4Rlk0u+vJbrZ9m0yPUUT7PIPMV5VjC5cL/AHs7l3KcYBPOO4i1Kw0U+CNY1HWvKWw0WRxpvlys0u5plGwhSmXPytuK4Cjr0GVP4o0SXQ5LY3jF28M21gVWJ8mZLgOyAkY4UE56e9AHFy+HtahgtJptIv44r0qtrI9s4WcsMqEOPmyOmM5pl/omq6VDDLqmmXllHOMxPc27xiTv8pYDPUdPWvT5PFHhKzVxZajBIsmuWV4HC3kkzRxuS8kzS5XzMHkRgfjxjlNd8Q2Wo+HNbt1vHmuLrxD9thVlf5otkoL5IwOqDB56ccUAUH8FanJ4Y03WdMtrvUEvEmkmS3tWcWojcrlmGeDgnJA6HrWVFoerT6W+pw6XeSWEeQ92lu5iXHXL4wOvrXd6D4g0aHSfBstx4hNjL4fnmuLm0EExaUNKXCIVXaSyjadxAw3U8ipdO8Q+FrfRLmVbiCG5n0S7tPKn+1PcRzSeZtiTb+4WH5lxxkEknHJABwieGtdkjt5I9F1FkumCwMto5EpK7wFOPmJX5hjtz0qvPpWoW2qDTbmwuob8sqC1khZZSzY2jYRnJyMDHORXYy+J4n8VaNeafqtnFHZ6Jb2UrahDM0PEISWEqiFsElhlR3JB71Q+2+HtO+Jek32kOItLtrm0mnZBI0aMpQymPePMKAhsbhuoAyh4R8SNNFEvh/VTJNGZIkFlJukQYyyjHIG5eR6j1qvZaDrGpxTS6bpV9dx25xM8Fs8gj/3iBx+NdfJ4utf7Fngj1OYTTeKTqLAeYN8OM+YTjk7gDjrkZxW5N400K4mMlhcaVDcWOuXd9bS6nHehZFkl3xyr9n7gAAiRemPcUAeaweH9ZutPe/tdJvprONDI9zHbO0aoM5YsBgAbW59j6VOnhbVlvRa6hZXOnSNA9wgurSYb0UEkgKhOMA84wO5Art9J8baZb6n4Pmub9YE06e/lvFgikEcJldyu0YyQQRjGSB1qp4e8WaZBoFimrag5vYRqocyLI5Hn26qnODnc4P0OScZzQBz2reEZNMsI7tLsTIdNtr9x9nkG3zjgLlQyjB7sVz254qXUPAt/aeLrvRrbzp4Le8Np9v8AskpjL7dwBEauckD7oya29U8UaPc+EryyhvN1xJoWm2iJ5TjMsUoaRc4xwO/Q9ia6LUfHHhjVfiFp2vf2r9kh0u/kUQCCUx3EL5b7QoC5WQk7XB5IVSOmKAPJtO02XUjciFtv2a3e4b93I+VUcj5FbH1bCjuRT5dC1eDTodQm0q9jspyBFcvbuI5CegVsYOcHpW/8P/8AWeI/+xfvP/QRXRXfiHwvF4Y1aGwvopJr6KwEZk+1yXbmJ4y4mZ/3QK4bHl8YGM9MgHCnwr4hF1FbHQdTFxNv8qI2cm99hw2BjJweuOlT2/hW8l0fVbmZJ4LzTrm3tjYvbnzHeYuMY6gjZ0wc57V0tzrug6t438WXt9fLLDfvmxa9a5W1mUSqQJRD+94RcqOgKjPQVvj4g+HbTxB4kuI7lpINSbTooZoI5EliVLdopZoiwJV4y2Ru5PY9wAebaL4cvNW8WW+gyK1lcyTeXL56EGADJcspwflAJx7VAuh6lcWNxqNhp1/caZCzA3gtW2KB/eIyqnBGRnjNdJ4CitrX4mLZWl5HeRTxXVrbXaoUDs8DqhCuMgkkDBHfv3jtNR0q48AtY6/eWc8lpDKdMhgjnW7t5XkU7WO0QtGcFjkswB4IPAAMC88O63p9mby/0fULW2DbDPNauibumNxGM8Him3mg6xpy27ahpV9ardHEBntnTzen3cj5uo6eteo+MdU0zSPF3iaTUNbmujqENva/2dAkglg2tE/mbmHljYEJTBJy4+7zQnjHwnpUlqba6tpkTxD9uP2VLuSTyjFIglka46ygspO3AyMjPYA8yk8M69DqUOnTaJqMd9OpeK1a0kEsijJJVMZI4PT0NT23hi6lttZW6We01DSYFuHsZrdldo9wVyc427Q6nGOQSe1dPomr6Pop1DTLvXodXi1C0kRLiWK6FtAxkVyrbds37wJ82wYzszvG7Fu11YX13r120mmvZ2PhZ7FJNOS4WEZYJEhM/wA5bLADPUAY6GgDzKiiigAooooAKKKKACiiigAooooAKKKKACiiigAre8Q/8gPwt/2Cn/8AS25rBre8Q/8AID8Lf9gp/wD0tuaAMGiiigAooooAKKKKACiiigAooooAKKKKACiiigAooooAdGoeVVZ1jDMAXbOF9zgE4+gro9Q8Hx6dodvqr+I9JmguhIbZYkut05jIDKAYQAckD5iBz1rmq6q51jTZfC/hKza5nEmn3Fw94LcFZIleVGBRiMbsAkc8HrQBkT+G9ctZ7WG60XUIZbwkWySWrq0+MZ2Aj5uo6eoqUeEfEhlWIeHtV8xozKqfYpMlBjLAbenI56civS7fxd4T02804W+oWYii8R/2g72yXkhMHlsvmSNMCTJnG4Lx0IzzjlNH8WQxaBocF/qcxntvEv8AaNwHLtiPbF+8J7ncJOmTyfXkA5mz8Oa5qNr9p0/RtQuoMFvNgtXdcA4JyBjg1oaR4Rl1Oxa6e78mP+z7q+QfZ5Du8jquWCqc+qlsd8HivQrnUdMFh4Y1Z/EP9nWMGt317HH5Mx+0Ri4yNoUHDY4w+3hzz1FZC+M9Em0lA0/kStpmrxGDynPlyXEhaJMhcHIPUcDvigDgJ9E1W20yLUrnTLyGxmIEd1JbusT56YcjB6Hv2p9/4f1nSrZbnU9Iv7OBpDGstxbPGpcZ+XJAGeDx7Gu61XXvDI8Ga7a6bexS3GoW1ksPmfanu5GjZC4mZ/3QK4bGzjAxnpmDxJ4r0vU7jx60V80w1aa2axLI/wC9EcnuPlwvTdjjgUAc5Y+DtS1XwtFq2kW91qEr3sls1pa2rSMiokbbyVzxmQDp+PNZlromq31hPfWWmXlxaW+TNcQ27PHFgZO5gMDA557V1fh3UtLbwZp2nXfiBdJubTXjqDh4ZmBj8uJQylFYbwVbAOO+SOM9Jovi/wAKf24mt3V2kMjX1/O8V79qeW3SYt5awJF+6AIb592TndjPFAHmaeHtals47uPR797aUqI5ltXKOWO1QGxg5PA9TxUOo6XqGkXIt9WsbmxnKhxFcwtGxU98MAccHn2rrJPFG3UvB0mlatFbPpGnqjyXUcjQwTeZKWBUKScqUBKg9ueOM3xBNo0fiTT5vDE1tbbY4nuJoFmNvHcBySyCUGTYBtOCDznAIxQBnTeGNft7u2tZ9D1KK4us/Z4XtJA82Bk7VIy2B6Vag8KXX9m65cal52nXGjpA0ltcQMrN5sioMg4K4DBuhzXWy6r4TuNZW9vb60/tC8trv7fLZfbY7K4lcqY/NGBLg/OWCADOztmneJfFOg3WhanZafdws8mi2FnElvFMIzJFPudVMg3bQvQsckY78UAcdJ4P11tRubSw0u+1FraQxu9rZTEbgASMMgYEZHBAPNVrDw3rmqiU6Xo2oXohfZKbe1eTY3ocA4Psa7jxX4z0y9h1IaTqUhNx4lF+mxJE3QiMAPyB0YdDz3xXVR6pps1zZX+mzQC4vdd1CfRmuppoop3lKxglEhcsu49HMZ6gHGTQB5P4f8LXWu3mqWY86G7sLOS4FuIC0kjoyr5W3IIYlsdzkdKpnw7rQ1YaWdHvxqBXcLT7K/mkYznZjOMc9K3fBl5baDq2vWetX39mPcabPYLMFaQJKzqMHZk44OSM8A4zwD0dl4r0C109dBuLu1vtujfYjqtxHciFm+0GbySE2zeWAduR3A+XbQBwMXhrXbi+msoNF1GW6gYLLAlq5eMkEgMoGQSATz2BrR1rwTqmlafZ30Ftd3lnNYxXc9wlowjty+fkZhkZHHJx16Vv6r4ttZ/DevWBvdPEs1rYWtoumR3Ijkihd8qTMN2QpUfN1AGM4py+LNLbUtMEuoObOHwtJp0y7ZNomaGRdmMd2Kcjjoc8UAcl/wAItq8ssMen2N1qDy28VxttbSYlBIMqCCgz06jKnsTUNz4d1qys5bq80e/t7aGTy5JpbV1RHzjaWIwDntXaaj4t0t/CeoWlnfsLmfQ9Ms1VUddzxH96mcYwBn2PbNJqfi/T7/XfEckupSzWl34fhs7UOJCGmRYDtAI4w6yHJwM5OeeQDjp/DOt2kC3F/pF/aWzSCL7RPaSLGGJxjO3r7DnitO8+H+vWmiXerLayT2lpdNbSNHbTKRtUlpMOikIMEEtgg8EV3HjTVdP0jxX4oku9Z+1y38Fvappvly5hKtG+9iV2YUISu0k/P/DzWF4o8QaNr2m+Jbe11KOJpNebUrUyxSgXMZjdcLhDhs44faOevWgDz2iiigAooooAKKKKACiiigAooooAKKKKACiiigAooooAK3rv/knekf8AYVvv/RVpWDW9d/8AJO9I/wCwrff+irSgDBooooAK7TxJ4lvtP1CztoINLeOPStPwZ9JtZnObOE8u8ZY9e546dK4ut7xj/wAhy3/7BWnf+kUNAB/wmOp/8+2i/wDgisv/AI1R/wAJjqf/AD7aL/4IrL/41WDRQBvf8Jjqf/Ptov8A4IrL/wCNUf8ACY6n/wA+2i/+CKy/+NVg0UAb3/CY6n/z7aL/AOCKy/8AjVH/AAmOp/8APtov/gisv/jVYNFAG9/wmOp/8+2i/wDgisv/AI1R/wAJjqf/AD7aL/4IrL/41WDRQBvf8Jjqf/Ptov8A4IrL/wCNUf8ACY6n/wA+2i/+CKy/+NVg0UAb3/CY6n/z7aL/AOCKy/8AjVH/AAmOp/8APtov/gisv/jVYNFAG9/wmOp/8+2i/wDgisv/AI1R/wAJjqf/AD7aL/4IrL/41WDRQBvf8Jjqf/Ptov8A4IrL/wCNUf8ACY6n/wA+2i/+CKy/+NVg0UAb3/CY6n/z7aL/AOCKy/8AjVH/AAmOp/8APtov/gisv/jVYNFAHRz+O9buVhW5XSplgj8qISaLZt5aZJ2rmLgZJOB6mov+Ex1P/n20X/wRWX/xqsGigDe/4THU/wDn20X/AMEVl/8AGqP+Ex1P/n20X/wRWX/xqsGigDrdM1TxTrXm/wBjaDZah5OPM+y+GrWXZnOM7YTjOD+Rqpc+KNas7mS2u9P0mCeJikkUugWasjDqCDDkGtLwtpl/q3w58UW2l2Vxez/a7BvKtomkbA8/JwoJxXVvp81/NZx3Rivde0rRUS+RLBdSuQxuCFRYGYK7ojAOWztB9cYAPPv+Ex1P/n20X/wRWX/xqj/hMdT/AOfbRf8AwRWX/wAar0XVdB+zX/jT/hHPD9pd31tJpb28P9nRzGLzIGaXZCQy8knKgMAOf4QRNYeHbQ+L9RksbCxeBNStIbu1tNKj1AwM0QaZWDsEghEnmLvUZBUgYC4oA85PifWxZrdnTtKFs0hiWb/hH7PYXABK7vJxkAg49xS2nifWb69gtLWz0WSe4kWKNP7DsRuZjgDJiwOTXV+Ikurb4danYaVYwvY6d4jvLeQrZRyNBCAgQtIVLKc5G8nccAZwAKf4C0+4Gj+HrzQtJtNQaTV3GrXE9skrWqLs2DcwzEu3e24EEsOvQUAcvf634i0tsahpWlwDzZIVdtAstjvGdrhW8rDbTwcE1T/4THU/+fbRf/BFZf8AxqvRZ9K0+61uxjk0+1mudQu9ehBeJCZZQP3IJPUhjhfQnioNM8PxaLoujPrGhWv26LSNWuZoL22Uszou+PzF65AxgHBAPagDgf8AhMdT/wCfbRf/AARWX/xqrUGveILhrQRaZpRF7L5Ns7aBZKsr5AKhjFgkFlzzxkZro9C0eXxZZ+Fr+20i2uGh1qVNWe3s4okWP9wy+YqgKE2h8ZGM7h1POteSXcthokWn2Nu1hZeJrm3uXhsIv9FH2iAxDeEzHnpkEbuASelAHFzeN/E+jG/0d/7NtlMhivLWPSLMI7IxGGCx7WwQfWqH/CY6n/z7aL/4IrL/AONV6Rrvh+3v/F0baDBZy6e13fS3FxNZC5uGvUDl4inG4gYaKLO1sZYN81JqOkWWnXUt6+k232oeE5Lox3elxQbZ1uQqyNbruRHAxkcjjBHJFAHnH/CY6n/z7aL/AOCKy/8AjVH/AAmOp/8APtov/gisv/jVW/HUECzaHeQ20FvJqGkQ3NwtvEsSNJudCwRcKuQgJCgDOTjmuWoA6GHxvq9vPHPbxaRFLGwdJE0SzVkYHIIIi4IPekl8bavPM8s0OjySSMWd30OzJYnkknyuTXP0UAdJdePNbvrp7m9XSrmeTl5ZtFs3ZuMckxZPFQ/8Jjqf/Ptov/gisv8A41WDRQBvf8Jjqf8Az7aL/wCCKy/+NVLH471uK2lt4l0pIJipliXRbMLIV+7uHlYOMnGema5yigDe/wCEx1P/AJ9tF/8ABFZf/GqP+Ex1P/n20X/wRWX/AMarBooA3v8AhMdT/wCfbRf/AARWX/xqj/hMdT/59tF/8EVl/wDGqwaKAN7/AITHU/8An20X/wAEVl/8ao/4THU/+fbRf/BFZf8AxqsGigDe/wCEx1P/AJ9tF/8ABFZf/GqP+Ex1P/n20X/wRWX/AMarBooA3v8AhMdT/wCfbRf/AARWX/xqj/hMdT/59tF/8EVl/wDGqwaKAN7/AITHU/8An20X/wAEVl/8ao/4THU/+fbRf/BFZf8AxqsGigDe/wCEx1P/AJ9tF/8ABFZf/GqP+Ex1P/n20X/wRWX/AMarBooA3v8AhMdT/wCfbRf/AARWX/xqtrXfFeoRaP4bdbfSCZdNd23aNaMAftdwvAMWFGFHAwM5PUknh63vEP8AyA/C3/YKf/0tuaAD/hMdT/59tF/8EVl/8ao/4THU/wDn20X/AMEVl/8AGqwaKAN7/hMdT/59tF/8EVl/8ao/4THU/wDn20X/AMEVl/8AGqwaKAN7/hMdT/59tF/8EVl/8ao/4THU/wDn20X/AMEVl/8AGqwaKAN7/hMdT/59tF/8EVl/8ao/4THU/wDn20X/AMEVl/8AGqwaKAN7/hMdT/59tF/8EVl/8ao/4THU/wDn20X/AMEVl/8AGqwaKAN7/hMdT/59tF/8EVl/8ao/4THU/wDn20X/AMEVl/8AGqwaKAN7/hMdT/59tF/8EVl/8ao/4THU/wDn20X/AMEVl/8AGqwaKAN7/hMdT/59tF/8EVl/8ao/4THU/wDn20X/AMEVl/8AGqwaKAN7/hMdT/59tF/8EVl/8ao/4THU/wDn20X/AMEVl/8AGqwaKAN7/hMdT/59tF/8EVl/8ao/4THU/wDn20X/AMEVl/8AGqwaKAO6ttR8e6xpNs1n4fW/09N5tjF4Zt5Ylyfn2YhIHI5x3FZ19rniPTNn9paPp9n5hYJ9o8OWke4qdrAZh5wRg+h4p/hD/kWfGP8A2Ck/9KYq6XQNIs5vDeiTW+mWlzqr6LqM1rE8Cubm4W4IXKEHzWWPeQpB+6OOKAOXvNd16wtbO4u7DRY4r6IzW7f2JYnegYrniLjlSOcdKLfXdfutMvNQgsNFe1sjGLiT+xLEbN5IXgxZOSD0zXeXekXuoz6E13Y20F9aeH3le0i0tLlw/wBpZT5drkIX+blWGEy3ygqMaa6RoVje+IrfVYobK0mt9JlljeIQQ/aCGwJFQkRoZMbgpOAWwe9AHkv/AAmOp/8APtov/gisv/jVW59d1+20u01Gew0VbW9aRYJP7EsTvKEBuBFkY3Dr61c0DTJZvilJZeIdMtor9DOY9OeJYoXuVjZoo9q4XaXC8dGyOueeubS9Rv8AS/CsGrafZ2moQxanM1o2moXJCxsoS0XarS7cEIwAI+Yg9SAedf8ACY6n/wA+2i/+CKy/+NUf8Jjqf/Ptov8A4IrL/wCNV6Zd+Hoo9Qvm07Qbe51JvDEN0lvcaZHG32j7RsL/AGcZVZNq/cGcngg5INH+wPN1GSeHTbWHU4tGtJL+ztdGS8uEndyDstGKxodgQvkfLuGACxoA4ZfE2tvaPdJp2lNbxuEeYeH7MorHJALeTgE4OB7Gov8AhMdT/wCfbRf/AARWX/xqvRvEsMmn6T440vw7p1s0Npf2s7Qx2EUvlRPDI0j8q2FBPBB+QHggVy/g7Trifwbe3WgaRaavrA1GGKWK4tUuPKtirHcFcEKC3BfsB1HWgClqmoeKNFlnTUtH0uEW8oglk/sGyaNZCu4JvWIru284z0osPil4t0q1e10u+tLK3kYs8NvplrGjEjBJCxgE4AH4V6DrtppTeL5brU7O0kU+LbKCWSWNWHlNb8qSeqZwSOnGapeGfBw08aXD4i0KGOafxI8fl3Vuu54PIfAwRnYWUkdjjIoA86/4THU/+fbRf/BFZf8AxqpR4n1s2bXY07SjbLIImm/4R+z2ByCQu7ycZIBOPY1s29nc+NfBN8+maPaS6tDqsJKWFnHEYrdo5B/CAdgbGSfYseM103i4TQaF4w0zQNNtGhstXieSGDTon8i3a3k3SfcO0A9HHK9iM0AcNquua/oupS6fqdhosF1DjfH/AGLYtjIDDkREdCKqf8Jjqf8Az7aL/wCCKy/+NV6h4y0O31TxLFHo8NhM0+pW0WsT30e5rdiieUmRhkhYDGVILMSpYfKKSPw/YjUPC82paSjyySakk0d5o0VgZ1S33JvgjJHByQ3B5z6GgDzD/hMdT/59tF/8EVl/8ao/4THU/wDn20X/AMEVl/8AGqv+KBFeeDfDesNa2sF5dNdwzta2yQLII3XaSiALkbyMgZIxnOK5KgDpLrx5rd9dPc3q6VczycvLNotm7NxjkmLJ4qH/AITHU/8An20X/wAEVl/8arBooA3v+Ex1P/n20X/wRWX/AMao/wCEx1P/AJ9tF/8ABFZf/GqwaKAN7/hMdT/59tF/8EVl/wDGqP8AhMdT/wCfbRf/AARWX/xqsGigDe/4THU/+fbRf/BFZf8Axqj/AITHU/8An20X/wAEVl/8arBooA3v+Ex1P/n20X/wRWX/AMao/wCEx1P/AJ9tF/8ABFZf/GqwaKAN7/hMdT/59tF/8EVl/wDGqP8AhMdT/wCfbRf/AARWX/xqsGigDe/4THU/+fbRf/BFZf8Axqj/AITHU/8An20X/wAEVl/8arBooA3v+Ex1P/n20X/wRWX/AMao/wCEx1P/AJ9tF/8ABFZf/GqwaKAN7/hMdT/59tF/8EVl/wDGqP8AhMdT/wCfbRf/AARWX/xqsGigDe/4THU/+fbRf/BFZf8Axqreu6lPqngPRp7mO1R11K+QC1tIrdceVanlY1UE89cZ6egrlq3rv/knekf9hW+/9FWlAGDRRRQAV1Oo3PhfWJre6udS1e1mWytbeSKPTIpVDRQJESGNwpIJTPQda5aigDe+yeEv+g3rX/gmi/8Akqj7J4S/6Detf+CaL/5KrBooA3vsnhL/AKDetf8Agmi/+SqPsnhL/oN61/4Jov8A5KrBooA3vsnhL/oN61/4Jov/AJKo+yeEv+g3rX/gmi/+SqwaKAN77J4S/wCg3rX/AIJov/kqj7J4S/6Detf+CaL/AOSqwaKAN77J4S/6Detf+CaL/wCSqPsnhL/oN61/4Jov/kqsGigDe+yeEv8AoN61/wCCaL/5Ko+yeEv+g3rX/gmi/wDkqsGigDe+yeEv+g3rX/gmi/8Akqj7J4S/6Detf+CaL/5KrBooA3vsnhL/AKDetf8Agmi/+SqPsnhL/oN61/4Jov8A5KrBooA3vsnhL/oN61/4Jov/AJKo+yeEv+g3rX/gmi/+SqwaKAN77J4S/wCg3rX/AIJov/kqj7J4S/6Detf+CaL/AOSqwaKAN77J4S/6Detf+CaL/wCSqPsnhL/oN61/4Jov/kqsGigDe+yeEv8AoN61/wCCaL/5Ko+yeEv+g3rX/gmi/wDkqsGigDrra98NWmg3+kx6xqpgv5YZZWbRY9wMW/bg/asY+c5yD26Vn/ZPCX/Qb1r/AME0X/yVWDRQBvfZPCX/AEG9a/8ABNF/8lUfZPCX/Qb1r/wTRf8AyVWDRQBvfZPCX/Qb1r/wTRf/ACVR9k8Jf9BvWv8AwTRf/JVYNFAG99k8Jf8AQb1r/wAE0X/yVR9k8Jf9BvWv/BNF/wDJVYNFAG99k8Jf9BvWv/BNF/8AJVH2Twl/0G9a/wDBNF/8lVg0UAb32Twl/wBBvWv/AATRf/JVH2Twl/0G9a/8E0X/AMlVg0UAb32Twl/0G9a/8E0X/wAlUfZPCX/Qb1r/AME0X/yVWDRQBvfZPCX/AEG9a/8ABNF/8lUfZPCX/Qb1r/wTRf8AyVWDRQBvfZPCX/Qb1r/wTRf/ACVR9k8Jf9BvWv8AwTRf/JVYNFAG99k8Jf8AQb1r/wAE0X/yVR9k8Jf9BvWv/BNF/wDJVYNFAG99k8Jf9BvWv/BNF/8AJVH2Twl/0G9a/wDBNF/8lVg0UAb32Twl/wBBvWv/AATRf/JVH2Twl/0G9a/8E0X/AMlVg0UAb32Twl/0G9a/8E0X/wAlUfZPCX/Qb1r/AME0X/yVWDRQBvfZPCX/AEG9a/8ABNF/8lUfZPCX/Qb1r/wTRf8AyVWDRQBvfZPCX/Qb1r/wTRf/ACVR9k8Jf9BvWv8AwTRf/JVYNFAG99k8Jf8AQb1r/wAE0X/yVR9k8Jf9BvWv/BNF/wDJVYNFAG99k8Jf9BvWv/BNF/8AJVX9Qn8JX9jpVv8A2trUf9n2rW27+yYj5mZpZd2PtPH+txjnpnvgclRQBvfZPCX/AEG9a/8ABNF/8lUfZPCX/Qb1r/wTRf8AyVWDRQBvfZPCX/Qb1r/wTRf/ACVR9k8Jf9BvWv8AwTRf/JVYNFAG99k8Jf8AQb1r/wAE0X/yVR9k8Jf9BvWv/BNF/wDJVYNFAG99k8Jf9BvWv/BNF/8AJVH2Twl/0G9a/wDBNF/8lVg0UAb32Twl/wBBvWv/AATRf/JVH2Twl/0G9a/8E0X/AMlVg0UAb32Twl/0G9a/8E0X/wAlUfZPCX/Qb1r/AME0X/yVWDRQBvfZPCX/AEG9a/8ABNF/8lUfZPCX/Qb1r/wTRf8AyVWDRQBvfZPCX/Qb1r/wTRf/ACVR9k8Jf9BvWv8AwTRf/JVYNFAG99k8Jf8AQb1r/wAE0X/yVR9k8Jf9BvWv/BNF/wDJVYNFAG99k8Jf9BvWv/BNF/8AJVH2Twl/0G9a/wDBNF/8lVg0UAb32Twl/wBBvWv/AATRf/JVH2Twl/0G9a/8E0X/AMlVg0UAb32Twl/0G9a/8E0X/wAlUfZPCX/Qb1r/AME0X/yVWDRQBvfZPCX/AEG9a/8ABNF/8lUfZPCX/Qb1r/wTRf8AyVWDRQB12m33hrS7HUrW31jVWj1K3FvMX0WMlVDq+VxdDByg654zWf8AZPCX/Qb1r/wTRf8AyVWDRQBvfZPCX/Qb1r/wTRf/ACVR9k8Jf9BvWv8AwTRf/JVYNFAG99k8Jf8AQb1r/wAE0X/yVR9k8Jf9BvWv/BNF/wDJVYNFAG99k8Jf9BvWv/BNF/8AJVH2Twl/0G9a/wDBNF/8lVg0UAb32Twl/wBBvWv/AATRf/JVH2Twl/0G9a/8E0X/AMlVg0UAb32Twl/0G9a/8E0X/wAlUfZPCX/Qb1r/AME0X/yVWDRQBvfZPCX/AEG9a/8ABNF/8lUfZPCX/Qb1r/wTRf8AyVWDRQBvfZPCX/Qb1r/wTRf/ACVR9k8Jf9BvWv8AwTRf/JVYNFAG99k8Jf8AQb1r/wAE0X/yVR9k8Jf9BvWv/BNF/wDJVYNFAG99k8Jf9BvWv/BNF/8AJVH2Twl/0G9a/wDBNF/8lVg0UAb32Twl/wBBvWv/AATRf/JVH2Twl/0G9a/8E0X/AMlVg0UAb32Twl/0G9a/8E0X/wAlUfZPCX/Qb1r/AME0X/yVWDRQBvfZPCX/AEG9a/8ABNF/8lUfZPCX/Qb1r/wTRf8AyVWDRQBvfZPCX/Qb1r/wTRf/ACVR9k8Jf9BvWv8AwTRf/JVYNFAG99k8Jf8AQb1r/wAE0X/yVR9k8Jf9BvWv/BNF/wDJVYNFAG99k8Jf9BvWv/BNF/8AJVGs3ukf8I7p+l6NcXtz9nuri5klurVIP9YkKhQFkfOPKJzkdRWDRQAUUUUAf//Z)\n",
        "\n",
        "![histogram01.png](data:image/png;base64,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)"
      ]
    },
    {
      "cell_type": "markdown",
      "metadata": {
        "id": "p0AyRYhs-8xq"
      },
      "source": [
        "## Membuat Plot Histogram\n",
        "\n",
        "Parameter :\n",
        "\n",
        "`matplotlib.pyplot.hist(x, bins=None, range=None, density=False, weights=None, cumulative=False, bottom=None, histtype='bar', align='mid', orientation='vertical', rwidth=None, log=False, color=None, label=None, stacked=False, *, data=None, **kwargs)`\n",
        "\n",
        "dimana :\n",
        "\n",
        "`x` = berupa data (n,) array atau sequence dari (n,) arrays\n",
        "\n",
        "`bins` = banyaknya bar yang akan dimunculkan\n",
        "\n",
        "`range` = batas atas dan batas bawah dari ukuran `bins`\n",
        "\n",
        "`densitiy` = tipe boolean. Jika True maka akan memunculkan probabilitas density pada label Y\n",
        "\n",
        "`weights` = bobot\n",
        "\n",
        "`cumulative` = tipe boolean. Jika True maka akan menampilkan penjumlahan `bins`, sehingga `bins` terakhir merupakan akumulasi dari semua `bins`\n",
        "\n",
        "`bottom` = memotong grafik sehingga hanya menampilkan value (Y) di atas nilai `bottom`\n",
        "\n",
        "`histtype` = jenis jenis bentuk histogram plot (bar, barstacked, step, stepfilled)\n",
        "\n",
        "`align` = alignment dari histogram (kiri, tengah, kanan)\n",
        "\n",
        "`orientation` = orientasi dari grafik (vertikal atau horisontal)\n",
        "\n",
        "`rwidth` = ukuran lebar dari histogram\n",
        "\n",
        "`log` = tipe boolean. Jika True maka nilai value (Y) berupa nilai logaritmik\n",
        "\n",
        "`color` = mengatur warna histogram (r=merah, b=biru, g=hijau) secara default akan berwarna biru"
      ]
    },
    {
      "cell_type": "markdown",
      "metadata": {
        "id": "JQ4DAK2U_VNI"
      },
      "source": [
        "## *Simulasi*"
      ]
    },
    {
      "cell_type": "markdown",
      "metadata": {
        "id": "zKImRLkCB14z"
      },
      "source": [
        "### Import Library"
      ]
    },
    {
      "cell_type": "code",
      "metadata": {
        "id": "2Xw2zs0l_ds_"
      },
      "source": [
        "import matplotlib.pyplot as plt\n",
        "import numpy as np\n",
        "import pandas as pd"
      ],
      "execution_count": null,
      "outputs": []
    },
    {
      "cell_type": "markdown",
      "metadata": {
        "id": "8-Sh9uFFUY0e"
      },
      "source": [
        "Dataset dibentuk secara random dalam bentuk array numpy"
      ]
    },
    {
      "cell_type": "code",
      "metadata": {
        "colab": {
          "base_uri": "https://localhost:8080/",
          "height": 404
        },
        "id": "jp5LKm9VAIfN",
        "outputId": "68d96f00-7351-48d9-b221-601aa97570c6"
      },
      "source": [
        "N_points = 10000\n",
        "\n",
        "coba = np.random.randn(N_points)\n",
        "plt.hist(x=coba, bins=15)"
      ],
      "execution_count": null,
      "outputs": [
        {
          "output_type": "execute_result",
          "data": {
            "text/plain": [
              "(array([4.000e+00, 2.400e+01, 7.900e+01, 2.930e+02, 6.850e+02, 1.359e+03,\n",
              "        2.011e+03, 2.124e+03, 1.676e+03, 1.056e+03, 4.590e+02, 1.760e+02,\n",
              "        4.300e+01, 9.000e+00, 2.000e+00]),\n",
              " array([-3.86977824, -3.33551201, -2.80124579, -2.26697957, -1.73271334,\n",
              "        -1.19844712, -0.6641809 , -0.12991467,  0.40435155,  0.93861777,\n",
              "         1.472884  ,  2.00715022,  2.54141644,  3.07568267,  3.60994889,\n",
              "         4.14421511]),\n",
              " <a list of 15 Patch objects>)"
            ]
          },
          "metadata": {},
          "execution_count": 38
        },
        {
          "output_type": "display_data",
          "data": {
            "image/png": "[encoded data removed]",
            "text/plain": [
              "<Figure size 432x288 with 1 Axes>"
            ]
          },
          "metadata": {
            "needs_background": "light"
          }
        }
      ]
    },
    {
      "cell_type": "markdown",
      "metadata": {
        "id": "Em6fism5UQ2W"
      },
      "source": [
        "Dataset menggunakan dataframe"
      ]
    },
    {
      "cell_type": "code",
      "metadata": {
        "colab": {
          "base_uri": "https://localhost:8080/",
          "height": 590
        },
        "id": "UEb_HYz-AYUF",
        "outputId": "aaf55c2c-984a-4dd3-f6b4-23f336f41270"
      },
      "source": [
        "df = pd.read_csv('https://raw.githubusercontent.com/satria-siregar/Find-It/main/public-train.csv',sep='|')\n",
        "df.head()"
      ],
      "execution_count": null,
      "outputs": [
        {
          "output_type": "execute_result",
          "data": {
            "text/html": [
              "<div>\n",
              "<style scoped>\n",
              "    .dataframe tbody tr th:only-of-type {\n",
              "        vertical-align: middle;\n",
              "    }\n",
              "\n",
              "    .dataframe tbody tr th {\n",
              "        vertical-align: top;\n",
              "    }\n",
              "\n",
              "    .dataframe thead th {\n",
              "        text-align: right;\n",
              "    }\n",
              "</style>\n",
              "<table border=\"1\" class=\"dataframe\">\n",
              "  <thead>\n",
              "    <tr style=\"text-align: right;\">\n",
              "      <th></th>\n",
              "      <th>author_id</th>\n",
              "      <th>description</th>\n",
              "      <th>bookformat</th>\n",
              "      <th>bookedition</th>\n",
              "      <th>pages</th>\n",
              "      <th>published_date</th>\n",
              "      <th>publisher_id</th>\n",
              "      <th>reading_age</th>\n",
              "      <th>lexile_measure</th>\n",
              "      <th>grade_level</th>\n",
              "      <th>weight</th>\n",
              "      <th>rating_value_0</th>\n",
              "      <th>rating_value_1</th>\n",
              "      <th>rating_count_0</th>\n",
              "      <th>rating_count_1</th>\n",
              "      <th>dimension_0</th>\n",
              "      <th>dimension_1</th>\n",
              "      <th>dimension_2</th>\n",
              "      <th>genre_0</th>\n",
              "      <th>genre_1</th>\n",
              "      <th>genre_2</th>\n",
              "      <th>genre_3</th>\n",
              "      <th>genre_4</th>\n",
              "      <th>genre_5</th>\n",
              "      <th>genre_6</th>\n",
              "      <th>genre_7</th>\n",
              "      <th>genre_8</th>\n",
              "      <th>genre_9</th>\n",
              "      <th>genre_0_weight</th>\n",
              "      <th>genre_1_weight</th>\n",
              "      <th>genre_2_weight</th>\n",
              "      <th>genre_3_weight</th>\n",
              "      <th>genre_4_weight</th>\n",
              "      <th>genre_5_weight</th>\n",
              "      <th>genre_6_weight</th>\n",
              "      <th>genre_7_weight</th>\n",
              "      <th>genre_8_weight</th>\n",
              "      <th>genre_9_weight</th>\n",
              "      <th>price</th>\n",
              "    </tr>\n",
              "  </thead>\n",
              "  <tbody>\n",
              "    <tr>\n",
              "      <th>0</th>\n",
              "      <td>author2106</td>\n",
              "      <td>Just after the Second World War, in the small ...</td>\n",
              "      <td>Hardcover</td>\n",
              "      <td>NaN</td>\n",
              "      <td>309.0</td>\n",
              "      <td>NaN</td>\n",
              "      <td>NaN</td>\n",
              "      <td>NaN</td>\n",
              "      <td>NaN</td>\n",
              "      <td>NaN</td>\n",
              "      <td>NaN</td>\n",
              "      <td>3.76</td>\n",
              "      <td>NaN</td>\n",
              "      <td>26625</td>\n",
              "      <td>1</td>\n",
              "      <td>NaN</td>\n",
              "      <td>NaN</td>\n",
              "      <td>NaN</td>\n",
              "      <td>Historical Fiction</td>\n",
              "      <td>Fiction</td>\n",
              "      <td>Historical</td>\n",
              "      <td>Audiobook</td>\n",
              "      <td>Romance</td>\n",
              "      <td>Books About Books</td>\n",
              "      <td>Adult</td>\n",
              "      <td>Adult Fiction</td>\n",
              "      <td>British Literature</td>\n",
              "      <td>Chick Lit</td>\n",
              "      <td>0.45</td>\n",
              "      <td>0.22</td>\n",
              "      <td>0.08</td>\n",
              "      <td>0.06</td>\n",
              "      <td>0.05</td>\n",
              "      <td>0.04</td>\n",
              "      <td>0.03</td>\n",
              "      <td>0.02</td>\n",
              "      <td>0.02</td>\n",
              "      <td>0.02</td>\n",
              "      <td>NaN</td>\n",
              "    </tr>\n",
              "    <tr>\n",
              "      <th>1</th>\n",
              "      <td>author1018</td>\n",
              "      <td>Blame it on Hawaii’s rainbows, sparkling beach...</td>\n",
              "      <td>Paperback</td>\n",
              "      <td>NaN</td>\n",
              "      <td>NaN</td>\n",
              "      <td>NaN</td>\n",
              "      <td>NaN</td>\n",
              "      <td>NaN</td>\n",
              "      <td>NaN</td>\n",
              "      <td>NaN</td>\n",
              "      <td>NaN</td>\n",
              "      <td>4.48</td>\n",
              "      <td>NaN</td>\n",
              "      <td>21</td>\n",
              "      <td>1</td>\n",
              "      <td>NaN</td>\n",
              "      <td>NaN</td>\n",
              "      <td>NaN</td>\n",
              "      <td>Memoir</td>\n",
              "      <td>NaN</td>\n",
              "      <td>NaN</td>\n",
              "      <td>NaN</td>\n",
              "      <td>NaN</td>\n",
              "      <td>NaN</td>\n",
              "      <td>NaN</td>\n",
              "      <td>NaN</td>\n",
              "      <td>NaN</td>\n",
              "      <td>NaN</td>\n",
              "      <td>1.00</td>\n",
              "      <td>NaN</td>\n",
              "      <td>NaN</td>\n",
              "      <td>NaN</td>\n",
              "      <td>NaN</td>\n",
              "      <td>NaN</td>\n",
              "      <td>NaN</td>\n",
              "      <td>NaN</td>\n",
              "      <td>NaN</td>\n",
              "      <td>NaN</td>\n",
              "      <td>NaN</td>\n",
              "    </tr>\n",
              "    <tr>\n",
              "      <th>2</th>\n",
              "      <td>author1087</td>\n",
              "      <td>The Pulitzer Prize–winning, bestselling author...</td>\n",
              "      <td>Hardcover</td>\n",
              "      <td>NaN</td>\n",
              "      <td>496.0</td>\n",
              "      <td>NaN</td>\n",
              "      <td>NaN</td>\n",
              "      <td>NaN</td>\n",
              "      <td>NaN</td>\n",
              "      <td>NaN</td>\n",
              "      <td>NaN</td>\n",
              "      <td>4.56</td>\n",
              "      <td>NaN</td>\n",
              "      <td>59885</td>\n",
              "      <td>1</td>\n",
              "      <td>NaN</td>\n",
              "      <td>NaN</td>\n",
              "      <td>NaN</td>\n",
              "      <td>Nonfiction</td>\n",
              "      <td>History</td>\n",
              "      <td>Politics</td>\n",
              "      <td>Race</td>\n",
              "      <td>Social Justice</td>\n",
              "      <td>Audiobook</td>\n",
              "      <td>Sociology</td>\n",
              "      <td>Anti Racist</td>\n",
              "      <td>American History</td>\n",
              "      <td>African American</td>\n",
              "      <td>0.42</td>\n",
              "      <td>0.22</td>\n",
              "      <td>0.08</td>\n",
              "      <td>0.08</td>\n",
              "      <td>0.05</td>\n",
              "      <td>0.05</td>\n",
              "      <td>0.04</td>\n",
              "      <td>0.02</td>\n",
              "      <td>0.02</td>\n",
              "      <td>0.02</td>\n",
              "      <td>NaN</td>\n",
              "    </tr>\n",
              "    <tr>\n",
              "      <th>3</th>\n",
              "      <td>author1295</td>\n",
              "      <td>THINGS ARE ABOUT TO GET SERIOUS FOR HARRY DRES...</td>\n",
              "      <td>Hardcover</td>\n",
              "      <td>First Edition</td>\n",
              "      <td>418.0</td>\n",
              "      <td>NaN</td>\n",
              "      <td>NaN</td>\n",
              "      <td>NaN</td>\n",
              "      <td>NaN</td>\n",
              "      <td>NaN</td>\n",
              "      <td>NaN</td>\n",
              "      <td>4.39</td>\n",
              "      <td>NaN</td>\n",
              "      <td>26643</td>\n",
              "      <td>1</td>\n",
              "      <td>NaN</td>\n",
              "      <td>NaN</td>\n",
              "      <td>NaN</td>\n",
              "      <td>Fantasy</td>\n",
              "      <td>Urban Fantasy</td>\n",
              "      <td>Fiction</td>\n",
              "      <td>Magic</td>\n",
              "      <td>Paranormal</td>\n",
              "      <td>Audiobook</td>\n",
              "      <td>Vampires</td>\n",
              "      <td>Mystery</td>\n",
              "      <td>Supernatural</td>\n",
              "      <td>Fae</td>\n",
              "      <td>0.41</td>\n",
              "      <td>0.30</td>\n",
              "      <td>0.08</td>\n",
              "      <td>0.05</td>\n",
              "      <td>0.04</td>\n",
              "      <td>0.04</td>\n",
              "      <td>0.03</td>\n",
              "      <td>0.02</td>\n",
              "      <td>0.02</td>\n",
              "      <td>0.02</td>\n",
              "      <td>NaN</td>\n",
              "    </tr>\n",
              "    <tr>\n",
              "      <th>4</th>\n",
              "      <td>author2622</td>\n",
              "      <td>The Romanovs were the most successful dynasty ...</td>\n",
              "      <td>Hardcover</td>\n",
              "      <td>NaN</td>\n",
              "      <td>784.0</td>\n",
              "      <td>NaN</td>\n",
              "      <td>NaN</td>\n",
              "      <td>NaN</td>\n",
              "      <td>NaN</td>\n",
              "      <td>NaN</td>\n",
              "      <td>NaN</td>\n",
              "      <td>3.93</td>\n",
              "      <td>NaN</td>\n",
              "      <td>11772</td>\n",
              "      <td>1</td>\n",
              "      <td>NaN</td>\n",
              "      <td>NaN</td>\n",
              "      <td>NaN</td>\n",
              "      <td>History</td>\n",
              "      <td>Nonfiction</td>\n",
              "      <td>Russia</td>\n",
              "      <td>Biography</td>\n",
              "      <td>Historical</td>\n",
              "      <td>Russian History</td>\n",
              "      <td>Audiobook</td>\n",
              "      <td>Politics</td>\n",
              "      <td>European History</td>\n",
              "      <td>Romanovs</td>\n",
              "      <td>0.42</td>\n",
              "      <td>0.30</td>\n",
              "      <td>0.09</td>\n",
              "      <td>0.08</td>\n",
              "      <td>0.04</td>\n",
              "      <td>0.02</td>\n",
              "      <td>0.01</td>\n",
              "      <td>0.01</td>\n",
              "      <td>0.01</td>\n",
              "      <td>0.01</td>\n",
              "      <td>NaN</td>\n",
              "    </tr>\n",
              "  </tbody>\n",
              "</table>\n",
              "</div>"
            ],
            "text/plain": [
              "    author_id  ... price\n",
              "0  author2106  ...   NaN\n",
              "1  author1018  ...   NaN\n",
              "2  author1087  ...   NaN\n",
              "3  author1295  ...   NaN\n",
              "4  author2622  ...   NaN\n",
              "\n",
              "[5 rows x 39 columns]"
            ]
          },
          "metadata": {},
          "execution_count": 37
        }
      ]
    },
    {
      "cell_type": "code",
      "metadata": {
        "colab": {
          "base_uri": "https://localhost:8080/",
          "height": 352
        },
        "id": "RGvwcGVGAc8V",
        "outputId": "1a8e47db-a00c-4a80-e660-2fbd9c73a957"
      },
      "source": [
        "plt.hist(df.pages)"
      ],
      "execution_count": null,
      "outputs": [
        {
          "output_type": "execute_result",
          "data": {
            "text/plain": [
              "(array([ 342.,  593., 1552.,  672.,  181.,   62.,   29.,   11.,    6.,\n",
              "           3.]),\n",
              " array([  20. ,  142.8,  265.6,  388.4,  511.2,  634. ,  756.8,  879.6,\n",
              "        1002.4, 1125.2, 1248. ]),\n",
              " <a list of 10 Patch objects>)"
            ]
          },
          "metadata": {},
          "execution_count": 6
        },
        {
          "output_type": "display_data",
          "data": {
            "image/png": "[encoded data removed]",
            "text/plain": [
              "<Figure size 432x288 with 1 Axes>"
            ]
          },
          "metadata": {
            "needs_background": "light"
          }
        }
      ]
    },
    {
      "cell_type": "code",
      "metadata": {
        "colab": {
          "base_uri": "https://localhost:8080/",
          "height": 316
        },
        "id": "LMoP5YI0AiQ3",
        "outputId": "27730ae3-d112-4349-b98b-439f889b20c0"
      },
      "source": [
        "price=pd.DataFrame(df['pages'])\n",
        "price.hist()"
      ],
      "execution_count": null,
      "outputs": [
        {
          "output_type": "execute_result",
          "data": {
            "text/plain": [
              "array([[<matplotlib.axes._subplots.AxesSubplot object at 0x7f18f7ab5290>]],\n",
              "      dtype=object)"
            ]
          },
          "metadata": {},
          "execution_count": 7
        },
        {
          "output_type": "display_data",
          "data": {
            "image/png": "[encoded data removed]",
            "text/plain": [
              "<Figure size 432x288 with 1 Axes>"
            ]
          },
          "metadata": {
            "needs_background": "light"
          }
        }
      ]
    },
    {
      "cell_type": "markdown",
      "metadata": {
        "id": "1tsdBOVR7pR7"
      },
      "source": [
        "# **Correlation Plot**"
      ]
    },
    {
      "cell_type": "markdown",
      "metadata": {
        "id": "w6znUDcdBTyz"
      },
      "source": [
        "## Apakah itu korelasi ?\n",
        "\n",
        "statistik korelasi ialah metode atau cara guna mengetahui ada atau tidaknya hubungan linier antar variabel. Jika pada nantinya ditemukan hubungan, maka perubahan-perubahan yang terjadi pada salah satu variabel (X) akan menyebabkan terjadinya perubahan pada variabel yang lain (Y)."
      ]
    },
    {
      "cell_type": "markdown",
      "metadata": {
        "id": "_MuCtfLMA0I7"
      },
      "source": [
        "## Jenis Korelasi\n",
        "Perlu diketahui bahwa korelasi terbagi menjadi tiga jenis. Antara lain seperti berikut:\n",
        "\n",
        "* Korelasi Sederhana, merupakan suatu teknik statistik yang dipergunakan untuk mengukur kekuatan hubungan antara 2 variabel dan juga untuk dapat mengetahui bentuk di antara keduanya dengan hasil bersifat kuantitatif. Kuatnya hubungan yang dimaksud antara 2 variabel ini adalah apakah hubungan tersebut lemah, erat atau tak erat. Sedangkan bentuk hubungannya apa berbentuk korelasi linier positif atau negatif.\n",
        "\n",
        "* Korelasi Parsial, merupakan suatu metode yang digunakan untuk mengukur tentang adanya keeratan antara hubungan variabel bebas dengan variabel tak bebas. Sehingga pada nantinya akan dapat dengan mudah guna melakukan kontrol dari salah satu variabel tersebut.\n",
        "\n",
        "* Korelasi Ganda, adalah korelasi yang bentuknya akan digunakan guna melihat hubungan antara tiga atau lebih variabel (dua atau lebih variabel independen dan satu variabel dependent). Korelasi ganda akan memiliki kaitan dengan interkorelasi variabel independen, sebagaimana korelasi mereka dengan variabel dependen."
      ]
    },
    {
      "cell_type": "markdown",
      "metadata": {
        "id": "VrjvcAPiBG5C"
      },
      "source": [
        "## Manfaat\n",
        "Perlu dipahami dengan adanya korelasi ini, pada nantinya akan didapatkan beberapa manfaat. Manfaat korelasi antara lain seperti:\n",
        "\n",
        "1. Dapat melakukan pengukuran beberapa hubungan variabel\n",
        "\n",
        "2. Dapat melakukan motivasi kerja pada produktivitas variabel\n",
        "\n",
        "3. Dapat melakukan penemuan kualitas dengan menggunakan sebuah pelayanan\n",
        "\n",
        "4. Dapat dilakukan peningkatan inflasi pada variabel-variabel tertentu."
      ]
    },
    {
      "cell_type": "markdown",
      "metadata": {
        "id": "_it1CFfUBmtv"
      },
      "source": [
        "## Import Library"
      ]
    },
    {
      "cell_type": "code",
      "metadata": {
        "id": "wpxcmMb0BlVb"
      },
      "source": [
        "import pandas as pd\n",
        "import seaborn as sns\n",
        "import numpy as np"
      ],
      "execution_count": null,
      "outputs": []
    },
    {
      "cell_type": "markdown",
      "metadata": {
        "id": "mNnvaBeoCYGQ"
      },
      "source": [
        "## Import Data Set"
      ]
    },
    {
      "cell_type": "code",
      "metadata": {
        "colab": {
          "base_uri": "https://localhost:8080/",
          "height": 424
        },
        "id": "qVvhuhWiCWMD",
        "outputId": "eec34817-3bab-4cc7-e9ca-27526a9504e9"
      },
      "source": [
        "df=pd.read_csv('https://raw.githubusercontent.com/indracahyaramdani/indracahyaramdani/main/titanic.csv')\n",
        "df"
      ],
      "execution_count": null,
      "outputs": [
        {
          "output_type": "execute_result",
          "data": {
            "text/html": [
              "<div>\n",
              "<style scoped>\n",
              "    .dataframe tbody tr th:only-of-type {\n",
              "        vertical-align: middle;\n",
              "    }\n",
              "\n",
              "    .dataframe tbody tr th {\n",
              "        vertical-align: top;\n",
              "    }\n",
              "\n",
              "    .dataframe thead th {\n",
              "        text-align: right;\n",
              "    }\n",
              "</style>\n",
              "<table border=\"1\" class=\"dataframe\">\n",
              "  <thead>\n",
              "    <tr style=\"text-align: right;\">\n",
              "      <th></th>\n",
              "      <th>PassengerId</th>\n",
              "      <th>Survived</th>\n",
              "      <th>Pclass</th>\n",
              "      <th>Name</th>\n",
              "      <th>Sex</th>\n",
              "      <th>Age</th>\n",
              "      <th>SibSp</th>\n",
              "      <th>Parch</th>\n",
              "      <th>Ticket</th>\n",
              "      <th>Fare</th>\n",
              "      <th>Cabin</th>\n",
              "      <th>Embarked</th>\n",
              "    </tr>\n",
              "  </thead>\n",
              "  <tbody>\n",
              "    <tr>\n",
              "      <th>0</th>\n",
              "      <td>1</td>\n",
              "      <td>0</td>\n",
              "      <td>3</td>\n",
              "      <td>Braund, Mr. Owen Harris</td>\n",
              "      <td>male</td>\n",
              "      <td>22.0</td>\n",
              "      <td>1</td>\n",
              "      <td>0</td>\n",
              "      <td>A/5 21171</td>\n",
              "      <td>7.2500</td>\n",
              "      <td>NaN</td>\n",
              "      <td>S</td>\n",
              "    </tr>\n",
              "    <tr>\n",
              "      <th>1</th>\n",
              "      <td>2</td>\n",
              "      <td>1</td>\n",
              "      <td>1</td>\n",
              "      <td>Cumings, Mrs. John Bradley (Florence Briggs Th...</td>\n",
              "      <td>female</td>\n",
              "      <td>38.0</td>\n",
              "      <td>1</td>\n",
              "      <td>0</td>\n",
              "      <td>PC 17599</td>\n",
              "      <td>71.2833</td>\n",
              "      <td>C85</td>\n",
              "      <td>C</td>\n",
              "    </tr>\n",
              "    <tr>\n",
              "      <th>2</th>\n",
              "      <td>3</td>\n",
              "      <td>1</td>\n",
              "      <td>3</td>\n",
              "      <td>Heikkinen, Miss. Laina</td>\n",
              "      <td>female</td>\n",
              "      <td>26.0</td>\n",
              "      <td>0</td>\n",
              "      <td>0</td>\n",
              "      <td>STON/O2. 3101282</td>\n",
              "      <td>7.9250</td>\n",
              "      <td>NaN</td>\n",
              "      <td>S</td>\n",
              "    </tr>\n",
              "    <tr>\n",
              "      <th>3</th>\n",
              "      <td>4</td>\n",
              "      <td>1</td>\n",
              "      <td>1</td>\n",
              "      <td>Futrelle, Mrs. Jacques Heath (Lily May Peel)</td>\n",
              "      <td>female</td>\n",
              "      <td>35.0</td>\n",
              "      <td>1</td>\n",
              "      <td>0</td>\n",
              "      <td>113803</td>\n",
              "      <td>53.1000</td>\n",
              "      <td>C123</td>\n",
              "      <td>S</td>\n",
              "    </tr>\n",
              "    <tr>\n",
              "      <th>4</th>\n",
              "      <td>5</td>\n",
              "      <td>0</td>\n",
              "      <td>3</td>\n",
              "      <td>Allen, Mr. William Henry</td>\n",
              "      <td>male</td>\n",
              "      <td>35.0</td>\n",
              "      <td>0</td>\n",
              "      <td>0</td>\n",
              "      <td>373450</td>\n",
              "      <td>8.0500</td>\n",
              "      <td>NaN</td>\n",
              "      <td>S</td>\n",
              "    </tr>\n",
              "    <tr>\n",
              "      <th>...</th>\n",
              "      <td>...</td>\n",
              "      <td>...</td>\n",
              "      <td>...</td>\n",
              "      <td>...</td>\n",
              "      <td>...</td>\n",
              "      <td>...</td>\n",
              "      <td>...</td>\n",
              "      <td>...</td>\n",
              "      <td>...</td>\n",
              "      <td>...</td>\n",
              "      <td>...</td>\n",
              "      <td>...</td>\n",
              "    </tr>\n",
              "    <tr>\n",
              "      <th>702</th>\n",
              "      <td>703</td>\n",
              "      <td>0</td>\n",
              "      <td>3</td>\n",
              "      <td>Barbara, Miss. Saiide</td>\n",
              "      <td>female</td>\n",
              "      <td>18.0</td>\n",
              "      <td>0</td>\n",
              "      <td>1</td>\n",
              "      <td>2691</td>\n",
              "      <td>14.4542</td>\n",
              "      <td>NaN</td>\n",
              "      <td>C</td>\n",
              "    </tr>\n",
              "    <tr>\n",
              "      <th>703</th>\n",
              "      <td>704</td>\n",
              "      <td>0</td>\n",
              "      <td>3</td>\n",
              "      <td>Gallagher, Mr. Martin</td>\n",
              "      <td>male</td>\n",
              "      <td>25.0</td>\n",
              "      <td>0</td>\n",
              "      <td>0</td>\n",
              "      <td>36864</td>\n",
              "      <td>7.7417</td>\n",
              "      <td>NaN</td>\n",
              "      <td>Q</td>\n",
              "    </tr>\n",
              "    <tr>\n",
              "      <th>704</th>\n",
              "      <td>705</td>\n",
              "      <td>0</td>\n",
              "      <td>3</td>\n",
              "      <td>Hansen, Mr. Henrik Juul</td>\n",
              "      <td>male</td>\n",
              "      <td>26.0</td>\n",
              "      <td>1</td>\n",
              "      <td>0</td>\n",
              "      <td>350025</td>\n",
              "      <td>7.8542</td>\n",
              "      <td>NaN</td>\n",
              "      <td>S</td>\n",
              "    </tr>\n",
              "    <tr>\n",
              "      <th>705</th>\n",
              "      <td>706</td>\n",
              "      <td>0</td>\n",
              "      <td>2</td>\n",
              "      <td>Morley, Mr. Henry Samuel (\"Mr Henry Marshall\")</td>\n",
              "      <td>male</td>\n",
              "      <td>39.0</td>\n",
              "      <td>0</td>\n",
              "      <td>0</td>\n",
              "      <td>250655</td>\n",
              "      <td>26.0000</td>\n",
              "      <td>NaN</td>\n",
              "      <td>S</td>\n",
              "    </tr>\n",
              "    <tr>\n",
              "      <th>706</th>\n",
              "      <td>707</td>\n",
              "      <td>1</td>\n",
              "      <td>2</td>\n",
              "      <td>Kelly, Mrs. Florence \"Fannie\"</td>\n",
              "      <td>female</td>\n",
              "      <td>45.0</td>\n",
              "      <td>0</td>\n",
              "      <td>0</td>\n",
              "      <td>223596</td>\n",
              "      <td>13.5000</td>\n",
              "      <td>NaN</td>\n",
              "      <td>S</td>\n",
              "    </tr>\n",
              "  </tbody>\n",
              "</table>\n",
              "<p>707 rows × 12 columns</p>\n",
              "</div>"
            ],
            "text/plain": [
              "     PassengerId  Survived  Pclass  ...     Fare Cabin  Embarked\n",
              "0              1         0       3  ...   7.2500   NaN         S\n",
              "1              2         1       1  ...  71.2833   C85         C\n",
              "2              3         1       3  ...   7.9250   NaN         S\n",
              "3              4         1       1  ...  53.1000  C123         S\n",
              "4              5         0       3  ...   8.0500   NaN         S\n",
              "..           ...       ...     ...  ...      ...   ...       ...\n",
              "702          703         0       3  ...  14.4542   NaN         C\n",
              "703          704         0       3  ...   7.7417   NaN         Q\n",
              "704          705         0       3  ...   7.8542   NaN         S\n",
              "705          706         0       2  ...  26.0000   NaN         S\n",
              "706          707         1       2  ...  13.5000   NaN         S\n",
              "\n",
              "[707 rows x 12 columns]"
            ]
          },
          "metadata": {},
          "execution_count": 10
        }
      ]
    },
    {
      "cell_type": "markdown",
      "metadata": {
        "id": "Deez7vtCCpw9"
      },
      "source": [
        "## Informasi Data "
      ]
    },
    {
      "cell_type": "markdown",
      "metadata": {
        "id": "on1qDjaNCrMu"
      },
      "source": [
        "### data info"
      ]
    },
    {
      "cell_type": "code",
      "metadata": {
        "colab": {
          "base_uri": "https://localhost:8080/"
        },
        "id": "pmMKDlN2Cuuw",
        "outputId": "7fa95b4d-e21e-4346-a197-0c3d20daf39e"
      },
      "source": [
        "df.info()"
      ],
      "execution_count": null,
      "outputs": [
        {
          "output_type": "stream",
          "name": "stdout",
          "text": [
            "<class 'pandas.core.frame.DataFrame'>\n",
            "RangeIndex: 707 entries, 0 to 706\n",
            "Data columns (total 12 columns):\n",
            " #   Column       Non-Null Count  Dtype  \n",
            "---  ------       --------------  -----  \n",
            " 0   PassengerId  707 non-null    int64  \n",
            " 1   Survived     707 non-null    int64  \n",
            " 2   Pclass       707 non-null    int64  \n",
            " 3   Name         707 non-null    object \n",
            " 4   Sex          707 non-null    object \n",
            " 5   Age          562 non-null    float64\n",
            " 6   SibSp        707 non-null    int64  \n",
            " 7   Parch        707 non-null    int64  \n",
            " 8   Ticket       707 non-null    object \n",
            " 9   Fare         707 non-null    float64\n",
            " 10  Cabin        159 non-null    object \n",
            " 11  Embarked     706 non-null    object \n",
            "dtypes: float64(2), int64(5), object(5)\n",
            "memory usage: 66.4+ KB\n"
          ]
        }
      ]
    },
    {
      "cell_type": "markdown",
      "metadata": {
        "id": "dPKWbQwqC00w"
      },
      "source": [
        "Dari data di atas terdapat 3 tipe data float, integer, dan object"
      ]
    },
    {
      "cell_type": "markdown",
      "metadata": {
        "id": "H9fAPJ6iC3lx"
      },
      "source": [
        "### Membuat Korelasi Data"
      ]
    },
    {
      "cell_type": "markdown",
      "metadata": {
        "id": "_BPD_mWNDG6i"
      },
      "source": [
        "corr() method ini membuat korelasi pada sebuah Data Frame dengan fitur berupa numerik"
      ]
    },
    {
      "cell_type": "code",
      "metadata": {
        "colab": {
          "base_uri": "https://localhost:8080/",
          "height": 269
        },
        "id": "jaxfth9cC_ry",
        "outputId": "29fccd0e-a365-4434-d283-ad6255209405"
      },
      "source": [
        "df.corr()"
      ],
      "execution_count": null,
      "outputs": [
        {
          "output_type": "execute_result",
          "data": {
            "text/html": [
              "<div>\n",
              "<style scoped>\n",
              "    .dataframe tbody tr th:only-of-type {\n",
              "        vertical-align: middle;\n",
              "    }\n",
              "\n",
              "    .dataframe tbody tr th {\n",
              "        vertical-align: top;\n",
              "    }\n",
              "\n",
              "    .dataframe thead th {\n",
              "        text-align: right;\n",
              "    }\n",
              "</style>\n",
              "<table border=\"1\" class=\"dataframe\">\n",
              "  <thead>\n",
              "    <tr style=\"text-align: right;\">\n",
              "      <th></th>\n",
              "      <th>PassengerId</th>\n",
              "      <th>Survived</th>\n",
              "      <th>Pclass</th>\n",
              "      <th>Age</th>\n",
              "      <th>SibSp</th>\n",
              "      <th>Parch</th>\n",
              "      <th>Fare</th>\n",
              "    </tr>\n",
              "  </thead>\n",
              "  <tbody>\n",
              "    <tr>\n",
              "      <th>PassengerId</th>\n",
              "      <td>1.000000</td>\n",
              "      <td>0.010669</td>\n",
              "      <td>-0.061934</td>\n",
              "      <td>0.108658</td>\n",
              "      <td>-0.083992</td>\n",
              "      <td>-0.006083</td>\n",
              "      <td>0.038914</td>\n",
              "    </tr>\n",
              "    <tr>\n",
              "      <th>Survived</th>\n",
              "      <td>0.010669</td>\n",
              "      <td>1.000000</td>\n",
              "      <td>-0.314664</td>\n",
              "      <td>-0.086060</td>\n",
              "      <td>-0.033573</td>\n",
              "      <td>0.060494</td>\n",
              "      <td>0.231026</td>\n",
              "    </tr>\n",
              "    <tr>\n",
              "      <th>Pclass</th>\n",
              "      <td>-0.061934</td>\n",
              "      <td>-0.314664</td>\n",
              "      <td>1.000000</td>\n",
              "      <td>-0.375442</td>\n",
              "      <td>0.086374</td>\n",
              "      <td>0.013391</td>\n",
              "      <td>-0.569183</td>\n",
              "    </tr>\n",
              "    <tr>\n",
              "      <th>Age</th>\n",
              "      <td>0.108658</td>\n",
              "      <td>-0.086060</td>\n",
              "      <td>-0.375442</td>\n",
              "      <td>1.000000</td>\n",
              "      <td>-0.329575</td>\n",
              "      <td>-0.209102</td>\n",
              "      <td>0.079121</td>\n",
              "    </tr>\n",
              "    <tr>\n",
              "      <th>SibSp</th>\n",
              "      <td>-0.083992</td>\n",
              "      <td>-0.033573</td>\n",
              "      <td>0.086374</td>\n",
              "      <td>-0.329575</td>\n",
              "      <td>1.000000</td>\n",
              "      <td>0.402582</td>\n",
              "      <td>0.163183</td>\n",
              "    </tr>\n",
              "    <tr>\n",
              "      <th>Parch</th>\n",
              "      <td>-0.006083</td>\n",
              "      <td>0.060494</td>\n",
              "      <td>0.013391</td>\n",
              "      <td>-0.209102</td>\n",
              "      <td>0.402582</td>\n",
              "      <td>1.000000</td>\n",
              "      <td>0.227363</td>\n",
              "    </tr>\n",
              "    <tr>\n",
              "      <th>Fare</th>\n",
              "      <td>0.038914</td>\n",
              "      <td>0.231026</td>\n",
              "      <td>-0.569183</td>\n",
              "      <td>0.079121</td>\n",
              "      <td>0.163183</td>\n",
              "      <td>0.227363</td>\n",
              "      <td>1.000000</td>\n",
              "    </tr>\n",
              "  </tbody>\n",
              "</table>\n",
              "</div>"
            ],
            "text/plain": [
              "             PassengerId  Survived    Pclass  ...     SibSp     Parch      Fare\n",
              "PassengerId     1.000000  0.010669 -0.061934  ... -0.083992 -0.006083  0.038914\n",
              "Survived        0.010669  1.000000 -0.314664  ... -0.033573  0.060494  0.231026\n",
              "Pclass         -0.061934 -0.314664  1.000000  ...  0.086374  0.013391 -0.569183\n",
              "Age             0.108658 -0.086060 -0.375442  ... -0.329575 -0.209102  0.079121\n",
              "SibSp          -0.083992 -0.033573  0.086374  ...  1.000000  0.402582  0.163183\n",
              "Parch          -0.006083  0.060494  0.013391  ...  0.402582  1.000000  0.227363\n",
              "Fare            0.038914  0.231026 -0.569183  ...  0.163183  0.227363  1.000000\n",
              "\n",
              "[7 rows x 7 columns]"
            ]
          },
          "metadata": {},
          "execution_count": 12
        }
      ]
    },
    {
      "cell_type": "markdown",
      "metadata": {
        "id": "H0X1lq2XDLdn"
      },
      "source": [
        "Jika di tampilkan dalam bentuk tabel besarnya korelasi tidak dapat dilihat dengan jelas oleh karena itu sebisa mungkin data korelasi ini bisa di visualisasikan dalam bentuk warna sehingga dapat mempermudah dalam mencari korelasi tertinggi."
      ]
    },
    {
      "cell_type": "markdown",
      "metadata": {
        "id": "4wVYiaP8DOkG"
      },
      "source": [
        "## Membuat Plot Korelasi Data"
      ]
    },
    {
      "cell_type": "markdown",
      "metadata": {
        "id": "l6FyuI7KDQx9"
      },
      "source": [
        "**seaborn.heatmap**(data, *, vmin=None, vmax=None, cmap=None, center=None, robust=False, annot=None, fmt='.2g', annot_kws=None, linewidths=0, linecolor='white', cbar=True, cbar_kws=None, cbar_ax=None, square=False, xticklabels='auto', yticklabels='auto', mask=None, ax=None, **kwargs)\n",
        "\n",
        "\n",
        "### **Parameters Yang Akan Dibahas :**\n",
        "   * **data** :rectangular dataset\n",
        "   \n",
        "   Dataset 2D yang dapat dipaksa menjadi ndarray. Jika Kerangka Data Pandas disediakan, informasi indeks/kolom akan digunakan untuk memberi label kolom dan baris.\n",
        "    \n",
        "   * **vmin, vmax** : floats, optional\n",
        "   Nilai untuk rentang colormap.\n",
        "   \n",
        "   * **cmap** : matplotlib colormap name or object, or list of colors, optional\n",
        "   Penetaan nilai data ke color space.\n",
        "   \n",
        "   * **annot**: bool or rectangular dataset, optional\n",
        "   Jika `True`, tulis nilai data di setiap sel. Jika array-like dengan bentuk yang sama dengan data, maka gunakan ini untuk membuat anotasi heatmap, bukan data. Perhatikan bahwa DataFrames akan cocok pada posisi, bukan indeks.\n",
        "   \n",
        "   * **mask** : bool array or DataFrame, optional\n",
        "   Secara default menampilkan semua data. Jika dengan opsi tidak menampilkan cell yang di mask dengan nilai TRUE."
      ]
    },
    {
      "cell_type": "markdown",
      "metadata": {
        "id": "3Evkd1oCDb4y"
      },
      "source": [
        "### Parameter Data"
      ]
    },
    {
      "cell_type": "code",
      "metadata": {
        "colab": {
          "base_uri": "https://localhost:8080/",
          "height": 337
        },
        "id": "S7TxQiW3DgHb",
        "outputId": "9f5dc3d0-a51a-47e9-fdca-166a420e121b"
      },
      "source": [
        "sns.heatmap(df.corr())"
      ],
      "execution_count": null,
      "outputs": [
        {
          "output_type": "execute_result",
          "data": {
            "text/plain": [
              "<matplotlib.axes._subplots.AxesSubplot at 0x7f18f0516190>"
            ]
          },
          "metadata": {},
          "execution_count": 13
        },
        {
          "output_type": "display_data",
          "data": {
            "image/png": "[encoded data removed]",
            "text/plain": [
              "<Figure size 432x288 with 2 Axes>"
            ]
          },
          "metadata": {
            "needs_background": "light"
          }
        }
      ]
    },
    {
      "cell_type": "markdown",
      "metadata": {
        "id": "-6YJ_aeSDn2W"
      },
      "source": [
        "### Parameter vmin dan vmax"
      ]
    },
    {
      "cell_type": "markdown",
      "metadata": {
        "id": "qfDveDCADq1J"
      },
      "source": [
        "#### diambil vmin=0 dan vmax=1"
      ]
    },
    {
      "cell_type": "code",
      "metadata": {
        "colab": {
          "base_uri": "https://localhost:8080/",
          "height": 337
        },
        "id": "-FNl64WxDkb9",
        "outputId": "021a11de-4463-48a9-84e5-41b2bdd607f3"
      },
      "source": [
        "sns.heatmap(df.corr(),vmin=0,vmax=1)"
      ],
      "execution_count": null,
      "outputs": [
        {
          "output_type": "execute_result",
          "data": {
            "text/plain": [
              "<matplotlib.axes._subplots.AxesSubplot at 0x7f18da163750>"
            ]
          },
          "metadata": {},
          "execution_count": 14
        },
        {
          "output_type": "display_data",
          "data": {
            "image/png": "[encoded data removed]",
            "text/plain": [
              "<Figure size 432x288 with 2 Axes>"
            ]
          },
          "metadata": {
            "needs_background": "light"
          }
        }
      ]
    },
    {
      "cell_type": "markdown",
      "metadata": {
        "id": "umEkzqO5D2ln"
      },
      "source": [
        "#### diambil vmin=0.5 dan vmax=0.8"
      ]
    },
    {
      "cell_type": "code",
      "metadata": {
        "colab": {
          "base_uri": "https://localhost:8080/",
          "height": 337
        },
        "id": "s91GXNOXDyu4",
        "outputId": "196976c9-e257-4ea5-9cd4-45ffc663cdf9"
      },
      "source": [
        "sns.heatmap(df.corr(),vmin=0.1,vmax=0.5)"
      ],
      "execution_count": null,
      "outputs": [
        {
          "output_type": "execute_result",
          "data": {
            "text/plain": [
              "<matplotlib.axes._subplots.AxesSubplot at 0x7f18f04815d0>"
            ]
          },
          "metadata": {},
          "execution_count": 15
        },
        {
          "output_type": "display_data",
          "data": {
            "image/png": "[encoded data removed]",
            "text/plain": [
              "<Figure size 432x288 with 2 Axes>"
            ]
          },
          "metadata": {
            "needs_background": "light"
          }
        }
      ]
    },
    {
      "cell_type": "markdown",
      "metadata": {
        "id": "2GGIhu9MEC7h"
      },
      "source": [
        "### Parameter cmap"
      ]
    },
    {
      "cell_type": "markdown",
      "metadata": {
        "id": "lYCr6TkKEItF"
      },
      "source": [
        "Untuk mengambil warna yang di inginkan dapat mengunjungi website [matplotlib](https://matplotlib.org/stable/tutorials/colors/colormaps.html). terdapat beberapa color cmap yang sering digunakan diantaranya :\n",
        "\n",
        "![Perceptually Uniform Sequential](https://github.com/indracahyaramdani/indracahyaramdani/blob/main/Color.png?raw=true)\n"
      ]
    },
    {
      "cell_type": "markdown",
      "metadata": {
        "id": "hhJjj3kkESnl"
      },
      "source": [
        "secara default cmap yang digunakan yaitu magma. Mengubah warna pada figure yang kita inginkan dapat melakukan penambahan parameter pada sintaks. Sebagai contoh saya akan mengubah warna menjadi viridis. Lihat penulisan sintaks di bawah ini:"
      ]
    },
    {
      "cell_type": "markdown",
      "metadata": {
        "id": "t4hpJi8cEW0-"
      },
      "source": [
        "#### Merubah cmap menggunakan viridis"
      ]
    },
    {
      "cell_type": "code",
      "metadata": {
        "colab": {
          "base_uri": "https://localhost:8080/",
          "height": 337
        },
        "id": "hmTDHArVEFE3",
        "outputId": "9d28f2bd-b394-45fb-9e19-613b356f9f6c"
      },
      "source": [
        "sns.heatmap(df.corr(),cmap='viridis')"
      ],
      "execution_count": null,
      "outputs": [
        {
          "output_type": "execute_result",
          "data": {
            "text/plain": [
              "<matplotlib.axes._subplots.AxesSubplot at 0x7f18d9fc6990>"
            ]
          },
          "metadata": {},
          "execution_count": 16
        },
        {
          "output_type": "display_data",
          "data": {
            "image/png": "[encoded data removed]",
            "text/plain": [
              "<Figure size 432x288 with 2 Axes>"
            ]
          },
          "metadata": {
            "needs_background": "light"
          }
        }
      ]
    },
    {
      "cell_type": "markdown",
      "metadata": {
        "id": "kUWcEZ6TEoxc"
      },
      "source": [
        "#### Mengubah cmap menggunakan cividis"
      ]
    },
    {
      "cell_type": "code",
      "metadata": {
        "colab": {
          "base_uri": "https://localhost:8080/",
          "height": 337
        },
        "id": "hzwk6RNUEoCP",
        "outputId": "88dd8196-30d9-4b89-c57b-8f58d2226cb5"
      },
      "source": [
        "sns.heatmap(df.corr(),cmap='cividis')"
      ],
      "execution_count": null,
      "outputs": [
        {
          "output_type": "execute_result",
          "data": {
            "text/plain": [
              "<matplotlib.axes._subplots.AxesSubplot at 0x7f18d9f1f650>"
            ]
          },
          "metadata": {},
          "execution_count": 17
        },
        {
          "output_type": "display_data",
          "data": {
            "image/png": "[encoded data removed]",
            "text/plain": [
              "<Figure size 432x288 with 2 Axes>"
            ]
          },
          "metadata": {
            "needs_background": "light"
          }
        }
      ]
    },
    {
      "cell_type": "markdown",
      "metadata": {
        "id": "Z3UVYQK_FVQ0"
      },
      "source": [
        "#### Menggunakan parameter Mask"
      ]
    },
    {
      "cell_type": "code",
      "metadata": {
        "colab": {
          "base_uri": "https://localhost:8080/",
          "height": 337
        },
        "id": "h5T6RDmEFXjT",
        "outputId": "bf390c45-6b9a-46fc-f9ef-a5c66675666f"
      },
      "source": [
        "mask = np.triu(np.ones_like(df.corr()))\n",
        "\n",
        "sns.heatmap(df.corr(),annot=True, vmax=.3, center=0,\n",
        "            square=True, mask=mask,cmap='inferno')"
      ],
      "execution_count": null,
      "outputs": [
        {
          "output_type": "execute_result",
          "data": {
            "text/plain": [
              "<matplotlib.axes._subplots.AxesSubplot at 0x7f18d9e109d0>"
            ]
          },
          "metadata": {},
          "execution_count": 18
        },
        {
          "output_type": "display_data",
          "data": {
            "image/png": "[encoded data removed]",
            "text/plain": [
              "<Figure size 432x288 with 2 Axes>"
            ]
          },
          "metadata": {
            "needs_background": "light"
          }
        }
      ]
    },
    {
      "cell_type": "code",
      "metadata": {
        "colab": {
          "base_uri": "https://localhost:8080/"
        },
        "id": "lMLFZKcGFdka",
        "outputId": "88f1d6ee-1263-40f8-d5d2-bd278eb35ca7"
      },
      "source": [
        "mask"
      ],
      "execution_count": null,
      "outputs": [
        {
          "output_type": "execute_result",
          "data": {
            "text/plain": [
              "array([[1., 1., 1., 1., 1., 1., 1.],\n",
              "       [0., 1., 1., 1., 1., 1., 1.],\n",
              "       [0., 0., 1., 1., 1., 1., 1.],\n",
              "       [0., 0., 0., 1., 1., 1., 1.],\n",
              "       [0., 0., 0., 0., 1., 1., 1.],\n",
              "       [0., 0., 0., 0., 0., 1., 1.],\n",
              "       [0., 0., 0., 0., 0., 0., 1.]])"
            ]
          },
          "metadata": {},
          "execution_count": 19
        }
      ]
    },
    {
      "cell_type": "markdown",
      "metadata": {
        "id": "F5o54mN4FhJu"
      },
      "source": [
        "untuk mask data yang bernilai True atau 1 data tidak di tampilkan"
      ]
    },
    {
      "cell_type": "markdown",
      "metadata": {
        "id": "4eX0HbncFmMp"
      },
      "source": [
        "##### Bagaimana jika ingin segitiganya terbalik ?"
      ]
    },
    {
      "cell_type": "markdown",
      "metadata": {
        "id": "5cR72a5VFqkO"
      },
      "source": [
        "Secara mudahnya kamu harus menghasilkan matriks dengan segitiga di bawah. dapat menggunakan library numppy dengan method rot90()"
      ]
    },
    {
      "cell_type": "code",
      "metadata": {
        "colab": {
          "base_uri": "https://localhost:8080/"
        },
        "id": "GlLH03X1FiXB",
        "outputId": "bb70fe50-aa9b-43be-9d95-fffd8f223144"
      },
      "source": [
        "np.rot90(mask,2)"
      ],
      "execution_count": null,
      "outputs": [
        {
          "output_type": "execute_result",
          "data": {
            "text/plain": [
              "array([[1., 0., 0., 0., 0., 0., 0.],\n",
              "       [1., 1., 0., 0., 0., 0., 0.],\n",
              "       [1., 1., 1., 0., 0., 0., 0.],\n",
              "       [1., 1., 1., 1., 0., 0., 0.],\n",
              "       [1., 1., 1., 1., 1., 0., 0.],\n",
              "       [1., 1., 1., 1., 1., 1., 0.],\n",
              "       [1., 1., 1., 1., 1., 1., 1.]])"
            ]
          },
          "metadata": {},
          "execution_count": 20
        }
      ]
    },
    {
      "cell_type": "code",
      "metadata": {
        "colab": {
          "base_uri": "https://localhost:8080/",
          "height": 337
        },
        "id": "mqTfqmJmFxoz",
        "outputId": "6d3d8149-6c0a-44cc-cd35-e7bfb6eaef7e"
      },
      "source": [
        "sns.heatmap(df.corr(),annot=True, vmax=.3, center=0,\n",
        "            square=True, mask=mask,cmap='inferno')"
      ],
      "execution_count": null,
      "outputs": [
        {
          "output_type": "execute_result",
          "data": {
            "text/plain": [
              "<matplotlib.axes._subplots.AxesSubplot at 0x7f18d9ced2d0>"
            ]
          },
          "metadata": {},
          "execution_count": 21
        },
        {
          "output_type": "display_data",
          "data": {
            "image/png": "[encoded data removed]",
            "text/plain": [
              "<Figure size 432x288 with 2 Axes>"
            ]
          },
          "metadata": {
            "needs_background": "light"
          }
        }
      ]
    }
  ]
}