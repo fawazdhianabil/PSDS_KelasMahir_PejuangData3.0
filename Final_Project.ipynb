{
  "nbformat": 4,
  "nbformat_minor": 0,
  "metadata": {
    "colab": {
      "name": "Final Project.ipynb",
      "provenance": [],
      "collapsed_sections": [],
      "authorship_tag": "ABX9TyOp0/Z7kzPiau3Oe1w+yrGx",
      "include_colab_link": true
    },
    "kernelspec": {
      "name": "python3",
      "display_name": "Python 3"
    },
    "language_info": {
      "name": "python"
    }
  },
  "cells": [
    {
      "cell_type": "markdown",
      "metadata": {
        "id": "view-in-github",
        "colab_type": "text"
      },
      "source": [
        "<a href=\"https://colab.research.google.com/github/fawazdhianabil/PSDS_KelasMahir_PejuangData3.0/blob/main/Final_Project.ipynb\" target=\"_parent\"><img src=\"https://colab.research.google.com/assets/colab-badge.svg\" alt=\"Open In Colab\"/></a>"
      ]
    },
    {
      "cell_type": "markdown",
      "metadata": {
        "id": "S3Y-0BDd7e9Q"
      },
      "source": [
        "#**Preliminary**"
      ]
    },
    {
      "cell_type": "markdown",
      "metadata": {
        "id": "1jp804X28l98"
      },
      "source": [
        "Assalamualaikum Warahmatullahi Wabaraktuh <br>\n",
        "May we always be given health and protection by the almighty God. <br>\n",
        "On this occasion i want to try solve a problem that my instructor give to me as final project in Advance Class PSDS. <br>\n",
        "\n",
        "My name is Muhammad Athanabil Andi Fawazdhia. <br>\n",
        "Im a student from Mathematic and Computational Science, Universitas Ahmad Dahlan.  <br>\n",
        "\n",
        "If in this final project if I made a mistake, I hope for corrections and constructive criticism and suggestions. <br>\n",
        "\n",
        "Thank you very much ! "
      ]
    },
    {
      "cell_type": "markdown",
      "metadata": {
        "id": "wNniYbSM-u34"
      },
      "source": [
        "##IMPORT LIBRARY"
      ]
    },
    {
      "cell_type": "code",
      "metadata": {
        "id": "xLBL34Zj6u1-"
      },
      "source": [
        "#Import the libraries that you need.\n",
        "import numpy as np # library for numerical in python.\n",
        "import pandas as pd # library for data structure & data analysis in python.\n",
        "import matplotlib.pyplot as plt # library for data visualization in python.\n",
        "import seaborn as sns # library for data visualization in python.\n",
        "import time # library for representing time in code. \n",
        "\n",
        "from matplotlib.colors import ListedColormap # Library for used to create colarmap objects from a list of colors\n",
        "from sklearn import datasets # Library for sample dataset\n",
        "from sklearn.model_selection import train_test_split # Library for spliting data in\n",
        "from collections import Counter # Library for find most common\n"
      ],
      "execution_count": 1,
      "outputs": []
    },
    {
      "cell_type": "markdown",
      "metadata": {
        "id": "TNmrvle7BC8W"
      },
      "source": [
        "##IMPORT DATASET"
      ]
    },
    {
      "cell_type": "markdown",
      "metadata": {
        "id": "05eyLfW6BGsW"
      },
      "source": [
        "I use ionoshphere dataset from "
      ]
    },
    {
      "cell_type": "code",
      "metadata": {
        "id": "gTBtvoOeA7IK"
      },
      "source": [
        "df_ion = pd.read_csv('https://raw.githubusercontent.com/fawazdhianabil/PSDS_KelasMahir_PejuangData3.0/main/ionosphere_data_kaggle.csv')"
      ],
      "execution_count": 2,
      "outputs": []
    },
    {
      "cell_type": "code",
      "metadata": {
        "colab": {
          "base_uri": "https://localhost:8080/",
          "height": 432
        },
        "id": "rPlTQPT8BkT9",
        "outputId": "dfe42f1b-96e4-465d-82d8-a1317475b3e6"
      },
      "source": [
        "#show dataset\n",
        "df_ion"
      ],
      "execution_count": 3,
      "outputs": [
        {
          "output_type": "execute_result",
          "data": {
            "text/html": [
              "<div>\n",
              "<style scoped>\n",
              "    .dataframe tbody tr th:only-of-type {\n",
              "        vertical-align: middle;\n",
              "    }\n",
              "\n",
              "    .dataframe tbody tr th {\n",
              "        vertical-align: top;\n",
              "    }\n",
              "\n",
              "    .dataframe thead th {\n",
              "        text-align: right;\n",
              "    }\n",
              "</style>\n",
              "<table border=\"1\" class=\"dataframe\">\n",
              "  <thead>\n",
              "    <tr style=\"text-align: right;\">\n",
              "      <th></th>\n",
              "      <th>feature1</th>\n",
              "      <th>feature2</th>\n",
              "      <th>feature3</th>\n",
              "      <th>feature4</th>\n",
              "      <th>feature5</th>\n",
              "      <th>feature6</th>\n",
              "      <th>feature7</th>\n",
              "      <th>feature8</th>\n",
              "      <th>feature9</th>\n",
              "      <th>feature10</th>\n",
              "      <th>feature11</th>\n",
              "      <th>feature12</th>\n",
              "      <th>feature13</th>\n",
              "      <th>feature14</th>\n",
              "      <th>feature15</th>\n",
              "      <th>feature16</th>\n",
              "      <th>feature17</th>\n",
              "      <th>feature18</th>\n",
              "      <th>feature19</th>\n",
              "      <th>feature20</th>\n",
              "      <th>feature21</th>\n",
              "      <th>feature22</th>\n",
              "      <th>feature23</th>\n",
              "      <th>feature24</th>\n",
              "      <th>feature25</th>\n",
              "      <th>feature26</th>\n",
              "      <th>feature27</th>\n",
              "      <th>feature28</th>\n",
              "      <th>feature29</th>\n",
              "      <th>feature30</th>\n",
              "      <th>feature31</th>\n",
              "      <th>feature32</th>\n",
              "      <th>feature33</th>\n",
              "      <th>feature34</th>\n",
              "      <th>label</th>\n",
              "    </tr>\n",
              "  </thead>\n",
              "  <tbody>\n",
              "    <tr>\n",
              "      <th>0</th>\n",
              "      <td>1</td>\n",
              "      <td>0</td>\n",
              "      <td>0.99539</td>\n",
              "      <td>-0.05889</td>\n",
              "      <td>0.85243</td>\n",
              "      <td>0.02306</td>\n",
              "      <td>0.83398</td>\n",
              "      <td>-0.37708</td>\n",
              "      <td>1.00000</td>\n",
              "      <td>0.03760</td>\n",
              "      <td>0.85243</td>\n",
              "      <td>-0.17755</td>\n",
              "      <td>0.59755</td>\n",
              "      <td>-0.44945</td>\n",
              "      <td>0.60536</td>\n",
              "      <td>-0.38223</td>\n",
              "      <td>0.84356</td>\n",
              "      <td>-0.38542</td>\n",
              "      <td>0.58212</td>\n",
              "      <td>-0.32192</td>\n",
              "      <td>0.56971</td>\n",
              "      <td>-0.29674</td>\n",
              "      <td>0.36946</td>\n",
              "      <td>-0.47357</td>\n",
              "      <td>0.56811</td>\n",
              "      <td>-0.51171</td>\n",
              "      <td>0.41078</td>\n",
              "      <td>-0.46168</td>\n",
              "      <td>0.21266</td>\n",
              "      <td>-0.34090</td>\n",
              "      <td>0.42267</td>\n",
              "      <td>-0.54487</td>\n",
              "      <td>0.18641</td>\n",
              "      <td>-0.45300</td>\n",
              "      <td>g</td>\n",
              "    </tr>\n",
              "    <tr>\n",
              "      <th>1</th>\n",
              "      <td>1</td>\n",
              "      <td>0</td>\n",
              "      <td>1.00000</td>\n",
              "      <td>-0.18829</td>\n",
              "      <td>0.93035</td>\n",
              "      <td>-0.36156</td>\n",
              "      <td>-0.10868</td>\n",
              "      <td>-0.93597</td>\n",
              "      <td>1.00000</td>\n",
              "      <td>-0.04549</td>\n",
              "      <td>0.50874</td>\n",
              "      <td>-0.67743</td>\n",
              "      <td>0.34432</td>\n",
              "      <td>-0.69707</td>\n",
              "      <td>-0.51685</td>\n",
              "      <td>-0.97515</td>\n",
              "      <td>0.05499</td>\n",
              "      <td>-0.62237</td>\n",
              "      <td>0.33109</td>\n",
              "      <td>-1.00000</td>\n",
              "      <td>-0.13151</td>\n",
              "      <td>-0.45300</td>\n",
              "      <td>-0.18056</td>\n",
              "      <td>-0.35734</td>\n",
              "      <td>-0.20332</td>\n",
              "      <td>-0.26569</td>\n",
              "      <td>-0.20468</td>\n",
              "      <td>-0.18401</td>\n",
              "      <td>-0.19040</td>\n",
              "      <td>-0.11593</td>\n",
              "      <td>-0.16626</td>\n",
              "      <td>-0.06288</td>\n",
              "      <td>-0.13738</td>\n",
              "      <td>-0.02447</td>\n",
              "      <td>b</td>\n",
              "    </tr>\n",
              "    <tr>\n",
              "      <th>2</th>\n",
              "      <td>1</td>\n",
              "      <td>0</td>\n",
              "      <td>1.00000</td>\n",
              "      <td>-0.03365</td>\n",
              "      <td>1.00000</td>\n",
              "      <td>0.00485</td>\n",
              "      <td>1.00000</td>\n",
              "      <td>-0.12062</td>\n",
              "      <td>0.88965</td>\n",
              "      <td>0.01198</td>\n",
              "      <td>0.73082</td>\n",
              "      <td>0.05346</td>\n",
              "      <td>0.85443</td>\n",
              "      <td>0.00827</td>\n",
              "      <td>0.54591</td>\n",
              "      <td>0.00299</td>\n",
              "      <td>0.83775</td>\n",
              "      <td>-0.13644</td>\n",
              "      <td>0.75535</td>\n",
              "      <td>-0.08540</td>\n",
              "      <td>0.70887</td>\n",
              "      <td>-0.27502</td>\n",
              "      <td>0.43385</td>\n",
              "      <td>-0.12062</td>\n",
              "      <td>0.57528</td>\n",
              "      <td>-0.40220</td>\n",
              "      <td>0.58984</td>\n",
              "      <td>-0.22145</td>\n",
              "      <td>0.43100</td>\n",
              "      <td>-0.17365</td>\n",
              "      <td>0.60436</td>\n",
              "      <td>-0.24180</td>\n",
              "      <td>0.56045</td>\n",
              "      <td>-0.38238</td>\n",
              "      <td>g</td>\n",
              "    </tr>\n",
              "    <tr>\n",
              "      <th>3</th>\n",
              "      <td>1</td>\n",
              "      <td>0</td>\n",
              "      <td>1.00000</td>\n",
              "      <td>-0.45161</td>\n",
              "      <td>1.00000</td>\n",
              "      <td>1.00000</td>\n",
              "      <td>0.71216</td>\n",
              "      <td>-1.00000</td>\n",
              "      <td>0.00000</td>\n",
              "      <td>0.00000</td>\n",
              "      <td>0.00000</td>\n",
              "      <td>0.00000</td>\n",
              "      <td>0.00000</td>\n",
              "      <td>0.00000</td>\n",
              "      <td>-1.00000</td>\n",
              "      <td>0.14516</td>\n",
              "      <td>0.54094</td>\n",
              "      <td>-0.39330</td>\n",
              "      <td>-1.00000</td>\n",
              "      <td>-0.54467</td>\n",
              "      <td>-0.69975</td>\n",
              "      <td>1.00000</td>\n",
              "      <td>0.00000</td>\n",
              "      <td>0.00000</td>\n",
              "      <td>1.00000</td>\n",
              "      <td>0.90695</td>\n",
              "      <td>0.51613</td>\n",
              "      <td>1.00000</td>\n",
              "      <td>1.00000</td>\n",
              "      <td>-0.20099</td>\n",
              "      <td>0.25682</td>\n",
              "      <td>1.00000</td>\n",
              "      <td>-0.32382</td>\n",
              "      <td>1.00000</td>\n",
              "      <td>b</td>\n",
              "    </tr>\n",
              "    <tr>\n",
              "      <th>4</th>\n",
              "      <td>1</td>\n",
              "      <td>0</td>\n",
              "      <td>1.00000</td>\n",
              "      <td>-0.02401</td>\n",
              "      <td>0.94140</td>\n",
              "      <td>0.06531</td>\n",
              "      <td>0.92106</td>\n",
              "      <td>-0.23255</td>\n",
              "      <td>0.77152</td>\n",
              "      <td>-0.16399</td>\n",
              "      <td>0.52798</td>\n",
              "      <td>-0.20275</td>\n",
              "      <td>0.56409</td>\n",
              "      <td>-0.00712</td>\n",
              "      <td>0.34395</td>\n",
              "      <td>-0.27457</td>\n",
              "      <td>0.52940</td>\n",
              "      <td>-0.21780</td>\n",
              "      <td>0.45107</td>\n",
              "      <td>-0.17813</td>\n",
              "      <td>0.05982</td>\n",
              "      <td>-0.35575</td>\n",
              "      <td>0.02309</td>\n",
              "      <td>-0.52879</td>\n",
              "      <td>0.03286</td>\n",
              "      <td>-0.65158</td>\n",
              "      <td>0.13290</td>\n",
              "      <td>-0.53206</td>\n",
              "      <td>0.02431</td>\n",
              "      <td>-0.62197</td>\n",
              "      <td>-0.05707</td>\n",
              "      <td>-0.59573</td>\n",
              "      <td>-0.04608</td>\n",
              "      <td>-0.65697</td>\n",
              "      <td>g</td>\n",
              "    </tr>\n",
              "    <tr>\n",
              "      <th>...</th>\n",
              "      <td>...</td>\n",
              "      <td>...</td>\n",
              "      <td>...</td>\n",
              "      <td>...</td>\n",
              "      <td>...</td>\n",
              "      <td>...</td>\n",
              "      <td>...</td>\n",
              "      <td>...</td>\n",
              "      <td>...</td>\n",
              "      <td>...</td>\n",
              "      <td>...</td>\n",
              "      <td>...</td>\n",
              "      <td>...</td>\n",
              "      <td>...</td>\n",
              "      <td>...</td>\n",
              "      <td>...</td>\n",
              "      <td>...</td>\n",
              "      <td>...</td>\n",
              "      <td>...</td>\n",
              "      <td>...</td>\n",
              "      <td>...</td>\n",
              "      <td>...</td>\n",
              "      <td>...</td>\n",
              "      <td>...</td>\n",
              "      <td>...</td>\n",
              "      <td>...</td>\n",
              "      <td>...</td>\n",
              "      <td>...</td>\n",
              "      <td>...</td>\n",
              "      <td>...</td>\n",
              "      <td>...</td>\n",
              "      <td>...</td>\n",
              "      <td>...</td>\n",
              "      <td>...</td>\n",
              "      <td>...</td>\n",
              "    </tr>\n",
              "    <tr>\n",
              "      <th>346</th>\n",
              "      <td>1</td>\n",
              "      <td>0</td>\n",
              "      <td>0.83508</td>\n",
              "      <td>0.08298</td>\n",
              "      <td>0.73739</td>\n",
              "      <td>-0.14706</td>\n",
              "      <td>0.84349</td>\n",
              "      <td>-0.05567</td>\n",
              "      <td>0.90441</td>\n",
              "      <td>-0.04622</td>\n",
              "      <td>0.89391</td>\n",
              "      <td>0.13130</td>\n",
              "      <td>0.81197</td>\n",
              "      <td>0.06723</td>\n",
              "      <td>0.79307</td>\n",
              "      <td>-0.08929</td>\n",
              "      <td>1.00000</td>\n",
              "      <td>-0.02101</td>\n",
              "      <td>0.96639</td>\n",
              "      <td>0.06618</td>\n",
              "      <td>0.87605</td>\n",
              "      <td>0.01155</td>\n",
              "      <td>0.77521</td>\n",
              "      <td>0.06618</td>\n",
              "      <td>0.95378</td>\n",
              "      <td>-0.04202</td>\n",
              "      <td>0.83479</td>\n",
              "      <td>0.00123</td>\n",
              "      <td>1.00000</td>\n",
              "      <td>0.12815</td>\n",
              "      <td>0.86660</td>\n",
              "      <td>-0.10714</td>\n",
              "      <td>0.90546</td>\n",
              "      <td>-0.04307</td>\n",
              "      <td>g</td>\n",
              "    </tr>\n",
              "    <tr>\n",
              "      <th>347</th>\n",
              "      <td>1</td>\n",
              "      <td>0</td>\n",
              "      <td>0.95113</td>\n",
              "      <td>0.00419</td>\n",
              "      <td>0.95183</td>\n",
              "      <td>-0.02723</td>\n",
              "      <td>0.93438</td>\n",
              "      <td>-0.01920</td>\n",
              "      <td>0.94590</td>\n",
              "      <td>0.01606</td>\n",
              "      <td>0.96510</td>\n",
              "      <td>0.03281</td>\n",
              "      <td>0.94171</td>\n",
              "      <td>0.07330</td>\n",
              "      <td>0.94625</td>\n",
              "      <td>-0.01326</td>\n",
              "      <td>0.97173</td>\n",
              "      <td>0.00140</td>\n",
              "      <td>0.94834</td>\n",
              "      <td>0.06038</td>\n",
              "      <td>0.92670</td>\n",
              "      <td>0.08412</td>\n",
              "      <td>0.93124</td>\n",
              "      <td>0.10087</td>\n",
              "      <td>0.94520</td>\n",
              "      <td>0.01361</td>\n",
              "      <td>0.93522</td>\n",
              "      <td>0.04925</td>\n",
              "      <td>0.93159</td>\n",
              "      <td>0.08168</td>\n",
              "      <td>0.94066</td>\n",
              "      <td>-0.00035</td>\n",
              "      <td>0.91483</td>\n",
              "      <td>0.04712</td>\n",
              "      <td>g</td>\n",
              "    </tr>\n",
              "    <tr>\n",
              "      <th>348</th>\n",
              "      <td>1</td>\n",
              "      <td>0</td>\n",
              "      <td>0.94701</td>\n",
              "      <td>-0.00034</td>\n",
              "      <td>0.93207</td>\n",
              "      <td>-0.03227</td>\n",
              "      <td>0.95177</td>\n",
              "      <td>-0.03431</td>\n",
              "      <td>0.95584</td>\n",
              "      <td>0.02446</td>\n",
              "      <td>0.94124</td>\n",
              "      <td>0.01766</td>\n",
              "      <td>0.92595</td>\n",
              "      <td>0.04688</td>\n",
              "      <td>0.93954</td>\n",
              "      <td>-0.01461</td>\n",
              "      <td>0.94837</td>\n",
              "      <td>0.02004</td>\n",
              "      <td>0.93784</td>\n",
              "      <td>0.01393</td>\n",
              "      <td>0.91406</td>\n",
              "      <td>0.07677</td>\n",
              "      <td>0.89470</td>\n",
              "      <td>0.06148</td>\n",
              "      <td>0.93988</td>\n",
              "      <td>0.03193</td>\n",
              "      <td>0.92489</td>\n",
              "      <td>0.02542</td>\n",
              "      <td>0.92120</td>\n",
              "      <td>0.02242</td>\n",
              "      <td>0.92459</td>\n",
              "      <td>0.00442</td>\n",
              "      <td>0.92697</td>\n",
              "      <td>-0.00577</td>\n",
              "      <td>g</td>\n",
              "    </tr>\n",
              "    <tr>\n",
              "      <th>349</th>\n",
              "      <td>1</td>\n",
              "      <td>0</td>\n",
              "      <td>0.90608</td>\n",
              "      <td>-0.01657</td>\n",
              "      <td>0.98122</td>\n",
              "      <td>-0.01989</td>\n",
              "      <td>0.95691</td>\n",
              "      <td>-0.03646</td>\n",
              "      <td>0.85746</td>\n",
              "      <td>0.00110</td>\n",
              "      <td>0.89724</td>\n",
              "      <td>-0.03315</td>\n",
              "      <td>0.89061</td>\n",
              "      <td>-0.01436</td>\n",
              "      <td>0.90608</td>\n",
              "      <td>-0.04530</td>\n",
              "      <td>0.91381</td>\n",
              "      <td>-0.00884</td>\n",
              "      <td>0.80773</td>\n",
              "      <td>-0.12928</td>\n",
              "      <td>0.88729</td>\n",
              "      <td>0.01215</td>\n",
              "      <td>0.92155</td>\n",
              "      <td>-0.02320</td>\n",
              "      <td>0.91050</td>\n",
              "      <td>-0.02099</td>\n",
              "      <td>0.89147</td>\n",
              "      <td>-0.07760</td>\n",
              "      <td>0.82983</td>\n",
              "      <td>-0.17238</td>\n",
              "      <td>0.96022</td>\n",
              "      <td>-0.03757</td>\n",
              "      <td>0.87403</td>\n",
              "      <td>-0.16243</td>\n",
              "      <td>g</td>\n",
              "    </tr>\n",
              "    <tr>\n",
              "      <th>350</th>\n",
              "      <td>1</td>\n",
              "      <td>0</td>\n",
              "      <td>0.84710</td>\n",
              "      <td>0.13533</td>\n",
              "      <td>0.73638</td>\n",
              "      <td>-0.06151</td>\n",
              "      <td>0.87873</td>\n",
              "      <td>0.08260</td>\n",
              "      <td>0.88928</td>\n",
              "      <td>-0.09139</td>\n",
              "      <td>0.78735</td>\n",
              "      <td>0.06678</td>\n",
              "      <td>0.80668</td>\n",
              "      <td>-0.00351</td>\n",
              "      <td>0.79262</td>\n",
              "      <td>-0.01054</td>\n",
              "      <td>0.85764</td>\n",
              "      <td>-0.04569</td>\n",
              "      <td>0.87170</td>\n",
              "      <td>-0.03515</td>\n",
              "      <td>0.81722</td>\n",
              "      <td>-0.09490</td>\n",
              "      <td>0.71002</td>\n",
              "      <td>0.04394</td>\n",
              "      <td>0.86467</td>\n",
              "      <td>-0.15114</td>\n",
              "      <td>0.81147</td>\n",
              "      <td>-0.04822</td>\n",
              "      <td>0.78207</td>\n",
              "      <td>-0.00703</td>\n",
              "      <td>0.75747</td>\n",
              "      <td>-0.06678</td>\n",
              "      <td>0.85764</td>\n",
              "      <td>-0.06151</td>\n",
              "      <td>g</td>\n",
              "    </tr>\n",
              "  </tbody>\n",
              "</table>\n",
              "<p>351 rows × 35 columns</p>\n",
              "</div>"
            ],
            "text/plain": [
              "     feature1  feature2  feature3  ...  feature33  feature34  label\n",
              "0           1         0   0.99539  ...    0.18641   -0.45300      g\n",
              "1           1         0   1.00000  ...   -0.13738   -0.02447      b\n",
              "2           1         0   1.00000  ...    0.56045   -0.38238      g\n",
              "3           1         0   1.00000  ...   -0.32382    1.00000      b\n",
              "4           1         0   1.00000  ...   -0.04608   -0.65697      g\n",
              "..        ...       ...       ...  ...        ...        ...    ...\n",
              "346         1         0   0.83508  ...    0.90546   -0.04307      g\n",
              "347         1         0   0.95113  ...    0.91483    0.04712      g\n",
              "348         1         0   0.94701  ...    0.92697   -0.00577      g\n",
              "349         1         0   0.90608  ...    0.87403   -0.16243      g\n",
              "350         1         0   0.84710  ...    0.85764   -0.06151      g\n",
              "\n",
              "[351 rows x 35 columns]"
            ]
          },
          "metadata": {},
          "execution_count": 3
        }
      ]
    },
    {
      "cell_type": "markdown",
      "metadata": {
        "id": "9MbrJgEgA2av"
      },
      "source": [
        "##**DATASET PURPOSE**"
      ]
    },
    {
      "cell_type": "markdown",
      "metadata": {
        "id": "0LQyI1S3A6Fj"
      },
      "source": [
        "**The Ionosphere dataset contains features obtained from radar signals focused on the ionosphere layer of the Earth's atmosphere. The task is to determine whether the signal shows the presence of some object, or just empty air.**"
      ]
    },
    {
      "cell_type": "markdown",
      "metadata": {
        "id": "SRavrSVpNjYV"
      },
      "source": [
        "##**EXPLORATORY DATASET ANALYS**"
      ]
    },
    {
      "cell_type": "code",
      "metadata": {
        "colab": {
          "base_uri": "https://localhost:8080/"
        },
        "id": "kSSP4w8rHr8H",
        "outputId": "bbce4d31-2419-4f8c-e592-0e2b115f0ccd"
      },
      "source": [
        "#look for dataset dimensions.\n",
        "df_ion.shape"
      ],
      "execution_count": 4,
      "outputs": [
        {
          "output_type": "execute_result",
          "data": {
            "text/plain": [
              "(351, 35)"
            ]
          },
          "metadata": {},
          "execution_count": 4
        }
      ]
    },
    {
      "cell_type": "markdown",
      "metadata": {
        "id": "KUVD60ZxHyq2"
      },
      "source": [
        "(351, 35) means dataset have ***351 rows and 35 columns***"
      ]
    },
    {
      "cell_type": "code",
      "metadata": {
        "colab": {
          "base_uri": "https://localhost:8080/"
        },
        "id": "nPPwxlWwDUhU",
        "outputId": "49032b27-30fe-4c8d-9ed4-83475d41f711"
      },
      "source": [
        "#nformations from dataset.\n",
        "df_ion.info()"
      ],
      "execution_count": 5,
      "outputs": [
        {
          "output_type": "stream",
          "name": "stdout",
          "text": [
            "<class 'pandas.core.frame.DataFrame'>\n",
            "RangeIndex: 351 entries, 0 to 350\n",
            "Data columns (total 35 columns):\n",
            " #   Column     Non-Null Count  Dtype  \n",
            "---  ------     --------------  -----  \n",
            " 0   feature1   351 non-null    int64  \n",
            " 1   feature2   351 non-null    int64  \n",
            " 2   feature3   351 non-null    float64\n",
            " 3   feature4   351 non-null    float64\n",
            " 4   feature5   351 non-null    float64\n",
            " 5   feature6   351 non-null    float64\n",
            " 6   feature7   351 non-null    float64\n",
            " 7   feature8   351 non-null    float64\n",
            " 8   feature9   351 non-null    float64\n",
            " 9   feature10  351 non-null    float64\n",
            " 10  feature11  351 non-null    float64\n",
            " 11  feature12  351 non-null    float64\n",
            " 12  feature13  351 non-null    float64\n",
            " 13  feature14  351 non-null    float64\n",
            " 14  feature15  351 non-null    float64\n",
            " 15  feature16  351 non-null    float64\n",
            " 16  feature17  351 non-null    float64\n",
            " 17  feature18  351 non-null    float64\n",
            " 18  feature19  351 non-null    float64\n",
            " 19  feature20  351 non-null    float64\n",
            " 20  feature21  351 non-null    float64\n",
            " 21  feature22  351 non-null    float64\n",
            " 22  feature23  351 non-null    float64\n",
            " 23  feature24  351 non-null    float64\n",
            " 24  feature25  351 non-null    float64\n",
            " 25  feature26  351 non-null    float64\n",
            " 26  feature27  351 non-null    float64\n",
            " 27  feature28  351 non-null    float64\n",
            " 28  feature29  351 non-null    float64\n",
            " 29  feature30  351 non-null    float64\n",
            " 30  feature31  351 non-null    float64\n",
            " 31  feature32  351 non-null    float64\n",
            " 32  feature33  351 non-null    float64\n",
            " 33  feature34  351 non-null    float64\n",
            " 34  label      351 non-null    object \n",
            "dtypes: float64(32), int64(2), object(1)\n",
            "memory usage: 96.1+ KB\n"
          ]
        }
      ]
    },
    {
      "cell_type": "markdown",
      "metadata": {
        "id": "OTWwK8UPIKTQ"
      },
      "source": [
        "**We can look that label types is object even though it should be int64, so we can change it to int64 like below :**"
      ]
    },
    {
      "cell_type": "code",
      "metadata": {
        "colab": {
          "base_uri": "https://localhost:8080/"
        },
        "id": "51AhsMZaBqat",
        "outputId": "4073868f-28af-49c2-f159-fe63739e92f3"
      },
      "source": [
        "#change dtypes label\n",
        "df_ion.label = pd.factorize(df_ion.label)[0]\n",
        "print (df_ion)"
      ],
      "execution_count": 6,
      "outputs": [
        {
          "output_type": "stream",
          "name": "stdout",
          "text": [
            "     feature1  feature2  feature3  ...  feature33  feature34  label\n",
            "0           1         0   0.99539  ...    0.18641   -0.45300      0\n",
            "1           1         0   1.00000  ...   -0.13738   -0.02447      1\n",
            "2           1         0   1.00000  ...    0.56045   -0.38238      0\n",
            "3           1         0   1.00000  ...   -0.32382    1.00000      1\n",
            "4           1         0   1.00000  ...   -0.04608   -0.65697      0\n",
            "..        ...       ...       ...  ...        ...        ...    ...\n",
            "346         1         0   0.83508  ...    0.90546   -0.04307      0\n",
            "347         1         0   0.95113  ...    0.91483    0.04712      0\n",
            "348         1         0   0.94701  ...    0.92697   -0.00577      0\n",
            "349         1         0   0.90608  ...    0.87403   -0.16243      0\n",
            "350         1         0   0.84710  ...    0.85764   -0.06151      0\n",
            "\n",
            "[351 rows x 35 columns]\n"
          ]
        }
      ]
    },
    {
      "cell_type": "code",
      "metadata": {
        "colab": {
          "base_uri": "https://localhost:8080/"
        },
        "id": "9OvQF2p0B4Rr",
        "outputId": "5c5ea07a-93c3-4cc0-ea96-83cf81486541"
      },
      "source": [
        "#look for types each variabel after change\n",
        "df_ion.dtypes"
      ],
      "execution_count": 7,
      "outputs": [
        {
          "output_type": "execute_result",
          "data": {
            "text/plain": [
              "feature1       int64\n",
              "feature2       int64\n",
              "feature3     float64\n",
              "feature4     float64\n",
              "feature5     float64\n",
              "feature6     float64\n",
              "feature7     float64\n",
              "feature8     float64\n",
              "feature9     float64\n",
              "feature10    float64\n",
              "feature11    float64\n",
              "feature12    float64\n",
              "feature13    float64\n",
              "feature14    float64\n",
              "feature15    float64\n",
              "feature16    float64\n",
              "feature17    float64\n",
              "feature18    float64\n",
              "feature19    float64\n",
              "feature20    float64\n",
              "feature21    float64\n",
              "feature22    float64\n",
              "feature23    float64\n",
              "feature24    float64\n",
              "feature25    float64\n",
              "feature26    float64\n",
              "feature27    float64\n",
              "feature28    float64\n",
              "feature29    float64\n",
              "feature30    float64\n",
              "feature31    float64\n",
              "feature32    float64\n",
              "feature33    float64\n",
              "feature34    float64\n",
              "label          int64\n",
              "dtype: object"
            ]
          },
          "metadata": {},
          "execution_count": 7
        }
      ]
    },
    {
      "cell_type": "markdown",
      "metadata": {
        "id": "aYPpb2PzImQc"
      },
      "source": [
        "**labels dtypes already change**"
      ]
    },
    {
      "cell_type": "markdown",
      "metadata": {
        "id": "b1KL7OCuIqz0"
      },
      "source": [
        "##**LOOK FOR STATISTIC**"
      ]
    },
    {
      "cell_type": "code",
      "metadata": {
        "colab": {
          "base_uri": "https://localhost:8080/",
          "height": 312
        },
        "id": "MwSkuTVvC-EK",
        "outputId": "2cce47b3-5127-4136-e555-23e2c4038daa"
      },
      "source": [
        "df_ion.describe()"
      ],
      "execution_count": 8,
      "outputs": [
        {
          "output_type": "execute_result",
          "data": {
            "text/html": [
              "<div>\n",
              "<style scoped>\n",
              "    .dataframe tbody tr th:only-of-type {\n",
              "        vertical-align: middle;\n",
              "    }\n",
              "\n",
              "    .dataframe tbody tr th {\n",
              "        vertical-align: top;\n",
              "    }\n",
              "\n",
              "    .dataframe thead th {\n",
              "        text-align: right;\n",
              "    }\n",
              "</style>\n",
              "<table border=\"1\" class=\"dataframe\">\n",
              "  <thead>\n",
              "    <tr style=\"text-align: right;\">\n",
              "      <th></th>\n",
              "      <th>feature1</th>\n",
              "      <th>feature2</th>\n",
              "      <th>feature3</th>\n",
              "      <th>feature4</th>\n",
              "      <th>feature5</th>\n",
              "      <th>feature6</th>\n",
              "      <th>feature7</th>\n",
              "      <th>feature8</th>\n",
              "      <th>feature9</th>\n",
              "      <th>feature10</th>\n",
              "      <th>feature11</th>\n",
              "      <th>feature12</th>\n",
              "      <th>feature13</th>\n",
              "      <th>feature14</th>\n",
              "      <th>feature15</th>\n",
              "      <th>feature16</th>\n",
              "      <th>feature17</th>\n",
              "      <th>feature18</th>\n",
              "      <th>feature19</th>\n",
              "      <th>feature20</th>\n",
              "      <th>feature21</th>\n",
              "      <th>feature22</th>\n",
              "      <th>feature23</th>\n",
              "      <th>feature24</th>\n",
              "      <th>feature25</th>\n",
              "      <th>feature26</th>\n",
              "      <th>feature27</th>\n",
              "      <th>feature28</th>\n",
              "      <th>feature29</th>\n",
              "      <th>feature30</th>\n",
              "      <th>feature31</th>\n",
              "      <th>feature32</th>\n",
              "      <th>feature33</th>\n",
              "      <th>feature34</th>\n",
              "      <th>label</th>\n",
              "    </tr>\n",
              "  </thead>\n",
              "  <tbody>\n",
              "    <tr>\n",
              "      <th>count</th>\n",
              "      <td>351.000000</td>\n",
              "      <td>351.0</td>\n",
              "      <td>351.000000</td>\n",
              "      <td>351.000000</td>\n",
              "      <td>351.000000</td>\n",
              "      <td>351.000000</td>\n",
              "      <td>351.000000</td>\n",
              "      <td>351.000000</td>\n",
              "      <td>351.000000</td>\n",
              "      <td>351.000000</td>\n",
              "      <td>351.000000</td>\n",
              "      <td>351.000000</td>\n",
              "      <td>351.000000</td>\n",
              "      <td>351.000000</td>\n",
              "      <td>351.000000</td>\n",
              "      <td>351.000000</td>\n",
              "      <td>351.000000</td>\n",
              "      <td>351.000000</td>\n",
              "      <td>351.000000</td>\n",
              "      <td>351.000000</td>\n",
              "      <td>351.000000</td>\n",
              "      <td>351.000000</td>\n",
              "      <td>351.000000</td>\n",
              "      <td>351.000000</td>\n",
              "      <td>351.000000</td>\n",
              "      <td>351.000000</td>\n",
              "      <td>351.000000</td>\n",
              "      <td>351.000000</td>\n",
              "      <td>351.000000</td>\n",
              "      <td>351.000000</td>\n",
              "      <td>351.000000</td>\n",
              "      <td>351.000000</td>\n",
              "      <td>351.000000</td>\n",
              "      <td>351.000000</td>\n",
              "      <td>351.000000</td>\n",
              "    </tr>\n",
              "    <tr>\n",
              "      <th>mean</th>\n",
              "      <td>0.891738</td>\n",
              "      <td>0.0</td>\n",
              "      <td>0.641342</td>\n",
              "      <td>0.044372</td>\n",
              "      <td>0.601068</td>\n",
              "      <td>0.115889</td>\n",
              "      <td>0.550095</td>\n",
              "      <td>0.119360</td>\n",
              "      <td>0.511848</td>\n",
              "      <td>0.181345</td>\n",
              "      <td>0.476183</td>\n",
              "      <td>0.155040</td>\n",
              "      <td>0.400801</td>\n",
              "      <td>0.093414</td>\n",
              "      <td>0.344159</td>\n",
              "      <td>0.071132</td>\n",
              "      <td>0.381949</td>\n",
              "      <td>-0.003617</td>\n",
              "      <td>0.359390</td>\n",
              "      <td>-0.024025</td>\n",
              "      <td>0.336695</td>\n",
              "      <td>0.008296</td>\n",
              "      <td>0.362475</td>\n",
              "      <td>-0.057406</td>\n",
              "      <td>0.396135</td>\n",
              "      <td>-0.071187</td>\n",
              "      <td>0.541641</td>\n",
              "      <td>-0.069538</td>\n",
              "      <td>0.378445</td>\n",
              "      <td>-0.027907</td>\n",
              "      <td>0.352514</td>\n",
              "      <td>-0.003794</td>\n",
              "      <td>0.349364</td>\n",
              "      <td>0.014480</td>\n",
              "      <td>0.358974</td>\n",
              "    </tr>\n",
              "    <tr>\n",
              "      <th>std</th>\n",
              "      <td>0.311155</td>\n",
              "      <td>0.0</td>\n",
              "      <td>0.497708</td>\n",
              "      <td>0.441435</td>\n",
              "      <td>0.519862</td>\n",
              "      <td>0.460810</td>\n",
              "      <td>0.492654</td>\n",
              "      <td>0.520750</td>\n",
              "      <td>0.507066</td>\n",
              "      <td>0.483851</td>\n",
              "      <td>0.563496</td>\n",
              "      <td>0.494817</td>\n",
              "      <td>0.622186</td>\n",
              "      <td>0.494873</td>\n",
              "      <td>0.652828</td>\n",
              "      <td>0.458371</td>\n",
              "      <td>0.618020</td>\n",
              "      <td>0.496762</td>\n",
              "      <td>0.626267</td>\n",
              "      <td>0.519076</td>\n",
              "      <td>0.609828</td>\n",
              "      <td>0.518166</td>\n",
              "      <td>0.603767</td>\n",
              "      <td>0.527456</td>\n",
              "      <td>0.578451</td>\n",
              "      <td>0.508495</td>\n",
              "      <td>0.516205</td>\n",
              "      <td>0.550025</td>\n",
              "      <td>0.575886</td>\n",
              "      <td>0.507974</td>\n",
              "      <td>0.571483</td>\n",
              "      <td>0.513574</td>\n",
              "      <td>0.522663</td>\n",
              "      <td>0.468337</td>\n",
              "      <td>0.480384</td>\n",
              "    </tr>\n",
              "    <tr>\n",
              "      <th>min</th>\n",
              "      <td>0.000000</td>\n",
              "      <td>0.0</td>\n",
              "      <td>-1.000000</td>\n",
              "      <td>-1.000000</td>\n",
              "      <td>-1.000000</td>\n",
              "      <td>-1.000000</td>\n",
              "      <td>-1.000000</td>\n",
              "      <td>-1.000000</td>\n",
              "      <td>-1.000000</td>\n",
              "      <td>-1.000000</td>\n",
              "      <td>-1.000000</td>\n",
              "      <td>-1.000000</td>\n",
              "      <td>-1.000000</td>\n",
              "      <td>-1.000000</td>\n",
              "      <td>-1.000000</td>\n",
              "      <td>-1.000000</td>\n",
              "      <td>-1.000000</td>\n",
              "      <td>-1.000000</td>\n",
              "      <td>-1.000000</td>\n",
              "      <td>-1.000000</td>\n",
              "      <td>-1.000000</td>\n",
              "      <td>-1.000000</td>\n",
              "      <td>-1.000000</td>\n",
              "      <td>-1.000000</td>\n",
              "      <td>-1.000000</td>\n",
              "      <td>-1.000000</td>\n",
              "      <td>-1.000000</td>\n",
              "      <td>-1.000000</td>\n",
              "      <td>-1.000000</td>\n",
              "      <td>-1.000000</td>\n",
              "      <td>-1.000000</td>\n",
              "      <td>-1.000000</td>\n",
              "      <td>-1.000000</td>\n",
              "      <td>-1.000000</td>\n",
              "      <td>0.000000</td>\n",
              "    </tr>\n",
              "    <tr>\n",
              "      <th>25%</th>\n",
              "      <td>1.000000</td>\n",
              "      <td>0.0</td>\n",
              "      <td>0.472135</td>\n",
              "      <td>-0.064735</td>\n",
              "      <td>0.412660</td>\n",
              "      <td>-0.024795</td>\n",
              "      <td>0.211310</td>\n",
              "      <td>-0.054840</td>\n",
              "      <td>0.087110</td>\n",
              "      <td>-0.048075</td>\n",
              "      <td>0.021120</td>\n",
              "      <td>-0.065265</td>\n",
              "      <td>0.000000</td>\n",
              "      <td>-0.073725</td>\n",
              "      <td>0.000000</td>\n",
              "      <td>-0.081705</td>\n",
              "      <td>0.000000</td>\n",
              "      <td>-0.225690</td>\n",
              "      <td>0.000000</td>\n",
              "      <td>-0.234670</td>\n",
              "      <td>0.000000</td>\n",
              "      <td>-0.243870</td>\n",
              "      <td>0.000000</td>\n",
              "      <td>-0.366885</td>\n",
              "      <td>0.000000</td>\n",
              "      <td>-0.332390</td>\n",
              "      <td>0.286435</td>\n",
              "      <td>-0.443165</td>\n",
              "      <td>0.000000</td>\n",
              "      <td>-0.236885</td>\n",
              "      <td>0.000000</td>\n",
              "      <td>-0.242595</td>\n",
              "      <td>0.000000</td>\n",
              "      <td>-0.165350</td>\n",
              "      <td>0.000000</td>\n",
              "    </tr>\n",
              "    <tr>\n",
              "      <th>50%</th>\n",
              "      <td>1.000000</td>\n",
              "      <td>0.0</td>\n",
              "      <td>0.871110</td>\n",
              "      <td>0.016310</td>\n",
              "      <td>0.809200</td>\n",
              "      <td>0.022800</td>\n",
              "      <td>0.728730</td>\n",
              "      <td>0.014710</td>\n",
              "      <td>0.684210</td>\n",
              "      <td>0.018290</td>\n",
              "      <td>0.667980</td>\n",
              "      <td>0.028250</td>\n",
              "      <td>0.644070</td>\n",
              "      <td>0.030270</td>\n",
              "      <td>0.601940</td>\n",
              "      <td>0.000000</td>\n",
              "      <td>0.590910</td>\n",
              "      <td>0.000000</td>\n",
              "      <td>0.576190</td>\n",
              "      <td>0.000000</td>\n",
              "      <td>0.499090</td>\n",
              "      <td>0.000000</td>\n",
              "      <td>0.531760</td>\n",
              "      <td>0.000000</td>\n",
              "      <td>0.553890</td>\n",
              "      <td>-0.015050</td>\n",
              "      <td>0.708240</td>\n",
              "      <td>-0.017690</td>\n",
              "      <td>0.496640</td>\n",
              "      <td>0.000000</td>\n",
              "      <td>0.442770</td>\n",
              "      <td>0.000000</td>\n",
              "      <td>0.409560</td>\n",
              "      <td>0.000000</td>\n",
              "      <td>0.000000</td>\n",
              "    </tr>\n",
              "    <tr>\n",
              "      <th>75%</th>\n",
              "      <td>1.000000</td>\n",
              "      <td>0.0</td>\n",
              "      <td>1.000000</td>\n",
              "      <td>0.194185</td>\n",
              "      <td>1.000000</td>\n",
              "      <td>0.334655</td>\n",
              "      <td>0.969240</td>\n",
              "      <td>0.445675</td>\n",
              "      <td>0.953240</td>\n",
              "      <td>0.534195</td>\n",
              "      <td>0.957895</td>\n",
              "      <td>0.482375</td>\n",
              "      <td>0.955505</td>\n",
              "      <td>0.374860</td>\n",
              "      <td>0.919330</td>\n",
              "      <td>0.308975</td>\n",
              "      <td>0.935705</td>\n",
              "      <td>0.195285</td>\n",
              "      <td>0.899265</td>\n",
              "      <td>0.134370</td>\n",
              "      <td>0.894865</td>\n",
              "      <td>0.188760</td>\n",
              "      <td>0.911235</td>\n",
              "      <td>0.164630</td>\n",
              "      <td>0.905240</td>\n",
              "      <td>0.156765</td>\n",
              "      <td>0.999945</td>\n",
              "      <td>0.153535</td>\n",
              "      <td>0.883465</td>\n",
              "      <td>0.154075</td>\n",
              "      <td>0.857620</td>\n",
              "      <td>0.200120</td>\n",
              "      <td>0.813765</td>\n",
              "      <td>0.171660</td>\n",
              "      <td>1.000000</td>\n",
              "    </tr>\n",
              "    <tr>\n",
              "      <th>max</th>\n",
              "      <td>1.000000</td>\n",
              "      <td>0.0</td>\n",
              "      <td>1.000000</td>\n",
              "      <td>1.000000</td>\n",
              "      <td>1.000000</td>\n",
              "      <td>1.000000</td>\n",
              "      <td>1.000000</td>\n",
              "      <td>1.000000</td>\n",
              "      <td>1.000000</td>\n",
              "      <td>1.000000</td>\n",
              "      <td>1.000000</td>\n",
              "      <td>1.000000</td>\n",
              "      <td>1.000000</td>\n",
              "      <td>1.000000</td>\n",
              "      <td>1.000000</td>\n",
              "      <td>1.000000</td>\n",
              "      <td>1.000000</td>\n",
              "      <td>1.000000</td>\n",
              "      <td>1.000000</td>\n",
              "      <td>1.000000</td>\n",
              "      <td>1.000000</td>\n",
              "      <td>1.000000</td>\n",
              "      <td>1.000000</td>\n",
              "      <td>1.000000</td>\n",
              "      <td>1.000000</td>\n",
              "      <td>1.000000</td>\n",
              "      <td>1.000000</td>\n",
              "      <td>1.000000</td>\n",
              "      <td>1.000000</td>\n",
              "      <td>1.000000</td>\n",
              "      <td>1.000000</td>\n",
              "      <td>1.000000</td>\n",
              "      <td>1.000000</td>\n",
              "      <td>1.000000</td>\n",
              "      <td>1.000000</td>\n",
              "    </tr>\n",
              "  </tbody>\n",
              "</table>\n",
              "</div>"
            ],
            "text/plain": [
              "         feature1  feature2    feature3  ...   feature33   feature34       label\n",
              "count  351.000000     351.0  351.000000  ...  351.000000  351.000000  351.000000\n",
              "mean     0.891738       0.0    0.641342  ...    0.349364    0.014480    0.358974\n",
              "std      0.311155       0.0    0.497708  ...    0.522663    0.468337    0.480384\n",
              "min      0.000000       0.0   -1.000000  ...   -1.000000   -1.000000    0.000000\n",
              "25%      1.000000       0.0    0.472135  ...    0.000000   -0.165350    0.000000\n",
              "50%      1.000000       0.0    0.871110  ...    0.409560    0.000000    0.000000\n",
              "75%      1.000000       0.0    1.000000  ...    0.813765    0.171660    1.000000\n",
              "max      1.000000       0.0    1.000000  ...    1.000000    1.000000    1.000000\n",
              "\n",
              "[8 rows x 35 columns]"
            ]
          },
          "metadata": {},
          "execution_count": 8
        }
      ]
    },
    {
      "cell_type": "markdown",
      "metadata": {
        "id": "afqtk3fdI9xB"
      },
      "source": [
        "##**LOOK FOR MISSING DATA**"
      ]
    },
    {
      "cell_type": "code",
      "metadata": {
        "colab": {
          "base_uri": "https://localhost:8080/",
          "height": 321
        },
        "id": "PZYOQ8p5JLSd",
        "outputId": "7d9d896d-6195-469a-99c3-471e447e1cc4"
      },
      "source": [
        "df_ion.isnull().sum() #syntax for find out missing data and sum the total of missing data.\n",
        "#check for missing data using plot with seaborn library.\n",
        "sns.heatmap(df_ion.isnull(), cbar=False, yticklabels=False,cmap = 'ocean') # show plot using seaborn."
      ],
      "execution_count": 9,
      "outputs": [
        {
          "output_type": "execute_result",
          "data": {
            "text/plain": [
              "<matplotlib.axes._subplots.AxesSubplot at 0x7fb78a9f5850>"
            ]
          },
          "metadata": {},
          "execution_count": 9
        },
        {
          "output_type": "display_data",
          "data": {
            "image/png": "[encoded data removed]",
            "text/plain": [
              "<Figure size 432x288 with 1 Axes>"
            ]
          },
          "metadata": {
            "needs_background": "light"
          }
        }
      ]
    },
    {
      "cell_type": "markdown",
      "metadata": {
        "id": "bH4Z_W-bJVhl"
      },
      "source": [
        "**There are no missing data**"
      ]
    },
    {
      "cell_type": "code",
      "metadata": {
        "colab": {
          "base_uri": "https://localhost:8080/",
          "height": 1000
        },
        "id": "vNAIW5ulDUOU",
        "outputId": "2ada99b7-198c-4b61-878d-884f22545e73"
      },
      "source": [
        "df_2=df_ion.select_dtypes(include=['float64', 'int64'])\n",
        "l = df_2.columns.values\n",
        "number_of_columns=len(df_2.columns)\n",
        "number_of_rows = len(l)-1/number_of_columns\n",
        "plt.figure(figsize=(2*number_of_columns,5*number_of_rows))\n",
        "for i in range(0,len(l)):\n",
        "    plt.subplot(number_of_rows + 1,number_of_columns,i+1)\n",
        "    sns.distplot(df_ion[l[i]],kde=True) "
      ],
      "execution_count": 10,
      "outputs": [
        {
          "output_type": "stream",
          "name": "stderr",
          "text": [
            "/usr/local/lib/python3.7/dist-packages/seaborn/distributions.py:2619: FutureWarning: `distplot` is a deprecated function and will be removed in a future version. Please adapt your code to use either `displot` (a figure-level function with similar flexibility) or `histplot` (an axes-level function for histograms).\n",
            "  warnings.warn(msg, FutureWarning)\n",
            "/usr/local/lib/python3.7/dist-packages/seaborn/distributions.py:2619: FutureWarning: `distplot` is a deprecated function and will be removed in a future version. Please adapt your code to use either `displot` (a figure-level function with similar flexibility) or `histplot` (an axes-level function for histograms).\n",
            "  warnings.warn(msg, FutureWarning)\n",
            "/usr/local/lib/python3.7/dist-packages/seaborn/distributions.py:316: UserWarning: Dataset has 0 variance; skipping density estimate. Pass `warn_singular=False` to disable this warning.\n",
            "  warnings.warn(msg, UserWarning)\n",
            "/usr/local/lib/python3.7/dist-packages/seaborn/distributions.py:2619: FutureWarning: `distplot` is a deprecated function and will be removed in a future version. Please adapt your code to use either `displot` (a figure-level function with similar flexibility) or `histplot` (an axes-level function for histograms).\n",
            "  warnings.warn(msg, FutureWarning)\n",
            "/usr/local/lib/python3.7/dist-packages/seaborn/distributions.py:2619: FutureWarning: `distplot` is a deprecated function and will be removed in a future version. Please adapt your code to use either `displot` (a figure-level function with similar flexibility) or `histplot` (an axes-level function for histograms).\n",
            "  warnings.warn(msg, FutureWarning)\n",
            "/usr/local/lib/python3.7/dist-packages/seaborn/distributions.py:2619: FutureWarning: `distplot` is a deprecated function and will be removed in a future version. Please adapt your code to use either `displot` (a figure-level function with similar flexibility) or `histplot` (an axes-level function for histograms).\n",
            "  warnings.warn(msg, FutureWarning)\n",
            "/usr/local/lib/python3.7/dist-packages/seaborn/distributions.py:2619: FutureWarning: `distplot` is a deprecated function and will be removed in a future version. Please adapt your code to use either `displot` (a figure-level function with similar flexibility) or `histplot` (an axes-level function for histograms).\n",
            "  warnings.warn(msg, FutureWarning)\n",
            "/usr/local/lib/python3.7/dist-packages/seaborn/distributions.py:2619: FutureWarning: `distplot` is a deprecated function and will be removed in a future version. Please adapt your code to use either `displot` (a figure-level function with similar flexibility) or `histplot` (an axes-level function for histograms).\n",
            "  warnings.warn(msg, FutureWarning)\n",
            "/usr/local/lib/python3.7/dist-packages/seaborn/distributions.py:2619: FutureWarning: `distplot` is a deprecated function and will be removed in a future version. Please adapt your code to use either `displot` (a figure-level function with similar flexibility) or `histplot` (an axes-level function for histograms).\n",
            "  warnings.warn(msg, FutureWarning)\n",
            "/usr/local/lib/python3.7/dist-packages/seaborn/distributions.py:2619: FutureWarning: `distplot` is a deprecated function and will be removed in a future version. Please adapt your code to use either `displot` (a figure-level function with similar flexibility) or `histplot` (an axes-level function for histograms).\n",
            "  warnings.warn(msg, FutureWarning)\n",
            "/usr/local/lib/python3.7/dist-packages/seaborn/distributions.py:2619: FutureWarning: `distplot` is a deprecated function and will be removed in a future version. Please adapt your code to use either `displot` (a figure-level function with similar flexibility) or `histplot` (an axes-level function for histograms).\n",
            "  warnings.warn(msg, FutureWarning)\n",
            "/usr/local/lib/python3.7/dist-packages/seaborn/distributions.py:2619: FutureWarning: `distplot` is a deprecated function and will be removed in a future version. Please adapt your code to use either `displot` (a figure-level function with similar flexibility) or `histplot` (an axes-level function for histograms).\n",
            "  warnings.warn(msg, FutureWarning)\n",
            "/usr/local/lib/python3.7/dist-packages/seaborn/distributions.py:2619: FutureWarning: `distplot` is a deprecated function and will be removed in a future version. Please adapt your code to use either `displot` (a figure-level function with similar flexibility) or `histplot` (an axes-level function for histograms).\n",
            "  warnings.warn(msg, FutureWarning)\n",
            "/usr/local/lib/python3.7/dist-packages/seaborn/distributions.py:2619: FutureWarning: `distplot` is a deprecated function and will be removed in a future version. Please adapt your code to use either `displot` (a figure-level function with similar flexibility) or `histplot` (an axes-level function for histograms).\n",
            "  warnings.warn(msg, FutureWarning)\n",
            "/usr/local/lib/python3.7/dist-packages/seaborn/distributions.py:2619: FutureWarning: `distplot` is a deprecated function and will be removed in a future version. Please adapt your code to use either `displot` (a figure-level function with similar flexibility) or `histplot` (an axes-level function for histograms).\n",
            "  warnings.warn(msg, FutureWarning)\n",
            "/usr/local/lib/python3.7/dist-packages/seaborn/distributions.py:2619: FutureWarning: `distplot` is a deprecated function and will be removed in a future version. Please adapt your code to use either `displot` (a figure-level function with similar flexibility) or `histplot` (an axes-level function for histograms).\n",
            "  warnings.warn(msg, FutureWarning)\n",
            "/usr/local/lib/python3.7/dist-packages/seaborn/distributions.py:2619: FutureWarning: `distplot` is a deprecated function and will be removed in a future version. Please adapt your code to use either `displot` (a figure-level function with similar flexibility) or `histplot` (an axes-level function for histograms).\n",
            "  warnings.warn(msg, FutureWarning)\n",
            "/usr/local/lib/python3.7/dist-packages/seaborn/distributions.py:2619: FutureWarning: `distplot` is a deprecated function and will be removed in a future version. Please adapt your code to use either `displot` (a figure-level function with similar flexibility) or `histplot` (an axes-level function for histograms).\n",
            "  warnings.warn(msg, FutureWarning)\n",
            "/usr/local/lib/python3.7/dist-packages/seaborn/distributions.py:2619: FutureWarning: `distplot` is a deprecated function and will be removed in a future version. Please adapt your code to use either `displot` (a figure-level function with similar flexibility) or `histplot` (an axes-level function for histograms).\n",
            "  warnings.warn(msg, FutureWarning)\n",
            "/usr/local/lib/python3.7/dist-packages/seaborn/distributions.py:2619: FutureWarning: `distplot` is a deprecated function and will be removed in a future version. Please adapt your code to use either `displot` (a figure-level function with similar flexibility) or `histplot` (an axes-level function for histograms).\n",
            "  warnings.warn(msg, FutureWarning)\n",
            "/usr/local/lib/python3.7/dist-packages/seaborn/distributions.py:2619: FutureWarning: `distplot` is a deprecated function and will be removed in a future version. Please adapt your code to use either `displot` (a figure-level function with similar flexibility) or `histplot` (an axes-level function for histograms).\n",
            "  warnings.warn(msg, FutureWarning)\n",
            "/usr/local/lib/python3.7/dist-packages/seaborn/distributions.py:2619: FutureWarning: `distplot` is a deprecated function and will be removed in a future version. Please adapt your code to use either `displot` (a figure-level function with similar flexibility) or `histplot` (an axes-level function for histograms).\n",
            "  warnings.warn(msg, FutureWarning)\n",
            "/usr/local/lib/python3.7/dist-packages/seaborn/distributions.py:2619: FutureWarning: `distplot` is a deprecated function and will be removed in a future version. Please adapt your code to use either `displot` (a figure-level function with similar flexibility) or `histplot` (an axes-level function for histograms).\n",
            "  warnings.warn(msg, FutureWarning)\n",
            "/usr/local/lib/python3.7/dist-packages/seaborn/distributions.py:2619: FutureWarning: `distplot` is a deprecated function and will be removed in a future version. Please adapt your code to use either `displot` (a figure-level function with similar flexibility) or `histplot` (an axes-level function for histograms).\n",
            "  warnings.warn(msg, FutureWarning)\n",
            "/usr/local/lib/python3.7/dist-packages/seaborn/distributions.py:2619: FutureWarning: `distplot` is a deprecated function and will be removed in a future version. Please adapt your code to use either `displot` (a figure-level function with similar flexibility) or `histplot` (an axes-level function for histograms).\n",
            "  warnings.warn(msg, FutureWarning)\n",
            "/usr/local/lib/python3.7/dist-packages/seaborn/distributions.py:2619: FutureWarning: `distplot` is a deprecated function and will be removed in a future version. Please adapt your code to use either `displot` (a figure-level function with similar flexibility) or `histplot` (an axes-level function for histograms).\n",
            "  warnings.warn(msg, FutureWarning)\n",
            "/usr/local/lib/python3.7/dist-packages/seaborn/distributions.py:2619: FutureWarning: `distplot` is a deprecated function and will be removed in a future version. Please adapt your code to use either `displot` (a figure-level function with similar flexibility) or `histplot` (an axes-level function for histograms).\n",
            "  warnings.warn(msg, FutureWarning)\n",
            "/usr/local/lib/python3.7/dist-packages/seaborn/distributions.py:2619: FutureWarning: `distplot` is a deprecated function and will be removed in a future version. Please adapt your code to use either `displot` (a figure-level function with similar flexibility) or `histplot` (an axes-level function for histograms).\n",
            "  warnings.warn(msg, FutureWarning)\n",
            "/usr/local/lib/python3.7/dist-packages/seaborn/distributions.py:2619: FutureWarning: `distplot` is a deprecated function and will be removed in a future version. Please adapt your code to use either `displot` (a figure-level function with similar flexibility) or `histplot` (an axes-level function for histograms).\n",
            "  warnings.warn(msg, FutureWarning)\n",
            "/usr/local/lib/python3.7/dist-packages/seaborn/distributions.py:2619: FutureWarning: `distplot` is a deprecated function and will be removed in a future version. Please adapt your code to use either `displot` (a figure-level function with similar flexibility) or `histplot` (an axes-level function for histograms).\n",
            "  warnings.warn(msg, FutureWarning)\n",
            "/usr/local/lib/python3.7/dist-packages/seaborn/distributions.py:2619: FutureWarning: `distplot` is a deprecated function and will be removed in a future version. Please adapt your code to use either `displot` (a figure-level function with similar flexibility) or `histplot` (an axes-level function for histograms).\n",
            "  warnings.warn(msg, FutureWarning)\n",
            "/usr/local/lib/python3.7/dist-packages/seaborn/distributions.py:2619: FutureWarning: `distplot` is a deprecated function and will be removed in a future version. Please adapt your code to use either `displot` (a figure-level function with similar flexibility) or `histplot` (an axes-level function for histograms).\n",
            "  warnings.warn(msg, FutureWarning)\n",
            "/usr/local/lib/python3.7/dist-packages/seaborn/distributions.py:2619: FutureWarning: `distplot` is a deprecated function and will be removed in a future version. Please adapt your code to use either `displot` (a figure-level function with similar flexibility) or `histplot` (an axes-level function for histograms).\n",
            "  warnings.warn(msg, FutureWarning)\n",
            "/usr/local/lib/python3.7/dist-packages/seaborn/distributions.py:2619: FutureWarning: `distplot` is a deprecated function and will be removed in a future version. Please adapt your code to use either `displot` (a figure-level function with similar flexibility) or `histplot` (an axes-level function for histograms).\n",
            "  warnings.warn(msg, FutureWarning)\n",
            "/usr/local/lib/python3.7/dist-packages/seaborn/distributions.py:2619: FutureWarning: `distplot` is a deprecated function and will be removed in a future version. Please adapt your code to use either `displot` (a figure-level function with similar flexibility) or `histplot` (an axes-level function for histograms).\n",
            "  warnings.warn(msg, FutureWarning)\n",
            "/usr/local/lib/python3.7/dist-packages/seaborn/distributions.py:2619: FutureWarning: `distplot` is a deprecated function and will be removed in a future version. Please adapt your code to use either `displot` (a figure-level function with similar flexibility) or `histplot` (an axes-level function for histograms).\n",
            "  warnings.warn(msg, FutureWarning)\n"
          ]
        },
        {
          "output_type": "display_data",
          "data": {
            "image/png": "[encoded data removed]",
            "text/plain": [
              "<Figure size 5040x12589.7 with 35 Axes>"
            ]
          },
          "metadata": {
            "needs_background": "light"
          }
        }
      ]
    },
    {
      "cell_type": "markdown",
      "metadata": {
        "id": "5BozbG2WJcUn"
      },
      "source": [
        "**Distribution plot shows the data is not normally distributed**"
      ]
    },
    {
      "cell_type": "markdown",
      "metadata": {
        "id": "FIxJzwMsMlUG"
      },
      "source": [
        "##**DATA PREPROCESSING**"
      ]
    },
    {
      "cell_type": "markdown",
      "metadata": {
        "id": "NYnc0not1zmQ"
      },
      "source": [
        "###**NORMALIZE DATA WITH MinMaxScaler**"
      ]
    },
    {
      "cell_type": "code",
      "metadata": {
        "colab": {
          "base_uri": "https://localhost:8080/",
          "height": 432
        },
        "id": "ksxEVXYBDzn9",
        "outputId": "b80a6de1-c5aa-4078-b047-a089cdba7430"
      },
      "source": [
        "#Import MinMaxScaler function\n",
        "from sklearn.preprocessing import MinMaxScaler \n",
        "#Choose numeric variabels\n",
        "df_2=df_ion.select_dtypes(include=['float64', 'int64'])\n",
        "scaler = MinMaxScaler()\n",
        "df_norm = pd.DataFrame(scaler.fit_transform(df_2), columns=df_2.columns)\n",
        "#show dataset after normalize\n",
        "df_norm"
      ],
      "execution_count": 11,
      "outputs": [
        {
          "output_type": "execute_result",
          "data": {
            "text/html": [
              "<div>\n",
              "<style scoped>\n",
              "    .dataframe tbody tr th:only-of-type {\n",
              "        vertical-align: middle;\n",
              "    }\n",
              "\n",
              "    .dataframe tbody tr th {\n",
              "        vertical-align: top;\n",
              "    }\n",
              "\n",
              "    .dataframe thead th {\n",
              "        text-align: right;\n",
              "    }\n",
              "</style>\n",
              "<table border=\"1\" class=\"dataframe\">\n",
              "  <thead>\n",
              "    <tr style=\"text-align: right;\">\n",
              "      <th></th>\n",
              "      <th>feature1</th>\n",
              "      <th>feature2</th>\n",
              "      <th>feature3</th>\n",
              "      <th>feature4</th>\n",
              "      <th>feature5</th>\n",
              "      <th>feature6</th>\n",
              "      <th>feature7</th>\n",
              "      <th>feature8</th>\n",
              "      <th>feature9</th>\n",
              "      <th>feature10</th>\n",
              "      <th>feature11</th>\n",
              "      <th>feature12</th>\n",
              "      <th>feature13</th>\n",
              "      <th>feature14</th>\n",
              "      <th>feature15</th>\n",
              "      <th>feature16</th>\n",
              "      <th>feature17</th>\n",
              "      <th>feature18</th>\n",
              "      <th>feature19</th>\n",
              "      <th>feature20</th>\n",
              "      <th>feature21</th>\n",
              "      <th>feature22</th>\n",
              "      <th>feature23</th>\n",
              "      <th>feature24</th>\n",
              "      <th>feature25</th>\n",
              "      <th>feature26</th>\n",
              "      <th>feature27</th>\n",
              "      <th>feature28</th>\n",
              "      <th>feature29</th>\n",
              "      <th>feature30</th>\n",
              "      <th>feature31</th>\n",
              "      <th>feature32</th>\n",
              "      <th>feature33</th>\n",
              "      <th>feature34</th>\n",
              "      <th>label</th>\n",
              "    </tr>\n",
              "  </thead>\n",
              "  <tbody>\n",
              "    <tr>\n",
              "      <th>0</th>\n",
              "      <td>1.0</td>\n",
              "      <td>0.0</td>\n",
              "      <td>0.997695</td>\n",
              "      <td>0.470555</td>\n",
              "      <td>0.926215</td>\n",
              "      <td>0.511530</td>\n",
              "      <td>0.916990</td>\n",
              "      <td>0.311460</td>\n",
              "      <td>1.000000</td>\n",
              "      <td>0.518800</td>\n",
              "      <td>0.926215</td>\n",
              "      <td>0.411225</td>\n",
              "      <td>0.798775</td>\n",
              "      <td>0.275275</td>\n",
              "      <td>0.802680</td>\n",
              "      <td>0.308885</td>\n",
              "      <td>0.921780</td>\n",
              "      <td>0.307290</td>\n",
              "      <td>0.791060</td>\n",
              "      <td>0.339040</td>\n",
              "      <td>0.784855</td>\n",
              "      <td>0.351630</td>\n",
              "      <td>0.684730</td>\n",
              "      <td>0.263215</td>\n",
              "      <td>0.784055</td>\n",
              "      <td>0.244145</td>\n",
              "      <td>0.705390</td>\n",
              "      <td>0.269160</td>\n",
              "      <td>0.606330</td>\n",
              "      <td>0.329550</td>\n",
              "      <td>0.711335</td>\n",
              "      <td>0.227565</td>\n",
              "      <td>0.593205</td>\n",
              "      <td>0.273500</td>\n",
              "      <td>0.0</td>\n",
              "    </tr>\n",
              "    <tr>\n",
              "      <th>1</th>\n",
              "      <td>1.0</td>\n",
              "      <td>0.0</td>\n",
              "      <td>1.000000</td>\n",
              "      <td>0.405855</td>\n",
              "      <td>0.965175</td>\n",
              "      <td>0.319220</td>\n",
              "      <td>0.445660</td>\n",
              "      <td>0.032015</td>\n",
              "      <td>1.000000</td>\n",
              "      <td>0.477255</td>\n",
              "      <td>0.754370</td>\n",
              "      <td>0.161285</td>\n",
              "      <td>0.672160</td>\n",
              "      <td>0.151465</td>\n",
              "      <td>0.241575</td>\n",
              "      <td>0.012425</td>\n",
              "      <td>0.527495</td>\n",
              "      <td>0.188815</td>\n",
              "      <td>0.665545</td>\n",
              "      <td>0.000000</td>\n",
              "      <td>0.434245</td>\n",
              "      <td>0.273500</td>\n",
              "      <td>0.409720</td>\n",
              "      <td>0.321330</td>\n",
              "      <td>0.398340</td>\n",
              "      <td>0.367155</td>\n",
              "      <td>0.397660</td>\n",
              "      <td>0.407995</td>\n",
              "      <td>0.404800</td>\n",
              "      <td>0.442035</td>\n",
              "      <td>0.416870</td>\n",
              "      <td>0.468560</td>\n",
              "      <td>0.431310</td>\n",
              "      <td>0.487765</td>\n",
              "      <td>1.0</td>\n",
              "    </tr>\n",
              "    <tr>\n",
              "      <th>2</th>\n",
              "      <td>1.0</td>\n",
              "      <td>0.0</td>\n",
              "      <td>1.000000</td>\n",
              "      <td>0.483175</td>\n",
              "      <td>1.000000</td>\n",
              "      <td>0.502425</td>\n",
              "      <td>1.000000</td>\n",
              "      <td>0.439690</td>\n",
              "      <td>0.944825</td>\n",
              "      <td>0.505990</td>\n",
              "      <td>0.865410</td>\n",
              "      <td>0.526730</td>\n",
              "      <td>0.927215</td>\n",
              "      <td>0.504135</td>\n",
              "      <td>0.772955</td>\n",
              "      <td>0.501495</td>\n",
              "      <td>0.918875</td>\n",
              "      <td>0.431780</td>\n",
              "      <td>0.877675</td>\n",
              "      <td>0.457300</td>\n",
              "      <td>0.854435</td>\n",
              "      <td>0.362490</td>\n",
              "      <td>0.716925</td>\n",
              "      <td>0.439690</td>\n",
              "      <td>0.787640</td>\n",
              "      <td>0.298900</td>\n",
              "      <td>0.794920</td>\n",
              "      <td>0.389275</td>\n",
              "      <td>0.715500</td>\n",
              "      <td>0.413175</td>\n",
              "      <td>0.802180</td>\n",
              "      <td>0.379100</td>\n",
              "      <td>0.780225</td>\n",
              "      <td>0.308810</td>\n",
              "      <td>0.0</td>\n",
              "    </tr>\n",
              "    <tr>\n",
              "      <th>3</th>\n",
              "      <td>1.0</td>\n",
              "      <td>0.0</td>\n",
              "      <td>1.000000</td>\n",
              "      <td>0.274195</td>\n",
              "      <td>1.000000</td>\n",
              "      <td>1.000000</td>\n",
              "      <td>0.856080</td>\n",
              "      <td>0.000000</td>\n",
              "      <td>0.500000</td>\n",
              "      <td>0.500000</td>\n",
              "      <td>0.500000</td>\n",
              "      <td>0.500000</td>\n",
              "      <td>0.500000</td>\n",
              "      <td>0.500000</td>\n",
              "      <td>0.000000</td>\n",
              "      <td>0.572580</td>\n",
              "      <td>0.770470</td>\n",
              "      <td>0.303350</td>\n",
              "      <td>0.000000</td>\n",
              "      <td>0.227665</td>\n",
              "      <td>0.150125</td>\n",
              "      <td>1.000000</td>\n",
              "      <td>0.500000</td>\n",
              "      <td>0.500000</td>\n",
              "      <td>1.000000</td>\n",
              "      <td>0.953475</td>\n",
              "      <td>0.758065</td>\n",
              "      <td>1.000000</td>\n",
              "      <td>1.000000</td>\n",
              "      <td>0.399505</td>\n",
              "      <td>0.628410</td>\n",
              "      <td>1.000000</td>\n",
              "      <td>0.338090</td>\n",
              "      <td>1.000000</td>\n",
              "      <td>1.0</td>\n",
              "    </tr>\n",
              "    <tr>\n",
              "      <th>4</th>\n",
              "      <td>1.0</td>\n",
              "      <td>0.0</td>\n",
              "      <td>1.000000</td>\n",
              "      <td>0.487995</td>\n",
              "      <td>0.970700</td>\n",
              "      <td>0.532655</td>\n",
              "      <td>0.960530</td>\n",
              "      <td>0.383725</td>\n",
              "      <td>0.885760</td>\n",
              "      <td>0.418005</td>\n",
              "      <td>0.763990</td>\n",
              "      <td>0.398625</td>\n",
              "      <td>0.782045</td>\n",
              "      <td>0.496440</td>\n",
              "      <td>0.671975</td>\n",
              "      <td>0.362715</td>\n",
              "      <td>0.764700</td>\n",
              "      <td>0.391100</td>\n",
              "      <td>0.725535</td>\n",
              "      <td>0.410935</td>\n",
              "      <td>0.529910</td>\n",
              "      <td>0.322125</td>\n",
              "      <td>0.511545</td>\n",
              "      <td>0.235605</td>\n",
              "      <td>0.516430</td>\n",
              "      <td>0.174210</td>\n",
              "      <td>0.566450</td>\n",
              "      <td>0.233970</td>\n",
              "      <td>0.512155</td>\n",
              "      <td>0.189015</td>\n",
              "      <td>0.471465</td>\n",
              "      <td>0.202135</td>\n",
              "      <td>0.476960</td>\n",
              "      <td>0.171515</td>\n",
              "      <td>0.0</td>\n",
              "    </tr>\n",
              "    <tr>\n",
              "      <th>...</th>\n",
              "      <td>...</td>\n",
              "      <td>...</td>\n",
              "      <td>...</td>\n",
              "      <td>...</td>\n",
              "      <td>...</td>\n",
              "      <td>...</td>\n",
              "      <td>...</td>\n",
              "      <td>...</td>\n",
              "      <td>...</td>\n",
              "      <td>...</td>\n",
              "      <td>...</td>\n",
              "      <td>...</td>\n",
              "      <td>...</td>\n",
              "      <td>...</td>\n",
              "      <td>...</td>\n",
              "      <td>...</td>\n",
              "      <td>...</td>\n",
              "      <td>...</td>\n",
              "      <td>...</td>\n",
              "      <td>...</td>\n",
              "      <td>...</td>\n",
              "      <td>...</td>\n",
              "      <td>...</td>\n",
              "      <td>...</td>\n",
              "      <td>...</td>\n",
              "      <td>...</td>\n",
              "      <td>...</td>\n",
              "      <td>...</td>\n",
              "      <td>...</td>\n",
              "      <td>...</td>\n",
              "      <td>...</td>\n",
              "      <td>...</td>\n",
              "      <td>...</td>\n",
              "      <td>...</td>\n",
              "      <td>...</td>\n",
              "    </tr>\n",
              "    <tr>\n",
              "      <th>346</th>\n",
              "      <td>1.0</td>\n",
              "      <td>0.0</td>\n",
              "      <td>0.917540</td>\n",
              "      <td>0.541490</td>\n",
              "      <td>0.868695</td>\n",
              "      <td>0.426470</td>\n",
              "      <td>0.921745</td>\n",
              "      <td>0.472165</td>\n",
              "      <td>0.952205</td>\n",
              "      <td>0.476890</td>\n",
              "      <td>0.946955</td>\n",
              "      <td>0.565650</td>\n",
              "      <td>0.905985</td>\n",
              "      <td>0.533615</td>\n",
              "      <td>0.896535</td>\n",
              "      <td>0.455355</td>\n",
              "      <td>1.000000</td>\n",
              "      <td>0.489495</td>\n",
              "      <td>0.983195</td>\n",
              "      <td>0.533090</td>\n",
              "      <td>0.938025</td>\n",
              "      <td>0.505775</td>\n",
              "      <td>0.887605</td>\n",
              "      <td>0.533090</td>\n",
              "      <td>0.976890</td>\n",
              "      <td>0.478990</td>\n",
              "      <td>0.917395</td>\n",
              "      <td>0.500615</td>\n",
              "      <td>1.000000</td>\n",
              "      <td>0.564075</td>\n",
              "      <td>0.933300</td>\n",
              "      <td>0.446430</td>\n",
              "      <td>0.952730</td>\n",
              "      <td>0.478465</td>\n",
              "      <td>0.0</td>\n",
              "    </tr>\n",
              "    <tr>\n",
              "      <th>347</th>\n",
              "      <td>1.0</td>\n",
              "      <td>0.0</td>\n",
              "      <td>0.975565</td>\n",
              "      <td>0.502095</td>\n",
              "      <td>0.975915</td>\n",
              "      <td>0.486385</td>\n",
              "      <td>0.967190</td>\n",
              "      <td>0.490400</td>\n",
              "      <td>0.972950</td>\n",
              "      <td>0.508030</td>\n",
              "      <td>0.982550</td>\n",
              "      <td>0.516405</td>\n",
              "      <td>0.970855</td>\n",
              "      <td>0.536650</td>\n",
              "      <td>0.973125</td>\n",
              "      <td>0.493370</td>\n",
              "      <td>0.985865</td>\n",
              "      <td>0.500700</td>\n",
              "      <td>0.974170</td>\n",
              "      <td>0.530190</td>\n",
              "      <td>0.963350</td>\n",
              "      <td>0.542060</td>\n",
              "      <td>0.965620</td>\n",
              "      <td>0.550435</td>\n",
              "      <td>0.972600</td>\n",
              "      <td>0.506805</td>\n",
              "      <td>0.967610</td>\n",
              "      <td>0.524625</td>\n",
              "      <td>0.965795</td>\n",
              "      <td>0.540840</td>\n",
              "      <td>0.970330</td>\n",
              "      <td>0.499825</td>\n",
              "      <td>0.957415</td>\n",
              "      <td>0.523560</td>\n",
              "      <td>0.0</td>\n",
              "    </tr>\n",
              "    <tr>\n",
              "      <th>348</th>\n",
              "      <td>1.0</td>\n",
              "      <td>0.0</td>\n",
              "      <td>0.973505</td>\n",
              "      <td>0.499830</td>\n",
              "      <td>0.966035</td>\n",
              "      <td>0.483865</td>\n",
              "      <td>0.975885</td>\n",
              "      <td>0.482845</td>\n",
              "      <td>0.977920</td>\n",
              "      <td>0.512230</td>\n",
              "      <td>0.970620</td>\n",
              "      <td>0.508830</td>\n",
              "      <td>0.962975</td>\n",
              "      <td>0.523440</td>\n",
              "      <td>0.969770</td>\n",
              "      <td>0.492695</td>\n",
              "      <td>0.974185</td>\n",
              "      <td>0.510020</td>\n",
              "      <td>0.968920</td>\n",
              "      <td>0.506965</td>\n",
              "      <td>0.957030</td>\n",
              "      <td>0.538385</td>\n",
              "      <td>0.947350</td>\n",
              "      <td>0.530740</td>\n",
              "      <td>0.969940</td>\n",
              "      <td>0.515965</td>\n",
              "      <td>0.962445</td>\n",
              "      <td>0.512710</td>\n",
              "      <td>0.960600</td>\n",
              "      <td>0.511210</td>\n",
              "      <td>0.962295</td>\n",
              "      <td>0.502210</td>\n",
              "      <td>0.963485</td>\n",
              "      <td>0.497115</td>\n",
              "      <td>0.0</td>\n",
              "    </tr>\n",
              "    <tr>\n",
              "      <th>349</th>\n",
              "      <td>1.0</td>\n",
              "      <td>0.0</td>\n",
              "      <td>0.953040</td>\n",
              "      <td>0.491715</td>\n",
              "      <td>0.990610</td>\n",
              "      <td>0.490055</td>\n",
              "      <td>0.978455</td>\n",
              "      <td>0.481770</td>\n",
              "      <td>0.928730</td>\n",
              "      <td>0.500550</td>\n",
              "      <td>0.948620</td>\n",
              "      <td>0.483425</td>\n",
              "      <td>0.945305</td>\n",
              "      <td>0.492820</td>\n",
              "      <td>0.953040</td>\n",
              "      <td>0.477350</td>\n",
              "      <td>0.956905</td>\n",
              "      <td>0.495580</td>\n",
              "      <td>0.903865</td>\n",
              "      <td>0.435360</td>\n",
              "      <td>0.943645</td>\n",
              "      <td>0.506075</td>\n",
              "      <td>0.960775</td>\n",
              "      <td>0.488400</td>\n",
              "      <td>0.955250</td>\n",
              "      <td>0.489505</td>\n",
              "      <td>0.945735</td>\n",
              "      <td>0.461200</td>\n",
              "      <td>0.914915</td>\n",
              "      <td>0.413810</td>\n",
              "      <td>0.980110</td>\n",
              "      <td>0.481215</td>\n",
              "      <td>0.937015</td>\n",
              "      <td>0.418785</td>\n",
              "      <td>0.0</td>\n",
              "    </tr>\n",
              "    <tr>\n",
              "      <th>350</th>\n",
              "      <td>1.0</td>\n",
              "      <td>0.0</td>\n",
              "      <td>0.923550</td>\n",
              "      <td>0.567665</td>\n",
              "      <td>0.868190</td>\n",
              "      <td>0.469245</td>\n",
              "      <td>0.939365</td>\n",
              "      <td>0.541300</td>\n",
              "      <td>0.944640</td>\n",
              "      <td>0.454305</td>\n",
              "      <td>0.893675</td>\n",
              "      <td>0.533390</td>\n",
              "      <td>0.903340</td>\n",
              "      <td>0.498245</td>\n",
              "      <td>0.896310</td>\n",
              "      <td>0.494730</td>\n",
              "      <td>0.928820</td>\n",
              "      <td>0.477155</td>\n",
              "      <td>0.935850</td>\n",
              "      <td>0.482425</td>\n",
              "      <td>0.908610</td>\n",
              "      <td>0.452550</td>\n",
              "      <td>0.855010</td>\n",
              "      <td>0.521970</td>\n",
              "      <td>0.932335</td>\n",
              "      <td>0.424430</td>\n",
              "      <td>0.905735</td>\n",
              "      <td>0.475890</td>\n",
              "      <td>0.891035</td>\n",
              "      <td>0.496485</td>\n",
              "      <td>0.878735</td>\n",
              "      <td>0.466610</td>\n",
              "      <td>0.928820</td>\n",
              "      <td>0.469245</td>\n",
              "      <td>0.0</td>\n",
              "    </tr>\n",
              "  </tbody>\n",
              "</table>\n",
              "<p>351 rows × 35 columns</p>\n",
              "</div>"
            ],
            "text/plain": [
              "     feature1  feature2  feature3  ...  feature33  feature34  label\n",
              "0         1.0       0.0  0.997695  ...   0.593205   0.273500    0.0\n",
              "1         1.0       0.0  1.000000  ...   0.431310   0.487765    1.0\n",
              "2         1.0       0.0  1.000000  ...   0.780225   0.308810    0.0\n",
              "3         1.0       0.0  1.000000  ...   0.338090   1.000000    1.0\n",
              "4         1.0       0.0  1.000000  ...   0.476960   0.171515    0.0\n",
              "..        ...       ...       ...  ...        ...        ...    ...\n",
              "346       1.0       0.0  0.917540  ...   0.952730   0.478465    0.0\n",
              "347       1.0       0.0  0.975565  ...   0.957415   0.523560    0.0\n",
              "348       1.0       0.0  0.973505  ...   0.963485   0.497115    0.0\n",
              "349       1.0       0.0  0.953040  ...   0.937015   0.418785    0.0\n",
              "350       1.0       0.0  0.923550  ...   0.928820   0.469245    0.0\n",
              "\n",
              "[351 rows x 35 columns]"
            ]
          },
          "metadata": {},
          "execution_count": 11
        }
      ]
    },
    {
      "cell_type": "markdown",
      "metadata": {
        "id": "6XnyFyJX2rA2"
      },
      "source": [
        "###**DIVIDE DATASET INTO DATA TRAINING (80%) & DATA TESTING (20%)**"
      ]
    },
    {
      "cell_type": "code",
      "metadata": {
        "colab": {
          "base_uri": "https://localhost:8080/"
        },
        "id": "x2b5mlFNEXdJ",
        "outputId": "d8895174-43f8-4373-9a7e-372ec0f732d1"
      },
      "source": [
        "#determine the value of x and y\n",
        "y=df_norm['label']\n",
        "X=df_norm.drop(columns=['label'])\n",
        "\n",
        "#converting data into an array\n",
        "y=np.array(y)\n",
        "X=np.array(X)\n",
        "\n",
        "#print x & y\n",
        "print(y)\n",
        "print(X)"
      ],
      "execution_count": 12,
      "outputs": [
        {
          "output_type": "stream",
          "name": "stdout",
          "text": [
            "[0. 1. 0. 1. 0. 1. 0. 1. 0. 1. 0. 1. 0. 1. 0. 1. 0. 1. 0. 1. 0. 1. 0. 1.\n",
            " 0. 1. 0. 1. 0. 1. 0. 1. 0. 1. 0. 1. 0. 1. 0. 1. 0. 1. 0. 1. 0. 1. 0. 1.\n",
            " 0. 1. 0. 1. 0. 1. 0. 1. 0. 1. 0. 1. 0. 1. 0. 1. 0. 1. 0. 1. 0. 1. 0. 1.\n",
            " 0. 1. 0. 1. 0. 1. 0. 1. 0. 1. 0. 1. 0. 1. 0. 1. 0. 1. 0. 1. 0. 1. 0. 1.\n",
            " 0. 0. 1. 0. 1. 0. 1. 0. 1. 0. 1. 0. 1. 0. 1. 0. 1. 0. 1. 0. 1. 0. 1. 0.\n",
            " 1. 0. 1. 0. 1. 0. 1. 0. 1. 0. 1. 0. 1. 0. 1. 0. 1. 0. 1. 0. 1. 0. 1. 0.\n",
            " 1. 0. 1. 0. 1. 0. 1. 0. 1. 0. 1. 0. 1. 0. 1. 0. 1. 0. 1. 0. 1. 0. 1. 0.\n",
            " 1. 0. 1. 0. 1. 0. 1. 0. 1. 0. 1. 0. 1. 0. 1. 0. 1. 0. 1. 0. 1. 0. 1. 0.\n",
            " 1. 0. 1. 0. 1. 0. 1. 0. 1. 0. 1. 0. 1. 0. 1. 0. 1. 0. 1. 0. 1. 0. 1. 0.\n",
            " 1. 0. 1. 0. 1. 0. 1. 0. 1. 0. 1. 0. 1. 0. 1. 0. 1. 0. 1. 0. 1. 0. 1. 0.\n",
            " 1. 0. 1. 0. 1. 0. 1. 0. 1. 0. 1. 0. 1. 0. 0. 0. 0. 0. 0. 0. 0. 0. 0. 0.\n",
            " 0. 0. 0. 0. 0. 0. 0. 0. 0. 0. 0. 0. 0. 0. 0. 0. 0. 0. 0. 0. 0. 0. 0. 0.\n",
            " 0. 0. 0. 0. 0. 0. 0. 0. 0. 0. 0. 0. 0. 0. 0. 0. 0. 0. 0. 0. 0. 0. 0. 0.\n",
            " 0. 0. 0. 0. 0. 0. 0. 0. 0. 0. 0. 0. 0. 0. 0. 0. 0. 0. 0. 0. 0. 0. 0. 0.\n",
            " 0. 0. 0. 0. 0. 0. 0. 0. 0. 0. 0. 0. 0. 0. 0.]\n",
            "[[1.       0.       0.997695 ... 0.227565 0.593205 0.2735  ]\n",
            " [1.       0.       1.       ... 0.46856  0.43131  0.487765]\n",
            " [1.       0.       1.       ... 0.3791   0.780225 0.30881 ]\n",
            " ...\n",
            " [1.       0.       0.973505 ... 0.50221  0.963485 0.497115]\n",
            " [1.       0.       0.95304  ... 0.481215 0.937015 0.418785]\n",
            " [1.       0.       0.92355  ... 0.46661  0.92882  0.469245]]\n"
          ]
        }
      ]
    },
    {
      "cell_type": "code",
      "metadata": {
        "id": "_lfKOaoBEbJo"
      },
      "source": [
        "#import train_test_split\n",
        "from sklearn.model_selection import train_test_split\n",
        "#divide dataset into x_train, x_test, y_train, y_test \n",
        "X_train, X_test, y_train, y_test = train_test_split(X, y, test_size=0.2, train_size=0.8, random_state=4)"
      ],
      "execution_count": 13,
      "outputs": []
    },
    {
      "cell_type": "markdown",
      "metadata": {
        "id": "LhzmBCLRJ-_7"
      },
      "source": [
        "##**BUILD DISTANCE FUNCTION**"
      ]
    },
    {
      "cell_type": "markdown",
      "metadata": {
        "id": "2Ahcy82oKD22"
      },
      "source": [
        "###**EUCLIDEAN DISTANCE**"
      ]
    },
    {
      "cell_type": "markdown",
      "metadata": {
        "id": "l6qsIDqTl71w"
      },
      "source": [
        "![image.png](data:image/png;base64,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)"
      ]
    },
    {
      "cell_type": "code",
      "metadata": {
        "colab": {
          "base_uri": "https://localhost:8080/"
        },
        "id": "O8fZRiaQFhfz",
        "outputId": "6ddbc7db-35a8-4dbf-e70d-636ca13c0d5c"
      },
      "source": [
        "def euclidean_distance(x,y):\n",
        "  return np.sqrt(sum(pow(a-b, 2) for a, b in zip(x,y)))\n",
        "\n",
        "euclidean_distance([0,0], [1,1])\n"
      ],
      "execution_count": 14,
      "outputs": [
        {
          "output_type": "execute_result",
          "data": {
            "text/plain": [
              "1.4142135623730951"
            ]
          },
          "metadata": {},
          "execution_count": 14
        }
      ]
    },
    {
      "cell_type": "markdown",
      "metadata": {
        "id": "L1h_NgIRKJh8"
      },
      "source": [
        "###**MANHATTAN DISTANCE**"
      ]
    },
    {
      "cell_type": "markdown",
      "metadata": {
        "id": "3521WSj1mENz"
      },
      "source": [
        "![image.png](data:image/png;base64,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)"
      ]
    },
    {
      "cell_type": "code",
      "metadata": {
        "colab": {
          "base_uri": "https://localhost:8080/"
        },
        "id": "6vlHzxsdKwP3",
        "outputId": "af5569c9-8c55-4897-e6b4-cdc4dd522ea5"
      },
      "source": [
        "def manhattan_distance(x,y):\n",
        "  return sum(abs(a-b) for a,b in zip(x,y))\n",
        "\n",
        "manhattan_distance([0,0], [1,1])\n"
      ],
      "execution_count": 15,
      "outputs": [
        {
          "output_type": "execute_result",
          "data": {
            "text/plain": [
              "2"
            ]
          },
          "metadata": {},
          "execution_count": 15
        }
      ]
    },
    {
      "cell_type": "markdown",
      "metadata": {
        "id": "A2kMjD_qLK3M"
      },
      "source": [
        "###**MINKOWSKI DISTANCE**"
      ]
    },
    {
      "cell_type": "markdown",
      "metadata": {
        "id": "4XxipdhUmM8D"
      },
      "source": [
        "![image.png](data:image/png;base64,iVBORw0KGgoAAAANSUhEUgAAAN4AAABYCAYAAACajklyAAANY0lEQVR4Ae1d32cj3R9+/5cQkqvZm+76srt60QgRJaqUlryypFpKSuhLyUXIRSi5CWEjy1bLW7nYysVWqSpRvajkYjUXq2VJWVpKyjIv5fk6Z2aaH51MMpOZTnLyKZXMyZlzPvOc85w553x+nL9Af4QAIfDqCPz16jVShYQAIQAiHnUCQsAFBIh4LoBOVRICRDzqA4SACwgQ8VwAnaokBIh41AcIARcQIOK5ADpVSQgQ8agPEAIuIEDEcwF0qpIQIOJRHyAEXECAiOcC6FQlIUDEoz5ACLiAABHPBdCpSkKAiEd9gBBwAQEingugU5V2IPCIo80l7P6yo6zXL4OI9/qYU43DIPAko3mSRexLQz/3QwWJlTKa+r+OfSoRb+ybaAoF/HWMnVwOiYgP/lxdF4C7chzL/04q7UD+eLqtSoljgMA9Dj71I14TuytxHP5mYj7iaDuCd29nsJxMI5HJIjEfxe5PeQyeob8IU/DGk1HLR5GoTO7o2L/5xv2XJg6TUeQvrZDAgHi/9rC8eYwWe/zfZcQ2S8iv+uBPnYHVVMv64PlH/X1MIRKeeM1yHG9Wy2g+jWkLiC7WbRkxKY6DW7MP2p94V4UQto4flQKfZLRaZ8h4JaxV7pU34KYP/o0K7sxW+Yr5hSaefJlFwFKjv2ILTEFVd9/i8M9mcf7HzMP2Id5TA/lgGuedL9GbPYS9IRR/AniqIyP5EPh8Y6ayV88rLvH+1JEJ+hCb4AX4q/cGxypUSPQxc8GngsNV04d4PwoI95TT+p6Ex5vEUQtgg+3Htxvq+m+4mtzIJSjxZNRyIXiCBVzRFNONfvWyzps9LHjnkBlmvcd3NdOIzfrgCW4gkyujxhd0bP32HpmLztcdS5Pg/xBCLJND6u8NFH90//5SGPdTxCQeb2QJqRN1HTAkzvJlAWuLIbxZTGIrmcTOThLhxQJq49+OQz6hm9lknKYkeCIlXFsdDOULpOZ7B9Mb7EbGf2rZi7yAxGMWDRI8sznUTDXwPQ5W49j9moZHiqDI9LZsx8wrYUdfldSLJV0PQqBRQMDrw1rF3ICoFSufpREo9CjUW8dIeCWkqpM1OopHvF9sSuPDwlfzi2v5QUatMAfP4p5iEXGZhd87uWZJWocdn88mdhd98ET2cG1aKPbG7G2LJo5yOa5s38ntPU9HTRftwg3CEe8qPwePdwOHbGfZ9F8TBys++LPKK+6KkTBYwtWfR8im3p6mK56aG1qVDXi876d+FiEW8dgaQPLBw3Q4VoginyH1rA/S1g6VDiuJqeGHcw/Kp4Y+eFRlt3MVjXfJQhGPrQE8bA3xzdLrDvhZQkCK4oBbvD/i6J8ZfJxfwtqXholt8PFucPele8Thhg8e7zZOTen13JfcTgkEIp6M87QEjzc6sa4idjbsOJd1/TXCB8jU2WRtiNiJqUDEq2OHTTNne7eb7YSLyrIFgUYBH70+eNS1tC1lTlgh4hCPmw0x41jFUHbC2mG6xOVraR88oZKF3U0xoBKGeIrZkA/L+wZeCPcVxNhIq/77P0QQjgz5H5x5vk+7n3/SG9YCE5TdY777/GDhdgFuEYZ4tRxb3/mQqhq1impKppHPtOEuILfucV0tI7P6Hn61nGleqxihbfTbeUYZADOXRrnE/U0Q4t3jcJU1ZESxUDdqr6cmDlYVkjKimjPc7S641ShjK+iDZ328XVC6pbb/6urzEgIfZhDe3EYimUNqNYLUifHOsrbBEisb57Nf2vEoURDiqRsrTHE+zNSF+4i1p5xWTZh4E3IviAh29QxlWmdIpc8Uh83xaG9bpGidpNt2sMwNZ76AYlbiFj/MDpOFZWCGB0bWKdrSYFo3WMQgnqaU9WZxPqTinOn8tKmix2vFUbPdh+VqFsuf6y91fczWc4ID8rSfsPtbV7wT7oh6g90VH97kOyx+3hZQ676t++oyq6yZNyrCDUzdD6p/JQbxuDGzD56VPROe5jJq2VB7w2QUq3l9bBUja9GJx55dtfhRvMJVP7pBoRe0XWgB8enXHTrTxSCeNnqabUTuzdyeco6y3usE9fn7NLzx2MNyvdwc8ppHhxRBvj5AOa4NliZmKc+4CvBFLOJ9KpuPs9G13pt74WQ5UhtPCfH4mu7teyxs55BZjyL13UClowFKxNOQmNxPzUbTk7mw9BAsIFLXeo+HjbNUVPdNOsRr1few9WkDifUIwttlnJbTWF5PIjYfRbEx4C3RXfroV38aKK5HEVsKIbx93B60fleQiLAQefpVdK3xwNx1fPAPmlq+KKqODFfHTKfNphBvPD7iska0SDxAxnmGuROp085PNkUl6yXe7wpiKyVcMX5p1huLJdROlI0ezR3pRR91JIERJoRM9RHK1n70ORKYch3HQZ8BqJt4DeRnfVgwMlzQlV8jXrte3WyCJhLxtIZVgyNp5At/0dMPaJmH/Owh3vV+HBnNU1rdXGD1yI0KdnIlnHaeA/CzhLA0g8SxQ3ouFhJvvYzrJ9U5dXFPDcmg6kQ1ixwdOdrEe0RtX3NEzeGoU/6BEBHxBkI07hlGf+OpT8hjtWibLUMG5jECp4d4nVkVPZaEvpYbbJv+wWjq2el93e78LPR573+xakDejgGAy6e9idPqtF1HjjbxOp/I7HcinlnExi6/bcQDoK33/KtlXBv1+2FQMCAei4zVzyet+S2JheAc3mw7r3xXppUdFj+q5wAzKugnBxFvmMY3zkNTzR58OPGCWZyr4eR6fjZ32UO85kkJO7kKrmRlXeR5XkvKON+JK9Yv7J75EnZZCIsB1h/mhNHPzcOde9PPhgfNf6OK6d15fzmIePpYmkkVg3jf4srGiOXNFQWyOxbFikWeNrVWMYC7i3g3KDK7TimN08sSwmwjR5vOsSCtWph5NrX703i1kHU8roxGPG2dy9Z3//WXw17i9d/EMUB2tJ/kOnZYW8xmXQvdKATxoCnQR/DFU8K9LyFftxZ6TrcndBFPxtWXKAJ/byC2tI2DSgmxDxGsJTcQXi91R8hi97GQ5D9k54MscZVCCOHVJNYiIUWtouHYRw5biKetJd1QoMt15Ocl+OdzqLkUfkIs4pm1XNHYwpXoIWQubCQdK7uLeFplgz/5xkuwgMOvUSS+2yxTZ/W/6zgon6Gpdj65ytQabSOCfnLYQjxOaraRNbx9bafok/5dDOKNYvfHp1eSM2csWCSeXM8hMBvBQrJiwvbUbFfUXKmWlLVl6wKZoIRw7gIt1dC8nxy2Es8JG1mzULiQXwzidYyehhbxvQCrpOvsbL1ZhrlmsSI/6p1capF4w9RpR55WNYuFYBRbmTTW1pMoVptDTW1tIV49p0xrrc5S7ADAxTLEIB40nVB7d24gpqpDbCDbHuEH3qOXgU9T1bdG7+9jTrxecYe9toV4F6pb0IgbYsPKPG75BCGeFsNjWPMjxSWI6epGObDyrprDAots9mz10dO83FdtVGVgT5njcCk/ojXiYzHyMishwxg54/CsDskgCPEUQ13WkH0tQZ4BZHFXIvCb1dVxC45H3N3UcbifRuxDO3yE5QC6zzJN3xctRs7WyYgMnlDoBCEeoCh+B59Eo1mmaDaZo39aPadhQnuMLWJrGzvTG3xYGOIxXR537TEKktqq40DHlrHXttHUdZnCu5vnohojR5pOVQLDSxziaXFXpnSXzHznd/GO2zKWmeXOlMZbEYt4UGJ99DM8drGbUdU9CGiOy9N8Pr04bzzmWbC/xHfKhtuhvkFxXsKbZIfndU8H0buU7xvYTaZxZOBpo3cfpbURUDwz+qhg2tmE/iYU8aCeBvtOT5mt04xyy8yBk4rTZzHFtsHjFg++1BFi2pJYgKlZAxXMlOAhFvGgelP/b8D557cVJBZD+Ph2G6dm3X+4QTYRzzI/fignBVk5KttynWN4o2DEA5Sjfn3oP928x8FqBMV91gFCPOS7fFvHefWi///FTTvoKhFvpG6sTDNJBSMc8SDXkWFTGYOjfuUHGVfscEQrjqZEPOvEU4/Ktj1+qXWJXLtTPOJBjd3v7XOeAYda2QENfG5ANuuPRcSz3FkVM7HRwuVbrnzMbhSSeFAjRL/LXLw8z4A1ANf5hZD/toflzWPcD5pqVmmqOXK/VWciAR5ueuTSJr4AMYnHwlZeZhHod2wXd/2fQ3gpicPbYdtQDWWXZCoLiUdNzp8METF52OIFz3f9dQkes/axAmMiLPFYkFp+KAlZsrjffVkgX8kBD3/3n8yyBAITD4DqczfNFhKWe4ZdN/I2mHHGw98uGV0oR2ziMUC5l/n0WsG70Ke6qmz+G8fIzsZdJYpxIT7xWDsxx81RPTfFaO9Xfwr5wYx10KuL51qF00E81+CligkBfQSIePq4UCoh4CgCRDxH4aXCCQF9BIh4+rhQKiHgKAJEPEfhpcIJAX0EiHj6uFAqIeAoAkQ8R+GlwgkBfQSIePq4UCoh4CgCRDxH4aXCCQF9BIh4+rhQKiHgKAJEPEfhpcIJAX0EiHj6uFAqIeAoAkQ8R+GlwgkBfQSIePq4UCoh4CgCRDxH4aXCCQF9BIh4+rhQKiHgKAJEPEfhpcIJAX0E/g96zebOA+UDqQAAAABJRU5ErkJggg==)"
      ]
    },
    {
      "cell_type": "code",
      "metadata": {
        "colab": {
          "base_uri": "https://localhost:8080/"
        },
        "id": "TIGd1GWKLOAq",
        "outputId": "a57e7726-4afc-4ea1-f08c-15290a2aac46"
      },
      "source": [
        "import scipy.spatial.distance as dst\n",
        "dst.minkowski([0,0], [1,1])\n"
      ],
      "execution_count": 16,
      "outputs": [
        {
          "output_type": "execute_result",
          "data": {
            "text/plain": [
              "1.4142135623730951"
            ]
          },
          "metadata": {},
          "execution_count": 16
        }
      ]
    },
    {
      "cell_type": "markdown",
      "metadata": {
        "id": "1mU4xdXLMARE"
      },
      "source": [
        "###**CHEBISEV DISTANCE**"
      ]
    },
    {
      "cell_type": "markdown",
      "metadata": {
        "id": "Dqtaq1ypm0kv"
      },
      "source": [
        "![image.png](data:image/png;base64,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)"
      ]
    },
    {
      "cell_type": "code",
      "metadata": {
        "colab": {
          "base_uri": "https://localhost:8080/"
        },
        "id": "y0UA4gc6beWK",
        "outputId": "c0371d32-e899-45c5-beab-31dc2e9ac1c3"
      },
      "source": [
        "def chebyshev_distance(x,y):\n",
        "  return max(abs(a-b) for a,b in zip(x,y))\n",
        "\n",
        "chebyshev_distance([0,0], [1,1])"
      ],
      "execution_count": 17,
      "outputs": [
        {
          "output_type": "execute_result",
          "data": {
            "text/plain": [
              "1"
            ]
          },
          "metadata": {},
          "execution_count": 17
        }
      ]
    },
    {
      "cell_type": "markdown",
      "metadata": {
        "id": "UiWMAlerMQNQ"
      },
      "source": [
        "###**BRAY-CURTIS DISTANCE**"
      ]
    },
    {
      "cell_type": "markdown",
      "metadata": {
        "id": "POXZETZfnXjJ"
      },
      "source": [
        "![image.png](data:image/png;base64,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)"
      ]
    },
    {
      "cell_type": "code",
      "metadata": {
        "colab": {
          "base_uri": "https://localhost:8080/"
        },
        "id": "KnqoGZYCMadh",
        "outputId": "24be122f-e7ca-43e4-9c2b-7a9c67430027"
      },
      "source": [
        "import scipy.spatial.distance as dst\n",
        "dst.braycurtis([0,0], [1,1])\n"
      ],
      "execution_count": 18,
      "outputs": [
        {
          "output_type": "execute_result",
          "data": {
            "text/plain": [
              "1.0"
            ]
          },
          "metadata": {},
          "execution_count": 18
        }
      ]
    },
    {
      "cell_type": "markdown",
      "metadata": {
        "id": "Afu0oynrMb-T"
      },
      "source": [
        "###**CANBERRA DISTANCE**"
      ]
    },
    {
      "cell_type": "markdown",
      "metadata": {
        "id": "70Zw0Wc_njts"
      },
      "source": [
        "![image.png](data:image/png;base64,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)"
      ]
    },
    {
      "cell_type": "code",
      "metadata": {
        "colab": {
          "base_uri": "https://localhost:8080/"
        },
        "id": "76kCK6mnM6Vh",
        "outputId": "442d3523-cce4-43c1-e365-db5ec7edcc31"
      },
      "source": [
        "def canberra_distance(x,y):\n",
        "    return sum(abs(a-b)/(abs(a)+abs(b)) for a, b in zip(x,y))\n",
        "\n",
        "canberra_distance([0,0], [1,1])"
      ],
      "execution_count": 19,
      "outputs": [
        {
          "output_type": "execute_result",
          "data": {
            "text/plain": [
              "2.0"
            ]
          },
          "metadata": {},
          "execution_count": 19
        }
      ]
    },
    {
      "cell_type": "markdown",
      "metadata": {
        "id": "ozdPXutvPjp7"
      },
      "source": [
        "##**BUILD KNN FUNCTION**"
      ]
    },
    {
      "cell_type": "markdown",
      "metadata": {
        "id": "I0mDu0QaRjMS"
      },
      "source": [
        "###**KNN WITH EUCLIDIAN**"
      ]
    },
    {
      "cell_type": "code",
      "metadata": {
        "id": "r2pzle6RFiD8"
      },
      "source": [
        "def _knn_euclidean(x):\n",
        "  #calculate the distance between the new x and all samples in the training data\n",
        "  dst = [ euclidean_distance(x, x_train) for x_train in X_train]\n",
        "\n",
        "  #sorting data and take some k object\n",
        "  k_idx = np.argsort(dst)[: k]\n",
        "  \n",
        "  #taking classes from the k nearest neighbors from the training data\n",
        "  k_neighbor_labels = [y_train[i] for i in k_idx]\n",
        "  \n",
        "  #taking the most appearing class\n",
        "  most_class = Counter(k_neighbor_labels).most_common(1)\n",
        "  return most_class[0][0]\n",
        "\n",
        "def KNN_euclidean(X_train, y_train, k, x_new):\n",
        " y_pred= [_knn_euclidean(x_i) for x_i in x_new]\n",
        " return np.array(y_pred)"
      ],
      "execution_count": 20,
      "outputs": []
    },
    {
      "cell_type": "markdown",
      "metadata": {
        "id": "xNbG4MDkRq_5"
      },
      "source": [
        "###**KNN WITH MANHATTAN/CITYBLOCK**"
      ]
    },
    {
      "cell_type": "code",
      "metadata": {
        "id": "TNgk730YRvZH"
      },
      "source": [
        "def _knn_manhattan(x):\n",
        "  #calculate the distance between the new x and all samples in the training data\n",
        "  dst = [manhattan_distance(x, x_train) for x_train in X_train]\n",
        "\n",
        "  #sorting data and take some k object\n",
        "  k_idx = np.argsort(dst)[: k]\n",
        "  \n",
        "  #taking classes from the k nearest neighbors from the training data\n",
        "  k_neighbor_labels = [y_train[i] for i in k_idx]\n",
        "  \n",
        "  #taking the most appearing class\n",
        "  most_class = Counter(k_neighbor_labels).most_common(1)\n",
        "  return most_class[0][0]\n",
        "\n",
        "def KNN_manhattan(X_train, y_train, k, x_new):\n",
        " y_pred= [_knn_manhattan(x_i) for x_i in x_new]\n",
        " return np.array(y_pred)\n"
      ],
      "execution_count": 21,
      "outputs": []
    },
    {
      "cell_type": "markdown",
      "metadata": {
        "id": "s4LYzpddSgpg"
      },
      "source": [
        "###**KNN WITH MINKOWSKI**"
      ]
    },
    {
      "cell_type": "code",
      "metadata": {
        "id": "ho4i3O7oSj_z"
      },
      "source": [
        "def _knn_minkowski(x): \n",
        "  #calculate the distance between the new x and all samples in the training data\n",
        "  dst1 = [dst.minkowski(x, x_train) for x_train in X_train]\n",
        "\n",
        "  #sorting data and take some k object\n",
        "  k_idx = np.argsort(dst1)[: k]\n",
        "  \n",
        "  #taking classes from the k nearest neighbors from the training data\n",
        "  k_neighbor_labels = [y_train[i] for i in k_idx]\n",
        "  \n",
        "  #taking the most appearing class\n",
        "  most_class = Counter(k_neighbor_labels).most_common(1)\n",
        "  return most_class[0][0]\n",
        "\n",
        "def KNN_minkowski(X_train, y_train, k,x_new):\n",
        " y_pred= [_knn_minkowski(x_i) for x_i in x_new]\n",
        " return np.array(y_pred)"
      ],
      "execution_count": 22,
      "outputs": []
    },
    {
      "cell_type": "markdown",
      "metadata": {
        "id": "uJghkmSkTIHS"
      },
      "source": [
        "###**KNN WITH CHEBISEV**"
      ]
    },
    {
      "cell_type": "code",
      "metadata": {
        "id": "hN8H1vFiYBCi"
      },
      "source": [
        "def _knn_chebyshev(x):\n",
        "  #calculate the distance between the new x and all samples in the training data\n",
        "  dst1 = [chebyshev_distance(x, x_train) for x_train in X_train]\n",
        "\n",
        "  #sorting data and take some k object\n",
        "  k_idx = np.argsort(dst1)[: k]\n",
        "  \n",
        "  #taking classes from the k nearest neighbors from the training data\n",
        "  k_neighbor_labels = [y_train[i] for i in k_idx]\n",
        "  \n",
        "  #taking the most appearing class\n",
        "  most_class = Counter(k_neighbor_labels).most_common(1)\n",
        "  return most_class[0][0]\n",
        "\n",
        "def KNN_chebyshev(X_train, y_train, k, x_new):\n",
        " y_pred= [_knn_chebyshev(x_i) for x_i in x_new]\n",
        " return np.array(y_pred)"
      ],
      "execution_count": 23,
      "outputs": []
    },
    {
      "cell_type": "markdown",
      "metadata": {
        "id": "QAX11uhpZUq-"
      },
      "source": [
        "###**KNN WITH BRAY-CURTIS**"
      ]
    },
    {
      "cell_type": "code",
      "metadata": {
        "id": "FJhCcfcuZbAY"
      },
      "source": [
        "def _knn_braycurtis(x):\n",
        "  #calculate the distance between the new x and all samples in the training data\n",
        "  \n",
        "  dst1 = [dst.braycurtis(x, x_train) for x_train in X_train]\n",
        "  \n",
        "  #sorting data and take some k object\n",
        "  k_idx = np.argsort(dst1)[: k]\n",
        "  \n",
        "  #taking classes from the k nearest neighbors from the training data\n",
        "  k_neighbor_labels = [y_train[i] for i in k_idx]\n",
        "  \n",
        "  #taking the most appearing class\n",
        "  most_class = Counter(k_neighbor_labels).most_common(1)\n",
        "  return most_class[0][0]\n",
        "\n",
        "def KNN_braycurtis(X_train, y_train, k, x_new):\n",
        " y_pred= [_knn_braycurtis(x_i) for x_i in x_new]\n",
        " return np.array(y_pred)\n"
      ],
      "execution_count": 24,
      "outputs": []
    },
    {
      "cell_type": "markdown",
      "metadata": {
        "id": "v7qYbVQaZzIF"
      },
      "source": [
        "###**KNN WITH CANBERRA**"
      ]
    },
    {
      "cell_type": "code",
      "metadata": {
        "id": "Yx-MCcGOZ2e2"
      },
      "source": [
        "def _knn_canberra(x):\n",
        "  #calculate the distance between the new x and all samples in the training data\n",
        "  \n",
        "  dst = [canberra_distance(x, x_train) for x_train in X_train]\n",
        "  \n",
        "  #sorting data and take some k object\n",
        "  k_idx = np.argsort(dst)[: k]\n",
        "  \n",
        "  #taking classes from the k nearest neighbors from the training data\n",
        "  k_neighbor_labels = [y_train[i] for i in k_idx]\n",
        "  \n",
        "  #taking the most appearing class\n",
        "  most_class = Counter(k_neighbor_labels).most_common(1)\n",
        "  return most_class[0][0]\n",
        "\n",
        "def KNN_canberra(X_train, y_train, k, x_new):\n",
        " y_pred= [_knn_canberra(x_i) for x_i in x_new]\n",
        " return np.array(y_pred)"
      ],
      "execution_count": 25,
      "outputs": []
    },
    {
      "cell_type": "markdown",
      "metadata": {
        "id": "hJLIL2kZd4zy"
      },
      "source": [
        "##**EVALUATION FUNCTION**"
      ]
    },
    {
      "cell_type": "markdown",
      "metadata": {
        "id": "cwC4Qugid_ex"
      },
      "source": [
        "###**PLOT FUNCTION**\n"
      ]
    },
    {
      "cell_type": "code",
      "metadata": {
        "id": "nLXbJed1eG5E"
      },
      "source": [
        "#Import library\n",
        "from sklearn.metrics import accuracy_score\n",
        "from sklearn.metrics import precision_score\n",
        "from sklearn.metrics import recall_score\n",
        "from sklearn.metrics import f1_score"
      ],
      "execution_count": 26,
      "outputs": []
    },
    {
      "cell_type": "code",
      "metadata": {
        "id": "ozaW0tMweQdr"
      },
      "source": [
        "def bar_plot(df, evalf):\n",
        " sns.set_theme(style=\"whitegrid\")\n",
        " fig, ax=plt.subplots(figsize=(10,8)) \n",
        " ax = sns.barplot(data=df, y=evalf, x=df.index )\n",
        "\n",
        " for bar in ax.patches:\n",
        "   ax.annotate(format(bar.get_height(), '.2f'),\n",
        "               (bar.get_x() + bar.get_width() / 2,\n",
        "                bar.get_height()), ha='center', va='center',\n",
        "               size=15, xytext=(0, 8),\n",
        "               textcoords='offset points')\n",
        "\n",
        " plt.xticks(rotation=80)\n",
        " ax.set_xlabel('distance')\n",
        " ax.set_ylabel('{} score'.format(evalf))\n",
        " ax.set_title('Evaluation Score of KNN with Various Distance', fontsize=16)\n",
        " plt.show()\n"
      ],
      "execution_count": 27,
      "outputs": []
    },
    {
      "cell_type": "markdown",
      "metadata": {
        "id": "hnbxAnOifFMZ"
      },
      "source": [
        "###**EXPERIMENT**\n"
      ]
    },
    {
      "cell_type": "code",
      "metadata": {
        "id": "72qpK_jdfLQ8"
      },
      "source": [
        "# Parameter\n",
        "k=3"
      ],
      "execution_count": 28,
      "outputs": []
    },
    {
      "cell_type": "code",
      "metadata": {
        "colab": {
          "base_uri": "https://localhost:8080/"
        },
        "id": "XbH4jyKffUiz",
        "outputId": "38b5105c-72bf-421b-c768-7b3c54a9c329"
      },
      "source": [
        "# KNN Euclidean Distance\n",
        "start = time.time()\n",
        "y_pred=KNN_euclidean(X_train, y_train, k, X_test)\n",
        "finish = time.time()\n",
        "time_comp = finish-start\n",
        "# Evaluation\n",
        "euclidean =[accuracy_score(y_test, y_pred),\n",
        " precision_score(y_test, y_pred, average='weighted'),\n",
        " recall_score(y_test, y_pred, average='weighted'),\n",
        " f1_score(y_test, y_pred, average='weighted'),\n",
        " time_comp]\n",
        "\n",
        "euclidean\n"
      ],
      "execution_count": 29,
      "outputs": [
        {
          "output_type": "execute_result",
          "data": {
            "text/plain": [
              "[0.8591549295774648,\n",
              " 0.8826291079812207,\n",
              " 0.8591549295774648,\n",
              " 0.8435499359795134,\n",
              " 0.7043569087982178]"
            ]
          },
          "metadata": {},
          "execution_count": 29
        }
      ]
    },
    {
      "cell_type": "code",
      "metadata": {
        "colab": {
          "base_uri": "https://localhost:8080/"
        },
        "id": "dCnNZvv_fxzr",
        "outputId": "3d97b170-08f0-4d06-88e2-4eeade5bad2e"
      },
      "source": [
        "# KNN Manhattan Distance\n",
        "start = time.time()\n",
        "y_pred=KNN_manhattan(X_train, y_train, k, X_test)\n",
        "finish = time.time()\n",
        "time_comp = finish-start\n",
        "# Evaluation\n",
        "manhattan =[accuracy_score(y_test, y_pred),\n",
        " precision_score(y_test, y_pred, average='weighted'),\n",
        " recall_score(y_test, y_pred, average='weighted'),\n",
        " f1_score(y_test, y_pred, average='weighted'),\n",
        " time_comp]\n",
        " \n",
        "manhattan"
      ],
      "execution_count": 30,
      "outputs": [
        {
          "output_type": "execute_result",
          "data": {
            "text/plain": [
              "[0.8873239436619719,\n",
              " 0.9028654686741135,\n",
              " 0.8873239436619719,\n",
              " 0.8782411243057473,\n",
              " 0.4489877223968506]"
            ]
          },
          "metadata": {},
          "execution_count": 30
        }
      ]
    },
    {
      "cell_type": "code",
      "metadata": {
        "colab": {
          "base_uri": "https://localhost:8080/"
        },
        "id": "2EPSdHZugUr2",
        "outputId": "3874559f-3145-4759-fde2-a17dcfcc9f0a"
      },
      "source": [
        "# KNN Minkowski Distance\n",
        "start = time.time()\n",
        "y_pred=KNN_minkowski(X_train, y_train, k, X_test)\n",
        "finish = time.time()\n",
        "time_comp = finish-start\n",
        "# Evaluation\n",
        "minkowski =[accuracy_score(y_test, y_pred),\n",
        " precision_score(y_test, y_pred, average='weighted'),\n",
        " recall_score(y_test, y_pred, average='weighted'),\n",
        " f1_score(y_test, y_pred, average='weighted'),\n",
        " time_comp]\n",
        " \n",
        "minkowski"
      ],
      "execution_count": 31,
      "outputs": [
        {
          "output_type": "execute_result",
          "data": {
            "text/plain": [
              "[0.8591549295774648,\n",
              " 0.8826291079812207,\n",
              " 0.8591549295774648,\n",
              " 0.8435499359795134,\n",
              " 0.2564728260040283]"
            ]
          },
          "metadata": {},
          "execution_count": 31
        }
      ]
    },
    {
      "cell_type": "code",
      "metadata": {
        "colab": {
          "base_uri": "https://localhost:8080/"
        },
        "id": "c6wIpWuchJQk",
        "outputId": "1f731631-0840-43b0-9222-5c518d3f4581"
      },
      "source": [
        "# KNN Chebishev Distance\n",
        "start = time.time()\n",
        "y_pred=KNN_chebyshev(X_train, y_train, k, X_test)\n",
        "finish = time.time()\n",
        "time_comp = finish-start\n",
        "# Evaluation\n",
        "chebyshev =[accuracy_score(y_test, y_pred),\n",
        " precision_score(y_test, y_pred, average='weighted'),\n",
        " recall_score(y_test, y_pred, average='weighted'),\n",
        " f1_score(y_test, y_pred, average='weighted'),\n",
        " time_comp]\n",
        " \n",
        "chebyshev"
      ],
      "execution_count": 32,
      "outputs": [
        {
          "output_type": "execute_result",
          "data": {
            "text/plain": [
              "[0.9154929577464789,\n",
              " 0.9245472837022132,\n",
              " 0.9154929577464789,\n",
              " 0.9108424129683763,\n",
              " 0.4093196392059326]"
            ]
          },
          "metadata": {},
          "execution_count": 32
        }
      ]
    },
    {
      "cell_type": "code",
      "metadata": {
        "colab": {
          "base_uri": "https://localhost:8080/"
        },
        "id": "ENT3CoSBiHC4",
        "outputId": "81de83ec-96c5-4083-96a0-c9288eb14205"
      },
      "source": [
        "# KNN BrayCurtis Distance\n",
        "start = time.time()\n",
        "y_pred=KNN_braycurtis(X_train, y_train, k, X_test)\n",
        "finish = time.time()\n",
        "time_comp = finish-start\n",
        "# Evaluation\n",
        "braycurtis =[accuracy_score(y_test, y_pred),\n",
        " precision_score(y_test, y_pred, average='weighted'),\n",
        " recall_score(y_test, y_pred, average='weighted'),\n",
        " f1_score(y_test, y_pred, average='weighted'),\n",
        " time_comp]\n",
        " \n",
        "braycurtis"
      ],
      "execution_count": 33,
      "outputs": [
        {
          "output_type": "execute_result",
          "data": {
            "text/plain": [
              "[0.8732394366197183,\n",
              " 0.892575793745524,\n",
              " 0.8732394366197183,\n",
              " 0.8611871395176732,\n",
              " 0.31884264945983887]"
            ]
          },
          "metadata": {},
          "execution_count": 33
        }
      ]
    },
    {
      "cell_type": "code",
      "metadata": {
        "colab": {
          "base_uri": "https://localhost:8080/"
        },
        "id": "hwNy9caSih6P",
        "outputId": "51832980-3ccf-4418-b8c1-1523877e5dfb"
      },
      "source": [
        "# KNN Canberra Distance\n",
        "start = time.time()\n",
        "y_pred=KNN_canberra(X_train, y_train, k, X_test)\n",
        "finish = time.time()\n",
        "time_comp = finish-start\n",
        "# Evaluation\n",
        "canberra =[accuracy_score(y_test, y_pred),\n",
        " precision_score(y_test, y_pred, average='weighted'),\n",
        " recall_score(y_test, y_pred, average='weighted'),\n",
        " f1_score(y_test, y_pred, average='weighted'),\n",
        " time_comp]\n",
        " \n",
        "canberra"
      ],
      "execution_count": 34,
      "outputs": [
        {
          "output_type": "stream",
          "name": "stderr",
          "text": [
            "/usr/local/lib/python3.7/dist-packages/ipykernel_launcher.py:2: RuntimeWarning: invalid value encountered in double_scalars\n",
            "  \n",
            "/usr/local/lib/python3.7/dist-packages/sklearn/metrics/_classification.py:1272: UndefinedMetricWarning: Precision is ill-defined and being set to 0.0 in labels with no predicted samples. Use `zero_division` parameter to control this behavior.\n",
            "  _warn_prf(average, modifier, msg_start, len(result))\n"
          ]
        },
        {
          "output_type": "execute_result",
          "data": {
            "text/plain": [
              "[0.704225352112676,\n",
              " 0.4959333465582225,\n",
              " 0.704225352112676,\n",
              " 0.5820044232336166,\n",
              " 0.909311056137085]"
            ]
          },
          "metadata": {},
          "execution_count": 34
        }
      ]
    },
    {
      "cell_type": "markdown",
      "metadata": {
        "id": "25JQMFvRjcKQ"
      },
      "source": [
        "##**EVALUATION**"
      ]
    },
    {
      "cell_type": "code",
      "metadata": {
        "id": "ipj_PSTHj2rf"
      },
      "source": [
        "#creating dataframe\n",
        "df = pd.DataFrame([euclidean,\n",
        " manhattan,\n",
        " minkowski,\n",
        " chebyshev,\n",
        " braycurtis,\n",
        " canberra],\n",
        " columns = ['accuracy','precision', 'recall', 'f1', 'time'],\n",
        " index = ['euclidean', 'manhattan', 'minkowski', 'chebyshev', 'braycurtis', 'canberra'])"
      ],
      "execution_count": 35,
      "outputs": []
    },
    {
      "cell_type": "code",
      "metadata": {
        "colab": {
          "base_uri": "https://localhost:8080/",
          "height": 232
        },
        "id": "VO-oZdQrkAAQ",
        "outputId": "d1e578f4-849b-49f8-b0a4-ff0506728445"
      },
      "source": [
        "#show dataframe\n",
        "df"
      ],
      "execution_count": 36,
      "outputs": [
        {
          "output_type": "execute_result",
          "data": {
            "text/html": [
              "<div>\n",
              "<style scoped>\n",
              "    .dataframe tbody tr th:only-of-type {\n",
              "        vertical-align: middle;\n",
              "    }\n",
              "\n",
              "    .dataframe tbody tr th {\n",
              "        vertical-align: top;\n",
              "    }\n",
              "\n",
              "    .dataframe thead th {\n",
              "        text-align: right;\n",
              "    }\n",
              "</style>\n",
              "<table border=\"1\" class=\"dataframe\">\n",
              "  <thead>\n",
              "    <tr style=\"text-align: right;\">\n",
              "      <th></th>\n",
              "      <th>accuracy</th>\n",
              "      <th>precision</th>\n",
              "      <th>recall</th>\n",
              "      <th>f1</th>\n",
              "      <th>time</th>\n",
              "    </tr>\n",
              "  </thead>\n",
              "  <tbody>\n",
              "    <tr>\n",
              "      <th>euclidean</th>\n",
              "      <td>0.859155</td>\n",
              "      <td>0.882629</td>\n",
              "      <td>0.859155</td>\n",
              "      <td>0.843550</td>\n",
              "      <td>0.704357</td>\n",
              "    </tr>\n",
              "    <tr>\n",
              "      <th>manhattan</th>\n",
              "      <td>0.887324</td>\n",
              "      <td>0.902865</td>\n",
              "      <td>0.887324</td>\n",
              "      <td>0.878241</td>\n",
              "      <td>0.448988</td>\n",
              "    </tr>\n",
              "    <tr>\n",
              "      <th>minkowski</th>\n",
              "      <td>0.859155</td>\n",
              "      <td>0.882629</td>\n",
              "      <td>0.859155</td>\n",
              "      <td>0.843550</td>\n",
              "      <td>0.256473</td>\n",
              "    </tr>\n",
              "    <tr>\n",
              "      <th>chebyshev</th>\n",
              "      <td>0.915493</td>\n",
              "      <td>0.924547</td>\n",
              "      <td>0.915493</td>\n",
              "      <td>0.910842</td>\n",
              "      <td>0.409320</td>\n",
              "    </tr>\n",
              "    <tr>\n",
              "      <th>braycurtis</th>\n",
              "      <td>0.873239</td>\n",
              "      <td>0.892576</td>\n",
              "      <td>0.873239</td>\n",
              "      <td>0.861187</td>\n",
              "      <td>0.318843</td>\n",
              "    </tr>\n",
              "    <tr>\n",
              "      <th>canberra</th>\n",
              "      <td>0.704225</td>\n",
              "      <td>0.495933</td>\n",
              "      <td>0.704225</td>\n",
              "      <td>0.582004</td>\n",
              "      <td>0.909311</td>\n",
              "    </tr>\n",
              "  </tbody>\n",
              "</table>\n",
              "</div>"
            ],
            "text/plain": [
              "            accuracy  precision    recall        f1      time\n",
              "euclidean   0.859155   0.882629  0.859155  0.843550  0.704357\n",
              "manhattan   0.887324   0.902865  0.887324  0.878241  0.448988\n",
              "minkowski   0.859155   0.882629  0.859155  0.843550  0.256473\n",
              "chebyshev   0.915493   0.924547  0.915493  0.910842  0.409320\n",
              "braycurtis  0.873239   0.892576  0.873239  0.861187  0.318843\n",
              "canberra    0.704225   0.495933  0.704225  0.582004  0.909311"
            ]
          },
          "metadata": {},
          "execution_count": 36
        }
      ]
    },
    {
      "cell_type": "code",
      "metadata": {
        "colab": {
          "base_uri": "https://localhost:8080/",
          "height": 571
        },
        "id": "KCh-pyagkGnX",
        "outputId": "cd1bfe61-d2e0-47c7-991b-41a6f57f5fd2"
      },
      "source": [
        "#compare accuracy each distance\n",
        "bar_plot(df, 'accuracy')"
      ],
      "execution_count": 37,
      "outputs": [
        {
          "output_type": "display_data",
          "data": {
            "image/png": "[encoded data removed]",
            "text/plain": [
              "<Figure size 720x576 with 1 Axes>"
            ]
          },
          "metadata": {}
        }
      ]
    },
    {
      "cell_type": "markdown",
      "metadata": {
        "id": "uxzXp3xysAR6"
      },
      "source": [
        "**Accuracy classification score.** <br>\n",
        "\n",
        "**In multilabel classification, this function computes subset accuracy: the set of labels predicted for a sample must exactly match the corresponding set of labels in y_true.**"
      ]
    },
    {
      "cell_type": "code",
      "metadata": {
        "colab": {
          "base_uri": "https://localhost:8080/",
          "height": 571
        },
        "id": "DDBPkHZ9kJPT",
        "outputId": "3dbec2f0-99aa-4a16-9505-b9111a61e353"
      },
      "source": [
        "#compare precision each distance\n",
        "bar_plot(df, 'precision')"
      ],
      "execution_count": 38,
      "outputs": [
        {
          "output_type": "display_data",
          "data": {
            "image/png": "[encoded data removed]",
            "text/plain": [
              "<Figure size 720x576 with 1 Axes>"
            ]
          },
          "metadata": {}
        }
      ]
    },
    {
      "cell_type": "markdown",
      "metadata": {
        "id": "KXMu6kuFskFa"
      },
      "source": [
        "**Compute the precision.** <br>\n",
        "\n",
        "**The precision is the ratio tp / (tp + fp) where tp is the number of true positives and fp the number of false positives. The precision is intuitively the ability of the classifier not to label as positive a sample that is negative.** <br>\n",
        "\n",
        "**The best value is 1 and the worst value is 0.** <br>"
      ]
    },
    {
      "cell_type": "code",
      "metadata": {
        "colab": {
          "base_uri": "https://localhost:8080/",
          "height": 571
        },
        "id": "MtRSmb0hkNfK",
        "outputId": "bd018685-2b3b-4ae6-93ea-9ab723abada2"
      },
      "source": [
        "#compare recall each distance\n",
        "bar_plot(df, 'recall')"
      ],
      "execution_count": 39,
      "outputs": [
        {
          "output_type": "display_data",
          "data": {
            "image/png": "[encoded data removed]",
            "text/plain": [
              "<Figure size 720x576 with 1 Axes>"
            ]
          },
          "metadata": {}
        }
      ]
    },
    {
      "cell_type": "markdown",
      "metadata": {
        "id": "riqZ6yA3sP4K"
      },
      "source": [
        "**Compute the recall.** <br>\n",
        "\n",
        "**The recall is the ratio tp / (tp + fn) where tp is the number of true positives and fn the number of false negatives. The recall is intuitively the ability of the classifier to find all the positive samples.** <br>\n",
        "\n",
        "**The best value is 1 and the worst value is 0.** <br>"
      ]
    },
    {
      "cell_type": "code",
      "metadata": {
        "colab": {
          "base_uri": "https://localhost:8080/",
          "height": 571
        },
        "id": "e11xm2JKkRgM",
        "outputId": "0a8df851-2d97-4371-de94-7b7b156ba47a"
      },
      "source": [
        "#compare f1 each distance\n",
        "bar_plot(df, 'f1')"
      ],
      "execution_count": 40,
      "outputs": [
        {
          "output_type": "display_data",
          "data": {
            "image/png": "[encoded data removed]",
            "text/plain": [
              "<Figure size 720x576 with 1 Axes>"
            ]
          },
          "metadata": {}
        }
      ]
    },
    {
      "cell_type": "markdown",
      "metadata": {
        "id": "ACUNKcqKs6cg"
      },
      "source": [
        "**Compute the F1 score, also known as balanced F-score or F-measure.** <br>\n",
        "\n",
        "**The F1 score can be interpreted as a harmonic mean of the precision and recall, where an F1 score reaches its best value at 1 and worst score at 0. The relative contribution of precision and recall to the F1 score are equal. The formula for the F1 score is:** <br>\n",
        "\n",
        "**F1 = 2 (precision x recall) / (precision + recall)** <br>\n",
        "\n",
        "**In the multi-class and multi-label case, this is the average of the F1 score of each class with weighting depending on the average parameter.**"
      ]
    },
    {
      "cell_type": "code",
      "metadata": {
        "colab": {
          "base_uri": "https://localhost:8080/",
          "height": 571
        },
        "id": "78hhKpeDkUbq",
        "outputId": "e36a7642-25d9-4a94-e09e-3d27c9774e15"
      },
      "source": [
        "#compare time each distance\n",
        "bar_plot(df, 'time')"
      ],
      "execution_count": 41,
      "outputs": [
        {
          "output_type": "display_data",
          "data": {
            "image/png": "[encoded data removed]",
            "text/plain": [
              "<Figure size 720x576 with 1 Axes>"
            ]
          },
          "metadata": {}
        }
      ]
    },
    {
      "cell_type": "markdown",
      "metadata": {
        "id": "YutvPZIVtXzP"
      },
      "source": [
        "**The concept of time is the time it takes the model to complete each iteration of the model with different distances**"
      ]
    },
    {
      "cell_type": "markdown",
      "metadata": {
        "id": "_KN2phOhknog"
      },
      "source": [
        "#**CONCLUSION**"
      ]
    },
    {
      "cell_type": "markdown",
      "metadata": {
        "id": "Ui9h-Pq1krDg"
      },
      "source": [
        "**The conclusions I can get are:** <br>\n",
        "<ol type=\"A\">\n",
        "<li>Chebyshev distances that have been applied to the ionosphere dataset were found to be better than other distances based on \"accuracy\", \"precision\", \"recall\", \"f1\". </li>\n",
        "<li> Minkowski distance is faster than other distance based on \"time\". </li>\n",
        "</ol>"
      ]
    },
    {
      "cell_type": "markdown",
      "metadata": {
        "id": "zLWDFxv5px68"
      },
      "source": [
        "#**END**"
      ]
    },
    {
      "cell_type": "markdown",
      "metadata": {
        "id": "OwUEoW7mp4-w"
      },
      "source": [
        "**This is the end of the notebook that I compiled to meet the final project (mini project) on PSDS Mid Semester Test.** <br>\n",
        "\n",
        "**Thanks to Allah SWT, parents, family and friends in PSDS who have helped me and also my instructor in PSDS, Joko Eliyanto, S.Si., M.Pd. who helped in imparting knowledge to me.**"
      ]
    },
    {
      "cell_type": "markdown",
      "metadata": {
        "id": "5gYzJsxyuUt3"
      },
      "source": [
        "#**REFERENCES**"
      ]
    },
    {
      "cell_type": "markdown",
      "metadata": {
        "id": "Eos3yCOtuX0r"
      },
      "source": [
        "\n",
        "Sigillito, V. G., Wing, S. P., Hutton, L. V., \\& Baker, K. B. (1989).\n",
        "Classification of radar returns from the ionosphere using neural\n",
        "networks. Johns Hopkins APL Technical Digest, 10, 262-266. <br>\n",
        "\n",
        "Modules from my Instructor and Pusat Studi Data Sains Universitas Ahmad Dahlan. <br>\n",
        "\n",
        "https://stackoverflow.com/ <br>\n",
        "\n",
        "https://www.kaggle.com/creepyghost/uci-ionosphere <br>\n",
        "\n",
        "https://scikit-learn.org/stable/modules/generated/sklearn.metrics.precision_score.html <br>\n",
        "\n",
        "https://scikit-learn.org/stable/modules/generated/sklearn.metrics.accuracy_score.html <br>\n",
        "\n",
        "https://scikit-learn.org/stable/modules/generated/sklearn.metrics.recall_score.html <br>\n",
        "\n",
        "https://scikit-learn.org/stable/modules/generated/sklearn.metrics.f1_score.html <br>\n",
        "\n",
        "\n",
        "\n"
      ]
    }
  ]
}