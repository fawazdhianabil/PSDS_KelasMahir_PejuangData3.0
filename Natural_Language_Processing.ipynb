{
  "nbformat": 4,
  "nbformat_minor": 5,
  "metadata": {
    "colab": {
      "name": "Natural Language Processing.ipynb",
      "provenance": [],
      "collapsed_sections": [],
      "toc_visible": true,
      "include_colab_link": true
    },
    "kernelspec": {
      "display_name": "Python 3",
      "language": "python",
      "name": "python3"
    },
    "language_info": {
      "codemirror_mode": {
        "name": "ipython",
        "version": 3
      },
      "file_extension": ".py",
      "mimetype": "text/x-python",
      "name": "python",
      "nbconvert_exporter": "python",
      "pygments_lexer": "ipython3",
      "version": "3.8.5"
    }
  },
  "cells": [
    {
      "cell_type": "markdown",
      "metadata": {
        "id": "view-in-github",
        "colab_type": "text"
      },
      "source": [
        "<a href=\"https://colab.research.google.com/github/fawazdhianabil/PSDS_KelasMahir_PejuangData3.0/blob/main/Natural_Language_Processing.ipynb\" target=\"_parent\"><img src=\"https://colab.research.google.com/assets/colab-badge.svg\" alt=\"Open In Colab\"/></a>"
      ]
    },
    {
      "cell_type": "markdown",
      "metadata": {
        "id": "-CDRzoS4HlxU"
      },
      "source": [
        "## Pembuka"
      ],
      "id": "-CDRzoS4HlxU"
    },
    {
      "cell_type": "markdown",
      "metadata": {
        "id": "jKNH2c97HlxY"
      },
      "source": [
        "Assalamu'alaikum warahmatullahi wabarakatuh.\n",
        "Puji syukur kehadirat Allah Subhana Wata'ala atas limpahan Rahmat dan HidayahNya kepada kita semua.\n",
        "Sholawat serta salam senantiasa tercurah limpahkan kepada baginda Muhammad Rasulullah Salallahualaihiwassalam.\n",
        "\n",
        "Halo para **Pejuang Data**. Selamat berjumpa di pertemuan ketujuh Program Training **Algoritma Machine Learning** Kelas Mahir.\n",
        "\n",
        "Pada pertemuan ini kamu akan belajar:\n",
        "* Apa itu NLP\n",
        "* Scrapping Data\n",
        "* Text Preprocessing\n",
        "    * Case Folding & Data Cleaning\n",
        "    * Lemmatisasi\n",
        "    * Stemming\n",
        "    * Slang Word\n",
        "    * Stop Word\n",
        "    * Unwanted Word\n",
        "\n"
      ],
      "id": "jKNH2c97HlxY"
    },
    {
      "cell_type": "markdown",
      "metadata": {
        "id": "M5_gUdFDHlxd"
      },
      "source": [
        "## Import Library"
      ],
      "id": "M5_gUdFDHlxd"
    },
    {
      "cell_type": "code",
      "metadata": {
        "id": "poiaTgSfHlxh"
      },
      "source": [
        "import sys\n",
        "\n",
        "if not sys.warnoptions:\n",
        "    import warnings\n",
        "    warnings.simplefilter(\"ignore\")"
      ],
      "id": "poiaTgSfHlxh",
      "execution_count": 9,
      "outputs": []
    },
    {
      "cell_type": "markdown",
      "metadata": {
        "id": "VF29fgMcHlxm"
      },
      "source": [
        "## Natural Language Processing"
      ],
      "id": "VF29fgMcHlxm"
    },
    {
      "cell_type": "markdown",
      "metadata": {
        "id": "JfAdEZzpHlxo"
      },
      "source": [
        "Natural Language Processing (NLP) merupakan salah satu cabang ilmu AI yang berfokus pada pengolahan bahasa natural. Bahasa natural adalah bahasa yang secara umum digunakan oleh manusia dalam berkomunikasi satu sama lain.  Bahasa yang diterima oleh komputer butuh untuk diproses dan dipahami terlebih dahulu supaya maksud dari user bisa dipahami dengan baik oleh komputer.\n",
        "\n",
        "Ada berbagai terapan aplikasi dari NLP. Diantaranya adalah Chatbot (aplikasi yang membuat user bisa seolah-olah melakukan komunikasi dengan computer), Stemming atau Lemmatization (pemotongan kata dalam bahasa tertentu menjadi bentuk dasar pengenalan fungsi setiap kata dalam kalimat), Summarization (ringkasan dari bacaan), Translation Tools (menterjemahkan bahasa) dan aplikasi-aplikasi lain yang memungkinkan komputer mampu memahami instruksi bahasa yang diinputkan oleh user.\n",
        "\n",
        "Pustejovsky dan Stubbs (2012) menjelaskan bahwa ada beberapa area utama penelitian pada field NLP, diantaranya:\n",
        "\n",
        "1. **Question Answering Systems (QAS)**. Kemampuan komputer untuk menjawab pertanyaan yang diberikan oleh user. Daripada memasukkan keyword ke dalam browser pencarian, dengan QAS, user bisa langsung bertanya dalam bahasa natural yang digunakannya, baik itu Inggris, Mandarin, ataupun Indonesia.\n",
        "\n",
        "2. **Summarization**. Pembuatan ringkasan dari sekumpulan konten dokumen atau email. Dengan menggunakan aplikasi ini, user bisa dibantu untuk mengkonversikan dokumen teks yang besar ke dalam bentuk slide presentasi.\n",
        "Machine Translation. Produk yang dihasilkan adalah aplikasi yang dapat memahami bahasa manusia dan menterjemahkannya ke dalam bahasa lain. Termasuk di dalamnya adalah Google Translate yang apabila dicermati semakin membaik dalam penterjemahan bahasa. Contoh lain lagi adalah BabelFish yang menterjemahkan bahasa pada real time.\n",
        "\n",
        "3. **Speech Recognition**. Field ini merupakan cabang ilmu NLP yang cukup sulit. Proses pembangunan model untuk digunakan telpon/komputer dalam mengenali bahasa yang diucapkan sudah banyak dikerjakan. Bahasa yang sering digunakan adalah berupa pertanyaan dan perintah.\n",
        "\n",
        "4. **Document classification**. Sedangkan aplikasi ini adalah merupakan area penelitian NLP Yang paling sukses. Pekerjaan yang dilakukan aplikasi ini adalah menentukan dimana tempat terbaik dokumen yang baru diinputkan ke dalam sistem. Hal ini sangat berguna pada aplikasi spam filtering, news article classification, dan movie review."
      ],
      "id": "JfAdEZzpHlxo"
    },
    {
      "cell_type": "markdown",
      "metadata": {
        "id": "Pk1914XF-Bkh"
      },
      "source": [
        "## Scrapping Data Text"
      ],
      "id": "Pk1914XF-Bkh"
    },
    {
      "cell_type": "markdown",
      "metadata": {
        "id": "Ylrst1XXHlx7"
      },
      "source": [
        "Sebelum melakukan penerapan dan berbagai penelitian. Mengumpulkan data teks sebagai bahan dasar dari bidang ini merupakan hal yang sangat penting. Proses ini biasa disebut dengan scrapping data. Aktivitas scrapping data bisa dilakukan melalui berbagai platfrom. Mulai langsung pada halaman web tertentu, melalui API seperti Twitter, atau melalui tools yang sudah disediakan, bisa free atau berbayar.  Untuk mulai belajar NLP, kita akan menggunakan tools. Toolls/Library `google_play_scrapper` adalah library yang dapat digunakan untuk mengambil review dari google apps. Pertama kita perlu melakukan instalasi sebagai berikut."
      ],
      "id": "Ylrst1XXHlx7"
    },
    {
      "cell_type": "markdown",
      "metadata": {
        "id": "WIxBSNNxHlx_"
      },
      "source": [
        "**Instalasi google play scrapper**"
      ],
      "id": "WIxBSNNxHlx_"
    },
    {
      "cell_type": "markdown",
      "metadata": {
        "id": "PFB0UNLK3zc3",
        "outputId": "8972ec16-73f2-40f7-ede8-c398181d9509"
      },
      "source": [
        "``` python\n",
        "!pip install google_play_scraper\n",
        "```"
      ],
      "id": "PFB0UNLK3zc3"
    },
    {
      "cell_type": "code",
      "metadata": {
        "colab": {
          "base_uri": "https://localhost:8080/"
        },
        "id": "CybReF7RIyyc",
        "outputId": "f0a3ba6c-396b-41ea-c908-d0730c5fbb9a"
      },
      "source": [
        "!pip install google_play_scraper"
      ],
      "id": "CybReF7RIyyc",
      "execution_count": 10,
      "outputs": [
        {
          "output_type": "stream",
          "name": "stdout",
          "text": [
            "Requirement already satisfied: google_play_scraper in /usr/local/lib/python3.7/dist-packages (1.0.2)\n"
          ]
        }
      ]
    },
    {
      "cell_type": "markdown",
      "metadata": {
        "id": "-XOd-V7CHlyF"
      },
      "source": [
        "**Import Library**"
      ],
      "id": "-XOd-V7CHlyF"
    },
    {
      "cell_type": "code",
      "metadata": {
        "id": "x_QBEMgYJB2S"
      },
      "source": [
        "import numpy as np\n",
        "import pandas as pd\n",
        "from google_play_scraper import Sort, reviews                  # Librray untuk scrapping data teks\n",
        "import re                                                      # Library untuk teks preprocessing"
      ],
      "id": "x_QBEMgYJB2S",
      "execution_count": 11,
      "outputs": []
    },
    {
      "cell_type": "markdown",
      "metadata": {
        "id": "FUL_-3SnHlyK"
      },
      "source": [
        "**Scrapping Data Review Teks**"
      ],
      "id": "FUL_-3SnHlyK"
    },
    {
      "cell_type": "code",
      "metadata": {
        "id": "2GVJ16CQ-Az4"
      },
      "source": [
        "result, continuation_token = reviews(\n",
        "    'com.whatsapp',                            # Alamat apps\n",
        "    lang='id',                                 # Bahasa Review , defaults : 'en'\n",
        "    country='id',                              # Negara Asal Reviewer defaults : 'us'\n",
        "    sort=Sort.MOST_RELEVANT,                   # Urutan Review yang diambil , defaults : MOST_RELEVANT\n",
        "    count=1000,                                # Jumlah Review yang diambil, defaults : 100\n",
        "    filter_score_with=None                     # Jumlah Bintang , default: None(means all score)\n",
        ")"
      ],
      "id": "2GVJ16CQ-Az4",
      "execution_count": 12,
      "outputs": []
    },
    {
      "cell_type": "markdown",
      "metadata": {
        "id": "sM_n-FUpHlyO"
      },
      "source": [
        "**Menyimpan Hasil Review dalam DataFrame**"
      ],
      "id": "sM_n-FUpHlyO"
    },
    {
      "cell_type": "code",
      "metadata": {
        "colab": {
          "base_uri": "https://localhost:8080/",
          "height": 400
        },
        "id": "28ZRK2JyI6k-",
        "outputId": "1d644d1a-17e8-4b5c-973c-725bf14ac1a6"
      },
      "source": [
        "Hasil_Scrapping = pd.DataFrame(result)\n",
        "Hasil_Scrapping.head()"
      ],
      "id": "28ZRK2JyI6k-",
      "execution_count": 13,
      "outputs": [
        {
          "output_type": "execute_result",
          "data": {
            "text/html": [
              "<div>\n",
              "<style scoped>\n",
              "    .dataframe tbody tr th:only-of-type {\n",
              "        vertical-align: middle;\n",
              "    }\n",
              "\n",
              "    .dataframe tbody tr th {\n",
              "        vertical-align: top;\n",
              "    }\n",
              "\n",
              "    .dataframe thead th {\n",
              "        text-align: right;\n",
              "    }\n",
              "</style>\n",
              "<table border=\"1\" class=\"dataframe\">\n",
              "  <thead>\n",
              "    <tr style=\"text-align: right;\">\n",
              "      <th></th>\n",
              "      <th>reviewId</th>\n",
              "      <th>userName</th>\n",
              "      <th>userImage</th>\n",
              "      <th>content</th>\n",
              "      <th>score</th>\n",
              "      <th>thumbsUpCount</th>\n",
              "      <th>reviewCreatedVersion</th>\n",
              "      <th>at</th>\n",
              "      <th>replyContent</th>\n",
              "      <th>repliedAt</th>\n",
              "    </tr>\n",
              "  </thead>\n",
              "  <tbody>\n",
              "    <tr>\n",
              "      <th>0</th>\n",
              "      <td>gp:AOqpTOGsSICEts_RgB8I52dbL3DCWn3iFSyx9yx1l6I...</td>\n",
              "      <td>Bety Pong</td>\n",
              "      <td>https://play-lh.googleusercontent.com/a/AATXAJ...</td>\n",
              "      <td>bagus banget!!!!!!!!!!!!!!!!!!!!!!!!!!!!!!!!!!...</td>\n",
              "      <td>5</td>\n",
              "      <td>628</td>\n",
              "      <td>2.21.21.17</td>\n",
              "      <td>2021-11-01 05:05:45</td>\n",
              "      <td>None</td>\n",
              "      <td>None</td>\n",
              "    </tr>\n",
              "    <tr>\n",
              "      <th>1</th>\n",
              "      <td>gp:AOqpTOErRsAriyvtf6w2BRnW0k5r8Zt4zsUOTkgyqtV...</td>\n",
              "      <td>Yitro 275</td>\n",
              "      <td>https://play-lh.googleusercontent.com/a/AATXAJ...</td>\n",
              "      <td>Hallo, saya sebagai pengguna aplikasi ini sang...</td>\n",
              "      <td>4</td>\n",
              "      <td>419</td>\n",
              "      <td>2.21.21.17</td>\n",
              "      <td>2021-11-01 07:15:26</td>\n",
              "      <td>None</td>\n",
              "      <td>None</td>\n",
              "    </tr>\n",
              "    <tr>\n",
              "      <th>2</th>\n",
              "      <td>gp:AOqpTOHHiSiwJfCrG4_HFC-WI8YQnr15vAMkjPH1YkD...</td>\n",
              "      <td>fiezero 88</td>\n",
              "      <td>https://play-lh.googleusercontent.com/a-/AOh14...</td>\n",
              "      <td>Bagus bangetttttt jozzzz!!!!!!!!!!!!!!!!!!!!!!...</td>\n",
              "      <td>5</td>\n",
              "      <td>94</td>\n",
              "      <td>2.21.21.17</td>\n",
              "      <td>2021-11-01 06:03:19</td>\n",
              "      <td>None</td>\n",
              "      <td>None</td>\n",
              "    </tr>\n",
              "    <tr>\n",
              "      <th>3</th>\n",
              "      <td>gp:AOqpTOHDTYnzL5sviFlVN7_e7-yZwFs1cfLNo4NlUsS...</td>\n",
              "      <td>Andika Dika</td>\n",
              "      <td>https://play-lh.googleusercontent.com/a-/AOh14...</td>\n",
              "      <td>Halo Whatsapp !!, kenapa Video atau Foto yg su...</td>\n",
              "      <td>5</td>\n",
              "      <td>65</td>\n",
              "      <td>2.21.21.17</td>\n",
              "      <td>2021-11-01 06:48:45</td>\n",
              "      <td>None</td>\n",
              "      <td>None</td>\n",
              "    </tr>\n",
              "    <tr>\n",
              "      <th>4</th>\n",
              "      <td>gp:AOqpTOFPLrMlt33YtwZ36sQkVvS9B94RwpCRW98bfWr...</td>\n",
              "      <td>Saip saip</td>\n",
              "      <td>https://play-lh.googleusercontent.com/a/AATXAJ...</td>\n",
              "      <td>Aplikasi nya bagus sekali !!!!!!!!!!!!!!!!!!!!...</td>\n",
              "      <td>5</td>\n",
              "      <td>354</td>\n",
              "      <td>2.21.21.17</td>\n",
              "      <td>2021-10-31 19:06:52</td>\n",
              "      <td>None</td>\n",
              "      <td>None</td>\n",
              "    </tr>\n",
              "  </tbody>\n",
              "</table>\n",
              "</div>"
            ],
            "text/plain": [
              "                                            reviewId  ... repliedAt\n",
              "0  gp:AOqpTOGsSICEts_RgB8I52dbL3DCWn3iFSyx9yx1l6I...  ...      None\n",
              "1  gp:AOqpTOErRsAriyvtf6w2BRnW0k5r8Zt4zsUOTkgyqtV...  ...      None\n",
              "2  gp:AOqpTOHHiSiwJfCrG4_HFC-WI8YQnr15vAMkjPH1YkD...  ...      None\n",
              "3  gp:AOqpTOHDTYnzL5sviFlVN7_e7-yZwFs1cfLNo4NlUsS...  ...      None\n",
              "4  gp:AOqpTOFPLrMlt33YtwZ36sQkVvS9B94RwpCRW98bfWr...  ...      None\n",
              "\n",
              "[5 rows x 10 columns]"
            ]
          },
          "metadata": {},
          "execution_count": 13
        }
      ]
    },
    {
      "cell_type": "markdown",
      "metadata": {
        "id": "cnJA5_C2HlyV"
      },
      "source": [
        "**Mengambil Series Data Teks Review**"
      ],
      "id": "cnJA5_C2HlyV"
    },
    {
      "cell_type": "code",
      "metadata": {
        "colab": {
          "base_uri": "https://localhost:8080/"
        },
        "id": "ycKZ9Fd_zVlk",
        "outputId": "b4069983-f9ac-4984-b73d-26edf99fbce7"
      },
      "source": [
        "teks=Hasil_Scrapping.content\n",
        "teks"
      ],
      "id": "ycKZ9Fd_zVlk",
      "execution_count": 14,
      "outputs": [
        {
          "output_type": "execute_result",
          "data": {
            "text/plain": [
              "0      bagus banget!!!!!!!!!!!!!!!!!!!!!!!!!!!!!!!!!!...\n",
              "1      Hallo, saya sebagai pengguna aplikasi ini sang...\n",
              "2      Bagus bangetttttt jozzzz!!!!!!!!!!!!!!!!!!!!!!...\n",
              "3      Halo Whatsapp !!, kenapa Video atau Foto yg su...\n",
              "4      Aplikasi nya bagus sekali !!!!!!!!!!!!!!!!!!!!...\n",
              "                             ...                        \n",
              "393    Alhamdulilla bisa di apdet lagi ,bisa chat sam...\n",
              "394    Apk WA skrg gak sprti dulu, skrg nmr sering te...\n",
              "395    Saya sangat senang mendengar kalau ada aplikas...\n",
              "396    Bagussss baget aplikasi ini saya dapat berkomi...\n",
              "397    Blokar blokir ga jelas., Apkx bagus bnget buat...\n",
              "Name: content, Length: 398, dtype: object"
            ]
          },
          "metadata": {},
          "execution_count": 14
        }
      ]
    },
    {
      "cell_type": "markdown",
      "metadata": {
        "id": "hhcTDo8H21es"
      },
      "source": [
        "## Teks Preprocessing"
      ],
      "id": "hhcTDo8H21es"
    },
    {
      "cell_type": "markdown",
      "metadata": {
        "id": "yEgZ9mOlHlyZ"
      },
      "source": [
        "Setelah mendapat data teks. Salah satu tantangan dari data teks adalah bentuknya yang sangat beragam. Sebuah kata dapat ditulis dengan berbagai bentuk. Kemudian juga besar sekali kemungkinan adalah kesalahan penulisan. Tanda baca, angka, dan lain-lain. Oleh sebab itu, sebelum diolah lebih lanjut untuk diproses menjadi data numerik, maka diperlukan pemrosesan data teks agar menjadi bentuk yang lebih bersih dan standar. Yang akan sangat mempengaruhi hasil analisis data teks tersebut. Pada sentimen analisis misalnya, langkah ini menjadi sangat penting. Ada beberapa hal yang dilakukan pada tahap Teks Preprocessing:"
      ],
      "id": "yEgZ9mOlHlyZ"
    },
    {
      "cell_type": "markdown",
      "metadata": {
        "id": "3WGQQ4T98_XI"
      },
      "source": [
        "#### 1. Case Folding & Data Cleaning"
      ],
      "id": "3WGQQ4T98_XI"
    },
    {
      "cell_type": "markdown",
      "metadata": {
        "id": "EXYn3PQR8_XJ"
      },
      "source": [
        "Case folding adalah salah satu bentuk text preprocessing yang paling sederhana dan efektif meskipun sering diabaikan. Tujuan dari case folding untuk mengubah semua huruf dalam dokumen menjadi huruf kecil. Hanya huruf ‘a’ sampai ‘z’ yang diterima. Karakter selain huruf dihilangkan dan dianggap delimiter. \n",
        "\n",
        "Ada beberapa cara yang dapat digunakan dalam tahap case folding, diantaranya:\n",
        "* Menghapus tanda baca\n",
        "* Menghapus angka\n",
        "* Mengubah text menjadi lowercase\n",
        "* Menghapus whitepace (karakter kosong)\n"
      ],
      "id": "EXYn3PQR8_XJ"
    },
    {
      "cell_type": "code",
      "metadata": {
        "colab": {
          "base_uri": "https://localhost:8080/",
          "height": 193
        },
        "id": "sJggXB-tNSGY",
        "outputId": "9e71072c-204d-412c-99e7-1793c501b4c5"
      },
      "source": [
        "# Menghapus tanda baca\n",
        "print(teks[11])\n",
        "teks[11]=re.sub(r'[^\\w]|_',' ', teks[11])\n",
        "teks[11]"
      ],
      "id": "sJggXB-tNSGY",
      "execution_count": 15,
      "outputs": [
        {
          "output_type": "stream",
          "name": "stdout",
          "text": [
            "Sejak awal melihat tampilan WA sebenarnya aku melihat banyak kesalahan. Orang India kalau mbikin app memang punya ciri khas seperti ini , seluruh tampilan nya tidak semua benar benar privat , ada admin sentral server nya WA yang bisa mindah mindah video privat langsung di copy dan di share di twitter , facebook , instagram dan lain sebagainya. Admin sentral server pesan Indosat juga kayak gitu sejak jaman sms sms yang diamati badan intelijen rencana rencana intimidasi dan terorisme antara bercan\n"
          ]
        },
        {
          "output_type": "stream",
          "name": "stderr",
          "text": [
            "/usr/local/lib/python3.7/dist-packages/ipykernel_launcher.py:3: SettingWithCopyWarning: \n",
            "A value is trying to be set on a copy of a slice from a DataFrame\n",
            "\n",
            "See the caveats in the documentation: https://pandas.pydata.org/pandas-docs/stable/user_guide/indexing.html#returning-a-view-versus-a-copy\n",
            "  This is separate from the ipykernel package so we can avoid doing imports until\n"
          ]
        },
        {
          "output_type": "execute_result",
          "data": {
            "application/vnd.google.colaboratory.intrinsic+json": {
              "type": "string"
            },
            "text/plain": [
              "'Sejak awal melihat tampilan WA sebenarnya aku melihat banyak kesalahan  Orang India kalau mbikin app memang punya ciri khas seperti ini   seluruh tampilan nya tidak semua benar benar privat   ada admin sentral server nya WA yang bisa mindah mindah video privat langsung di copy dan di share di twitter   facebook   instagram dan lain sebagainya  Admin sentral server pesan Indosat juga kayak gitu sejak jaman sms sms yang diamati badan intelijen rencana rencana intimidasi dan terorisme antara bercan'"
            ]
          },
          "metadata": {},
          "execution_count": 15
        }
      ]
    },
    {
      "cell_type": "code",
      "metadata": {
        "colab": {
          "base_uri": "https://localhost:8080/",
          "height": 280
        },
        "id": "K5FjOAuUN2LM",
        "outputId": "2096bd6c-8d72-4855-9877-28d9df161ba4"
      },
      "source": [
        "# Menghapus angka\n",
        "print(teks[11])\n",
        "teks[11] = re.sub(\"\\S*\\d\\S*\", \"\", teks[11]).strip()\n",
        "teks[11] = re.sub(r\"\\b\\d+\\b\", \" \", teks[11])\n",
        "teks[11]"
      ],
      "id": "K5FjOAuUN2LM",
      "execution_count": 16,
      "outputs": [
        {
          "output_type": "stream",
          "name": "stdout",
          "text": [
            "Sejak awal melihat tampilan WA sebenarnya aku melihat banyak kesalahan  Orang India kalau mbikin app memang punya ciri khas seperti ini   seluruh tampilan nya tidak semua benar benar privat   ada admin sentral server nya WA yang bisa mindah mindah video privat langsung di copy dan di share di twitter   facebook   instagram dan lain sebagainya  Admin sentral server pesan Indosat juga kayak gitu sejak jaman sms sms yang diamati badan intelijen rencana rencana intimidasi dan terorisme antara bercan\n"
          ]
        },
        {
          "output_type": "stream",
          "name": "stderr",
          "text": [
            "/usr/local/lib/python3.7/dist-packages/ipykernel_launcher.py:3: SettingWithCopyWarning: \n",
            "A value is trying to be set on a copy of a slice from a DataFrame\n",
            "\n",
            "See the caveats in the documentation: https://pandas.pydata.org/pandas-docs/stable/user_guide/indexing.html#returning-a-view-versus-a-copy\n",
            "  This is separate from the ipykernel package so we can avoid doing imports until\n",
            "/usr/local/lib/python3.7/dist-packages/ipykernel_launcher.py:4: SettingWithCopyWarning: \n",
            "A value is trying to be set on a copy of a slice from a DataFrame\n",
            "\n",
            "See the caveats in the documentation: https://pandas.pydata.org/pandas-docs/stable/user_guide/indexing.html#returning-a-view-versus-a-copy\n",
            "  after removing the cwd from sys.path.\n"
          ]
        },
        {
          "output_type": "execute_result",
          "data": {
            "application/vnd.google.colaboratory.intrinsic+json": {
              "type": "string"
            },
            "text/plain": [
              "'Sejak awal melihat tampilan WA sebenarnya aku melihat banyak kesalahan  Orang India kalau mbikin app memang punya ciri khas seperti ini   seluruh tampilan nya tidak semua benar benar privat   ada admin sentral server nya WA yang bisa mindah mindah video privat langsung di copy dan di share di twitter   facebook   instagram dan lain sebagainya  Admin sentral server pesan Indosat juga kayak gitu sejak jaman sms sms yang diamati badan intelijen rencana rencana intimidasi dan terorisme antara bercan'"
            ]
          },
          "metadata": {},
          "execution_count": 16
        }
      ]
    },
    {
      "cell_type": "code",
      "metadata": {
        "colab": {
          "base_uri": "https://localhost:8080/",
          "height": 193
        },
        "id": "gpbLVAk7MJhw",
        "outputId": "9dcf1f73-d004-4e8e-8cca-688c9cd7d818"
      },
      "source": [
        "#Mengubah text menjadi lowercase\n",
        "print(teks[11])\n",
        "\n",
        "teks[11]=teks[11].lower()\n",
        "teks[11]"
      ],
      "id": "gpbLVAk7MJhw",
      "execution_count": 17,
      "outputs": [
        {
          "output_type": "stream",
          "name": "stdout",
          "text": [
            "Sejak awal melihat tampilan WA sebenarnya aku melihat banyak kesalahan  Orang India kalau mbikin app memang punya ciri khas seperti ini   seluruh tampilan nya tidak semua benar benar privat   ada admin sentral server nya WA yang bisa mindah mindah video privat langsung di copy dan di share di twitter   facebook   instagram dan lain sebagainya  Admin sentral server pesan Indosat juga kayak gitu sejak jaman sms sms yang diamati badan intelijen rencana rencana intimidasi dan terorisme antara bercan\n"
          ]
        },
        {
          "output_type": "stream",
          "name": "stderr",
          "text": [
            "/usr/local/lib/python3.7/dist-packages/ipykernel_launcher.py:4: SettingWithCopyWarning: \n",
            "A value is trying to be set on a copy of a slice from a DataFrame\n",
            "\n",
            "See the caveats in the documentation: https://pandas.pydata.org/pandas-docs/stable/user_guide/indexing.html#returning-a-view-versus-a-copy\n",
            "  after removing the cwd from sys.path.\n"
          ]
        },
        {
          "output_type": "execute_result",
          "data": {
            "application/vnd.google.colaboratory.intrinsic+json": {
              "type": "string"
            },
            "text/plain": [
              "'sejak awal melihat tampilan wa sebenarnya aku melihat banyak kesalahan  orang india kalau mbikin app memang punya ciri khas seperti ini   seluruh tampilan nya tidak semua benar benar privat   ada admin sentral server nya wa yang bisa mindah mindah video privat langsung di copy dan di share di twitter   facebook   instagram dan lain sebagainya  admin sentral server pesan indosat juga kayak gitu sejak jaman sms sms yang diamati badan intelijen rencana rencana intimidasi dan terorisme antara bercan'"
            ]
          },
          "metadata": {},
          "execution_count": 17
        }
      ]
    },
    {
      "cell_type": "code",
      "metadata": {
        "colab": {
          "base_uri": "https://localhost:8080/",
          "height": 193
        },
        "id": "rIRfO9AvOIZm",
        "outputId": "9e6a4ce1-c555-40cb-8830-fd0f2450524c"
      },
      "source": [
        "# Menghapus white space\n",
        "print(teks[11])\n",
        "\n",
        "teks[11]=re.sub('[\\s]+', ' ', teks[11])\n",
        "teks[11]"
      ],
      "id": "rIRfO9AvOIZm",
      "execution_count": 18,
      "outputs": [
        {
          "output_type": "stream",
          "name": "stdout",
          "text": [
            "sejak awal melihat tampilan wa sebenarnya aku melihat banyak kesalahan  orang india kalau mbikin app memang punya ciri khas seperti ini   seluruh tampilan nya tidak semua benar benar privat   ada admin sentral server nya wa yang bisa mindah mindah video privat langsung di copy dan di share di twitter   facebook   instagram dan lain sebagainya  admin sentral server pesan indosat juga kayak gitu sejak jaman sms sms yang diamati badan intelijen rencana rencana intimidasi dan terorisme antara bercan\n"
          ]
        },
        {
          "output_type": "stream",
          "name": "stderr",
          "text": [
            "/usr/local/lib/python3.7/dist-packages/ipykernel_launcher.py:4: SettingWithCopyWarning: \n",
            "A value is trying to be set on a copy of a slice from a DataFrame\n",
            "\n",
            "See the caveats in the documentation: https://pandas.pydata.org/pandas-docs/stable/user_guide/indexing.html#returning-a-view-versus-a-copy\n",
            "  after removing the cwd from sys.path.\n"
          ]
        },
        {
          "output_type": "execute_result",
          "data": {
            "application/vnd.google.colaboratory.intrinsic+json": {
              "type": "string"
            },
            "text/plain": [
              "'sejak awal melihat tampilan wa sebenarnya aku melihat banyak kesalahan orang india kalau mbikin app memang punya ciri khas seperti ini seluruh tampilan nya tidak semua benar benar privat ada admin sentral server nya wa yang bisa mindah mindah video privat langsung di copy dan di share di twitter facebook instagram dan lain sebagainya admin sentral server pesan indosat juga kayak gitu sejak jaman sms sms yang diamati badan intelijen rencana rencana intimidasi dan terorisme antara bercan'"
            ]
          },
          "metadata": {},
          "execution_count": 18
        }
      ]
    },
    {
      "cell_type": "markdown",
      "metadata": {
        "id": "K-Fhw3WCw3UQ"
      },
      "source": [
        "Membuat Fungsi untuk Melakukan Case Folding"
      ],
      "id": "K-Fhw3WCw3UQ"
    },
    {
      "cell_type": "code",
      "metadata": {
        "id": "7LVwHNFjszPX"
      },
      "source": [
        "import re, string, unicodedata \n",
        "def Case_Folding(text):\n",
        "    # Hapus non-ascii\n",
        "    text = unicodedata.normalize('NFKD', text).encode('ascii', 'ignore').decode('utf-8', 'ignore')\n",
        "    \n",
        "    # Menghapus Tanda Baca\n",
        "    text = re.sub(r'[^\\w]|_',' ', text)\n",
        "    \n",
        "    # Menghapus Angka\n",
        "    text = re.sub(\"\\S*\\d\\S*\", \"\", text).strip()\n",
        "    text = re.sub(r\"\\b\\d+\\b\", \" \", text)\n",
        "    \n",
        "    # Mengubah text menjadi lowercase\n",
        "    text = text.lower()\n",
        "    \n",
        "    # Menghapus white space\n",
        "    text = re.sub('[\\s]+', ' ', text)\n",
        "    \n",
        "    return text"
      ],
      "id": "7LVwHNFjszPX",
      "execution_count": 19,
      "outputs": []
    },
    {
      "cell_type": "markdown",
      "metadata": {
        "id": "1hKe7Zdmyhkz"
      },
      "source": [
        "## Lemmatization\n",
        "\n",
        "Proses pengurangan berbagai bentuk kata yang berubah menjadi satu bentuk untuk memudahkan analisis. e.g. kata dari “swim”, “swimming”, “swims”, “swam”, adalah semua bentuk dari “swim”. Nah jadi lemma dari semua kata-kata tersebut adalah “swim”.\n",
        "\n",
        "Untuk data teks berbahasa Indonesia, kita akan menggunakan library `nlp-id`. Pertama kita harus menginstallnya terlebih dahulu."
      ],
      "id": "1hKe7Zdmyhkz"
    },
    {
      "cell_type": "markdown",
      "metadata": {
        "id": "5x0MHDmiyMdm",
        "outputId": "8efdab5e-7619-4f3a-d71a-ae635aec5ee8"
      },
      "source": [
        "``` python\n",
        "!pip install nlp-id    \n",
        "```"
      ],
      "id": "5x0MHDmiyMdm"
    },
    {
      "cell_type": "code",
      "metadata": {
        "colab": {
          "base_uri": "https://localhost:8080/"
        },
        "id": "EVu2LKcuJLzk",
        "outputId": "cc61acc1-cf37-4bde-8f47-463975e27b56"
      },
      "source": [
        "!pip install nlp-id "
      ],
      "id": "EVu2LKcuJLzk",
      "execution_count": 21,
      "outputs": [
        {
          "output_type": "stream",
          "name": "stdout",
          "text": [
            "Collecting nlp-id\n",
            "  Downloading nlp_id-0.1.12.0.tar.gz (7.9 MB)\n",
            "\u001b[K     |████████████████████████████████| 7.9 MB 1.6 MB/s \n",
            "\u001b[?25hCollecting scikit-learn==0.22\n",
            "  Downloading scikit_learn-0.22-cp37-cp37m-manylinux1_x86_64.whl (7.0 MB)\n",
            "\u001b[K     |████████████████████████████████| 7.0 MB 13.2 MB/s \n",
            "\u001b[?25hCollecting nltk==3.4.5\n",
            "  Downloading nltk-3.4.5.zip (1.5 MB)\n",
            "\u001b[K     |████████████████████████████████| 1.5 MB 48.9 MB/s \n",
            "\u001b[?25hCollecting wget==3.2\n",
            "  Downloading wget-3.2.zip (10 kB)\n",
            "Requirement already satisfied: six in /usr/local/lib/python3.7/dist-packages (from nltk==3.4.5->nlp-id) (1.15.0)\n",
            "Requirement already satisfied: scipy>=0.17.0 in /usr/local/lib/python3.7/dist-packages (from scikit-learn==0.22->nlp-id) (1.4.1)\n",
            "Requirement already satisfied: joblib>=0.11 in /usr/local/lib/python3.7/dist-packages (from scikit-learn==0.22->nlp-id) (1.0.1)\n",
            "Requirement already satisfied: numpy>=1.11.0 in /usr/local/lib/python3.7/dist-packages (from scikit-learn==0.22->nlp-id) (1.19.5)\n",
            "Building wheels for collected packages: nlp-id, nltk, wget\n",
            "  Building wheel for nlp-id (setup.py) ... \u001b[?25l\u001b[?25hdone\n",
            "  Created wheel for nlp-id: filename=nlp_id-0.1.12.0-py3-none-any.whl size=8074105 sha256=4fe31d3a844c9988e80d9d0b58e5e31b21356082d83426f313d8fe788c28f700\n",
            "  Stored in directory: /root/.cache/pip/wheels/b2/50/48/da59531125bd94f48dfe66140f41d8fd8a4f04062050375013\n",
            "  Building wheel for nltk (setup.py) ... \u001b[?25l\u001b[?25hdone\n",
            "  Created wheel for nltk: filename=nltk-3.4.5-py3-none-any.whl size=1449922 sha256=5875a5917bfed0d80d8d2dd52345c2c785485cc8a018ccb61e3fbcd1f30306ae\n",
            "  Stored in directory: /root/.cache/pip/wheels/48/8b/7f/473521e0c731c6566d631b281f323842bbda9bd819eb9a3ead\n",
            "  Building wheel for wget (setup.py) ... \u001b[?25l\u001b[?25hdone\n",
            "  Created wheel for wget: filename=wget-3.2-py3-none-any.whl size=9672 sha256=9204a788d13cc13259f9743ec4938acd658f2447eccda2d760c8c604367f3d41\n",
            "  Stored in directory: /root/.cache/pip/wheels/a1/b6/7c/0e63e34eb06634181c63adacca38b79ff8f35c37e3c13e3c02\n",
            "Successfully built nlp-id nltk wget\n",
            "Installing collected packages: wget, scikit-learn, nltk, nlp-id\n",
            "  Attempting uninstall: scikit-learn\n",
            "    Found existing installation: scikit-learn 0.22.2.post1\n",
            "    Uninstalling scikit-learn-0.22.2.post1:\n",
            "      Successfully uninstalled scikit-learn-0.22.2.post1\n",
            "  Attempting uninstall: nltk\n",
            "    Found existing installation: nltk 3.2.5\n",
            "    Uninstalling nltk-3.2.5:\n",
            "      Successfully uninstalled nltk-3.2.5\n",
            "Successfully installed nlp-id-0.1.12.0 nltk-3.4.5 scikit-learn-0.22 wget-3.2\n"
          ]
        }
      ]
    },
    {
      "cell_type": "markdown",
      "metadata": {
        "id": "DqN3XL7jHlyr"
      },
      "source": [
        "Kemudian kita akan menggunakan fungsi `Lemmatizer()` untuk melakukan lemmatisasi data teks."
      ],
      "id": "DqN3XL7jHlyr"
    },
    {
      "cell_type": "code",
      "metadata": {
        "colab": {
          "base_uri": "https://localhost:8080/",
          "height": 193
        },
        "id": "4WiD2Sl6PifY",
        "outputId": "b8736afd-c248-4848-93ca-18f4a26b17d6"
      },
      "source": [
        "from nlp_id.lemmatizer import Lemmatizer \n",
        "lemmatizer = Lemmatizer() \n",
        "print(teks[11])\n",
        "teks[11]=lemmatizer.lemmatize(teks[11]) \n",
        "teks[11]"
      ],
      "id": "4WiD2Sl6PifY",
      "execution_count": 22,
      "outputs": [
        {
          "output_type": "stream",
          "name": "stdout",
          "text": [
            "sejak awal melihat tampilan wa sebenarnya aku melihat banyak kesalahan orang india kalau mbikin app memang punya ciri khas seperti ini seluruh tampilan nya tidak semua benar benar privat ada admin sentral server nya wa yang bisa mindah mindah video privat langsung di copy dan di share di twitter facebook instagram dan lain sebagainya admin sentral server pesan indosat juga kayak gitu sejak jaman sms sms yang diamati badan intelijen rencana rencana intimidasi dan terorisme antara bercan\n"
          ]
        },
        {
          "output_type": "stream",
          "name": "stderr",
          "text": [
            "/usr/local/lib/python3.7/dist-packages/ipykernel_launcher.py:4: SettingWithCopyWarning: \n",
            "A value is trying to be set on a copy of a slice from a DataFrame\n",
            "\n",
            "See the caveats in the documentation: https://pandas.pydata.org/pandas-docs/stable/user_guide/indexing.html#returning-a-view-versus-a-copy\n",
            "  after removing the cwd from sys.path.\n"
          ]
        },
        {
          "output_type": "execute_result",
          "data": {
            "application/vnd.google.colaboratory.intrinsic+json": {
              "type": "string"
            },
            "text/plain": [
              "'sejak awal lihat tampil wa benar aku lihat banyak salah orang india kalau mbikin app memang punya ciri khas seperti ini seluruh tampil nya tidak semua benar benar privat ada admin sentral server nya wa yang bisa mindah mindah video privat langsung di copy dan di share di twitter facebook instagram dan lain bagai admin sentral server pesan indosat juga kayak gitu sejak jaman sms sms yang amat badan intelijen rencana rencana intimidasi dan terorisme antara bercan'"
            ]
          },
          "metadata": {},
          "execution_count": 22
        }
      ]
    },
    {
      "cell_type": "markdown",
      "metadata": {
        "id": "aZuxFiwR8_XN"
      },
      "source": [
        "## Stemming\n",
        "\n",
        "Stemming merupakan suatu proses untuk menemukan kata dasar dari sebuah kata. Dengan menghilangkan semua imbuhan (affixes) baik yang terdiri dari awalan (prefixes), sisipan (infixes), akhiran (suffixes) dan confixes (kombinasi dari awalan dan akhiran) pada kata turunan. Stemming digunakan untuk mengganti bentuk dari suatu kata menjadi kata dasar dari kata tersebut yang sesuai dengan struktur morfologi Bahasa Indonesia yang baik dan benar. \n",
        "\n",
        "Untuk data teks berbahasa Indonesia, kita akan menggunakan library `PySastrawi`. Pertama kita harus menginstallnya terlebih dahulu."
      ],
      "id": "aZuxFiwR8_XN"
    },
    {
      "cell_type": "markdown",
      "metadata": {
        "id": "j1fGPeDOztRc",
        "outputId": "e0e7d4b6-b0dd-4e3b-f9eb-1cc0173081db"
      },
      "source": [
        "```python\n",
        "!pip install PySastrawi\n",
        "```"
      ],
      "id": "j1fGPeDOztRc"
    },
    {
      "cell_type": "code",
      "metadata": {
        "colab": {
          "base_uri": "https://localhost:8080/"
        },
        "id": "Ng2_z4wwJUlz",
        "outputId": "61ac652c-d697-466d-dab8-ac91fca42966"
      },
      "source": [
        "!pip install PySastrawi"
      ],
      "id": "Ng2_z4wwJUlz",
      "execution_count": 23,
      "outputs": [
        {
          "output_type": "stream",
          "name": "stdout",
          "text": [
            "Collecting PySastrawi\n",
            "  Downloading PySastrawi-1.2.0-py2.py3-none-any.whl (210 kB)\n",
            "\u001b[K     |████████████████████████████████| 210 kB 1.9 MB/s \n",
            "\u001b[?25hInstalling collected packages: PySastrawi\n",
            "Successfully installed PySastrawi-1.2.0\n"
          ]
        }
      ]
    },
    {
      "cell_type": "markdown",
      "metadata": {
        "id": "oW4aDCTwHlyu"
      },
      "source": [
        "Kemudian kita akan menggunakan fungsi `StemmerFactory()` untuk melakukan stemming."
      ],
      "id": "oW4aDCTwHlyu"
    },
    {
      "cell_type": "code",
      "metadata": {
        "colab": {
          "base_uri": "https://localhost:8080/",
          "height": 176
        },
        "id": "QzbAftDzyXzr",
        "outputId": "57a1a3ba-687e-4220-c87d-5db94f9f5b52"
      },
      "source": [
        "from Sastrawi.Stemmer.StemmerFactory import StemmerFactory\n",
        "\n",
        "# Membuat stemmer\n",
        "factory = StemmerFactory()\n",
        "stemmer = factory.create_stemmer()\n",
        "print(teks[12])\n",
        "\n",
        "teks[12] = stemmer.stem(teks[12])\n",
        "teks[12]"
      ],
      "id": "QzbAftDzyXzr",
      "execution_count": 24,
      "outputs": [
        {
          "output_type": "stream",
          "name": "stdout",
          "text": [
            "Semenjak saya memakai ini saya merasa bahwa dirinya saya mulai enek dengan apk ini jadi saya suka pakai untuk belajar online MAKASIHYA (WHATSAPP) sudah membantu saya 👍🏻👍🏻😎 semoga yang baca ini bisa bermanfaat bagi kita semua tahu bahwa (WHATSAPP) ini bisa bermanfaat untuk belajar online (MAKASIHYA)\n"
          ]
        },
        {
          "output_type": "stream",
          "name": "stderr",
          "text": [
            "/usr/local/lib/python3.7/dist-packages/ipykernel_launcher.py:8: SettingWithCopyWarning: \n",
            "A value is trying to be set on a copy of a slice from a DataFrame\n",
            "\n",
            "See the caveats in the documentation: https://pandas.pydata.org/pandas-docs/stable/user_guide/indexing.html#returning-a-view-versus-a-copy\n",
            "  \n"
          ]
        },
        {
          "output_type": "execute_result",
          "data": {
            "application/vnd.google.colaboratory.intrinsic+json": {
              "type": "string"
            },
            "text/plain": [
              "'semenjak saya pakai ini saya rasa bahwa diri saya mulai enek dengan apk ini jadi saya suka pakai untuk ajar online makasihya whatsapp sudah bantu saya moga yang baca ini bisa manfaat bagi kita semua tahu bahwa whatsapp ini bisa manfaat untuk ajar online makasihya'"
            ]
          },
          "metadata": {},
          "execution_count": 24
        }
      ]
    },
    {
      "cell_type": "markdown",
      "metadata": {
        "id": "zON48uZVs6_o"
      },
      "source": [
        "## Slang Words\n",
        "\n",
        "Slang adalah kata-kata yang tidak baku secara bahasa namun sering dipakai oleh pengguna bahasa. Kita perlu melakukan standarisasi untuk slang.\n"
      ],
      "id": "zON48uZVs6_o"
    },
    {
      "cell_type": "code",
      "metadata": {
        "id": "gbyY7GHw0j9r"
      },
      "source": [
        "slang_dictionary = pd.read_csv('https://raw.githubusercontent.com/nikovs/data-science-portfolio/master/topic%20modelling/colloquial-indonesian-lexicon.csv')\n",
        "slang_dict = pd.Series(slang_dictionary['formal'].values,index=slang_dictionary['slang']).to_dict()"
      ],
      "id": "gbyY7GHw0j9r",
      "execution_count": 25,
      "outputs": []
    },
    {
      "cell_type": "code",
      "metadata": {
        "id": "ZOgTQRMd1H_x"
      },
      "source": [
        "def Slangwords(text):\n",
        "    for word in text.split():\n",
        "        if word in slang_dict.keys():\n",
        "            text = text.replace(word, slang_dict[word])\n",
        "    return text"
      ],
      "id": "ZOgTQRMd1H_x",
      "execution_count": 26,
      "outputs": []
    },
    {
      "cell_type": "code",
      "metadata": {
        "colab": {
          "base_uri": "https://localhost:8080/",
          "height": 193
        },
        "id": "_TsMUd5M1Ra0",
        "outputId": "435b0698-b5a5-4088-a3cf-3d4436555a7e"
      },
      "source": [
        "print(teks[0])\n",
        "\n",
        "teks[0]=Slangwords(teks[0]) \n",
        "teks[0]"
      ],
      "id": "_TsMUd5M1Ra0",
      "execution_count": 27,
      "outputs": [
        {
          "output_type": "stream",
          "name": "stdout",
          "text": [
            "bagus banget!!!!!!!!!!!!!!!!!!!!!!!!!!!!!!!!!!!!!!!!!!!!!!!!!!!!!!!!!!!!!!!!!!!!!!!!!!!!!!!!!!!!!!!!!!!!!!!!!!!!!!!!!!!!!!!!!!!!!!!!!!!!!!!!!!!!!!!!!!!!!!!!!!!!!!!!!!!!!!!!!!!!!!!!!!!!!!!!!!!!!!!!!!!!!!!!!!!!!!!!!!!!!!!!!!!!!!!!!!!!!!!!!!!!!!!!!!!!!!!!!!!!!!!!!!!!!!!!!!!!!!!!!!!!!!!!!!!!!!!!!!!!!!!!apa liat ke bawa ha\n"
          ]
        },
        {
          "output_type": "stream",
          "name": "stderr",
          "text": [
            "/usr/local/lib/python3.7/dist-packages/ipykernel_launcher.py:3: SettingWithCopyWarning: \n",
            "A value is trying to be set on a copy of a slice from a DataFrame\n",
            "\n",
            "See the caveats in the documentation: https://pandas.pydata.org/pandas-docs/stable/user_guide/indexing.html#returning-a-view-versus-a-copy\n",
            "  This is separate from the ipykernel package so we can avoid doing imports until\n"
          ]
        },
        {
          "output_type": "execute_result",
          "data": {
            "application/vnd.google.colaboratory.intrinsic+json": {
              "type": "string"
            },
            "text/plain": [
              "'bagus banget!!!!!!!!!!!!!!!!!!!!!!!!!!!!!!!!!!!!!!!!!!!!!!!!!!!!!!!!!!!!!!!!!!!!!!!!!!!!!!!!!!!!!!!!!!!!!!!!!!!!!!!!!!!!!!!!!!!!!!!!!!!!!!!!!!!!!!!!!!!!!!!!!!!!!!!!!!!!!!!!!!!!!!!!!!!!!!!!!!!!!!!!!!!!!!!!!!!!!!!!!!!!!!!!!!!!!!!!!!!!!!!!!!!!!!!!!!!!!!!!!!!!!!!!!!!!!!!!!!!!!!!!!!!!!!!!!!!!!!!!!!!!!!!!apa lihat ke bawa ha'"
            ]
          },
          "metadata": {},
          "execution_count": 27
        }
      ]
    },
    {
      "cell_type": "markdown",
      "metadata": {
        "id": "gVGt577V8_XS"
      },
      "source": [
        "## Stopword"
      ],
      "id": "gVGt577V8_XS"
    },
    {
      "cell_type": "markdown",
      "metadata": {
        "id": "3DsIKA3L8_XS"
      },
      "source": [
        "Stop words adalah kata umum (common words) yang biasanya muncul dalam jumlah besar dan dianggap tidak memiliki makna.  Stop words umumnya dimanfaatkan dalam task information retrieval, termasuk oleh Google (penjelasannya di sini).  Contoh stop words untuk bahasa Inggris diantaranya “of”, “the”.  Sedangkan untuk bahasa Indonesia diantaranya “yang”, “di”, “ke”."
      ],
      "id": "3DsIKA3L8_XS"
    },
    {
      "cell_type": "code",
      "metadata": {
        "id": "NUkzRYcw8_XT"
      },
      "source": [
        "from nlp_id.stopword import StopWord \n",
        "stopword = StopWord() "
      ],
      "id": "NUkzRYcw8_XT",
      "execution_count": 28,
      "outputs": []
    },
    {
      "cell_type": "code",
      "metadata": {
        "colab": {
          "base_uri": "https://localhost:8080/",
          "height": 176
        },
        "id": "VLuAcfbsQApk",
        "outputId": "33b26f98-2dd4-4db0-a276-4a0fe80f62c1"
      },
      "source": [
        "from nlp_id.stopword import StopWord \n",
        "print(teks[11])\n",
        "\n",
        "teks[11]=stopword.remove_stopword(teks[11])\n",
        "teks[11]"
      ],
      "id": "VLuAcfbsQApk",
      "execution_count": 29,
      "outputs": [
        {
          "output_type": "stream",
          "name": "stdout",
          "text": [
            "sejak awal lihat tampil wa benar aku lihat banyak salah orang india kalau mbikin app memang punya ciri khas seperti ini seluruh tampil nya tidak semua benar benar privat ada admin sentral server nya wa yang bisa mindah mindah video privat langsung di copy dan di share di twitter facebook instagram dan lain bagai admin sentral server pesan indosat juga kayak gitu sejak jaman sms sms yang amat badan intelijen rencana rencana intimidasi dan terorisme antara bercan\n"
          ]
        },
        {
          "output_type": "stream",
          "name": "stderr",
          "text": [
            "/usr/local/lib/python3.7/dist-packages/ipykernel_launcher.py:4: SettingWithCopyWarning: \n",
            "A value is trying to be set on a copy of a slice from a DataFrame\n",
            "\n",
            "See the caveats in the documentation: https://pandas.pydata.org/pandas-docs/stable/user_guide/indexing.html#returning-a-view-versus-a-copy\n",
            "  after removing the cwd from sys.path.\n"
          ]
        },
        {
          "output_type": "execute_result",
          "data": {
            "application/vnd.google.colaboratory.intrinsic+json": {
              "type": "string"
            },
            "text/plain": [
              "'lihat tampil wa lihat salah orang india mbikin app khas tampil privat admin sentral server wa mindah mindah video privat langsung copy share twitter facebook instagram admin sentral server pesan indosat kayak jaman sms sms badan intelijen rencana rencana intimidasi terorisme bercan'"
            ]
          },
          "metadata": {},
          "execution_count": 29
        }
      ]
    },
    {
      "cell_type": "markdown",
      "metadata": {
        "id": "CAlskIRe1eJW"
      },
      "source": [
        "## Unwanted Words"
      ],
      "id": "CAlskIRe1eJW"
    },
    {
      "cell_type": "markdown",
      "metadata": {
        "id": "BHnsauQtHly4"
      },
      "source": [
        "Unwanted words adalah kata-kata yang berada di luar beberapa hal di atas namun perlu untuk kita hapus. Kita bisa mendefinisikan sendiri kata-kata atau karakter yang ingin kita hilangkan dari data teks yang kita peroleh."
      ],
      "id": "BHnsauQtHly4"
    },
    {
      "cell_type": "code",
      "metadata": {
        "id": "eaxO9CLL1lk2"
      },
      "source": [
        "unwanted_words = ['sy', 'karna', 'gue', 'pun', 'nya', 'yg', 'gw', 'ke', 'gak', 'ga', 'buat', 'selama', 'akan', 'gua', 'gw', \n",
        "                 'gue', 'dampak', 'tau', 'banget', 'mohon', 'dii', 'kalo', 'dll', 'kadang', 'ya', 'coba', 'langsung',\n",
        "                 'cuman', 'cuma', 'biar', 'an', 'kayak', 'dar', 'bikin', 'ssaja', 'sih', 'si', 'situ', 'e', 'utk', 'pake',\n",
        "                 'diin', 'serba', 'ampun', 'untuj', 'deh', 'jd', 'ku', 'total', 'lg', 'arti', 'terimakasih','and', 'udah',\n",
        "                 'kali', 'dasar', 'tiada', 'indonesia', 'pas', 'tidiak', 'the', 'http', 'co', 'com', 'di', 'https', 'kak',\n",
        "                 'dr', 'aja', 'klo', 'tp', 'gitu', 'udh', 'min', 'halo', 'tidak', 'bisa', 'sudah', 'yg', 'apa', 'malah',\n",
        "                 'masih', 'mau', 'kok', 'belum', 'buat', 'atau', 'sama', 'gak', 'ga', 'udah', 'banyak', 'selalu', 'masuk',\n",
        "                 'atau', 'belum', 'ini', 'tp', 'ke', 'ya', 'itu', 'aja', 'saja', 'juga', 'aplikasi', 'my pertamina',\n",
        "                 'mypertamina', 'maaf', 'gk', 'tdk', 'trus', 'jg', 'nih', 'sdh', 'mulu', 'padahal', 'kenapa', 'gimana',\n",
        "                 'gmn', 'sih', 'bs', 'suruh', 'tolong', 'dah', 'bagus', 'my', 'pertamina', 'jadi', 'kalau', 'engenggakk',\n",
        "                 'engenggak', 'pakai', 'bilang', 'mending', 'hasil', 'orang', 'muncul', 'ssudah', 'kasih', 'mala', 'malah']"
      ],
      "id": "eaxO9CLL1lk2",
      "execution_count": 30,
      "outputs": []
    },
    {
      "cell_type": "code",
      "metadata": {
        "colab": {
          "base_uri": "https://localhost:8080/"
        },
        "id": "PHE5qBrT19iT",
        "outputId": "332f521d-541d-4819-963d-703131a9b49a"
      },
      "source": [
        "import nltk\n",
        "from nltk import word_tokenize, sent_tokenize\n",
        "nltk.download('punkt')\n",
        "\n",
        "def RemoveUnwantedwords(text):\n",
        "    word_tokens = word_tokenize(text)\n",
        "    filtered_sentence = [word for word in word_tokens if not word in unwanted_words]\n",
        "    return ' '.join(filtered_sentence)"
      ],
      "id": "PHE5qBrT19iT",
      "execution_count": 31,
      "outputs": [
        {
          "output_type": "stream",
          "name": "stderr",
          "text": [
            "[nltk_data] Downloading package punkt to /root/nltk_data...\n",
            "[nltk_data]   Unzipping tokenizers/punkt.zip.\n"
          ]
        }
      ]
    },
    {
      "cell_type": "code",
      "metadata": {
        "colab": {
          "base_uri": "https://localhost:8080/",
          "height": 210
        },
        "id": "fb2bfQjr2H_F",
        "outputId": "b8677ed0-dc17-4d63-c9f5-00da514fc3da"
      },
      "source": [
        "print(teks[0])\n",
        "\n",
        "teks[0]=RemoveUnwantedwords(teks[0])\n",
        "teks[0]"
      ],
      "id": "fb2bfQjr2H_F",
      "execution_count": 32,
      "outputs": [
        {
          "output_type": "stream",
          "name": "stdout",
          "text": [
            "bagus banget!!!!!!!!!!!!!!!!!!!!!!!!!!!!!!!!!!!!!!!!!!!!!!!!!!!!!!!!!!!!!!!!!!!!!!!!!!!!!!!!!!!!!!!!!!!!!!!!!!!!!!!!!!!!!!!!!!!!!!!!!!!!!!!!!!!!!!!!!!!!!!!!!!!!!!!!!!!!!!!!!!!!!!!!!!!!!!!!!!!!!!!!!!!!!!!!!!!!!!!!!!!!!!!!!!!!!!!!!!!!!!!!!!!!!!!!!!!!!!!!!!!!!!!!!!!!!!!!!!!!!!!!!!!!!!!!!!!!!!!!!!!!!!!!apa lihat ke bawa ha\n"
          ]
        },
        {
          "output_type": "stream",
          "name": "stderr",
          "text": [
            "/usr/local/lib/python3.7/dist-packages/ipykernel_launcher.py:3: SettingWithCopyWarning: \n",
            "A value is trying to be set on a copy of a slice from a DataFrame\n",
            "\n",
            "See the caveats in the documentation: https://pandas.pydata.org/pandas-docs/stable/user_guide/indexing.html#returning-a-view-versus-a-copy\n",
            "  This is separate from the ipykernel package so we can avoid doing imports until\n"
          ]
        },
        {
          "output_type": "execute_result",
          "data": {
            "application/vnd.google.colaboratory.intrinsic+json": {
              "type": "string"
            },
            "text/plain": [
              "'! ! ! ! ! ! ! ! ! ! ! ! ! ! ! ! ! ! ! ! ! ! ! ! ! ! ! ! ! ! ! ! ! ! ! ! ! ! ! ! ! ! ! ! ! ! ! ! ! ! ! ! ! ! ! ! ! ! ! ! ! ! ! ! ! ! ! ! ! ! ! ! ! ! ! ! ! ! ! ! ! ! ! ! ! ! ! ! ! ! ! ! ! ! ! ! ! ! ! ! ! ! ! ! ! ! ! ! ! ! ! ! ! ! ! ! ! ! ! ! ! ! ! ! ! ! ! ! ! ! ! ! ! ! ! ! ! ! ! ! ! ! ! ! ! ! ! ! ! ! ! ! ! ! ! ! ! ! ! ! ! ! ! ! ! ! ! ! ! ! ! ! ! ! ! ! ! ! ! ! ! ! ! ! ! ! ! ! ! ! ! ! ! ! ! ! ! ! ! ! ! ! ! ! ! ! ! ! ! ! ! ! ! ! ! ! ! ! ! ! ! ! ! ! ! ! ! ! ! ! ! ! ! ! ! ! ! ! ! ! ! ! ! ! ! ! ! ! ! ! ! ! ! ! ! ! ! ! ! ! ! ! ! ! ! ! ! ! ! ! ! ! ! ! ! ! ! ! ! ! ! ! ! ! ! ! ! ! lihat bawa ha'"
            ]
          },
          "metadata": {},
          "execution_count": 32
        }
      ]
    },
    {
      "cell_type": "markdown",
      "metadata": {
        "id": "rLeMXFq25Z7z"
      },
      "source": [
        "## Menerapkan Semua Langkah"
      ],
      "id": "rLeMXFq25Z7z"
    },
    {
      "cell_type": "code",
      "metadata": {
        "id": "6jxqjzry5fHo",
        "colab": {
          "base_uri": "https://localhost:8080/"
        },
        "outputId": "be17f726-d428-4bd0-8488-cd0e7b83c741"
      },
      "source": [
        "Hasil_Scrapping['content_processed'] = ''\n",
        "\n",
        "for i, row in Hasil_Scrapping.iterrows():\n",
        "    content = Hasil_Scrapping.content[i]\n",
        "    result = Case_Folding(content)\n",
        "    result = lemmatizer.lemmatize(result)\n",
        "    result = stemmer.stem(result)\n",
        "    result = Slangwords(result)\n",
        "    result = stopword.remove_stopword(result)\n",
        "    result = RemoveUnwantedwords(result)\n",
        "    Hasil_Scrapping['content_processed'][i] = result"
      ],
      "id": "6jxqjzry5fHo",
      "execution_count": 33,
      "outputs": [
        {
          "output_type": "stream",
          "name": "stderr",
          "text": [
            "/usr/local/lib/python3.7/dist-packages/ipykernel_launcher.py:11: SettingWithCopyWarning: \n",
            "A value is trying to be set on a copy of a slice from a DataFrame\n",
            "\n",
            "See the caveats in the documentation: https://pandas.pydata.org/pandas-docs/stable/user_guide/indexing.html#returning-a-view-versus-a-copy\n",
            "  # This is added back by InteractiveShellApp.init_path()\n"
          ]
        }
      ]
    },
    {
      "cell_type": "code",
      "metadata": {
        "id": "SWBBw0FbHly-",
        "colab": {
          "base_uri": "https://localhost:8080/",
          "height": 424
        },
        "outputId": "601c9c28-9ded-4c5c-cd98-6d88b5d34b05"
      },
      "source": [
        "Hasil_Scrapping[['content', 'content_processed']]"
      ],
      "id": "SWBBw0FbHly-",
      "execution_count": 34,
      "outputs": [
        {
          "output_type": "execute_result",
          "data": {
            "text/html": [
              "<div>\n",
              "<style scoped>\n",
              "    .dataframe tbody tr th:only-of-type {\n",
              "        vertical-align: middle;\n",
              "    }\n",
              "\n",
              "    .dataframe tbody tr th {\n",
              "        vertical-align: top;\n",
              "    }\n",
              "\n",
              "    .dataframe thead th {\n",
              "        text-align: right;\n",
              "    }\n",
              "</style>\n",
              "<table border=\"1\" class=\"dataframe\">\n",
              "  <thead>\n",
              "    <tr style=\"text-align: right;\">\n",
              "      <th></th>\n",
              "      <th>content</th>\n",
              "      <th>content_processed</th>\n",
              "    </tr>\n",
              "  </thead>\n",
              "  <tbody>\n",
              "    <tr>\n",
              "      <th>0</th>\n",
              "      <td>! ! ! ! ! ! ! ! ! ! ! ! ! ! ! ! ! ! ! ! ! ! ! ...</td>\n",
              "      <td>lihat bawa ha</td>\n",
              "    </tr>\n",
              "    <tr>\n",
              "      <th>1</th>\n",
              "      <td>Hallo, saya sebagai pengguna aplikasi ini sang...</td>\n",
              "      <td>rugi akun perangkat kenal verifikasi ulang ver...</td>\n",
              "    </tr>\n",
              "    <tr>\n",
              "      <th>2</th>\n",
              "      <td>Bagus bangetttttt jozzzz!!!!!!!!!!!!!!!!!!!!!!...</td>\n",
              "      <td>jozzzz amazing suka hebat</td>\n",
              "    </tr>\n",
              "    <tr>\n",
              "      <th>3</th>\n",
              "      <td>Halo Whatsapp !!, kenapa Video atau Foto yg su...</td>\n",
              "      <td>whatsapp video foto kirim galeri telepon tangg...</td>\n",
              "    </tr>\n",
              "    <tr>\n",
              "      <th>4</th>\n",
              "      <td>Aplikasi nya bagus sekali !!!!!!!!!!!!!!!!!!!!...</td>\n",
              "      <td></td>\n",
              "    </tr>\n",
              "    <tr>\n",
              "      <th>...</th>\n",
              "      <td>...</td>\n",
              "      <td>...</td>\n",
              "    </tr>\n",
              "    <tr>\n",
              "      <th>393</th>\n",
              "      <td>Alhamdulilla bisa di apdet lagi ,bisa chat sam...</td>\n",
              "      <td>alhamdulilla apdet chat teman teman moga abdet...</td>\n",
              "    </tr>\n",
              "    <tr>\n",
              "      <th>394</th>\n",
              "      <td>Apk WA skrg gak sprti dulu, skrg nmr sering te...</td>\n",
              "      <td>apk wa enggak nomor blokir wa wa blokir pesan ...</td>\n",
              "    </tr>\n",
              "    <tr>\n",
              "      <th>395</th>\n",
              "      <td>Saya sangat senang mendengar kalau ada aplikas...</td>\n",
              "      <td>senang dengar whatsapp keren kabar teman teman...</td>\n",
              "    </tr>\n",
              "    <tr>\n",
              "      <th>396</th>\n",
              "      <td>Bagussss baget aplikasi ini saya dapat berkomi...</td>\n",
              "      <td>berkomikasi teman pokok bantu baguss</td>\n",
              "    </tr>\n",
              "    <tr>\n",
              "      <th>397</th>\n",
              "      <td>Blokar blokir ga jelas., Apkx bagus bnget buat...</td>\n",
              "      <td>blokar blokir engengengenggakkkk apkx engengen...</td>\n",
              "    </tr>\n",
              "  </tbody>\n",
              "</table>\n",
              "<p>398 rows × 2 columns</p>\n",
              "</div>"
            ],
            "text/plain": [
              "                                               content                                  content_processed\n",
              "0    ! ! ! ! ! ! ! ! ! ! ! ! ! ! ! ! ! ! ! ! ! ! ! ...                                      lihat bawa ha\n",
              "1    Hallo, saya sebagai pengguna aplikasi ini sang...  rugi akun perangkat kenal verifikasi ulang ver...\n",
              "2    Bagus bangetttttt jozzzz!!!!!!!!!!!!!!!!!!!!!!...                          jozzzz amazing suka hebat\n",
              "3    Halo Whatsapp !!, kenapa Video atau Foto yg su...  whatsapp video foto kirim galeri telepon tangg...\n",
              "4    Aplikasi nya bagus sekali !!!!!!!!!!!!!!!!!!!!...                                                   \n",
              "..                                                 ...                                                ...\n",
              "393  Alhamdulilla bisa di apdet lagi ,bisa chat sam...  alhamdulilla apdet chat teman teman moga abdet...\n",
              "394  Apk WA skrg gak sprti dulu, skrg nmr sering te...  apk wa enggak nomor blokir wa wa blokir pesan ...\n",
              "395  Saya sangat senang mendengar kalau ada aplikas...  senang dengar whatsapp keren kabar teman teman...\n",
              "396  Bagussss baget aplikasi ini saya dapat berkomi...               berkomikasi teman pokok bantu baguss\n",
              "397  Blokar blokir ga jelas., Apkx bagus bnget buat...  blokar blokir engengengenggakkkk apkx engengen...\n",
              "\n",
              "[398 rows x 2 columns]"
            ]
          },
          "metadata": {},
          "execution_count": 34
        }
      ]
    }
  ]
}