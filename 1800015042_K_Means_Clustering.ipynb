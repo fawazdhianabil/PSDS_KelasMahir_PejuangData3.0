{
  "nbformat": 4,
  "nbformat_minor": 0,
  "metadata": {
    "colab": {
      "name": "1800015042_K_Means_Clustering.ipynb",
      "provenance": [],
      "include_colab_link": true
    },
    "kernelspec": {
      "display_name": "Python 3",
      "language": "python",
      "name": "python3"
    },
    "language_info": {
      "codemirror_mode": {
        "name": "ipython",
        "version": 3
      },
      "file_extension": ".py",
      "mimetype": "text/x-python",
      "name": "python",
      "nbconvert_exporter": "python",
      "pygments_lexer": "ipython3",
      "version": "3.8.5"
    }
  },
  "cells": [
    {
      "cell_type": "markdown",
      "metadata": {
        "id": "view-in-github",
        "colab_type": "text"
      },
      "source": [
        "<a href=\"https://colab.research.google.com/github/fawazdhianabil/PSDS_KelasMahir_PejuangData3.0/blob/main/1800015042_K_Means_Clustering.ipynb\" target=\"_parent\"><img src=\"https://colab.research.google.com/assets/colab-badge.svg\" alt=\"Open In Colab\"/></a>"
      ]
    },
    {
      "cell_type": "markdown",
      "metadata": {
        "id": "mKFUx3qASlOj"
      },
      "source": [
        "## Pembuka"
      ]
    },
    {
      "cell_type": "markdown",
      "metadata": {
        "id": "MS6nIrhhSlOs"
      },
      "source": [
        "Assalamu'alaikum warahmatullahi wabarakatuh.\n",
        "Puji syukur kehadirat Allah Subhana Wata'ala atas limpahan Rahmat dan HidayahNya kepada kita semua.\n",
        "Sholawat serta salam senantiasa tercurah limpahkan kepada baginda Muhammad Rasulullah Salallahualaihiwassalam.\n",
        "\n",
        "Halo para **Pejuang Data**. Selamat berjumpa di pertemuan kesembilan Program Training **Algoritma Machine Learning** Kelas Mahir.\n",
        "\n",
        "Pada pertemuan ini kamu akan belajar:\n",
        "* K Means Clustering\n",
        "* Algoritma K Means Clustering\n",
        "* Contoh K Means Clustering\n",
        "* Fungsi K Means Clustering\n",
        "* K Means Clustering dengan Scikit Learn"
      ]
    },
    {
      "cell_type": "markdown",
      "metadata": {
        "id": "n7xc8G9lbeuP"
      },
      "source": [
        "## K Means Clustering"
      ]
    },
    {
      "cell_type": "markdown",
      "metadata": {
        "id": "4lXHlRSjbeuT"
      },
      "source": [
        "K-means (MacQueen, 1967) adalah salah satu algoritma pembelajaran tanpa pengawasan paling sederhana yang memecahkan masalah pengelompokan yang terkenal. Prosedurnya mengikuti cara sederhana dan mudah untuk mengklasifikasikan kumpulan data yang diberikan melalui sejumlah cluster tertentu (asumsikan k cluster) tetap secara apriori. Ide utamanya adalah mendefinisikan k centroid, satu untuk setiap cluster. Centroid ini harus ditempatkan dengan cara yang licik karena lokasi yang berbeda menyebabkan hasil yang berbeda. Jadi, pilihan yang lebih baik adalah menempatkan mereka sejauh mungkin dari satu sama lain. Langkah selanjutnya adalah mengambil setiap titik milik kumpulan data yang diberikan dan mengaitkannya ke centroid terdekat. Ketika tidak ada poin yang tertunda, langkah pertama selesai dan pengelompokan awal dilakukan. Pada titik ini kita perlu menghitung ulang k centroid baru sebagai barycenter dari cluster yang dihasilkan dari langkah sebelumnya. Setelah kita memiliki k centroid baru ini, pengikatan baru harus dilakukan antara titik set data yang sama dan centroid baru terdekat. Sebuah loop telah dibuat. Sebagai hasil dari loop ini kita dapat melihat bahwa k centroid mengubah lokasinya langkah demi langkah sampai tidak ada lagi perubahan yang dilakukan. Dengan kata lain centroid tidak bergerak lagi.\n",
        "Terakhir, algoritma ini bertujuan untuk meminimalkan fungsi tujuan, dalam hal ini fungsi kesalahan kuadrat. Fungsi tujuan\n",
        "\n",
        "$$J=\\sum \\limits_{j=1} ^{k} \\sum \\limits_{i=1} ^{n} \\begin{Vmatrix} x_{i} ^{(j)} - c_{j}\\end{Vmatrix} ^{2} $$\n",
        "\n",
        "di mana $ \\begin{Vmatrix} x_{i} ^{(j)} - c_{j}\\end{Vmatrix} ^{2} $ adalah ukuran jarak yang dipilih antara titik data $ x_{i} ^{(j )} $ dan pusat cluster $c_{j}$, merupakan indikator jarak n titik data dari masing-masing pusat cluster.\n"
      ]
    },
    {
      "cell_type": "markdown",
      "metadata": {
        "id": "JGRSyyk8beuU"
      },
      "source": [
        "## Algoritma K-Means Clustering\n",
        "1. Tentukan parameter k\n",
        "2. Tentukan pusat cluster awal secara acak\n",
        "3. Hitung jarak setiap data ke pusat cluster\n",
        "4. Tetapkan cluster data berdasarkan pusat cluster terdekat\n",
        "5. Memperbarui pusat cluster dengan menghitung nilai rata-rata setiap cluster\n",
        "6. Ulangi langkah 3-5 sampai kriteria berhenti terpenuhi:\n",
        "     1. Jumlah iterasi tertentu tercapai, ATAU\n",
        "     2. Tidak ada (atau minimal) perbedaan anggota cluster pada dua iterasi terakhir, OR\n",
        "     3. Tidak ada (atau minimum) perbedaan pusat cluster, ATAU\n",
        "     4. Selisih SSE (Sum of Squared Error) minimum\n"
      ]
    },
    {
      "cell_type": "markdown",
      "metadata": {
        "id": "zpI65x7PbeuU"
      },
      "source": [
        "## Contoh Implementasi K Means"
      ]
    },
    {
      "cell_type": "markdown",
      "metadata": {
        "id": "4-DeWjIMbeuV"
      },
      "source": [
        "**0. Dataset**"
      ]
    },
    {
      "cell_type": "markdown",
      "metadata": {
        "id": "SdNp_9GkbeuV"
      },
      "source": [
        "| $$x_1$$ | $$x_2$$ |\n",
        "| :---: | :---: |\n",
        "|   1   |   1   |\n",
        "|   2   |   3   |\n",
        "|   7   |   8   |\n",
        "|   8   |   8   |"
      ]
    },
    {
      "cell_type": "code",
      "metadata": {
        "id": "4yMp7AnnbeuW"
      },
      "source": [
        "import pandas as pd\n",
        "import numpy as np\n",
        "import matplotlib.pyplot as plt"
      ],
      "execution_count": null,
      "outputs": []
    },
    {
      "cell_type": "code",
      "metadata": {
        "colab": {
          "base_uri": "https://localhost:8080/",
          "height": 174
        },
        "id": "556Irq6WbeuX",
        "outputId": "3e961b5a-e158-4d03-be70-868d4e1fcf2d"
      },
      "source": [
        "data=pd.DataFrame({\"x1\":[1,2,7,8], \"x2\":[1,3,8,8]})\n",
        "data"
      ],
      "execution_count": null,
      "outputs": [
        {
          "output_type": "execute_result",
          "data": {
            "text/html": [
              "<div>\n",
              "<style scoped>\n",
              "    .dataframe tbody tr th:only-of-type {\n",
              "        vertical-align: middle;\n",
              "    }\n",
              "\n",
              "    .dataframe tbody tr th {\n",
              "        vertical-align: top;\n",
              "    }\n",
              "\n",
              "    .dataframe thead th {\n",
              "        text-align: right;\n",
              "    }\n",
              "</style>\n",
              "<table border=\"1\" class=\"dataframe\">\n",
              "  <thead>\n",
              "    <tr style=\"text-align: right;\">\n",
              "      <th></th>\n",
              "      <th>x1</th>\n",
              "      <th>x2</th>\n",
              "    </tr>\n",
              "  </thead>\n",
              "  <tbody>\n",
              "    <tr>\n",
              "      <th>0</th>\n",
              "      <td>1</td>\n",
              "      <td>1</td>\n",
              "    </tr>\n",
              "    <tr>\n",
              "      <th>1</th>\n",
              "      <td>2</td>\n",
              "      <td>3</td>\n",
              "    </tr>\n",
              "    <tr>\n",
              "      <th>2</th>\n",
              "      <td>7</td>\n",
              "      <td>8</td>\n",
              "    </tr>\n",
              "    <tr>\n",
              "      <th>3</th>\n",
              "      <td>8</td>\n",
              "      <td>8</td>\n",
              "    </tr>\n",
              "  </tbody>\n",
              "</table>\n",
              "</div>"
            ],
            "text/plain": [
              "   x1  x2\n",
              "0   1   1\n",
              "1   2   3\n",
              "2   7   8\n",
              "3   8   8"
            ]
          },
          "metadata": {},
          "execution_count": 2
        }
      ]
    },
    {
      "cell_type": "code",
      "metadata": {
        "colab": {
          "base_uri": "https://localhost:8080/",
          "height": 282
        },
        "id": "4Vj5eAJobeuZ",
        "outputId": "2300624f-2f6d-42ed-ac4f-e8df94eebfef"
      },
      "source": [
        "plt.scatter(data.x1, data.x2)"
      ],
      "execution_count": null,
      "outputs": [
        {
          "output_type": "execute_result",
          "data": {
            "text/plain": [
              "<matplotlib.collections.PathCollection at 0x7f29b7dcbf50>"
            ]
          },
          "metadata": {},
          "execution_count": 3
        },
        {
          "output_type": "display_data",
          "data": {
            "image/png": "[encoded data removed]",
            "text/plain": [
              "<Figure size 432x288 with 1 Axes>"
            ]
          },
          "metadata": {
            "needs_background": "light"
          }
        }
      ]
    },
    {
      "cell_type": "markdown",
      "metadata": {
        "id": "R1aaLgNEbeua"
      },
      "source": [
        "**1. Tentukan parameternya $k$**\n",
        "\n",
        "$$k=2$$"
      ]
    },
    {
      "cell_type": "code",
      "metadata": {
        "id": "Q9grO0pybeua"
      },
      "source": [
        "k=2"
      ],
      "execution_count": null,
      "outputs": []
    },
    {
      "cell_type": "markdown",
      "metadata": {
        "id": "p--DUFysbeub"
      },
      "source": [
        "**2. Tentukan pusat cluster awal secara acak**"
      ]
    },
    {
      "cell_type": "markdown",
      "metadata": {
        "id": "hyXYU1BSbeuc"
      },
      "source": [
        "|Centroid | $$x_1$$ | $$x_2$$ |\n",
        "| :---:   | :---: | :---: |\n",
        "| $$c_1$$ |   1   |   1   |\n",
        "| $$c_2$$ |   2   |   3   |"
      ]
    },
    {
      "cell_type": "code",
      "metadata": {
        "colab": {
          "base_uri": "https://localhost:8080/"
        },
        "id": "MRnKiEc8beuc",
        "outputId": "bfa80e93-ce30-41c3-8e10-79613ac03c40"
      },
      "source": [
        "pusat_klaster = np.array([[1,1],[2,3]])\n",
        "pusat_klaster"
      ],
      "execution_count": null,
      "outputs": [
        {
          "output_type": "execute_result",
          "data": {
            "text/plain": [
              "array([[1, 1],\n",
              "       [2, 3]])"
            ]
          },
          "metadata": {},
          "execution_count": 5
        }
      ]
    },
    {
      "cell_type": "code",
      "metadata": {
        "id": "xr7BkhPabeud"
      },
      "source": [
        "# Determine the initial cluster center randomly\n",
        "import random\n",
        "def pusat_klaster_awal(k, data):\n",
        "    X=np.array(data)\n",
        "    n=len(X)\n",
        "    list_1=np.arange(0,n)\n",
        "    pusat_klaster_index = random.choices(list_1, k=k)\n",
        "    pusat_klaster=X[pusat_klaster_index]\n",
        "    return pusat_klaster"
      ],
      "execution_count": null,
      "outputs": []
    },
    {
      "cell_type": "markdown",
      "metadata": {
        "id": "ZkHM-AQobeue"
      },
      "source": [
        "**3. Hitung jarak setiap data ke pusat cluster**"
      ]
    },
    {
      "cell_type": "code",
      "metadata": {
        "id": "plWS5SDbbeue"
      },
      "source": [
        "# Define the euclidean distance function\n",
        "def jarak_euclidean(x,y):\n",
        "    return np.sqrt(sum(pow(a-b, 2) for a, b in zip(x,y)))"
      ],
      "execution_count": null,
      "outputs": []
    },
    {
      "cell_type": "code",
      "metadata": {
        "id": "5cOqo1P3beue"
      },
      "source": [
        "def jarak_centroid_euclidean(data,pusat_klaster):\n",
        "    n=len(data)\n",
        "    k=np.array(pusat_klaster).shape[0]\n",
        "    jarak=[]\n",
        "    for i in range(n):\n",
        "        x = list(data.iloc[i,::])\n",
        "        jrk = [jarak_euclidean(x, pusat_klaster[j]) for j in range(k)]\n",
        "        jarak.append(jrk)\n",
        "    return jarak"
      ],
      "execution_count": null,
      "outputs": []
    },
    {
      "cell_type": "code",
      "metadata": {
        "colab": {
          "base_uri": "https://localhost:8080/"
        },
        "id": "leMz5fGQbeue",
        "outputId": "c980792e-3f6e-4f5a-bd60-e332264b7472"
      },
      "source": [
        "jarak_centroid=jarak_centroid_euclidean(data,pusat_klaster)\n",
        "jarak_centroid"
      ],
      "execution_count": null,
      "outputs": [
        {
          "output_type": "execute_result",
          "data": {
            "text/plain": [
              "[[0.0, 2.23606797749979],\n",
              " [2.23606797749979, 0.0],\n",
              " [9.219544457292887, 7.0710678118654755],\n",
              " [9.899494936611665, 7.810249675906654]]"
            ]
          },
          "metadata": {},
          "execution_count": 9
        }
      ]
    },
    {
      "cell_type": "markdown",
      "metadata": {
        "id": "qEBmzXtEbeuf"
      },
      "source": [
        "**4. Tetapkan klaster data berdasarkan pusat klaster terdekat**"
      ]
    },
    {
      "cell_type": "code",
      "metadata": {
        "id": "F0T53TIwbeuf"
      },
      "source": [
        "def menentukan_klaster(jarak_centroid):\n",
        "    n=len(jarak_centroid)\n",
        "    label_klaster=list()\n",
        "    for i in range(n):\n",
        "        max_val, idx = min((val, idx) for (idx, val) in enumerate(jarak_centroid[i]))\n",
        "        label_klaster.append(idx)\n",
        "    return label_klaster"
      ],
      "execution_count": null,
      "outputs": []
    },
    {
      "cell_type": "code",
      "metadata": {
        "colab": {
          "base_uri": "https://localhost:8080/"
        },
        "id": "CtPR161lbeuf",
        "outputId": "b0269ff2-4e9a-49ea-ad22-ef34c078ae8b"
      },
      "source": [
        "klaster=menentukan_klaster(jarak_centroid)\n",
        "klaster"
      ],
      "execution_count": null,
      "outputs": [
        {
          "output_type": "execute_result",
          "data": {
            "text/plain": [
              "[0, 1, 1, 1]"
            ]
          },
          "metadata": {},
          "execution_count": 11
        }
      ]
    },
    {
      "cell_type": "markdown",
      "metadata": {
        "id": "Rvtp3Sj4beuf"
      },
      "source": [
        "**5. Memperbarui pusat cluster dengan menghitung nilai rata-rata setiap cluster**"
      ]
    },
    {
      "cell_type": "code",
      "metadata": {
        "id": "BcI2EwvVbeug"
      },
      "source": [
        "def menghitung_pusat_klaster(data, klaster):\n",
        "    data['label']=klaster\n",
        "    pusat_barudf=data.groupby('label', as_index=False).mean()\n",
        "    pusat_barudf=pusat_barudf.iloc[::,1:]\n",
        "    pusat_klaster_baru=np.array(pusat_barudf)\n",
        "    return pusat_klaster_baru"
      ],
      "execution_count": null,
      "outputs": []
    },
    {
      "cell_type": "code",
      "metadata": {
        "colab": {
          "base_uri": "https://localhost:8080/"
        },
        "id": "JIADFiFGbeug",
        "outputId": "daa33d63-cc7b-4711-f7fa-dedf1800d341"
      },
      "source": [
        "pusat_klaster_baru=menghitung_pusat_klaster(data, klaster)\n",
        "pusat_klaster_baru"
      ],
      "execution_count": null,
      "outputs": [
        {
          "output_type": "execute_result",
          "data": {
            "text/plain": [
              "array([[1.        , 1.        ],\n",
              "       [5.66666667, 6.33333333]])"
            ]
          },
          "metadata": {},
          "execution_count": 13
        }
      ]
    },
    {
      "cell_type": "markdown",
      "metadata": {
        "id": "G3wT1ueybeug"
      },
      "source": [
        "**6. Ulangi langkah 2 - 5 hingga kriteria henti dipenuhi:**"
      ]
    },
    {
      "cell_type": "code",
      "metadata": {
        "id": "ZZBkr_5Sbeug"
      },
      "source": [
        "def perubahan_pusat_klaster_euclidean(pusat_klaster_lama, pusat_klaster_baru):\n",
        "    perubahan = 0\n",
        "    for a,b in zip(pusat_klaster_lama, pusat_klaster_baru):\n",
        "        perubahan+=jarak_euclidean(a,b)\n",
        "    return perubahan"
      ],
      "execution_count": null,
      "outputs": []
    },
    {
      "cell_type": "code",
      "metadata": {
        "colab": {
          "base_uri": "https://localhost:8080/"
        },
        "id": "dlQjlz_sbeug",
        "outputId": "58dbed73-acc4-478a-ea99-17087972069b"
      },
      "source": [
        "perubahan_pusat_klaster_euclidean(pusat_klaster, pusat_klaster_baru)"
      ],
      "execution_count": null,
      "outputs": [
        {
          "output_type": "execute_result",
          "data": {
            "text/plain": [
              "4.955356249106169"
            ]
          },
          "metadata": {},
          "execution_count": 15
        }
      ]
    },
    {
      "cell_type": "markdown",
      "metadata": {
        "id": "YJDoJtt9beug"
      },
      "source": [
        "## Fungsi K Means Clustering"
      ]
    },
    {
      "cell_type": "code",
      "metadata": {
        "id": "4O0O6cgPbeuh"
      },
      "source": [
        "def plot_klaster(X, klaster, pusat_klaster):\n",
        "    df = pd.DataFrame(dict(x=X[:,0], y=X[:,1], label=klaster))\n",
        "    colors = {0:'blue', 1:'orange', 2:'green'}\n",
        "    fig, ax = plt.subplots(figsize=(8, 8))\n",
        "    grouped = df.groupby('label')\n",
        "    for key, group in grouped:\n",
        "        group.plot(ax=ax, kind='scatter', x='x', y='y', label=key, color=colors[key])\n",
        "    ax.scatter(pusat_klaster[:, 0], pusat_klaster[:, 1], marker='*', s=150, c='#ff2222')\n",
        "    plt.xlabel('X_1')\n",
        "    plt.ylabel('X_2')\n",
        "    plt.show()"
      ],
      "execution_count": null,
      "outputs": []
    },
    {
      "cell_type": "code",
      "metadata": {
        "id": "8UpkJMXQbeuh"
      },
      "source": [
        "def k_means(k, df):\n",
        "    X=np.array(df)\n",
        "    pusat_klaster_lama = pusat_klaster_awal(k, X)\n",
        "    klaster = [0]*len(X)\n",
        "    epsilon = 100\n",
        "    iterasi = -1\n",
        "    while epsilon>.001:\n",
        "        jarak_ke_pusat_klaster=jarak_centroid_euclidean(df,pusat_klaster_lama)\n",
        "        klaster = menentukan_klaster(jarak_ke_pusat_klaster)\n",
        "        plot_klaster(X, klaster, pusat_klaster_lama)\n",
        "        pusat_klaster_baru = menghitung_pusat_klaster(df, klaster)\n",
        "        epsilon = perubahan_pusat_klaster_euclidean(pusat_klaster_lama, pusat_klaster_baru)\n",
        "        pusat_klaster_lama = pusat_klaster_baru\n",
        "        iterasi += 1\n",
        "    return iterasi, klaster, pusat_klaster_baru"
      ],
      "execution_count": null,
      "outputs": []
    },
    {
      "cell_type": "code",
      "metadata": {
        "colab": {
          "base_uri": "https://localhost:8080/",
          "height": 1000
        },
        "id": "fk8Hfqx7beuh",
        "scrolled": true,
        "outputId": "c9de58ca-29fd-4a6f-b26c-f2f267489471"
      },
      "source": [
        "iterasi, klaster, pusat_klaster= k_means(2, data)"
      ],
      "execution_count": null,
      "outputs": [
        {
          "output_type": "display_data",
          "data": {
            "image/png": "[encoded data removed]",
            "text/plain": [
              "<Figure size 576x576 with 1 Axes>"
            ]
          },
          "metadata": {
            "needs_background": "light"
          }
        },
        {
          "output_type": "display_data",
          "data": {
            "image/png": "[encoded data removed]",
            "text/plain": [
              "<Figure size 576x576 with 1 Axes>"
            ]
          },
          "metadata": {
            "needs_background": "light"
          }
        },
        {
          "output_type": "display_data",
          "data": {
            "image/png": "[encoded data removed]",
            "text/plain": [
              "<Figure size 576x576 with 1 Axes>"
            ]
          },
          "metadata": {
            "needs_background": "light"
          }
        }
      ]
    },
    {
      "cell_type": "code",
      "metadata": {
        "colab": {
          "base_uri": "https://localhost:8080/"
        },
        "id": "v05pk7LV7lhf",
        "outputId": "e1334348-3b7f-417b-b57a-51a91d315556"
      },
      "source": [
        "pusat_klaster"
      ],
      "execution_count": null,
      "outputs": [
        {
          "output_type": "execute_result",
          "data": {
            "text/plain": [
              "array([[1.5, 2. ],\n",
              "       [7.5, 8. ]])"
            ]
          },
          "metadata": {},
          "execution_count": 19
        }
      ]
    },
    {
      "cell_type": "markdown",
      "metadata": {
        "id": "EarGuG9gVIn4"
      },
      "source": [
        "## K-Means Clustering menggunakan Python Scikit Learn"
      ]
    },
    {
      "cell_type": "code",
      "metadata": {
        "colab": {
          "base_uri": "https://localhost:8080/"
        },
        "id": "0pu6xfe_YSOM",
        "outputId": "fa945235-0497-465e-8b36-dbb1f9f9abf6"
      },
      "source": [
        "from sklearn.cluster import KMeans\n",
        "import numpy as np\n",
        "\n",
        "data=pd.DataFrame({\"x1\":[1,2,7,8], \"x2\":[1,3,8,8]})\n",
        "\n",
        "X=np.array(data)\n",
        "X"
      ],
      "execution_count": null,
      "outputs": [
        {
          "output_type": "execute_result",
          "data": {
            "text/plain": [
              "array([[1, 1],\n",
              "       [2, 3],\n",
              "       [7, 8],\n",
              "       [8, 8]])"
            ]
          },
          "metadata": {},
          "execution_count": 20
        }
      ]
    },
    {
      "cell_type": "code",
      "metadata": {
        "id": "pqSXAT85Yl7l"
      },
      "source": [
        "kmeans = KMeans(n_clusters=2, random_state=0).fit(X)"
      ],
      "execution_count": null,
      "outputs": []
    },
    {
      "cell_type": "code",
      "metadata": {
        "colab": {
          "base_uri": "https://localhost:8080/"
        },
        "id": "F_5bV3LUYSRK",
        "outputId": "10948e8d-20c2-4578-b3fe-9b63d3fe76d0"
      },
      "source": [
        "kmeans.labels_"
      ],
      "execution_count": null,
      "outputs": [
        {
          "output_type": "execute_result",
          "data": {
            "text/plain": [
              "array([0, 0, 1, 1], dtype=int32)"
            ]
          },
          "metadata": {},
          "execution_count": 22
        }
      ]
    },
    {
      "cell_type": "code",
      "metadata": {
        "colab": {
          "base_uri": "https://localhost:8080/"
        },
        "id": "QNLRc2wvYSUG",
        "outputId": "6a20c2f7-8e6d-44a6-f6c0-0020d8bd9bb8"
      },
      "source": [
        "kmeans.predict([[0, 0], [12, 3]])"
      ],
      "execution_count": null,
      "outputs": [
        {
          "output_type": "execute_result",
          "data": {
            "text/plain": [
              "array([0, 1], dtype=int32)"
            ]
          },
          "metadata": {},
          "execution_count": 23
        }
      ]
    },
    {
      "cell_type": "code",
      "metadata": {
        "colab": {
          "base_uri": "https://localhost:8080/"
        },
        "id": "piErV9FAYSXC",
        "outputId": "407d8775-2aaf-4ac2-8605-6775a21506ea"
      },
      "source": [
        "kmeans.cluster_centers_"
      ],
      "execution_count": null,
      "outputs": [
        {
          "output_type": "execute_result",
          "data": {
            "text/plain": [
              "array([[1.5, 2. ],\n",
              "       [7.5, 8. ]])"
            ]
          },
          "metadata": {},
          "execution_count": 24
        }
      ]
    },
    {
      "cell_type": "markdown",
      "metadata": {
        "id": "BDfe8Pmo0M8v"
      },
      "source": [
        "## Latihan"
      ]
    },
    {
      "cell_type": "markdown",
      "metadata": {
        "id": "BkCKbf2z0bvE"
      },
      "source": [
        "Diberikan Dataset"
      ]
    },
    {
      "cell_type": "code",
      "metadata": {
        "id": "si3ZzRvPV0F7"
      },
      "source": [
        "#Import Modul yang Digunakan\n",
        "import pandas as pd\n",
        "import numpy as np\n",
        "import matplotlib.pyplot as plt\n",
        "from sklearn.cluster import KMeans"
      ],
      "execution_count": null,
      "outputs": []
    },
    {
      "cell_type": "code",
      "metadata": {
        "colab": {
          "base_uri": "https://localhost:8080/",
          "height": 424
        },
        "id": "S1XAA896iDTq",
        "outputId": "976943b5-b97c-42d0-e728-5b4d6ca743c6"
      },
      "source": [
        "#Mengakses Data\n",
        "dataset =pd.read_excel('/content/Super-Store-Dataset.csv - Super-Store-Dataset.xlsx')\n",
        "dataset"
      ],
      "execution_count": null,
      "outputs": [
        {
          "output_type": "execute_result",
          "data": {
            "text/html": [
              "<div>\n",
              "<style scoped>\n",
              "    .dataframe tbody tr th:only-of-type {\n",
              "        vertical-align: middle;\n",
              "    }\n",
              "\n",
              "    .dataframe tbody tr th {\n",
              "        vertical-align: top;\n",
              "    }\n",
              "\n",
              "    .dataframe thead th {\n",
              "        text-align: right;\n",
              "    }\n",
              "</style>\n",
              "<table border=\"1\" class=\"dataframe\">\n",
              "  <thead>\n",
              "    <tr style=\"text-align: right;\">\n",
              "      <th></th>\n",
              "      <th>order_id</th>\n",
              "      <th>order_date</th>\n",
              "      <th>customer_id</th>\n",
              "      <th>segment</th>\n",
              "      <th>category</th>\n",
              "      <th>sub_category</th>\n",
              "      <th>sales</th>\n",
              "      <th>quantity</th>\n",
              "      <th>profit</th>\n",
              "    </tr>\n",
              "  </thead>\n",
              "  <tbody>\n",
              "    <tr>\n",
              "      <th>0</th>\n",
              "      <td>CA-2016-152156</td>\n",
              "      <td>2016-08-11 00:00:00</td>\n",
              "      <td>CG-12520</td>\n",
              "      <td>Consumer</td>\n",
              "      <td>Furniture</td>\n",
              "      <td>Bookcases</td>\n",
              "      <td>261.96</td>\n",
              "      <td>2</td>\n",
              "      <td>419136.00</td>\n",
              "    </tr>\n",
              "    <tr>\n",
              "      <th>1</th>\n",
              "      <td>CA-2016-152156</td>\n",
              "      <td>2016-08-11 00:00:00</td>\n",
              "      <td>CG-12520</td>\n",
              "      <td>Consumer</td>\n",
              "      <td>Furniture</td>\n",
              "      <td>Chairs</td>\n",
              "      <td>731.94</td>\n",
              "      <td>3</td>\n",
              "      <td>219582.00</td>\n",
              "    </tr>\n",
              "    <tr>\n",
              "      <th>2</th>\n",
              "      <td>CA-2016-138688</td>\n",
              "      <td>2016-12-06 00:00:00</td>\n",
              "      <td>DV-13045</td>\n",
              "      <td>Corporate</td>\n",
              "      <td>Office Supplies</td>\n",
              "      <td>Labels</td>\n",
              "      <td>14.62</td>\n",
              "      <td>2</td>\n",
              "      <td>68714.00</td>\n",
              "    </tr>\n",
              "    <tr>\n",
              "      <th>3</th>\n",
              "      <td>US-2015-108966</td>\n",
              "      <td>2015-11-10 00:00:00</td>\n",
              "      <td>SO-20335</td>\n",
              "      <td>Consumer</td>\n",
              "      <td>Furniture</td>\n",
              "      <td>Tables</td>\n",
              "      <td>9575775.00</td>\n",
              "      <td>5</td>\n",
              "      <td>-383031.00</td>\n",
              "    </tr>\n",
              "    <tr>\n",
              "      <th>4</th>\n",
              "      <td>US-2015-108966</td>\n",
              "      <td>2015-11-10 00:00:00</td>\n",
              "      <td>SO-20335</td>\n",
              "      <td>Consumer</td>\n",
              "      <td>Office Supplies</td>\n",
              "      <td>Storage</td>\n",
              "      <td>22368.00</td>\n",
              "      <td>2</td>\n",
              "      <td>25164.00</td>\n",
              "    </tr>\n",
              "    <tr>\n",
              "      <th>...</th>\n",
              "      <td>...</td>\n",
              "      <td>...</td>\n",
              "      <td>...</td>\n",
              "      <td>...</td>\n",
              "      <td>...</td>\n",
              "      <td>...</td>\n",
              "      <td>...</td>\n",
              "      <td>...</td>\n",
              "      <td>...</td>\n",
              "    </tr>\n",
              "    <tr>\n",
              "      <th>9983</th>\n",
              "      <td>CA-2014-110422</td>\n",
              "      <td>1/21/2014</td>\n",
              "      <td>TB-21400</td>\n",
              "      <td>Consumer</td>\n",
              "      <td>Furniture</td>\n",
              "      <td>Furnishings</td>\n",
              "      <td>25248.00</td>\n",
              "      <td>3</td>\n",
              "      <td>41028.00</td>\n",
              "    </tr>\n",
              "    <tr>\n",
              "      <th>9984</th>\n",
              "      <td>CA-2017-121258</td>\n",
              "      <td>2/26/2017</td>\n",
              "      <td>DB-13060</td>\n",
              "      <td>Consumer</td>\n",
              "      <td>Furniture</td>\n",
              "      <td>Furnishings</td>\n",
              "      <td>91.96</td>\n",
              "      <td>2</td>\n",
              "      <td>156332.00</td>\n",
              "    </tr>\n",
              "    <tr>\n",
              "      <th>9985</th>\n",
              "      <td>CA-2017-121258</td>\n",
              "      <td>2/26/2017</td>\n",
              "      <td>DB-13060</td>\n",
              "      <td>Consumer</td>\n",
              "      <td>Technology</td>\n",
              "      <td>Phones</td>\n",
              "      <td>258576.00</td>\n",
              "      <td>2</td>\n",
              "      <td>193932.00</td>\n",
              "    </tr>\n",
              "    <tr>\n",
              "      <th>9986</th>\n",
              "      <td>CA-2017-121258</td>\n",
              "      <td>2/26/2017</td>\n",
              "      <td>DB-13060</td>\n",
              "      <td>Consumer</td>\n",
              "      <td>Office Supplies</td>\n",
              "      <td>Paper</td>\n",
              "      <td>29.60</td>\n",
              "      <td>4</td>\n",
              "      <td>13.32</td>\n",
              "    </tr>\n",
              "    <tr>\n",
              "      <th>9987</th>\n",
              "      <td>CA-2017-119914</td>\n",
              "      <td>2017-04-05 00:00:00</td>\n",
              "      <td>CC-12220</td>\n",
              "      <td>Consumer</td>\n",
              "      <td>Office Supplies</td>\n",
              "      <td>Appliances</td>\n",
              "      <td>243.16</td>\n",
              "      <td>2</td>\n",
              "      <td>72948.00</td>\n",
              "    </tr>\n",
              "  </tbody>\n",
              "</table>\n",
              "<p>9988 rows × 9 columns</p>\n",
              "</div>"
            ],
            "text/plain": [
              "            order_id           order_date  ... quantity     profit\n",
              "0     CA-2016-152156  2016-08-11 00:00:00  ...        2  419136.00\n",
              "1     CA-2016-152156  2016-08-11 00:00:00  ...        3  219582.00\n",
              "2     CA-2016-138688  2016-12-06 00:00:00  ...        2   68714.00\n",
              "3     US-2015-108966  2015-11-10 00:00:00  ...        5 -383031.00\n",
              "4     US-2015-108966  2015-11-10 00:00:00  ...        2   25164.00\n",
              "...              ...                  ...  ...      ...        ...\n",
              "9983  CA-2014-110422            1/21/2014  ...        3   41028.00\n",
              "9984  CA-2017-121258            2/26/2017  ...        2  156332.00\n",
              "9985  CA-2017-121258            2/26/2017  ...        2  193932.00\n",
              "9986  CA-2017-121258            2/26/2017  ...        4      13.32\n",
              "9987  CA-2017-119914  2017-04-05 00:00:00  ...        2   72948.00\n",
              "\n",
              "[9988 rows x 9 columns]"
            ]
          },
          "metadata": {},
          "execution_count": 26
        }
      ]
    },
    {
      "cell_type": "code",
      "metadata": {
        "colab": {
          "base_uri": "https://localhost:8080/",
          "height": 424
        },
        "id": "2BopGcLqV8Hp",
        "outputId": "e28d2c6d-e753-44d6-baaa-a1d7cf9cb76a"
      },
      "source": [
        "#Mengambil Kolom Yang Ingin Digunakan\n",
        "df=dataset[[\"sales\", \"quantity\", \"profit\"]] \n",
        "df"
      ],
      "execution_count": null,
      "outputs": [
        {
          "output_type": "execute_result",
          "data": {
            "text/html": [
              "<div>\n",
              "<style scoped>\n",
              "    .dataframe tbody tr th:only-of-type {\n",
              "        vertical-align: middle;\n",
              "    }\n",
              "\n",
              "    .dataframe tbody tr th {\n",
              "        vertical-align: top;\n",
              "    }\n",
              "\n",
              "    .dataframe thead th {\n",
              "        text-align: right;\n",
              "    }\n",
              "</style>\n",
              "<table border=\"1\" class=\"dataframe\">\n",
              "  <thead>\n",
              "    <tr style=\"text-align: right;\">\n",
              "      <th></th>\n",
              "      <th>sales</th>\n",
              "      <th>quantity</th>\n",
              "      <th>profit</th>\n",
              "    </tr>\n",
              "  </thead>\n",
              "  <tbody>\n",
              "    <tr>\n",
              "      <th>0</th>\n",
              "      <td>261.96</td>\n",
              "      <td>2</td>\n",
              "      <td>419136.00</td>\n",
              "    </tr>\n",
              "    <tr>\n",
              "      <th>1</th>\n",
              "      <td>731.94</td>\n",
              "      <td>3</td>\n",
              "      <td>219582.00</td>\n",
              "    </tr>\n",
              "    <tr>\n",
              "      <th>2</th>\n",
              "      <td>14.62</td>\n",
              "      <td>2</td>\n",
              "      <td>68714.00</td>\n",
              "    </tr>\n",
              "    <tr>\n",
              "      <th>3</th>\n",
              "      <td>9575775.00</td>\n",
              "      <td>5</td>\n",
              "      <td>-383031.00</td>\n",
              "    </tr>\n",
              "    <tr>\n",
              "      <th>4</th>\n",
              "      <td>22368.00</td>\n",
              "      <td>2</td>\n",
              "      <td>25164.00</td>\n",
              "    </tr>\n",
              "    <tr>\n",
              "      <th>...</th>\n",
              "      <td>...</td>\n",
              "      <td>...</td>\n",
              "      <td>...</td>\n",
              "    </tr>\n",
              "    <tr>\n",
              "      <th>9983</th>\n",
              "      <td>25248.00</td>\n",
              "      <td>3</td>\n",
              "      <td>41028.00</td>\n",
              "    </tr>\n",
              "    <tr>\n",
              "      <th>9984</th>\n",
              "      <td>91.96</td>\n",
              "      <td>2</td>\n",
              "      <td>156332.00</td>\n",
              "    </tr>\n",
              "    <tr>\n",
              "      <th>9985</th>\n",
              "      <td>258576.00</td>\n",
              "      <td>2</td>\n",
              "      <td>193932.00</td>\n",
              "    </tr>\n",
              "    <tr>\n",
              "      <th>9986</th>\n",
              "      <td>29.60</td>\n",
              "      <td>4</td>\n",
              "      <td>13.32</td>\n",
              "    </tr>\n",
              "    <tr>\n",
              "      <th>9987</th>\n",
              "      <td>243.16</td>\n",
              "      <td>2</td>\n",
              "      <td>72948.00</td>\n",
              "    </tr>\n",
              "  </tbody>\n",
              "</table>\n",
              "<p>9988 rows × 3 columns</p>\n",
              "</div>"
            ],
            "text/plain": [
              "           sales  quantity     profit\n",
              "0         261.96         2  419136.00\n",
              "1         731.94         3  219582.00\n",
              "2          14.62         2   68714.00\n",
              "3     9575775.00         5 -383031.00\n",
              "4       22368.00         2   25164.00\n",
              "...          ...       ...        ...\n",
              "9983    25248.00         3   41028.00\n",
              "9984       91.96         2  156332.00\n",
              "9985   258576.00         2  193932.00\n",
              "9986       29.60         4      13.32\n",
              "9987      243.16         2   72948.00\n",
              "\n",
              "[9988 rows x 3 columns]"
            ]
          },
          "metadata": {},
          "execution_count": 27
        }
      ]
    },
    {
      "cell_type": "markdown",
      "metadata": {
        "id": "NSPvLqi1XBOv"
      },
      "source": [
        "##Metode Elbow\n"
      ]
    },
    {
      "cell_type": "markdown",
      "metadata": {
        "id": "qeYsRWDWXHFs"
      },
      "source": [
        "Metode dan analisis ini\n",
        "digunakan untuk pemilihan jumlah cluster\n",
        "atau kelompok yang optimal (Febrianti Anita. F, dkk. 2019). \n",
        "\n",
        "Jika nilai cluster pertama dengan nilai cluster kedua memberikan sudut dalam grafik atau nilainya mengalami penurunan paling besar maka jumlah nilai cluster tersebut yang tepat. (D. A. I. C Dewi, dan D. D. A. K. Pramita, 2019)"
      ]
    },
    {
      "cell_type": "markdown",
      "metadata": {
        "id": "yNBX57ccZ9WX"
      },
      "source": [
        "![image.png](data:image/png;base64,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)"
      ]
    },
    {
      "cell_type": "code",
      "metadata": {
        "id": "94a4UmRQsoR9"
      },
      "source": [
        "#Mengimport modul yang diperlukan\n",
        "from sklearn.cluster import KMeans\n",
        "from sklearn import metrics\n",
        "from scipy.spatial.distance import cdist\n",
        "import numpy as np\n",
        "import matplotlib.pyplot as plt"
      ],
      "execution_count": null,
      "outputs": []
    },
    {
      "cell_type": "code",
      "metadata": {
        "id": "mF8aJjCrsYvW"
      },
      "source": [
        "distortions = []\n",
        "inertias = []\n",
        "mapping1 = {}\n",
        "mapping2 = {}\n",
        "K = range(1, 10)\n",
        " \n",
        "for k in K:\n",
        "    kmeanModel = KMeans(n_clusters=k).fit(df)\n",
        "    kmeanModel.fit(df)\n",
        " \n",
        "    distortions.append(sum(np.min(cdist(df, kmeanModel.cluster_centers_,\n",
        "                                        'euclidean'), axis=1)) / df.shape[0])\n",
        "    inertias.append(kmeanModel.inertia_)\n",
        " \n",
        "    mapping1[k] = sum(np.min(cdist(df, kmeanModel.cluster_centers_,\n",
        "                                   'euclidean'), axis=1)) / df.shape[0]\n",
        "    mapping2[k] = kmeanModel.inertia_"
      ],
      "execution_count": null,
      "outputs": []
    },
    {
      "cell_type": "code",
      "metadata": {
        "colab": {
          "base_uri": "https://localhost:8080/"
        },
        "id": "p0HZ30iZssCN",
        "outputId": "04929ae3-a8f5-4c8a-ca95-8896ccd2dccf"
      },
      "source": [
        "distortions"
      ],
      "execution_count": null,
      "outputs": [
        {
          "output_type": "execute_result",
          "data": {
            "text/plain": [
              "[459792.7863748716,\n",
              " 402354.34915604856,\n",
              " 392901.0199291061,\n",
              " 341097.0749175468,\n",
              " 329229.3067331393,\n",
              " 293142.16471525107,\n",
              " 287620.4369721147,\n",
              " 270977.22987067036,\n",
              " 233504.48615341735]"
            ]
          },
          "metadata": {},
          "execution_count": 30
        }
      ]
    },
    {
      "cell_type": "code",
      "metadata": {
        "colab": {
          "base_uri": "https://localhost:8080/",
          "height": 294
        },
        "id": "ZYgQSG_vs5kI",
        "outputId": "dc52ba78-697e-4660-a3ca-94e31a76e284"
      },
      "source": [
        "plt.plot(K, distortions, 'ro-')\n",
        "plt.xlabel('Nilai dari K')\n",
        "plt.ylabel('Distortion')\n",
        "plt.title('Metode Elbow dengan Distortion')\n",
        "plt.show()"
      ],
      "execution_count": null,
      "outputs": [
        {
          "output_type": "display_data",
          "data": {
            "image/png": "[encoded data removed]",
            "text/plain": [
              "<Figure size 432x288 with 1 Axes>"
            ]
          },
          "metadata": {
            "needs_background": "light"
          }
        }
      ]
    },
    {
      "cell_type": "code",
      "metadata": {
        "colab": {
          "base_uri": "https://localhost:8080/"
        },
        "id": "KQEC8htvtLqf",
        "outputId": "2cbfb110-dee3-462c-b9ac-206f771cf7a9"
      },
      "source": [
        "inertias"
      ],
      "execution_count": null,
      "outputs": [
        {
          "output_type": "execute_result",
          "data": {
            "text/plain": [
              "[2.3221225888928616e+16,\n",
              " 1.629585090871987e+16,\n",
              " 1.1026056463433598e+16,\n",
              " 8414466393903306.0,\n",
              " 6741214058048577.0,\n",
              " 5346320342780184.0,\n",
              " 4358490384202317.0,\n",
              " 3566453963316441.5,\n",
              " 3077744996261752.5]"
            ]
          },
          "metadata": {},
          "execution_count": 32
        }
      ]
    },
    {
      "cell_type": "code",
      "metadata": {
        "colab": {
          "base_uri": "https://localhost:8080/",
          "height": 294
        },
        "id": "NrmCBD6utQUd",
        "outputId": "de183f05-3f6c-4c8c-a842-338ec07950f8"
      },
      "source": [
        "\n",
        "plt.plot(K, inertias, 'ro-')\n",
        "plt.xlabel('Nilai dari K')\n",
        "plt.ylabel('Inertia')\n",
        "plt.title('Metode Elbow dengan Inertia')\n",
        "plt.show()"
      ],
      "execution_count": null,
      "outputs": [
        {
          "output_type": "display_data",
          "data": {
            "image/png": "[encoded data removed]",
            "text/plain": [
              "<Figure size 432x288 with 1 Axes>"
            ]
          },
          "metadata": {
            "needs_background": "light"
          }
        }
      ]
    },
    {
      "cell_type": "markdown",
      "metadata": {
        "id": "rW2IBrnmvoyZ"
      },
      "source": [
        "Berdasarkan grafik di atas maka kita akan mencoba menggunakan k = 3, dipilih k = 3 karena pada titik tersebut membentuk siku/elbow"
      ]
    },
    {
      "cell_type": "code",
      "metadata": {
        "id": "VjlsjJYt0gzk"
      },
      "source": [
        "#Membentuk fungsi k_means\n",
        "def k_means(k, df):\n",
        "    X=np.array(df)\n",
        "    pusat_klaster_lama = pusat_klaster_awal(k, X)\n",
        "    klaster = [0]*len(X)\n",
        "    epsilon = 100\n",
        "    iterasi = -1\n",
        "    while epsilon>.001:\n",
        "        jarak_ke_pusat_klaster=jarak_centroid_euclidean(df,pusat_klaster_lama)\n",
        "        klaster = menentukan_klaster(jarak_ke_pusat_klaster)\n",
        "        pusat_klaster_baru = menghitung_pusat_klaster(df, klaster)\n",
        "        epsilon = perubahan_pusat_klaster_euclidean(pusat_klaster_lama, pusat_klaster_baru)\n",
        "        pusat_klaster_lama = pusat_klaster_baru\n",
        "        iterasi += 1\n",
        "    return iterasi, klaster, pusat_klaster_baru"
      ],
      "execution_count": null,
      "outputs": []
    },
    {
      "cell_type": "code",
      "metadata": {
        "colab": {
          "base_uri": "https://localhost:8080/"
        },
        "id": "k6-pa8idv5b4",
        "outputId": "53f9b753-02da-42de-aee7-5f3ceca315ed"
      },
      "source": [
        "iterasi, klaster, pusat_klaster = k_means(3, df)"
      ],
      "execution_count": null,
      "outputs": [
        {
          "output_type": "stream",
          "name": "stderr",
          "text": [
            "/usr/local/lib/python3.7/dist-packages/ipykernel_launcher.py:2: SettingWithCopyWarning: \n",
            "A value is trying to be set on a copy of a slice from a DataFrame.\n",
            "Try using .loc[row_indexer,col_indexer] = value instead\n",
            "\n",
            "See the caveats in the documentation: https://pandas.pydata.org/pandas-docs/stable/user_guide/indexing.html#returning-a-view-versus-a-copy\n",
            "  \n"
          ]
        }
      ]
    },
    {
      "cell_type": "code",
      "metadata": {
        "colab": {
          "base_uri": "https://localhost:8080/",
          "height": 424
        },
        "id": "K3ysOva30wt0",
        "outputId": "249a49fd-fe6b-4474-f36e-9bd6b99688c5"
      },
      "source": [
        "dataklaster = df\n",
        "dataklaster"
      ],
      "execution_count": null,
      "outputs": [
        {
          "output_type": "execute_result",
          "data": {
            "text/html": [
              "<div>\n",
              "<style scoped>\n",
              "    .dataframe tbody tr th:only-of-type {\n",
              "        vertical-align: middle;\n",
              "    }\n",
              "\n",
              "    .dataframe tbody tr th {\n",
              "        vertical-align: top;\n",
              "    }\n",
              "\n",
              "    .dataframe thead th {\n",
              "        text-align: right;\n",
              "    }\n",
              "</style>\n",
              "<table border=\"1\" class=\"dataframe\">\n",
              "  <thead>\n",
              "    <tr style=\"text-align: right;\">\n",
              "      <th></th>\n",
              "      <th>sales</th>\n",
              "      <th>quantity</th>\n",
              "      <th>profit</th>\n",
              "      <th>label</th>\n",
              "    </tr>\n",
              "  </thead>\n",
              "  <tbody>\n",
              "    <tr>\n",
              "      <th>0</th>\n",
              "      <td>261.96</td>\n",
              "      <td>2</td>\n",
              "      <td>419136.00</td>\n",
              "      <td>1</td>\n",
              "    </tr>\n",
              "    <tr>\n",
              "      <th>1</th>\n",
              "      <td>731.94</td>\n",
              "      <td>3</td>\n",
              "      <td>219582.00</td>\n",
              "      <td>1</td>\n",
              "    </tr>\n",
              "    <tr>\n",
              "      <th>2</th>\n",
              "      <td>14.62</td>\n",
              "      <td>2</td>\n",
              "      <td>68714.00</td>\n",
              "      <td>1</td>\n",
              "    </tr>\n",
              "    <tr>\n",
              "      <th>3</th>\n",
              "      <td>9575775.00</td>\n",
              "      <td>5</td>\n",
              "      <td>-383031.00</td>\n",
              "      <td>1</td>\n",
              "    </tr>\n",
              "    <tr>\n",
              "      <th>4</th>\n",
              "      <td>22368.00</td>\n",
              "      <td>2</td>\n",
              "      <td>25164.00</td>\n",
              "      <td>1</td>\n",
              "    </tr>\n",
              "    <tr>\n",
              "      <th>...</th>\n",
              "      <td>...</td>\n",
              "      <td>...</td>\n",
              "      <td>...</td>\n",
              "      <td>...</td>\n",
              "    </tr>\n",
              "    <tr>\n",
              "      <th>9983</th>\n",
              "      <td>25248.00</td>\n",
              "      <td>3</td>\n",
              "      <td>41028.00</td>\n",
              "      <td>1</td>\n",
              "    </tr>\n",
              "    <tr>\n",
              "      <th>9984</th>\n",
              "      <td>91.96</td>\n",
              "      <td>2</td>\n",
              "      <td>156332.00</td>\n",
              "      <td>1</td>\n",
              "    </tr>\n",
              "    <tr>\n",
              "      <th>9985</th>\n",
              "      <td>258576.00</td>\n",
              "      <td>2</td>\n",
              "      <td>193932.00</td>\n",
              "      <td>1</td>\n",
              "    </tr>\n",
              "    <tr>\n",
              "      <th>9986</th>\n",
              "      <td>29.60</td>\n",
              "      <td>4</td>\n",
              "      <td>13.32</td>\n",
              "      <td>1</td>\n",
              "    </tr>\n",
              "    <tr>\n",
              "      <th>9987</th>\n",
              "      <td>243.16</td>\n",
              "      <td>2</td>\n",
              "      <td>72948.00</td>\n",
              "      <td>1</td>\n",
              "    </tr>\n",
              "  </tbody>\n",
              "</table>\n",
              "<p>9988 rows × 4 columns</p>\n",
              "</div>"
            ],
            "text/plain": [
              "           sales  quantity     profit  label\n",
              "0         261.96         2  419136.00      1\n",
              "1         731.94         3  219582.00      1\n",
              "2          14.62         2   68714.00      1\n",
              "3     9575775.00         5 -383031.00      1\n",
              "4       22368.00         2   25164.00      1\n",
              "...          ...       ...        ...    ...\n",
              "9983    25248.00         3   41028.00      1\n",
              "9984       91.96         2  156332.00      1\n",
              "9985   258576.00         2  193932.00      1\n",
              "9986       29.60         4      13.32      1\n",
              "9987      243.16         2   72948.00      1\n",
              "\n",
              "[9988 rows x 4 columns]"
            ]
          },
          "metadata": {},
          "execution_count": 41
        }
      ]
    },
    {
      "cell_type": "code",
      "metadata": {
        "id": "cIalKlet0vyJ"
      },
      "source": [
        "dataklaster.to_csv('klasterisasi_data_retail.csv', index=False)"
      ],
      "execution_count": 48,
      "outputs": []
    }
  ]
}